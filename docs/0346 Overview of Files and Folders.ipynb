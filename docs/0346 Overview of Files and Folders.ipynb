{
 "cells": [
  {
   "cell_type": "markdown",
   "metadata": {},
   "source": [
    "* Overview of files\n",
    "* Overview of folders\n",
    "* Different file formats\n",
    "* Overview of text files\n",
    "  * Plain text files or free flowing text files\n",
    "  * Comma Separated text files\n",
    "  * JSON text files\n",
    "  * Overview of file extensions\n",
    "* Name and Path for files and directories\n",
    "* Fully Qualified Path and Relative Path\n",
    "* Paths in Mac and Windows"
   ]
  }
 ],
 "metadata": {
  "kernelspec": {
   "display_name": "Python 3.x",
   "language": "python",
   "name": "python3"
  },
  "language_info": {
   "name": "python",
   "version": "3.9.6"
  },
  "orig_nbformat": 4,
  "vscode": {
   "interpreter": {
    "hash": "31f2aee4e71d21fbe5cf8b01ff0e069b9275f58929596ceb00d14d90e3e16cd6"
   }
  }
 },
 "nbformat": 4,
 "nbformat_minor": 2
}
