{
 "cells": [
  {
   "attachments": {},
   "cell_type": "markdown",
   "metadata": {},
   "source": [
    "* Create Postman Collection with GET API\n",
    "* Add GET and DELETE requests\n",
    "* Add POST request for Insert and Update\n",
    "* Invoke GET and DELETE API using requests\n",
    "* Invoke POST API using requests\n",
    "* Exercise and Solution - Validate APIs for Courses"
   ]
  },
  {
   "attachments": {},
   "cell_type": "markdown",
   "metadata": {},
   "source": [
    "* Create Postman Collection with GET API\n",
    "\n",
    "1. Create new collection\n",
    "2. Add GET API for users (make sure to rename the API)"
   ]
  },
  {
   "attachments": {},
   "cell_type": "markdown",
   "metadata": {},
   "source": [
    "* Add GET and DELETE requests\n",
    "\n",
    "1. Add and Validate GET API for user\n",
    "2. Add and Validate DELETE API for user"
   ]
  },
  {
   "attachments": {},
   "cell_type": "markdown",
   "metadata": {},
   "source": [
    "* Add POST request for Insert and Update\n",
    "\n",
    "1. Add and Validate POST API for Insert\n",
    "2. Add and Validate POST API for Update"
   ]
  },
  {
   "attachments": {},
   "cell_type": "markdown",
   "metadata": {},
   "source": [
    "* Invoke GET and DELETE API using requests"
   ]
  },
  {
   "cell_type": "code",
   "execution_count": null,
   "metadata": {},
   "outputs": [],
   "source": [
    "base_url = input('Enter base url: ')"
   ]
  },
  {
   "cell_type": "code",
   "execution_count": null,
   "metadata": {},
   "outputs": [],
   "source": [
    "import requests"
   ]
  },
  {
   "cell_type": "code",
   "execution_count": 8,
   "metadata": {},
   "outputs": [],
   "source": [
    "response = requests.get(f'{base_url}/users')"
   ]
  },
  {
   "cell_type": "code",
   "execution_count": 9,
   "metadata": {},
   "outputs": [
    {
     "data": {
      "text/plain": [
       "200"
      ]
     },
     "execution_count": 9,
     "metadata": {},
     "output_type": "execute_result"
    }
   ],
   "source": [
    "response.status_code"
   ]
  },
  {
   "cell_type": "code",
   "execution_count": 10,
   "metadata": {},
   "outputs": [
    {
     "data": {
      "text/plain": [
       "[{'email': 'stiger@email.com',\n",
       "  'first_name': 'Scott',\n",
       "  'id': 1,\n",
       "  'last_name': 'Tiger',\n",
       "  'username': 'stiger'},\n",
       " {'email': 'cchaplin@email.com',\n",
       "  'first_name': 'Charlie',\n",
       "  'id': 3,\n",
       "  'last_name': 'Chaplin',\n",
       "  'username': 'cchaplin'},\n",
       " {'email': 'agadiraju@email.com',\n",
       "  'first_name': 'Anvitha',\n",
       "  'id': 5,\n",
       "  'last_name': 'Gadiraju',\n",
       "  'username': 'agadiraju'},\n",
       " {'email': 'kpenmetsa@email.com',\n",
       "  'first_name': 'Kavitha',\n",
       "  'id': 6,\n",
       "  'last_name': 'Penmetsa',\n",
       "  'username': 'kpenmetsa'},\n",
       " {'email': 'dduck@email.com',\n",
       "  'first_name': 'Donald',\n",
       "  'id': 9,\n",
       "  'last_name': 'Duck',\n",
       "  'username': 'dduck'}]"
      ]
     },
     "execution_count": 10,
     "metadata": {},
     "output_type": "execute_result"
    }
   ],
   "source": [
    "response.json()"
   ]
  },
  {
   "cell_type": "code",
   "execution_count": null,
   "metadata": {},
   "outputs": [],
   "source": [
    "id = int(input('Enter user id: '))\n",
    "response = requests.get(f'{base_url}/user?id={id}')\n",
    "response.json()"
   ]
  },
  {
   "cell_type": "code",
   "execution_count": null,
   "metadata": {},
   "outputs": [],
   "source": [
    "id = int(input('Enter user id: '))\n",
    "response = requests.delete(f'{base_url}/user?id={id}')\n",
    "response.status_code"
   ]
  },
  {
   "attachments": {},
   "cell_type": "markdown",
   "metadata": {},
   "source": [
    "* Invoke POST API using requests"
   ]
  },
  {
   "cell_type": "code",
   "execution_count": 11,
   "metadata": {},
   "outputs": [
    {
     "data": {
      "text/plain": [
       "200"
      ]
     },
     "execution_count": 11,
     "metadata": {},
     "output_type": "execute_result"
    }
   ],
   "source": [
    "# Add or Insert\n",
    "\n",
    "import requests\n",
    "\n",
    "base_url = input('Enter base url: ')\n",
    "user_data = {\n",
    "    'id': '',\n",
    "    'first_name': 'Durga',\n",
    "    'last_name': 'G',\n",
    "    'username': 'dgadiraju',\n",
    "    'email': 'dgadiraju@email.com'\n",
    "}\n",
    "\n",
    "response = requests.post(f'{base_url}/user', data=user_data)\n",
    "response.status_code"
   ]
  },
  {
   "cell_type": "code",
   "execution_count": 12,
   "metadata": {},
   "outputs": [
    {
     "data": {
      "text/plain": [
       "[{'email': 'stiger@email.com',\n",
       "  'first_name': 'Scott',\n",
       "  'id': 1,\n",
       "  'last_name': 'Tiger',\n",
       "  'username': 'stiger'},\n",
       " {'email': 'cchaplin@email.com',\n",
       "  'first_name': 'Charlie',\n",
       "  'id': 3,\n",
       "  'last_name': 'Chaplin',\n",
       "  'username': 'cchaplin'},\n",
       " {'email': 'agadiraju@email.com',\n",
       "  'first_name': 'Anvitha',\n",
       "  'id': 5,\n",
       "  'last_name': 'Gadiraju',\n",
       "  'username': 'agadiraju'},\n",
       " {'email': 'kpenmetsa@email.com',\n",
       "  'first_name': 'Kavitha',\n",
       "  'id': 6,\n",
       "  'last_name': 'Penmetsa',\n",
       "  'username': 'kpenmetsa'},\n",
       " {'email': 'dduck@email.com',\n",
       "  'first_name': 'Donald',\n",
       "  'id': 9,\n",
       "  'last_name': 'Duck',\n",
       "  'username': 'dduck'},\n",
       " {'email': 'dgadiraju@email.com',\n",
       "  'first_name': 'Durga',\n",
       "  'id': 13,\n",
       "  'last_name': 'Gadiraju',\n",
       "  'username': 'dgadiraju'}]"
      ]
     },
     "execution_count": 12,
     "metadata": {},
     "output_type": "execute_result"
    }
   ],
   "source": [
    "requests.get(f'{base_url}/users').json()"
   ]
  },
  {
   "cell_type": "code",
   "execution_count": 13,
   "metadata": {},
   "outputs": [
    {
     "data": {
      "text/plain": [
       "200"
      ]
     },
     "execution_count": 13,
     "metadata": {},
     "output_type": "execute_result"
    }
   ],
   "source": [
    "import requests\n",
    "\n",
    "base_url = input('Enter base url: ')\n",
    "id = int(input('Enter id to be updated: '))\n",
    "user_data = {\n",
    "    'id': id,\n",
    "    'first_name': 'Durga',\n",
    "    'last_name': 'Gadiraju',\n",
    "    'username': 'dgadiraju',\n",
    "    'email': 'dgadiraju@email.com'\n",
    "}\n",
    "\n",
    "response = requests.post(f'{base_url}/user', data=user_data)\n",
    "response.status_code"
   ]
  },
  {
   "cell_type": "code",
   "execution_count": 14,
   "metadata": {},
   "outputs": [
    {
     "data": {
      "text/plain": [
       "{'email': 'dgadiraju@email.com',\n",
       " 'first_name': 'Durga',\n",
       " 'id': 13,\n",
       " 'last_name': 'Gadiraju',\n",
       " 'username': 'dgadiraju'}"
      ]
     },
     "execution_count": 14,
     "metadata": {},
     "output_type": "execute_result"
    }
   ],
   "source": [
    "requests.get(f'{base_url}/user?id={id}').json()"
   ]
  },
  {
   "attachments": {},
   "cell_type": "markdown",
   "metadata": {},
   "source": [
    "* Exercise - Validate APIs for Courses\n",
    "\n",
    "The exercise is about validating APIs for courses using postman as well as requests.\n",
    "\n",
    "1. Add GET requests for `/courses`, `/course` and DELETE for `/course`.\n",
    "2. Add POST requests for both Insert as well as Update using `/course`. Make sure to use Course Model as reference to define form data.\n",
    "3. Using `requests`, make sure to validate GET API for `/courses` and `/course`."
   ]
  }
 ],
 "metadata": {
  "kernelspec": {
   "display_name": "Python 3",
   "language": "python",
   "name": "python3"
  },
  "language_info": {
   "codemirror_mode": {
    "name": "ipython",
    "version": 3
   },
   "file_extension": ".py",
   "mimetype": "text/x-python",
   "name": "python",
   "nbconvert_exporter": "python",
   "pygments_lexer": "ipython3",
   "version": "3.11.2"
  },
  "orig_nbformat": 4
 },
 "nbformat": 4,
 "nbformat_minor": 2
}
