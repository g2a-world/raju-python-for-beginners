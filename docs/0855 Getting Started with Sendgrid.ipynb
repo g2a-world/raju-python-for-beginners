{
 "cells": [
  {
   "attachments": {},
   "cell_type": "markdown",
   "metadata": {},
   "source": [
    "* Overview of sending emails using Python\n",
    "* Different Platforms to send emails\n",
    "* Signing up for Sendgrid\n",
    "* Generate API Key for Sendgrid\n",
    "* Sending email using smtplib\n",
    "* Getting started with `sendgrid`\n",
    "* Sending email using sendgrid library\n",
    "* Exercise and Solution"
   ]
  },
  {
   "cell_type": "code",
   "execution_count": null,
   "metadata": {},
   "outputs": [],
   "source": [
    "# Overview of sending emails using Python"
   ]
  },
  {
   "cell_type": "code",
   "execution_count": null,
   "metadata": {},
   "outputs": [],
   "source": [
    "# Different Platforms to send emails"
   ]
  },
  {
   "cell_type": "code",
   "execution_count": null,
   "metadata": {},
   "outputs": [],
   "source": [
    "# Signing up for Sendgrid"
   ]
  },
  {
   "cell_type": "code",
   "execution_count": null,
   "metadata": {},
   "outputs": [],
   "source": [
    "# Generate API Key for Sendgrid"
   ]
  },
  {
   "cell_type": "code",
   "execution_count": 5,
   "metadata": {},
   "outputs": [],
   "source": [
    "# Sending email using smtplib\n",
    "import smtplib\n",
    "from smtplib import ssl\n",
    "from email.mime.text import MIMEText\n",
    "from email.mime.multipart import MIMEMultipart"
   ]
  },
  {
   "cell_type": "code",
   "execution_count": 10,
   "metadata": {},
   "outputs": [],
   "source": [
    "\n",
    "# Set up the sender, receiver, subject, and message\n",
    "sender_email = \"dgadiraju@itversity.com\"\n",
    "receiver_email = \"dgadiraju+dgadiraju@itversity.com\"\n",
    "subject = \"Test Email\"\n",
    "message = \"This is a test email sent using Python and smtplib.\""
   ]
  },
  {
   "cell_type": "code",
   "execution_count": 11,
   "metadata": {},
   "outputs": [],
   "source": [
    "\n",
    "# Create a MIME message object (MIME => Multipurpose Internet Mail Extensions)\n",
    "msg = MIMEMultipart()\n",
    "msg['From'] = sender_email\n",
    "msg['To'] = receiver_email\n",
    "msg['Subject'] = subject"
   ]
  },
  {
   "cell_type": "code",
   "execution_count": 12,
   "metadata": {},
   "outputs": [],
   "source": [
    "\n",
    "# Attach the message to the MIME object\n",
    "msg.attach(MIMEText(message, 'plain'))"
   ]
  },
  {
   "cell_type": "code",
   "execution_count": 13,
   "metadata": {},
   "outputs": [],
   "source": [
    "\n",
    "# Set up the SMTP server\n",
    "smtp_server = \"smtp.sendgrid.net\"\n",
    "smtp_port = 587  # For starttls\n",
    "smtp_username = \"apikey\"\n",
    "smtp_password = \"PASTE API KEY HERE\"\n",
    "\n",
    "# Create a secure SSL context\n",
    "context = ssl.create_default_context()\n",
    "\n",
    "# Connect to the SMTP server and send the message\n",
    "with smtplib.SMTP(smtp_server, smtp_port) as server:\n",
    "    server.starttls(context=context)\n",
    "    server.login(smtp_username, smtp_password)\n",
    "    server.sendmail(sender_email, receiver_email, msg.as_string())\n"
   ]
  },
  {
   "cell_type": "code",
   "execution_count": null,
   "metadata": {},
   "outputs": [],
   "source": [
    "# Getting started with `sendgrid`\n",
    "# python -m pip install sendgrid"
   ]
  },
  {
   "cell_type": "code",
   "execution_count": 14,
   "metadata": {},
   "outputs": [],
   "source": [
    "# Sending email using sendgrid library\n",
    "from sendgrid import SendGridAPIClient\n",
    "from sendgrid.helpers.mail import Mail"
   ]
  },
  {
   "cell_type": "code",
   "execution_count": 16,
   "metadata": {},
   "outputs": [],
   "source": [
    "\n",
    "# Set up the sender, receiver, subject, and message\n",
    "sender_email = \"dgadiraju@itversity.com\"\n",
    "receiver_email = \"dgadiraju+itversity@itversity.com\"\n",
    "subject = \"Test Email\"\n",
    "body = \"This is a test email sent using Python and SendGrid.\""
   ]
  },
  {
   "cell_type": "code",
   "execution_count": 17,
   "metadata": {},
   "outputs": [],
   "source": [
    "\n",
    "# Create a SendGrid message object\n",
    "mail = Mail(\n",
    "    from_email=sender_email,\n",
    "    to_emails=receiver_email,\n",
    "    subject=subject,\n",
    "    html_content=body)"
   ]
  },
  {
   "cell_type": "code",
   "execution_count": null,
   "metadata": {},
   "outputs": [],
   "source": [
    "import ssl"
   ]
  },
  {
   "cell_type": "code",
   "execution_count": null,
   "metadata": {},
   "outputs": [],
   "source": [
    "ssl._create_default_https_context = ssl._create_unverified_context"
   ]
  },
  {
   "cell_type": "code",
   "execution_count": 22,
   "metadata": {},
   "outputs": [],
   "source": [
    "\n",
    "# Set up the SendGrid API client\n",
    "sg = SendGridAPIClient(api_key='PASTE API KEY HERE')"
   ]
  },
  {
   "cell_type": "code",
   "execution_count": 23,
   "metadata": {},
   "outputs": [],
   "source": [
    "\n",
    "# Send the email using the SendGrid API client\n",
    "response = sg.send(mail)"
   ]
  },
  {
   "attachments": {},
   "cell_type": "markdown",
   "metadata": {},
   "source": [
    "* Exercise - Develop a function which sends the greeting to the receiver.\n",
    "  * Function Name: `send_greeting`\n",
    "  * Arguments: `from_email`, `to_emails`, `subject`, `message`\n",
    "  * Use `sendgrid` library to send the email based on the subject and message.\n",
    "  * Make sure to validate to see if the emails are sent or not by calling the function."
   ]
  }
 ],
 "metadata": {
  "kernelspec": {
   "display_name": "Python 3.11.2 64-bit",
   "language": "python",
   "name": "python3"
  },
  "language_info": {
   "codemirror_mode": {
    "name": "ipython",
    "version": 3
   },
   "file_extension": ".py",
   "mimetype": "text/x-python",
   "name": "python",
   "nbconvert_exporter": "python",
   "pygments_lexer": "ipython3",
   "version": "3.11.2"
  },
  "orig_nbformat": 4,
  "vscode": {
   "interpreter": {
    "hash": "1a1af0ee75eeea9e2e1ee996c87e7a2b11a0bebd85af04bb136d915cefc0abce"
   }
  }
 },
 "nbformat": 4,
 "nbformat_minor": 2
}
