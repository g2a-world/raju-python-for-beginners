{
 "cells": [
  {
   "attachments": {},
   "cell_type": "markdown",
   "metadata": {},
   "source": [
    "* Overview of CRUD Operations\n",
    "* Create user detail page using GET\n",
    "* Validate user detail page\n",
    "* Using Parameters for GET\n",
    "* Validate user detail page using parameters\n",
    "* Exercise and Solution"
   ]
  },
  {
   "cell_type": "markdown",
   "metadata": {},
   "source": [
    "* Overview of CRUD Operations\n",
    "  * GET for read\n",
    "  * POST for insert (excluding key and other application generated fields)\n",
    "  * PUT for update or full insert\n",
    "  * DELETE for delete"
   ]
  },
  {
   "attachments": {},
   "cell_type": "markdown",
   "metadata": {},
   "source": [
    "* Create user detail page using GET\n",
    "\n",
    "Add `templates/user_detail.html` page.\n",
    "```html\n",
    "{%- extends \"base.html\" %}\n",
    "\n",
    "{% block content %}\n",
    "    <h3>User Details</h3>\n",
    "    <div class=\"container\">\n",
    "        <label for=\"first_name\"><b>First Name</b></label>\n",
    "        {{ user.first_name }}\n",
    "        <br><br>\n",
    "        <label for=\"last_name\"><b>Last Name</b></label>\n",
    "        {{ user.last_name }}\n",
    "        <br><br>\n",
    "        <label for=\"username\"><b>Username</b></label>\n",
    "        {{ user.username }}\n",
    "        <br><br>\n",
    "        <label for=\"email\"><b>Email</b></label>\n",
    "        {{ user.email }}\n",
    "        <br><br>\n",
    "    </div>\n",
    "{%- endblock %}\n",
    "```\n",
    "\n",
    "Update `app.py` to get user details.\n",
    "```python\n",
    "@app.route('/user/<int:id>', methods=['GET'])\n",
    "def user(user_id):\n",
    "    user = User.query.get(id)\n",
    "    return render_template('user_detail.html', user=user)\n",
    "```"
   ]
  },
  {
   "attachments": {},
   "cell_type": "markdown",
   "metadata": {},
   "source": [
    "* Validate user detail page\n",
    "\n",
    "Run the application using Flask.\n",
    "```shell\n",
    "python -m flask run\n",
    "```\n",
    "\n",
    "Go to the new end point http://127.0.0.1/user/1 using browser and check if the user details are rendered or not.\n",
    "\n",
    "The endpoint can be validated using `curl` command as well.\n",
    "\n",
    "```shell\n",
    "curl http://localhost:5000/user/1\n",
    "```"
   ]
  },
  {
   "attachments": {},
   "cell_type": "markdown",
   "metadata": {},
   "source": [
    "* Using Parameters for GET\n",
    "\n",
    "Update `app.py` to get user details using parameters.\n",
    "```python\n",
    "@app.route('/user', methods=['GET'])\n",
    "def user():\n",
    "    id = request.args.get('id')\n",
    "    user = User.query.get(id)\n",
    "    return render_template('user_detail.html', user=user)\n",
    "```"
   ]
  },
  {
   "attachments": {},
   "cell_type": "markdown",
   "metadata": {},
   "source": [
    "* Validate user detail page using parameters\n",
    "\n",
    "Run the application using Flask.\n",
    "```shell\n",
    "python -m flask run\n",
    "```\n",
    "\n",
    "Go to the new end point http://localhost:5000/user?id=1 using browser and check if the user details are rendered or not. 1 is passed as parameter to the end point.\n",
    "\n",
    "The endpoint with the parameter can be used using `curl` command as well.\n",
    "\n",
    "```shell\n",
    "curl http://localhost:5000/user?id=1\n",
    "```"
   ]
  }
 ],
 "metadata": {
  "language_info": {
   "name": "python"
  },
  "orig_nbformat": 4
 },
 "nbformat": 4,
 "nbformat_minor": 2
}
