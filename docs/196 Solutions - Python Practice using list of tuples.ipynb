{
 "cells": [
  {
   "cell_type": "markdown",
   "metadata": {},
   "source": [
    "* Exercise 1: Develop a function to get list of transactions with invalid commission percentage (negative or None). Each element should be of type tuple.\n",
    "* Exercise 2: Develop a function to get list of transactions with commission amounts. Commission amount is equal to `(\"sale amount\" * \"commission %\") / 100`. Each element should be of type tuple. Each tuple in the list should contain 5 elements. The list should not contain transactions with invalid commission % (negative or none).\n",
    "```python\n",
    "sales = [\n",
    "    (1, 101, 500.00, 5),\n",
    "    (2, 102, 250.00, 3),\n",
    "    (3, 103, 1000.00, 8),\n",
    "    (4, 104, 750.00, None),\n",
    "    (5, 101, 300.00, -1),\n",
    "    (6, 106, 400.00, 3),\n",
    "    (7, 104, 200.00, 0),\n",
    "    (8, 103, 150.00, 1),\n",
    "    (9, 104, 600.00, 4),\n",
    "    (10, 101, 800.00, 6)\n",
    "]\n",
    "```\n",
    "* Solution for Exercise 1\n",
    "```python\n",
    "def get_invalid_sales(sales):\n",
    "    invalid_sales = [] # Initializing empty list\n",
    "    for sale in sales:\n",
    "        if sale[3] == None or sale[3] < 0:\n",
    "            invalid_sales.append(sale)\n",
    "    return invalid_sales\n",
    "\n",
    "get_invalid_sales(sales)\n",
    "```\n",
    "* Solution for Exercise 2\n",
    "```python\n",
    "def get_sales_with_commission(sales):\n",
    "    sales_with_commission = [] # Initializing empty list\n",
    "    for sale in sales:\n",
    "        if sale[3] != None and sale[3] >= 0:\n",
    "            l_sale = list(sale)\n",
    "            l_sale.append((sale[2] * sale[3]) / 100)\n",
    "            sales_with_commission.append(tuple(l_sale))\n",
    "    return sales_with_commission\n",
    "\n",
    "get_sales_with_commission(sales)\n",
    "```"
   ]
  },
  {
   "cell_type": "markdown",
   "metadata": {},
   "source": []
  }
 ],
 "metadata": {
  "kernelspec": {
   "display_name": "Python 3.x",
   "language": "python",
   "name": "python3"
  },
  "language_info": {
   "name": "python",
   "version": "3"
  },
  "orig_nbformat": 4,
  "vscode": {
   "interpreter": {
    "hash": "31f2aee4e71d21fbe5cf8b01ff0e069b9275f58929596ceb00d14d90e3e16cd6"
   }
  }
 },
 "nbformat": 4,
 "nbformat_minor": 2
}
