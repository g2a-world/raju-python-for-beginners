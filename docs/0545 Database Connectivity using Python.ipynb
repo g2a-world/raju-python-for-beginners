{
 "cells": [
  {
   "attachments": {},
   "cell_type": "markdown",
   "metadata": {},
   "source": [
    "* Overview of Database Clients\n",
    "* Database Connectivity Information\n",
    "* Server Name and Port Number\n",
    "* Overview of Remote Postgres Database\n",
    "* Connecting to Remote Postgres Database using pgAdmin\n",
    "* Getting Started with psycopg2\n",
    "* Validate Database Connectivity using Python\n",
    "* Overview of Postgres Information Schema\n",
    "* Exercise and Solution\n",
    "  * Create Tables in remote database\n",
    "  * Populate Sales data into the table and Validate by running queries\n",
    "  * Validate Database Connectivity against remote database using Python"
   ]
  }
 ],
 "metadata": {
  "kernelspec": {
   "display_name": "Python 3",
   "language": "python",
   "name": "python3"
  },
  "language_info": {
   "name": "python",
   "version": "3.11.2"
  },
  "orig_nbformat": 4,
  "vscode": {
   "interpreter": {
    "hash": "949777d72b0d2535278d3dc13498b2535136f6dfe0678499012e853ee9abcab1"
   }
  }
 },
 "nbformat": 4,
 "nbformat_minor": 2
}
