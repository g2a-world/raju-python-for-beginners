{
 "cells": [
  {
   "attachments": {},
   "cell_type": "markdown",
   "metadata": {},
   "source": [
    "* Overview of Web Scraping\n",
    "* Getting Started with BeautifulSoup\n",
    "* Overview of HTML\n",
    "* Process HTML using BeautifulSoup\n",
    "* Extract URLs from HTML\n",
    "* Extract Data from Web Pages\n",
    "* Use requests to read HTML Page\n",
    "* Parse and Process Web Page using BeautifulSoup\n",
    "* Exercise and Solution"
   ]
  },
  {
   "attachments": {},
   "cell_type": "markdown",
   "metadata": {},
   "source": [
    "* Overview of Web Scraping\n",
    "  * BeautifulSoup\n",
    "  * Scrapy\n",
    "  * Pandas (pd.read_html for unsecure pages with tables)"
   ]
  },
  {
   "attachments": {},
   "cell_type": "markdown",
   "metadata": {},
   "source": [
    "* Getting Started with BeautifulSoup\n",
    "\n",
    "Run `pip install BeautifulSoup4` to install beautifulsoup. Make sure to restart Notebook environment."
   ]
  },
  {
   "attachments": {},
   "cell_type": "markdown",
   "metadata": {},
   "source": [
    "* Overview of HTML\n",
    "\n",
    "```html\n",
    "<html>\n",
    "    <body>\n",
    "        <table>\n",
    "            <tbody>\n",
    "                <tr>\n",
    "                    <th>Details</th>\n",
    "                    <th>URL</th>\n",
    "                </tr>\n",
    "                <tr>\n",
    "                    <td>Video Content</td>\n",
    "                    <td><a href=\"https://www.youtube.com/itversityin\">YouTube Channel</a></td>\n",
    "                </tr>\n",
    "                <tr>\n",
    "                    <td>Reference Material</td>\n",
    "                    <td><a href=\"https://www.github.com/dgadiraju/itversity-books\">GitHub Repository</a></td>\n",
    "                </tr>\n",
    "            </tbody>\n",
    "        </table>\n",
    "    </body>\n",
    "</html>\n",
    "```"
   ]
  },
  {
   "cell_type": "code",
   "execution_count": null,
   "metadata": {},
   "outputs": [],
   "source": [
    "%%html\n",
    "\n",
    "<html>\n",
    "    <body>\n",
    "        <table>\n",
    "            <tbody>\n",
    "                <tr>\n",
    "                    <th>Details</th>\n",
    "                    <th>URL</th>\n",
    "                </tr>\n",
    "                <tr>\n",
    "                    <td>Video Content</td>\n",
    "                    <td><a href=\"https://www.youtube.com/itversityin\">YouTube Channel</a></td>\n",
    "                </tr>\n",
    "                <tr>\n",
    "                    <td>Reference Material</td>\n",
    "                    <td><a href=\"https://www.github.com/dgadiraju/itversity-books\">GitHub Repository</a></td>\n",
    "                </tr>\n",
    "            </tbody>\n",
    "        </table>\n",
    "    </body>\n",
    "</html>"
   ]
  },
  {
   "attachments": {},
   "cell_type": "markdown",
   "metadata": {},
   "source": [
    "* Process HTML using BeautifulSoup\n",
    "  * Create a string object with HTML\n",
    "  * Import BeautifulSoup from bs4\n",
    "  * Create BeautifulSoup object\n",
    "  * Extract information from HTML String (such as tag attributes, tag text, etc)"
   ]
  },
  {
   "cell_type": "code",
   "execution_count": null,
   "metadata": {},
   "outputs": [],
   "source": [
    "html_str = \"\"\"<table>\n",
    "    <tbody>\n",
    "        <tr>\n",
    "            <th>Details</th>\n",
    "            <th>URL</th>\n",
    "        </tr>\n",
    "        <tr>\n",
    "            <td>Video Content</td>\n",
    "            <td><a href=\"https://www.youtube.com/itversityin\">YouTube Channel</a>\n",
    "            </td>\n",
    "        </tr>\n",
    "        <tr>\n",
    "            <td>Reference Material</td>\n",
    "            <td><a href=\"https://www.github.com/dgadiraju/itversity-books\">GitHub Repository</a>\n",
    "            </td>\n",
    "        </tr>\n",
    "    </tbody>\n",
    "</table>\"\"\""
   ]
  },
  {
   "cell_type": "code",
   "execution_count": null,
   "metadata": {},
   "outputs": [],
   "source": [
    "from bs4 import BeautifulSoup"
   ]
  },
  {
   "cell_type": "code",
   "execution_count": null,
   "metadata": {},
   "outputs": [],
   "source": [
    "soup = BeautifulSoup(html_str, 'html.parser')\n",
    "print(soup.prettify())"
   ]
  },
  {
   "cell_type": "code",
   "execution_count": null,
   "metadata": {},
   "outputs": [],
   "source": [
    "soup.table.tbody.tr"
   ]
  },
  {
   "attachments": {},
   "cell_type": "markdown",
   "metadata": {},
   "source": [
    "* Extract URLs from HTML\n",
    "  * Get all the anchor tags (using `find_all`)\n",
    "  * Get the value which is specified under href. The href values are nothing but the urls"
   ]
  },
  {
   "cell_type": "code",
   "execution_count": null,
   "metadata": {},
   "outputs": [],
   "source": [
    "soup.find_all('a')"
   ]
  },
  {
   "cell_type": "code",
   "execution_count": null,
   "metadata": {},
   "outputs": [],
   "source": [
    "for item in soup.find_all('a'):\n",
    "    print(item['href'])"
   ]
  },
  {
   "cell_type": "code",
   "execution_count": null,
   "metadata": {},
   "outputs": [],
   "source": [
    "for item in soup.find_all('a'):\n",
    "    print(item.text)"
   ]
  },
  {
   "cell_type": "code",
   "execution_count": null,
   "metadata": {},
   "outputs": [],
   "source": [
    "[(item.text, item['href']) for item in soup.find_all('a')]"
   ]
  },
  {
   "attachments": {},
   "cell_type": "markdown",
   "metadata": {},
   "source": [
    "* Extract Data from Web Pages\n",
    "  * URL - https://en.wikipedia.org/wiki/Python_(programming_language)\n",
    "  * Use `requests` to get content from web page\n",
    "  * Parse and process HTML content using BeautifulSoup"
   ]
  },
  {
   "attachments": {},
   "cell_type": "markdown",
   "metadata": {},
   "source": [
    "* Use requests to read HTML Page"
   ]
  },
  {
   "cell_type": "code",
   "execution_count": null,
   "metadata": {},
   "outputs": [],
   "source": [
    "import requests"
   ]
  },
  {
   "cell_type": "code",
   "execution_count": null,
   "metadata": {},
   "outputs": [],
   "source": [
    "url = 'https://en.wikipedia.org/wiki/Python_(programming_language)'"
   ]
  },
  {
   "cell_type": "code",
   "execution_count": null,
   "metadata": {},
   "outputs": [],
   "source": [
    "html_content = requests.get(url).content"
   ]
  },
  {
   "attachments": {},
   "cell_type": "markdown",
   "metadata": {},
   "source": [
    "* Parse and Process Web Page using BeautifulSoup"
   ]
  },
  {
   "cell_type": "code",
   "execution_count": null,
   "metadata": {},
   "outputs": [],
   "source": [
    "from bs4 import BeautifulSoup"
   ]
  },
  {
   "cell_type": "code",
   "execution_count": null,
   "metadata": {},
   "outputs": [],
   "source": [
    "soup = BeautifulSoup(html_content, 'html.parser')\n",
    "# print(soup.prettify())"
   ]
  },
  {
   "cell_type": "code",
   "execution_count": null,
   "metadata": {},
   "outputs": [],
   "source": [
    "soup.find_all('a')"
   ]
  },
  {
   "cell_type": "code",
   "execution_count": null,
   "metadata": {},
   "outputs": [],
   "source": [
    "http_urls = []\n",
    "for item in soup.find_all('a'):\n",
    "    if item.get('href') and item.get('href').startswith('http'):\n",
    "        http_urls.append(item['href'])"
   ]
  },
  {
   "cell_type": "code",
   "execution_count": null,
   "metadata": {},
   "outputs": [],
   "source": [
    "http_urls"
   ]
  },
  {
   "cell_type": "code",
   "execution_count": null,
   "metadata": {},
   "outputs": [],
   "source": [
    "sorted(set(http_urls))"
   ]
  },
  {
   "attachments": {},
   "cell_type": "markdown",
   "metadata": {},
   "source": [
    "* Exercise - Get Wiki Page URLs from [NFL Wiki Page](https://en.wikipedia.org/wiki/National_Football_League)\n",
    "1. Read the entire HTML Content from NFL Wiki Page (https://en.wikipedia.org/wiki/National_Football_League)\n",
    "2. Get URLs which start with **/wiki**\n",
    "3. Prefix URLs with **https://en.wikipedia.org/** (eg: https://en.wikipedia.org/wiki/Buffalo_Bills)\n",
    "4. Make sure to get unique url sorted in ascending order"
   ]
  },
  {
   "attachments": {},
   "cell_type": "markdown",
   "metadata": {},
   "source": [
    "* Solution - Get Wiki Page URLs from [NFL Wiki Page](https://en.wikipedia.org/wiki/National_Football_League)"
   ]
  },
  {
   "cell_type": "code",
   "execution_count": null,
   "metadata": {},
   "outputs": [],
   "source": [
    "import requests"
   ]
  },
  {
   "cell_type": "code",
   "execution_count": null,
   "metadata": {},
   "outputs": [],
   "source": [
    "from bs4 import BeautifulSoup"
   ]
  },
  {
   "cell_type": "code",
   "execution_count": null,
   "metadata": {},
   "outputs": [],
   "source": [
    "url = 'https://en.wikipedia.org/wiki/National_Football_League'"
   ]
  },
  {
   "cell_type": "code",
   "execution_count": null,
   "metadata": {},
   "outputs": [],
   "source": [
    "html_content = requests.get(url).content"
   ]
  },
  {
   "cell_type": "code",
   "execution_count": null,
   "metadata": {},
   "outputs": [],
   "source": [
    "soup = BeautifulSoup(html_content, 'html.parser')"
   ]
  },
  {
   "cell_type": "code",
   "execution_count": null,
   "metadata": {},
   "outputs": [],
   "source": [
    "wiki_urls = []\n",
    "for item in soup.find_all('a'):\n",
    "    if item.get('href') and item.get('href').startswith('/wiki/'):\n",
    "        wiki_urls.append(f\"https://en.wikipedia.org{item.get('href')}\")"
   ]
  },
  {
   "cell_type": "code",
   "execution_count": null,
   "metadata": {},
   "outputs": [],
   "source": [
    "sorted(set(wiki_urls))"
   ]
  },
  {
   "cell_type": "code",
   "execution_count": null,
   "metadata": {},
   "outputs": [],
   "source": []
  }
 ],
 "metadata": {
  "kernelspec": {
   "display_name": "Python 3",
   "language": "python",
   "name": "python3"
  },
  "language_info": {
   "codemirror_mode": {
    "name": "ipython",
    "version": 3
   },
   "file_extension": ".py",
   "mimetype": "text/x-python",
   "name": "python",
   "nbconvert_exporter": "python",
   "pygments_lexer": "ipython3",
   "version": "3.11.2"
  },
  "orig_nbformat": 4
 },
 "nbformat": 4,
 "nbformat_minor": 2
}
