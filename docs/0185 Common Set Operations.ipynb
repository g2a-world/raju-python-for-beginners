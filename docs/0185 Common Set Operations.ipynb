{
 "cells": [
  {
   "cell_type": "markdown",
   "metadata": {},
   "source": [
    "* Create a set\n",
    "```python\n",
    "s = {1, 3, 2, 4, 3, 1, 5, 6}\n",
    "```\n",
    "* Add elements to the set\n",
    "```python\n",
    "s.add(1)\n",
    "s.add(7)\n",
    "```\n",
    "* Check if the element exists in the set\n",
    "```python\n",
    "1 in s\n",
    "10 in s\n",
    "```\n",
    "* Remove elements from the set\n",
    "```python\n",
    "s.pop()\n",
    "s.remove(2)\n",
    "s.remove(10)\n",
    "```\n",
    "* Perform set operations\n",
    "```python\n",
    "evens = set(range(2, 21, 2))\n",
    "odds = set(range(3, 21, 3))\n",
    "ints = set(range(1, 21))\n",
    "evens.union(odds)\n",
    "evens.intersection(odds)\n",
    "evens.issubset(ints)\n",
    "odds.issubset(evens)\n",
    "\n",
    "evens.difference(odds)\n",
    "odds.difference(evens)\n",
    "```\n",
    "* Convert list to set\n",
    "```python\n",
    "l = [1, 3, 2, 4, 3, 1, 5, 6]\n",
    "len(l)\n",
    "\n",
    "set(l) # Eliminates duplicates\n",
    "len(set(l))\n",
    "```\n",
    "* Convert set to list\n",
    "```python\n",
    "s = {1, 2, 3, 4}\n",
    "list(s)\n",
    "```\n",
    "* Exercise 1: Get unique characters from a string - `itversity inc`\n",
    "* Exercise 2: Get common elements from 2 lists as a set.\n",
    "```python\n",
    "l1 = [2, 4, 6, 8, 10, 12]\n",
    "l2 = [3, 6, 9, 12]\n",
    "\n",
    "# output - {6, 12}\n",
    "```\n",
    "* Exercise 3: Get all unique elements from 2 lists as a set.\n",
    "```python\n",
    "l1 = [2, 4, 6, 8]\n",
    "l2 = [3, 6, 9]\n",
    "\n",
    "# output - {2, 3, 4, 6, 8, 9}\n",
    "```"
   ]
  },
  {
   "cell_type": "markdown",
   "metadata": {},
   "source": []
  }
 ],
 "metadata": {
  "kernelspec": {
   "display_name": "Python 3.x",
   "language": "python",
   "name": "python3"
  },
  "language_info": {
   "name": "python",
   "version": "3"
  },
  "orig_nbformat": 4,
  "vscode": {
   "interpreter": {
    "hash": "31f2aee4e71d21fbe5cf8b01ff0e069b9275f58929596ceb00d14d90e3e16cd6"
   }
  }
 },
 "nbformat": 4,
 "nbformat_minor": 2
}
