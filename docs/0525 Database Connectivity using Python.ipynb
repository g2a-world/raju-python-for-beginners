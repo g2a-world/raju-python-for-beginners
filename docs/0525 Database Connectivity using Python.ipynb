{
 "cells": [
  {
   "attachments": {},
   "cell_type": "markdown",
   "metadata": {},
   "source": [
    "* Database Connectivity Information\n",
    "* Server Name and Port Number\n",
    "* Overview of Remote Postgres Database\n",
    "* Connecting to Remote Postgres Database using pgAdmin\n",
    "* Getting Started with psycopg2\n",
    "* Overview of Postgres Information Schema\n",
    "* Validate Database Connectivity using Python\n",
    "* Exercise and Solution"
   ]
  }
 ],
 "metadata": {
  "language_info": {
   "name": "python"
  },
  "orig_nbformat": 4
 },
 "nbformat": 4,
 "nbformat_minor": 2
}
