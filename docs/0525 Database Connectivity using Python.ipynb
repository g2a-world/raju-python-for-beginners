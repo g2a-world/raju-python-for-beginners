{
 "cells": [
  {
   "attachments": {},
   "cell_type": "markdown",
   "metadata": {},
   "source": [
    "* Overview of Database Clients\n",
    "* Database Connectivity Information\n",
    "* Server Name and Port Number\n",
    "* Overview of Remote Postgres Database\n",
    "* Connecting to Remote Postgres Database using pgAdmin\n",
    "* Getting Started with psycopg2\n",
    "* Validate Database Connectivity using Python\n",
    "* Overview of Postgres Information Schema\n",
    "* Exercise and Solution\n",
    "  * Create Tables in remote database\n",
    "  * Populate Sales data into the table and Validate by running queries\n",
    "  * Validate Database Connectivity against remote database using Python\n",
    "\n",
    "Solution\n",
    "```sql\n",
    "DROP TABLE sales;\n",
    "CREATE TABLE sales (\n",
    "\tsale_id INT PRIMARY KEY, -- Unique as well as not null\n",
    "\tsale_rep_id INT,\n",
    "\tsale_amount FLOAT,\n",
    "\tcommission_pct INT\n",
    ");\n",
    "\n",
    "DROP TABLE sale_reps;\n",
    "CREATE TABLE sale_reps (\n",
    "\tsale_rep_id INT PRIMARY KEY, \n",
    "\tsr_first_name VARCHAR(50) NOT NULL,\n",
    "\tsr_last_name VARCHAR(50) NOT NULL DEFAULT 'NA',\n",
    "\tsr_email VARCHAR(100) NOT NULL,\n",
    "\tsr_phone_number VARCHAR(20),\n",
    "\tsr_salary FLOAT,\n",
    "\tcreated_ts TIMESTAMP DEFAULT current_timestamp\n",
    ");\n",
    "\n",
    "INSERT INTO sales\n",
    "VALUES\n",
    "\t(1, 101, 500.00, 5),\n",
    "\t(2, 102, 250.00, 3),\n",
    "\t(3, 103, 1000.00, 8),\n",
    "\t(4, 104, 750.00, NULL),\n",
    "\t(5, 101, 300.00, -1),\n",
    "\t(6, 106, 400.00, 3),\n",
    "\t(7, 104, 200.00, 0),\n",
    "\t(8, 103, 150.00, 1),\n",
    "\t(9, 104, 600.00, 4),\n",
    "\t(10, 101, 800.00, 6);\n",
    "\t\n",
    "SELECT * FROM sales;\n",
    "SELECT * FROM sales WHERE commission_pct IS NULL;\n",
    "```"
   ]
  },
  {
   "cell_type": "markdown",
   "metadata": {},
   "source": []
  }
 ],
 "metadata": {
  "language_info": {
   "name": "python"
  },
  "orig_nbformat": 4
 },
 "nbformat": 4,
 "nbformat_minor": 2
}
