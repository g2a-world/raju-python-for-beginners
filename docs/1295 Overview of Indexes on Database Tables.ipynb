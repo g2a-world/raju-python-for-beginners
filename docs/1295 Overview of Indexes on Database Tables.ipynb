{
 "cells": [
  {
   "cell_type": "markdown",
   "metadata": {},
   "source": [
    "* Review Data in Table\n",
    "* Implicit Index for Contstraints\n",
    "* Purpose of Index for Constraints\n",
    "* Manage Indexes on Database Tables\n",
    "* Relationship between Table and Indexes\n",
    "* Indexes for Performance Tuning\n",
    "* Exercise and Solution - Create Index on order date and order status\n",
    "  * Index Name: orders_order_date_status_idx\n",
    "  * Columns: `order_date` and `order_status`\n",
    "  * Once index is created, make sure to review the explain plans for the below queries.\n",
    "\n",
    "```sql\n",
    "SELECT count(*)\n",
    "FROM orders\n",
    "WHERE order_date = '2014-01-01 00:00:00.0';\n",
    "\n",
    "SELECT count(*)\n",
    "FROM orders\n",
    "WHERE order_date = '2014-01-01 00:00:00.0'\n",
    "AND order_status = 'COMPLETE';\n",
    "\n",
    "SELECT count(*)\n",
    "FROM orders\n",
    "WHERE order_date = '2014-01-01 00:00:00.0'\n",
    "AND order_status = 'CLOSED';\n",
    "```"
   ]
  }
 ],
 "metadata": {
  "language_info": {
   "name": "python"
  },
  "orig_nbformat": 4
 },
 "nbformat": 4,
 "nbformat_minor": 2
}
