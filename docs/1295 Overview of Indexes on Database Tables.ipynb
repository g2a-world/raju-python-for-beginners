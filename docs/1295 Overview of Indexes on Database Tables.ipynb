{
 "cells": [
  {
   "cell_type": "markdown",
   "metadata": {},
   "source": [
    "* Review Data in Table\n",
    "* Implicit Index for Constraints\n",
    "* Purpose of Index for Constraints\n",
    "* Manage Indexes on Database Tables\n",
    "* Relationship between Table and Indexes\n",
    "* Indexes for Performance Tuning\n",
    "* Exercise and Solution - Create Index on order date and order status\n",
    "  * Index Name: orders_order_date_status_idx\n",
    "  * Columns: `order_date` and `order_status`\n",
    "  * Once index is created, make sure to review the explain plans for the below queries.\n",
    "\n",
    "```sql\n",
    "SELECT count(*)\n",
    "FROM orders\n",
    "WHERE order_date = '2014-01-01 00:00:00.0';\n",
    "\n",
    "SELECT count(*)\n",
    "FROM orders\n",
    "WHERE order_date = '2014-01-01 00:00:00.0'\n",
    "AND order_status = 'COMPLETE';\n",
    "\n",
    "SELECT count(*)\n",
    "FROM orders\n",
    "WHERE order_date = '2014-01-01 00:00:00.0'\n",
    "AND order_status = 'CLOSED';\n",
    "```"
   ]
  },
  {
   "cell_type": "markdown",
   "metadata": {},
   "source": [
    "* Review Data in Table\n",
    "\n",
    "```sql\n",
    "CREATE TABLE users (\n",
    "\tid INT,\n",
    "\tfirst_name VARCHAR(50),\n",
    "\tlast_name VARCHAR(50),\n",
    "\tusername VARCHAR(50),\n",
    "\temail VARCHAR(50)\n",
    ");\n",
    "\n",
    "INSERT INTO users\n",
    "VALUES\n",
    "\t(1, 'Durga', 'Gadiraju', 'dgadiraju', 'dgadiraju@email.com'),\n",
    "\t(4, 'Scott', 'Tiger', 'stiger', 'stiger@email.com'),\n",
    "\t(2, 'Mickey', 'Mouse', 'mmouse', 'mmouse@email.com'),\n",
    "\t(5, 'Elvis', 'Presley', 'epresley', 'epresley@email.com'),\n",
    "\t(3, 'Charlie', 'Chaplin', 'cchaplin', 'cchaplin@email.com');\n",
    "\t\n",
    "SELECT ctid, u.* FROM users AS u;\n",
    "\n",
    "EXPLAIN\n",
    "SELECT * FROM users\n",
    "WHERE id = 4;\n",
    "```"
   ]
  },
  {
   "cell_type": "markdown",
   "metadata": {},
   "source": [
    "* Overview of Database Object Metadata\n",
    "\n",
    "Here are the details about Database Object Metadata (using Postgres as reference)\n",
    "* A Database contains different types of objects - tables, views, stored procedures, etc.\n",
    "* A Database Table contain columns, data types, constraints, indexes, etc.\n",
    "* The details about the table such as columns, data types, constraints, indexes, etc is known as metadata.\n",
    "* The metadata is typically stored in internal schemas or databases. For postgres database tables, the metadata is typically stored in a special schema called as `information_schema`.\n",
    "* The schema contains tables and views to expose all the metadata related to database tables and other objects.\n",
    "* Here are some of the important tables/views.\n",
    "  * `information_schema.tables`\n",
    "  * `information_schema.constraints`\n",
    "  * `pg_stat_all_indexes` - not in information_schema\n",
    "\n",
    "```sql\n",
    "SELECT * FROM information_schema.tables\n",
    "WHERE table_schema = 'public';\n",
    "\n",
    "SELECT * FROM information_schema.columns\n",
    "WHERE table_schema = 'public' AND table_name = 'users';\n",
    "\n",
    "SELECT * FROM information_schema.constraint_column_usage\n",
    "WHERE table_schema = 'public' AND table_name = 'orders';\n",
    "\n",
    "SELECT * FROM pg_stat_all_indexes\n",
    "WHERE schemaname = 'public'\n",
    "\tAND relname = 'users';\n",
    "```"
   ]
  }
 ],
 "metadata": {
  "language_info": {
   "name": "python"
  },
  "orig_nbformat": 4
 },
 "nbformat": 4,
 "nbformat_minor": 2
}
