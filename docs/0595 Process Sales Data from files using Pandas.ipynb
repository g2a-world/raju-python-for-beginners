{
 "cells": [
  {
   "attachments": {},
   "cell_type": "markdown",
   "metadata": {},
   "source": [
    "* Recap of data processing using low level APIs\n",
    "* Overview of Pandas read APIs\n",
    "* Read sales data into Pandas Data Frame\n",
    "* Read data from csv file without Header\n",
    "* Specifying Delimiter or Seperator\n",
    "* Filter for Valid Sales Records\n",
    "* Compute Commission Amount and Sale Revenue\n",
    "* Overview of Pandas write or to APIs\n",
    "* Write Processed data to csv file with header\n",
    "* Validate reviewing file\n",
    "* Exercise and Solution"
   ]
  },
  {
   "cell_type": "code",
   "execution_count": null,
   "metadata": {},
   "outputs": [],
   "source": [
    "# Recap of data processing using low level APIs\n",
    "with open('data/sales/part-00000') as fp:\n",
    "    sales = fp.read().splitlines()\n",
    "    \n",
    "sales_valid = []\n",
    "\n",
    "for sale in sales[1:]:\n",
    "    s = sale.split(',')\n",
    "    if s[3] != '' and int(s[3]) >= 0:\n",
    "        sales_valid.append((int(s[0]), int(s[1]), float(s[2]), int(s[3])))\n",
    "        \n",
    "sales_valid"
   ]
  },
  {
   "cell_type": "code",
   "execution_count": null,
   "metadata": {},
   "outputs": [],
   "source": [
    "import pandas as pd\n",
    "sales_df = pd.read_csv('data/sales/part-00000')\n",
    "sales_df.query('(commission_pct >= 0) & (commission_pct.notnull())')\n",
    "\n",
    "# readable\n",
    "# easy\n",
    "# lesser code\n",
    "# high quality"
   ]
  },
  {
   "cell_type": "code",
   "execution_count": null,
   "metadata": {},
   "outputs": [],
   "source": [
    "# Overview of Pandas read APIs\n",
    "# pd.read_csv\n",
    "# pd.read_json\n",
    "# many more"
   ]
  },
  {
   "cell_type": "code",
   "execution_count": null,
   "metadata": {},
   "outputs": [],
   "source": [
    "# Read sales data into Pandas Data Frame\n",
    "import pandas as pd"
   ]
  },
  {
   "cell_type": "code",
   "execution_count": null,
   "metadata": {},
   "outputs": [],
   "source": [
    "sales_df = pd.read_csv('data/sales/part-00000')"
   ]
  },
  {
   "cell_type": "code",
   "execution_count": null,
   "metadata": {},
   "outputs": [],
   "source": [
    "sales_df"
   ]
  },
  {
   "cell_type": "code",
   "execution_count": null,
   "metadata": {},
   "outputs": [],
   "source": [
    "sales_df.shape"
   ]
  },
  {
   "cell_type": "code",
   "execution_count": null,
   "metadata": {},
   "outputs": [],
   "source": [
    "sales_df.columns"
   ]
  },
  {
   "cell_type": "code",
   "execution_count": null,
   "metadata": {},
   "outputs": [],
   "source": [
    "sales_df.dtypes"
   ]
  },
  {
   "cell_type": "code",
   "execution_count": null,
   "metadata": {},
   "outputs": [],
   "source": [
    "# Read data from CSV file without header\n",
    "departments_df = pd.read_csv('data/retail_db/departments/part-00000')"
   ]
  },
  {
   "cell_type": "code",
   "execution_count": null,
   "metadata": {},
   "outputs": [],
   "source": [
    "departments_df"
   ]
  },
  {
   "cell_type": "code",
   "execution_count": null,
   "metadata": {},
   "outputs": [],
   "source": [
    "departments_df.shape"
   ]
  },
  {
   "cell_type": "code",
   "execution_count": null,
   "metadata": {},
   "outputs": [],
   "source": [
    "departments_df = pd.read_csv(\n",
    "    'data/retail_db/departments/part-00000',\n",
    "    header=None\n",
    ")"
   ]
  },
  {
   "cell_type": "code",
   "execution_count": null,
   "metadata": {},
   "outputs": [],
   "source": [
    "departments_df"
   ]
  },
  {
   "cell_type": "code",
   "execution_count": null,
   "metadata": {},
   "outputs": [],
   "source": [
    "departments_df.shape"
   ]
  },
  {
   "cell_type": "code",
   "execution_count": null,
   "metadata": {},
   "outputs": [],
   "source": [
    "departments_df.columns"
   ]
  },
  {
   "cell_type": "code",
   "execution_count": null,
   "metadata": {},
   "outputs": [],
   "source": [
    "help(pd.read_csv)"
   ]
  },
  {
   "cell_type": "code",
   "execution_count": null,
   "metadata": {},
   "outputs": [],
   "source": [
    "# Specifying columns while reading data without header\n",
    "departments_df = pd.read_csv(\n",
    "    'data/retail_db/departments/part-00000',\n",
    "    names=['department_id', 'department_name']\n",
    ")"
   ]
  },
  {
   "cell_type": "code",
   "execution_count": null,
   "metadata": {},
   "outputs": [],
   "source": [
    "departments_df"
   ]
  },
  {
   "cell_type": "code",
   "execution_count": null,
   "metadata": {},
   "outputs": [],
   "source": [
    "departments_df.shape"
   ]
  },
  {
   "cell_type": "code",
   "execution_count": null,
   "metadata": {},
   "outputs": [],
   "source": [
    "departments_df.columns"
   ]
  },
  {
   "cell_type": "code",
   "execution_count": null,
   "metadata": {},
   "outputs": [],
   "source": [
    "departments_df.dtypes"
   ]
  },
  {
   "cell_type": "code",
   "execution_count": null,
   "metadata": {},
   "outputs": [],
   "source": [
    "# Specifying delimiter or separator\n",
    "departments_df = pd.read_csv(\n",
    "    'data/retail_db/departments/part-00000',\n",
    "    names=['department_id', 'department_name'],\n",
    "    sep=','\n",
    ")"
   ]
  },
  {
   "cell_type": "code",
   "execution_count": null,
   "metadata": {},
   "outputs": [],
   "source": [
    "departments_df"
   ]
  },
  {
   "cell_type": "code",
   "execution_count": null,
   "metadata": {},
   "outputs": [],
   "source": [
    "# Filter for Valid Sales Records\n",
    "sales_df"
   ]
  },
  {
   "cell_type": "code",
   "execution_count": null,
   "metadata": {},
   "outputs": [],
   "source": [
    "help(sales_df.query)"
   ]
  },
  {
   "cell_type": "code",
   "execution_count": null,
   "metadata": {},
   "outputs": [],
   "source": [
    "sales_df.query('commission_pct.notnull()')"
   ]
  },
  {
   "cell_type": "code",
   "execution_count": null,
   "metadata": {},
   "outputs": [],
   "source": [
    "sales_df.query('commission_pct >= 0')"
   ]
  },
  {
   "cell_type": "code",
   "execution_count": null,
   "metadata": {},
   "outputs": [],
   "source": [
    "sales_df.query('commission_pct.notnull() & (commission_pct >= 0)')"
   ]
  },
  {
   "cell_type": "code",
   "execution_count": null,
   "metadata": {},
   "outputs": [],
   "source": [
    "# Compute Commission Amount and Sale Revenue\n",
    "calculate_commission = lambda row: (row['sale_amount'] * row['commission_pct']) / 100"
   ]
  },
  {
   "cell_type": "code",
   "execution_count": null,
   "metadata": {},
   "outputs": [],
   "source": [
    "calculate_revenue = lambda row: row['sale_amount'] - row['commission_amount']"
   ]
  },
  {
   "cell_type": "code",
   "execution_count": null,
   "metadata": {},
   "outputs": [],
   "source": [
    "sales_df['commission_amount'] = sales_df.apply(calculate_commission, axis=1)"
   ]
  },
  {
   "cell_type": "code",
   "execution_count": null,
   "metadata": {},
   "outputs": [],
   "source": [
    "sales_df"
   ]
  },
  {
   "cell_type": "code",
   "execution_count": null,
   "metadata": {},
   "outputs": [],
   "source": [
    "sales_df['sale_revenue'] = sales_df.apply(calculate_revenue, axis=1)"
   ]
  },
  {
   "cell_type": "code",
   "execution_count": null,
   "metadata": {},
   "outputs": [],
   "source": [
    "sales_df"
   ]
  },
  {
   "cell_type": "code",
   "execution_count": null,
   "metadata": {},
   "outputs": [],
   "source": [
    "# Overview of Pandas write or to APIs\n",
    "# sales_df.to_csv\n",
    "# sales_df.to_json\n",
    "# sales_df.to_sql"
   ]
  },
  {
   "cell_type": "code",
   "execution_count": null,
   "metadata": {},
   "outputs": [],
   "source": [
    "# Write data in a dataframe to CSV File without header\n",
    "departments_df"
   ]
  },
  {
   "cell_type": "code",
   "execution_count": null,
   "metadata": {},
   "outputs": [],
   "source": [
    "help(departments_df.to_csv)"
   ]
  },
  {
   "cell_type": "code",
   "execution_count": null,
   "metadata": {},
   "outputs": [],
   "source": [
    "departments_df.to_csv(\n",
    "    'data/retail_db/departments/dummy.csv',\n",
    "    sep=';',\n",
    "    header=False,\n",
    "    index=False\n",
    ")"
   ]
  },
  {
   "cell_type": "code",
   "execution_count": null,
   "metadata": {},
   "outputs": [],
   "source": [
    "# Write Processed sales data to csv file with header\n",
    "sales_df"
   ]
  },
  {
   "cell_type": "code",
   "execution_count": null,
   "metadata": {},
   "outputs": [],
   "source": [
    "sales_df.to_csv(\n",
    "    'data/sales/sales_with_revenue.csv',\n",
    "    header=True,\n",
    "    index=False\n",
    ")"
   ]
  },
  {
   "cell_type": "code",
   "execution_count": null,
   "metadata": {},
   "outputs": [],
   "source": [
    "# Validate reviewing file\n",
    "pd.read_csv('data/sales/sales_with_revenue.csv')"
   ]
  },
  {
   "attachments": {},
   "cell_type": "markdown",
   "metadata": {},
   "source": [
    "* Exercise: Read data from `data/hr_db/employees/part-00000.csv` into Dataframe. Filter for employees whose salary is greater than or equal to 15000 and write to `data/hr_db/employees_hni/part-00000.csv`.\n",
    "  * Make sure the `data/hr_db/employees_hni` folder is created, if it does not exists using `os`.\n",
    "  * Here are the column names that are supposed to be used.\n",
    "    * `employee_id`\n",
    "    * `first_name`\n",
    "    * `last_name`\n",
    "    * `email`\n",
    "    * `phone_number`\n",
    "    * `hire_date`\n",
    "    * `job_id`\n",
    "    * `salary`\n",
    "    * `commission_pct`\n",
    "    * `manager_id`\n",
    "    * `department_id`\n",
    "  * Make sure the newly created file does not contain Dataframe index."
   ]
  }
 ],
 "metadata": {
  "kernelspec": {
   "display_name": "Python 3",
   "language": "python",
   "name": "python3"
  },
  "language_info": {
   "codemirror_mode": {
    "name": "ipython",
    "version": 3
   },
   "file_extension": ".py",
   "mimetype": "text/x-python",
   "name": "python",
   "nbconvert_exporter": "python",
   "pygments_lexer": "ipython3",
   "version": "3.11.2"
  },
  "orig_nbformat": 4
 },
 "nbformat": 4,
 "nbformat_minor": 2
}
