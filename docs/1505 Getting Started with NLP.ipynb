{
 "cells": [
  {
   "attachments": {},
   "cell_type": "markdown",
   "metadata": {},
   "source": [
    "* Overview of Data Science and Artificial Intelligence\n",
    "* Overview of NLP\n",
    "* Setup Data for NLP\n",
    "* Overview of EDA using Pandas\n",
    "* "
   ]
  }
 ],
 "metadata": {
  "language_info": {
   "name": "python"
  },
  "orig_nbformat": 4
 },
 "nbformat": 4,
 "nbformat_minor": 2
}
