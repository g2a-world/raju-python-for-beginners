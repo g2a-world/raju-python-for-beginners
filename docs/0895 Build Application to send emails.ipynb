{
 "cells": [
  {
   "attachments": {},
   "cell_type": "markdown",
   "metadata": {},
   "source": [
    "* Problem Statement for the application\n",
    "* Design of the application\n",
    "* Pre-requisites to run the application\n",
    "* Setup Project using VS Code to send emails\n",
    "* Review the instructions to use the application\n",
    "* Review the Application Code\n",
    "* Generate Test Data and Populate Mongo DB Collection\n",
    "* Run and Validate the application\n",
    "* Overview of Scheduling the application"
   ]
  }
 ],
 "metadata": {
  "language_info": {
   "name": "python"
  },
  "orig_nbformat": 4
 },
 "nbformat": 4,
 "nbformat_minor": 2
}
