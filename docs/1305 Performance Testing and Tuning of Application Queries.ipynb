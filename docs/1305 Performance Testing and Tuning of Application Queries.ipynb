{
 "cells": [
  {
   "attachments": {},
   "cell_type": "markdown",
   "metadata": {},
   "source": [
    "* Use Case for Performance Testing\n",
    "* Create a new API for orders\n",
    "* Performance Testing of the API\n",
    "* Performance Testing of SQL\n",
    "* Review Explain Plan and Fix the issue\n",
    "* Retest the Performance\n",
    "* Exercise and Solution - Performance Testing of order items"
   ]
  },
  {
   "attachments": {},
   "cell_type": "markdown",
   "metadata": {},
   "source": [
    "* Use Case for Performance Testing\n",
    "\n",
    "Orders have 4 columns - order_id, order_date, order_customer_id and order_status. `order_id` is primary key in the table and hence it is indexed. We will do the performance testing to get the data based on order_id and order_customer_id."
   ]
  },
  {
   "attachments": {},
   "cell_type": "markdown",
   "metadata": {},
   "source": [
    "* Create a new API for orders\n",
    "\n",
    "1. Create a new model for orders table. Create a file by name `models/oms.py`. This file can have multiple models. Add the below code to `models/oms.py`.\n",
    "\n",
    "```python\n",
    "from app import db\n",
    "\n",
    "\n",
    "class Order(db.Model):\n",
    "    __tablename__ = 'orders'\n",
    "\n",
    "    order_id = db.Column(db.Integer, primary_key=True)\n",
    "    order_date = db.Column(db.Date)\n",
    "    order_customer_id = db.Column(db.Integer)\n",
    "    order_status = db.Column(db.String(50))\n",
    "\n",
    "    def __repr__(self):\n",
    "        return f\"Order(order_id={self.order_id}, order_date={self.order_date}, \" \\\n",
    "               f\"order_customer_id={self.order_customer_id}, order_status={self.order_status})\"\n",
    "```\n",
    "\n",
    "2. Add logic for order routes. Create a new file by name `routes/order_routes.py` using below code. It have the logic to get order details based on order id or order customer id.\n",
    "\n",
    "```python\n",
    "from flask import request, jsonify\n",
    "\n",
    "from app import app\n",
    "from models.oms import Order\n",
    "\n",
    "\n",
    "@app.route('/order')\n",
    "def order():\n",
    "    args = dict(request.args)\n",
    "    order = None\n",
    "    if 'order_id' in args.keys():\n",
    "        order_id = args['order_id']\n",
    "        order = Order.query.get(int(order_id))\n",
    "        order.__dict__.pop('_sa_instance_state')\n",
    "        return jsonify(order.__dict__)\n",
    "    if 'order_customer_id' in args.keys():\n",
    "        order_customer_id = args['order_customer_id']\n",
    "        order_recs = Order.query.filter(Order.order_customer_id == order_customer_id).all()\n",
    "        orders = []\n",
    "        for order in order_recs:\n",
    "            order.__dict__.pop('_sa_instance_state')\n",
    "            orders.append(order.__dict__)\n",
    "        return jsonify(orders)\n",
    "```\n",
    "\n",
    "3. Update `app.py` - add order_routes to the imports"
   ]
  },
  {
   "attachments": {},
   "cell_type": "markdown",
   "metadata": {},
   "source": [
    "* Validate API for orders\n",
    "\n",
    "1. Run the application using `python -m flask run --debug`.\n",
    "2. Use `requests` to validate."
   ]
  },
  {
   "cell_type": "code",
   "execution_count": null,
   "metadata": {},
   "outputs": [],
   "source": [
    "import requests"
   ]
  },
  {
   "cell_type": "code",
   "execution_count": null,
   "metadata": {},
   "outputs": [],
   "source": [
    "base_url = input('Enter base url: ')"
   ]
  },
  {
   "cell_type": "code",
   "execution_count": null,
   "metadata": {},
   "outputs": [],
   "source": [
    "order_id = int(input('Enter order id: '))"
   ]
  },
  {
   "cell_type": "code",
   "execution_count": null,
   "metadata": {},
   "outputs": [],
   "source": [
    "requests.get(f'{base_url}/order?order_id={order_id}').json()"
   ]
  },
  {
   "cell_type": "code",
   "execution_count": null,
   "metadata": {},
   "outputs": [],
   "source": [
    "order_customer_id = int(input('Enter order customer id: '))"
   ]
  },
  {
   "cell_type": "code",
   "execution_count": null,
   "metadata": {},
   "outputs": [],
   "source": [
    "requests.get(f'{base_url}/order?order_customer_id={order_customer_id}').json()"
   ]
  },
  {
   "attachments": {},
   "cell_type": "markdown",
   "metadata": {},
   "source": [
    "* Performance Testing of the API\n",
    "\n",
    "1. Randomize 10000 order ids and test `/order?order_id=<order_id>` end point.\n",
    "2. Randomize 10000 order customer ids and test `/order?order_customer_id=<order_customer_id>` end point."
   ]
  },
  {
   "cell_type": "code",
   "execution_count": null,
   "metadata": {},
   "outputs": [],
   "source": [
    "import requests\n",
    "import random"
   ]
  },
  {
   "cell_type": "code",
   "execution_count": null,
   "metadata": {},
   "outputs": [],
   "source": [
    "base_url = input('Enter base url: ')"
   ]
  },
  {
   "cell_type": "code",
   "execution_count": null,
   "metadata": {},
   "outputs": [],
   "source": [
    "%%time\n",
    "for i in range(1, 10000):\n",
    "    if i % 1000 == 0:\n",
    "        print('.', end='')\n",
    "    p = random.randint(1, 10000)\n",
    "    payload = requests.get(f'{base_url}/order?order_id={p}').json()"
   ]
  },
  {
   "cell_type": "code",
   "execution_count": null,
   "metadata": {},
   "outputs": [],
   "source": [
    "%%time\n",
    "for i in range(1, 10000):\n",
    "    if i % 1000 == 0:\n",
    "        print('.', end='')\n",
    "    p = random.randint(1, 10000)\n",
    "    payload = requests.get(f'{base_url}/order?order_customer_id={p}').json()"
   ]
  },
  {
   "attachments": {},
   "cell_type": "markdown",
   "metadata": {},
   "source": [
    "* Performance Testing of SQL\n",
    "\n",
    "1. Use `psycopg2` to run SQL queries directly.\n",
    "2. Randomize 10000 order ids and run `SELECT * FROM orders WHERE order_id = %s`.\n",
    "3. Randomize 10000 order customer ids and run `SELECT * FROM orders WHERE order_customer_id = %s`\n",
    "\n",
    "Note: Running direct SQL queries yield us better performance as there is no overhead to interact with web application."
   ]
  },
  {
   "cell_type": "code",
   "execution_count": null,
   "metadata": {},
   "outputs": [],
   "source": [
    "import psycopg2"
   ]
  },
  {
   "cell_type": "code",
   "execution_count": null,
   "metadata": {},
   "outputs": [],
   "source": [
    "conn = psycopg2.connect(\n",
    "    host='localhost',\n",
    "    port=5432,\n",
    "    database='sales_db',\n",
    "    user='sales_user',\n",
    "    password='itversity'\n",
    ")"
   ]
  },
  {
   "cell_type": "code",
   "execution_count": null,
   "metadata": {},
   "outputs": [],
   "source": [
    "cur = conn.cursor()"
   ]
  },
  {
   "cell_type": "code",
   "execution_count": null,
   "metadata": {},
   "outputs": [],
   "source": [
    "query = 'SELECT * FROM orders WHERE order_id = %s'"
   ]
  },
  {
   "cell_type": "code",
   "execution_count": null,
   "metadata": {},
   "outputs": [],
   "source": [
    "cur.execute(query, (1, ))"
   ]
  },
  {
   "cell_type": "code",
   "execution_count": null,
   "metadata": {},
   "outputs": [],
   "source": [
    "cur.fetchone()"
   ]
  },
  {
   "cell_type": "code",
   "execution_count": null,
   "metadata": {},
   "outputs": [],
   "source": [
    "import random"
   ]
  },
  {
   "cell_type": "code",
   "execution_count": null,
   "metadata": {},
   "outputs": [],
   "source": [
    "recs = []\n",
    "for i in range(1, 10001):\n",
    "    query = 'SELECT * FROM orders WHERE order_id = %s'\n",
    "    p = random.randint(1, 60000)\n",
    "    cur.execute(query, (p, ))\n",
    "    recs.append(cur.fetchone())"
   ]
  },
  {
   "cell_type": "code",
   "execution_count": null,
   "metadata": {},
   "outputs": [],
   "source": [
    "len(recs)"
   ]
  },
  {
   "cell_type": "code",
   "execution_count": null,
   "metadata": {},
   "outputs": [],
   "source": [
    "recs[0]"
   ]
  },
  {
   "cell_type": "code",
   "execution_count": null,
   "metadata": {},
   "outputs": [],
   "source": [
    "recs = []\n",
    "for i in range(1, 10001):\n",
    "    query = 'SELECT * FROM orders WHERE order_customer_id = %s'\n",
    "    p = random.randint(1, 10000)\n",
    "    cur.execute(query, (p, ))\n",
    "    recs.append(cur.fetchall())"
   ]
  },
  {
   "cell_type": "code",
   "execution_count": null,
   "metadata": {},
   "outputs": [],
   "source": [
    "len(recs)"
   ]
  },
  {
   "cell_type": "code",
   "execution_count": null,
   "metadata": {},
   "outputs": [],
   "source": [
    "recs[0]"
   ]
  },
  {
   "attachments": {},
   "cell_type": "markdown",
   "metadata": {},
   "source": [
    "* Review Explain Plan and Fix the issue\n",
    "\n",
    "1. Enable query logging and launch `flask shell`\n",
    "2. Invoke below APIs and capture sql.\n",
    "\n",
    "```python\n",
    "from werkzeug.test import Client\n",
    "client = Client(app)\n",
    "\n",
    "client.get('/order?order_id=1').get_json()\n",
    "client.get('/order?order_customer_id=1').get_json()\n",
    "```\n",
    "\n",
    "3. Go to pgAdmin and run `EXPLAIN` command to generate explain plan.\n",
    "4. You will observe that the query related to `order_id` uses index scan where as the other query related to `order_customer_id` uses sequence or full table scan.\n",
    "5. Create index on `order_customer_id`.\n",
    "\n",
    "```sql\n",
    "CREATE INDEX orders_order_customer_id_idx\n",
    "ON orders (order_customer_id);\n",
    "```"
   ]
  },
  {
   "attachments": {},
   "cell_type": "markdown",
   "metadata": {},
   "source": [
    "* Retest the Performance using SQL\n",
    "\n",
    "It is enough to retest the performance using SQL. The performance based on `order_id` and `order_customer_id` will be almost same. Optionally, you can also run performance test using `requests`."
   ]
  },
  {
   "attachments": {},
   "cell_type": "markdown",
   "metadata": {},
   "source": [
    "* Exercise - Performance Testing and Tuning of order items\n",
    "\n",
    "We will evaluate the performance of end points or routes related to order item and fix if there is any performance bottleneck.\n",
    "\n",
    "1. Create end point `/order_item` with parameters `order_item_id` (primary key) and `order_item_order_id`. You can use `orm.py` to add the model by name `OrderItem` based on the fields in order_items table. You can consider using Chat GPT.\n",
    "2. Use SQL approach and evaluate performance for 10,000 randomly generated order item ids and order item order ids.\n",
    "3. Generate explain plans, review them and identify any performance bottlenecks.\n",
    "4. Fix the issue and evaluate the performance again."
   ]
  },
  {
   "attachments": {},
   "cell_type": "markdown",
   "metadata": {},
   "source": [
    "* Solution - Performance Testing of order items\n",
    "\n",
    "We will evaluate the performance of end points or routes related to order item and fix if there is any performance bottleneck.\n",
    "\n",
    "1. Create end point for `order_item_id` (primary key) and `order_item_order_id`. You can use `orm.py` to add the model by name `OrderItem` based on the fields in order_items table. You can consider using Chat GPT.\n",
    "\n",
    "Update `models/orm.py` for `OrderItem`.\n",
    "\n",
    "```python\n",
    "class OrderItem(db.Model):\n",
    "    __tablename__ = 'order_items'\n",
    "\n",
    "    order_item_id = db.Column(db.Integer, primary_key=True)\n",
    "    order_item_order_id = db.Column(db.Integer)\n",
    "    order_item_product_id = db.Column(db.Integer)\n",
    "    order_item_quantity = db.Column(db.Integer)\n",
    "    order_item_subtotal = db.Column(db.Float)\n",
    "    order_item_product_price = db.Column(db.Float)\n",
    "\n",
    "    def __repr__(self):\n",
    "        return f\"OrderItem(order_item_id={self.order_item_id}, \" \\\n",
    "               f\"order_item_order_id={self.order_item_order_id}, \" \\\n",
    "               f\"order_item_product_id={self.order_item_product_id}, \" \\\n",
    "               f\"order_item_quantity={self.order_item_quantity}, \" \\\n",
    "               f\"order_item_subtotal={self.order_item_subtotal}, \" \\\n",
    "               f\"order_item_product_price={self.order_item_product_price})\"\n",
    "```\n",
    "\n",
    "Update `routes/order_routes.py` for `/order_item` end point or route. Make sure to import `OrderItem` from `models.oms` along with `Order`.\n",
    "\n",
    "```python\n",
    "@app.route('/order_item')\n",
    "def order_item():\n",
    "    args = dict(request.args)\n",
    "    order_item = None\n",
    "    if 'order_item_id' in args.keys():\n",
    "        order_item_id = args['order_item_id']\n",
    "        order_item = OrderItem.query.get(int(order_item_id))\n",
    "        order_item.__dict__.pop('_sa_instance_state')\n",
    "        return jsonify(order_item.__dict__)\n",
    "    if 'order_item_order_id' in args.keys():\n",
    "        order_item_order_id = args['order_item_order_id']\n",
    "        order_item_recs = OrderItem.query.filter(OrderItem.order_item_order_id == order_item_order_id).all()\n",
    "        order_items = []\n",
    "        for order_item in order_item_recs:\n",
    "            order_item.__dict__.pop('_sa_instance_state')\n",
    "            order_items.append(order_item.__dict__)\n",
    "        return jsonify(order_items)\n",
    "```\n",
    "\n",
    "2. Use SQL approach and evaluate performance for 10,000 randomly generated order item ids and order item order ids.\n",
    "\n",
    "```python\n",
    "import random\n",
    "recs = []\n",
    "for i in range(1, 10001):\n",
    "    query = 'SELECT * FROM order_items WHERE order_item_id = %s'\n",
    "    p = random.randint(1, 60000)\n",
    "    cur.execute(query, (p, ))\n",
    "    recs.append(cur.fetchone())\n",
    "\n",
    "recs = []\n",
    "for i in range(1, 10001):\n",
    "    query = 'SELECT * FROM order_items WHERE order_item_order_id = %s'\n",
    "    p = random.randint(1, 60000)\n",
    "    cur.execute(query, (p, ))\n",
    "    recs.append(cur.fetchone())\n",
    "```\n",
    "\n",
    "3. Generate explain plans, review them and identify any performance bottlenecks.\n",
    "\n",
    "```sql\n",
    "EXPLAIN SELECT * FROM order_items WHERE order_item_id = 1;\n",
    "\n",
    "EXPLAIN SELECT * FROM order_items WHERE order_item_order_id = 2;\n",
    "```\n",
    "\n",
    "4. Fix the issue and evaluate the performance again.\n",
    "\n",
    "```sql\n",
    "CREATE INDEX order_items_order_item_order_id_idx\n",
    "ON order_items (order_item_order_id);\n",
    "```\n",
    "\n",
    "```python\n",
    "import random\n",
    "recs = []\n",
    "for i in range(1, 10001):\n",
    "    query = 'SELECT * FROM order_items WHERE order_item_id = %s'\n",
    "    p = random.randint(1, 60000)\n",
    "    cur.execute(query, (p, ))\n",
    "    recs.append(cur.fetchone())\n",
    "\n",
    "recs = []\n",
    "for i in range(1, 10001):\n",
    "    query = 'SELECT * FROM order_items WHERE order_item_order_id = %s'\n",
    "    p = random.randint(1, 60000)\n",
    "    cur.execute(query, (p, ))\n",
    "    recs.append(cur.fetchone())\n",
    "```"
   ]
  }
 ],
 "metadata": {
  "kernelspec": {
   "display_name": "Python 3",
   "language": "python",
   "name": "python3"
  },
  "language_info": {
   "codemirror_mode": {
    "name": "ipython",
    "version": 3
   },
   "file_extension": ".py",
   "mimetype": "text/x-python",
   "name": "python",
   "nbconvert_exporter": "python",
   "pygments_lexer": "ipython3",
   "version": "3.11.2"
  },
  "orig_nbformat": 4
 },
 "nbformat": 4,
 "nbformat_minor": 2
}
