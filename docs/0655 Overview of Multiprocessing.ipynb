{
 "cells": [
  {
   "attachments": {},
   "cell_type": "markdown",
   "metadata": {},
   "source": [
    "* Overview of Performance Tuning\n",
    "* Getting started with `multiprocessing`\n",
    "* Creating Pool object\n",
    "* Run basic jobs in parallel\n",
    "* Create function for file format conversion\n",
    "* Run file format conversion using `multiprocessing`\n",
    "* Exercise and Solution"
   ]
  },
  {
   "attachments": {},
   "cell_type": "markdown",
   "metadata": {},
   "source": [
    "* Exercise: Convert NYSE data from CSV in `data/nyse_all/nyse_data` to JSON format using gzip compression. Make sure to run the file format conversion using `multiprocessing` with 4 threads.\n",
    "  * Source folder: `data/nyse_all/nyse_data`\n",
    "  * Target folder: `data/nyse_all/nyse_json`\n",
    "  * File Format: `gzip` compressed json format.\n",
    "  * Column Names: `['ticker', 'trade_date', 'open_price', 'low_price', 'high_price', 'close_price', 'volume']`\n",
    "  * Make sure file names are generated using `part-uuid.json` format (eg: `part-some-unique-id.json.gz`)\n",
    "  * Run the file format converter using 4 threads. Make sure to review the execution time and compare.\n",
    "  * Validate by using shape on both source and target locations using multiprocessing."
   ]
  },
  {
   "cell_type": "markdown",
   "metadata": {},
   "source": []
  }
 ],
 "metadata": {
  "language_info": {
   "name": "python"
  },
  "orig_nbformat": 4
 },
 "nbformat": 4,
 "nbformat_minor": 2
}
