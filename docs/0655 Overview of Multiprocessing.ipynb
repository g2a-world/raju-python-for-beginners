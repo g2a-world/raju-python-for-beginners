{
 "cells": [
  {
   "attachments": {},
   "cell_type": "markdown",
   "metadata": {},
   "source": [
    "* Overview of Performance Tuning\n",
    "* Multi Processing or Multi Threading Concepts\n",
    "* Getting started with `multiprocessing`\n",
    "* Creating Pool object\n",
    "* Run basic jobs in parallel\n",
    "* Using functions in `multiprocessing`\n",
    "* Invoke custom functions using `multiprocessing`\n",
    "* Real World Example - File Format Conversion\n",
    "* Exercise and Solution"
   ]
  },
  {
   "cell_type": "code",
   "execution_count": null,
   "metadata": {},
   "outputs": [],
   "source": [
    "# Overview of Performance Tuning"
   ]
  },
  {
   "cell_type": "code",
   "execution_count": null,
   "metadata": {},
   "outputs": [],
   "source": [
    "# Multi Processing or Multi Threading Concepts"
   ]
  },
  {
   "cell_type": "code",
   "execution_count": null,
   "metadata": {},
   "outputs": [],
   "source": [
    "# Getting started with `multiprocessing`\n",
    "import multiprocessing as mp"
   ]
  },
  {
   "cell_type": "code",
   "execution_count": null,
   "metadata": {},
   "outputs": [],
   "source": [
    "# Creating Pool object\n",
    "pool = mp.Pool(4)"
   ]
  },
  {
   "cell_type": "code",
   "execution_count": null,
   "metadata": {},
   "outputs": [],
   "source": [
    "# pool.map\n",
    "# pool.imap\n",
    "# pool.apply"
   ]
  },
  {
   "cell_type": "code",
   "execution_count": null,
   "metadata": {},
   "outputs": [],
   "source": [
    "# Run basic jobs in parallel\n",
    "l = [(1, 2), (3, 4), (5, 6), (7, 8), (9, 10)]"
   ]
  },
  {
   "cell_type": "code",
   "execution_count": null,
   "metadata": {},
   "outputs": [],
   "source": [
    "with mp.Pool(4) as pool:\n",
    "    squares = pool.map(sum, l)"
   ]
  },
  {
   "cell_type": "code",
   "execution_count": null,
   "metadata": {},
   "outputs": [],
   "source": [
    "squares"
   ]
  },
  {
   "cell_type": "code",
   "execution_count": null,
   "metadata": {},
   "outputs": [],
   "source": [
    "# Create function for file format conversion"
   ]
  },
  {
   "cell_type": "code",
   "execution_count": null,
   "metadata": {},
   "outputs": [],
   "source": [
    "# Using functions in `multiprocessing`"
   ]
  },
  {
   "cell_type": "code",
   "execution_count": null,
   "metadata": {},
   "outputs": [],
   "source": [
    "# Invoke custom functions using `multiprocessing`"
   ]
  },
  {
   "cell_type": "code",
   "execution_count": null,
   "metadata": {},
   "outputs": [],
   "source": [
    "# Real World Example - File Format Conversion"
   ]
  },
  {
   "attachments": {},
   "cell_type": "markdown",
   "metadata": {},
   "source": [
    "* Exercise: Convert NYSE data from CSV in `data/nyse_all/nyse_data` to JSON format using gzip compression. Make sure to run the file format conversion using `multiprocessing` with 4 threads.\n",
    "  * Source folder: `data/nyse_all/nyse_data`\n",
    "  * Target folder: `data/nyse_all/nyse_json`\n",
    "  * File Format: `gzip` compressed json format.\n",
    "  * Column Names: `['ticker', 'trade_date', 'open_price', 'low_price', 'high_price', 'close_price', 'volume']`\n",
    "  * Make sure file names are generated using `part-uuid.json` format (eg: `part-some-unique-id.json.gz`)\n",
    "  * Run the file format converter using 4 threads. Make sure to review the execution time and compare.\n",
    "  * Validate by using shape on both source and target locations using multiprocessing."
   ]
  },
  {
   "cell_type": "markdown",
   "metadata": {},
   "source": []
  }
 ],
 "metadata": {
  "kernelspec": {
   "display_name": "Python 3.11.2 64-bit",
   "language": "python",
   "name": "python3"
  },
  "language_info": {
   "codemirror_mode": {
    "name": "ipython",
    "version": 3
   },
   "file_extension": ".py",
   "mimetype": "text/x-python",
   "name": "python",
   "nbconvert_exporter": "python",
   "pygments_lexer": "ipython3",
   "version": "3.11.2"
  },
  "orig_nbformat": 4,
  "vscode": {
   "interpreter": {
    "hash": "1a1af0ee75eeea9e2e1ee996c87e7a2b11a0bebd85af04bb136d915cefc0abce"
   }
  }
 },
 "nbformat": 4,
 "nbformat_minor": 2
}
