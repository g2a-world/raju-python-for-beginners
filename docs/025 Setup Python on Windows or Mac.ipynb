{
 "cells": [
  {
   "cell_type": "markdown",
   "metadata": {},
   "source": [
    "Here are the details related to setting up Python on Windows or Mac.\n",
    "* Overview of Setting up Python on Windows or Mac\n",
    "* Download and Install latest Python\n",
    "* Validate latest Python Installation\n",
    "\n",
    "Launch Python CLI using Mac Terminal or Windows Powershell and run the command.\n",
    "```python\n",
    "print('Hello World')\n",
    "# print is function\n",
    "# \"Hello World\" is argument to the function print\n",
    "```"
   ]
  },
  {
   "cell_type": "markdown",
   "metadata": {},
   "source": []
  }
 ],
 "metadata": {
  "kernelspec": {
   "display_name": "Python 3.x",
   "language": "python",
   "name": "python3"
  },
  "language_info": {
   "name": "python",
   "version": "3"
  },
  "orig_nbformat": 4,
  "vscode": {
   "interpreter": {
    "hash": "31f2aee4e71d21fbe5cf8b01ff0e069b9275f58929596ceb00d14d90e3e16cd6"
   }
  }
 },
 "nbformat": 4,
 "nbformat_minor": 2
}
