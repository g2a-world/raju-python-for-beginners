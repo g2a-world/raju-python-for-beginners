{
 "cells": [
  {
   "cell_type": "markdown",
   "metadata": {},
   "source": [
    "* Getting Started with Notebook Environment\n",
    "* Notebook Environment for learners\n",
    "* Differences between IDE and Notebook Environment\n",
    "* Notebooks for coding\n",
    "* Notebooks for documentation\n",
    "* Running other Notebooks\n",
    "* Common Pitfalls\n",
    "* Using Python Custom Modules in Notebooks"
   ]
  }
 ],
 "metadata": {
  "kernelspec": {
   "display_name": "Python 3.x",
   "language": "python",
   "name": "python3"
  },
  "language_info": {
   "name": "python",
   "version": "3"
  },
  "orig_nbformat": 4,
  "vscode": {
   "interpreter": {
    "hash": "31f2aee4e71d21fbe5cf8b01ff0e069b9275f58929596ceb00d14d90e3e16cd6"
   }
  }
 },
 "nbformat": 4,
 "nbformat_minor": 2
}
