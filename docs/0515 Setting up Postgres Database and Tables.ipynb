{
 "cells": [
  {
   "attachments": {},
   "cell_type": "markdown",
   "metadata": {},
   "source": [
    "* Install latest version of Postgres Database Server\n",
    "* Quick Review of pgAdmin\n",
    "* Managing Postgres Database Server using Task Manager on Windows\n",
    "* Connect to postgres Database using pgAdmin\n",
    "* Setup new Database and User\n",
    "* Setup required tables (sales)\n",
    "\n",
    "Commands used\n",
    "```sql\n",
    "-- As postgres user run below commands\n",
    "CREATE USER itversity_retail_user WITH ENCRYPTED PASSWORD 'itversity';\n",
    "CREATE DATABASE itversity_retail_db OWNER itversity_retail_user;\n",
    "\n",
    "-- Delete server from pgAdmin with postgres credentials\n",
    "-- Register new server on pgAdmin using itversity_retail_db and itversity_retail_user\n",
    "CREATE TABLE sales (\n",
    "\tsale_id INT PRIMARY KEY, -- Unique as well as not null\n",
    "\tsale_rep_id INT,\n",
    "\tsale_amount FLOAT,\n",
    "\tcommission_pct INT\n",
    ");\n",
    "```"
   ]
  },
  {
   "cell_type": "markdown",
   "metadata": {},
   "source": []
  }
 ],
 "metadata": {
  "kernelspec": {
   "display_name": "Python 3.x",
   "language": "python",
   "name": "python3"
  },
  "language_info": {
   "name": "python",
   "version": "3"
  },
  "orig_nbformat": 4,
  "vscode": {
   "interpreter": {
    "hash": "31f2aee4e71d21fbe5cf8b01ff0e069b9275f58929596ceb00d14d90e3e16cd6"
   }
  }
 },
 "nbformat": 4,
 "nbformat_minor": 2
}
