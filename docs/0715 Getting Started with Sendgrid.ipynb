{
 "cells": [
  {
   "attachments": {},
   "cell_type": "markdown",
   "metadata": {},
   "source": [
    "* Overview of sending emails using Python\n",
    "* Different Platforms to send emails\n",
    "* Signing up for Sendgrid\n",
    "* Generate API Key for Sendgrid\n",
    "* Sending email using smtplib\n",
    "* Sending email using sendgrid library\n",
    "* Exercise and Solution"
   ]
  },
  {
   "cell_type": "markdown",
   "metadata": {},
   "source": []
  }
 ],
 "metadata": {
  "language_info": {
   "name": "python"
  },
  "orig_nbformat": 4
 },
 "nbformat": 4,
 "nbformat_minor": 2
}
