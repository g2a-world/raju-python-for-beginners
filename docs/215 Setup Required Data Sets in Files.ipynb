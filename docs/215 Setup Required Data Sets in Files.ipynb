{
 "cells": [
  {
   "cell_type": "markdown",
   "metadata": {},
   "source": [
    "* Clone GitHub Repository for Data Sets\n",
    "* Review the different data sets provided\n",
    "* Setup new data sets using CSV files\n",
    "\n",
    "```\n",
    "sale_id,sale_rep_id,sale_amount,commission_pct\n",
    "1,101,500.00,5\n",
    "2,102,250.00,3\n",
    "3,103,1000.00,8\n",
    "4,104,750.00,\n",
    "5,101,300.00,-1\n",
    "6,106,400.00,3\n",
    "7,104,200.00,0\n",
    "8,103,150.00,1\n",
    "9,104,600.00,4\n",
    "10,101,800.00,6\n",
    "```"
   ]
  },
  {
   "cell_type": "markdown",
   "metadata": {},
   "source": []
  }
 ],
 "metadata": {
  "kernelspec": {
   "display_name": "Python 3.x",
   "language": "python",
   "name": "python3"
  },
  "language_info": {
   "name": "python",
   "version": "3"
  },
  "orig_nbformat": 4,
  "vscode": {
   "interpreter": {
    "hash": "31f2aee4e71d21fbe5cf8b01ff0e069b9275f58929596ceb00d14d90e3e16cd6"
   }
  }
 },
 "nbformat": 4,
 "nbformat_minor": 2
}
