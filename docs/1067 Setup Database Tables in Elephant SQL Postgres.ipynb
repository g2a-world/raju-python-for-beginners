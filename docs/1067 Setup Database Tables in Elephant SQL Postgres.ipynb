{
 "cells": [
  {
   "attachments": {},
   "cell_type": "markdown",
   "metadata": {},
   "source": [
    "Here are the steps to setup database tables in elephant sql which is setup using Postgres.\n",
    "* Launch flask shell and run this code.\n",
    "* You can also add this code to the pgintegration branch of your GitHub repository.\n",
    "\n",
    "```python\n",
    "# Launch flask shell and run these commands\n",
    "db.drop_all()\n",
    "db.create_all()\n",
    "\n",
    "users = [\n",
    "    {'first_name': 'Scott', 'last_name': 'Tiger', 'username': 'stiger', 'email': 'stiger@email.com'},\n",
    "    {'first_name': 'Mickey', 'last_name': 'Mouse', 'username': 'mmouse', 'email': 'mmouse@email.com'},\n",
    "    {'first_name': 'Charlie', 'last_name': 'Chaplin', 'username': 'cchaplin', 'email': 'cchaplin@email.com'}\n",
    "]\n",
    "\n",
    "for user in users:\n",
    "    user_rec = User(**user)\n",
    "    db.session.add(user_rec)\n",
    "\n",
    "db.session.commit()\n",
    "\n",
    "\n",
    "courses = [\n",
    "    {'course_name': 'Mastering Python', 'course_author': 'Scott Tiger', 'course_endpoint': 'mastering-python'},\n",
    "    {'course_name': 'Python App Development', 'course_author': 'Donald Duck', 'course_endpoint': 'python-app-development'},\n",
    "    {'course_name': 'DevOps Bootcamp', 'course_author': 'Mickey Mouse', 'course_endpoint': 'devops-bootcamp'}\n",
    "]\n",
    "\n",
    "for item in courses:\n",
    "    course = Course(**item)\n",
    "    db.session.add(course)\n",
    "\n",
    "db.session.commit()\n",
    "```\n",
    "\n",
    "Make sure to visit all the 3 end points and confirm if the application is running as per the expectations or not."
   ]
  }
 ],
 "metadata": {
  "language_info": {
   "name": "python"
  },
  "orig_nbformat": 4
 },
 "nbformat": 4,
 "nbformat_minor": 2
}
