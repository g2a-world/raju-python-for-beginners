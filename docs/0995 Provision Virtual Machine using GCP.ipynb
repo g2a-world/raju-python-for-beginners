{
 "cells": [
  {
   "attachments": {},
   "cell_type": "markdown",
   "metadata": {},
   "source": [
    "* Overview of Cloud Platforms\n",
    "* Signing up for GCP\n",
    "* Overview of GCP Virtual Machines\n",
    "* Create a Virtual Machine using GCP\n",
    "* Overview of Cloud Shell\n",
    "* Install OS Packages on Virtual Machines\n",
    "* Validate Python Version\n",
    "* Install Python latest version on Virtual Machine\n",
    "* Different States of Virtual Machines\n",
    "* Deleting the Virtual Machine"
   ]
  }
 ],
 "metadata": {
  "language_info": {
   "name": "python"
  },
  "orig_nbformat": 4
 },
 "nbformat": 4,
 "nbformat_minor": 2
}
