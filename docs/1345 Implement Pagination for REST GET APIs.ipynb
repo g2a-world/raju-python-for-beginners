{
 "cells": [
  {
   "cell_type": "markdown",
   "metadata": {},
   "source": [
    "* Overview of Pagination\n",
    "* Additional Parameters and Attributes for Pagination\n",
    "* Add Pagination to users API\n",
    "* Validate users API with Pagination\n",
    "* Process all the users data using Pagination\n",
    "* Exercise and Solution - Pagination for orders"
   ]
  },
  {
   "cell_type": "code",
   "execution_count": null,
   "metadata": {},
   "outputs": [],
   "source": [
    "# Before getting started make sure to reset the database tables\n",
    "# Login to flask shell and run db.drop_all() and db.create_all()\n",
    "\n",
    "# Generate Fake Data for users\n",
    "from faker import Faker\n",
    "faker = Faker()\n",
    "users = []\n",
    "usernames = set()\n",
    "ctr = 0\n",
    "\n",
    "while True:\n",
    "    if ctr == 10000:\n",
    "        break\n",
    "    first_name = faker.first_name()\n",
    "    last_name = faker.last_name()\n",
    "    username = f'{first_name[:1]}{last_name}'.lower()\n",
    "    email = f'{username}@email.com'\n",
    "    if username not in usernames:\n",
    "        usernames.add(username)\n",
    "        user = {\n",
    "            'id': '',\n",
    "            'first_name': first_name,\n",
    "            'last_name': last_name,\n",
    "            'username': username,\n",
    "            'email': email\n",
    "        }\n",
    "        users.append(user)\n",
    "        ctr = ctr + 1\n",
    "\n",
    "len(users)"
   ]
  },
  {
   "cell_type": "code",
   "execution_count": null,
   "metadata": {},
   "outputs": [],
   "source": [
    "import requests\n",
    "import json"
   ]
  },
  {
   "cell_type": "code",
   "execution_count": null,
   "metadata": {},
   "outputs": [],
   "source": [
    "base_url = input('Enter base url: ')"
   ]
  },
  {
   "cell_type": "code",
   "execution_count": null,
   "metadata": {},
   "outputs": [],
   "source": [
    "batch_size = int(input('Enter batch size: '))"
   ]
  },
  {
   "cell_type": "code",
   "execution_count": null,
   "metadata": {},
   "outputs": [],
   "source": [
    "for i in range(0, len(users), batch_size):\n",
    "    users_chunk = users[i:i+batch_size]\n",
    "    response = requests.post(\n",
    "        f'{base_url}/users', \n",
    "        data={'users': json.dumps(users_chunk)}\n",
    "    )\n",
    "    print(response.status_code)"
   ]
  },
  {
   "cell_type": "markdown",
   "metadata": {},
   "source": [
    "* Overview of Pagination\n",
    "\n",
    "We need to paginate the results, if the API is expected to return bulk data.\n",
    "1. If we do not paginate, the request might run into resource contention as the resultset size grow big.\n",
    "2. Pagination will result in multiple API calls. Each call will return the number of records based on the page size."
   ]
  },
  {
   "cell_type": "markdown",
   "metadata": {},
   "source": [
    "* Additional Parameters and Attributes for Pagination\n",
    "\n",
    "While implementing pagination, we consider additional parameters and attributes as part of the results.\n",
    "\n",
    "1. `pageSize` - the maximum number of records each page should contain. It is both an attribute and parameter. Based on the parameter value, the maximum number of records should be returned.\n",
    "2. `pageToken` - the token based on which next set of records should be fetched. It is typically the last value of primary key or unique key value in each API call.\n",
    "\n",
    "Note: If `pageToken` is not passed, then we will fetch the first set of results based on `pageSize`. The result will contain `pageToken` only if we have the number of records equivalent to `pageSize`."
   ]
  },
  {
   "cell_type": "markdown",
   "metadata": {},
   "source": [
    "* Add Pagination to users API\n",
    "\n",
    "Update `users()` for GET API with following pagination logic.\n",
    "\n",
    "```python\n",
    "@app.route('/users')\n",
    "def users():\n",
    "    \"\"\"\n",
    "    Retrieve users\n",
    "    ---\n",
    "    parameters:\n",
    "      - name: email\n",
    "        in: query\n",
    "        type: string\n",
    "        required: false\n",
    "      - name: pageSize\n",
    "        in: query\n",
    "        type: integer\n",
    "        required: false\n",
    "      - name: pageToken\n",
    "        in: query\n",
    "        type: integer\n",
    "        required: false\n",
    "    responses:\n",
    "      200:\n",
    "        description: Users retrieved successfully\n",
    "    \"\"\"\n",
    "    page_token = request.args.get('pageToken')\n",
    "    search_email = request.args.get('email', '')\n",
    "    page_size = int(request.args.get('pageSize')) \\\n",
    "        if request.args.get('pageSize') and int(request.args.get('pageSize')) <= 0 \\\n",
    "        else 25\n",
    "\n",
    "    if search_email:\n",
    "        # Query the database and filter users based on the pattern match\n",
    "        if page_token:\n",
    "            user_recs = db.session.query(User).filter(User.email.like(f'{search_email.lower()}%')).filter(User.id > page_token).order_by(User.id).limit(page_size).all()\n",
    "        else:\n",
    "            user_recs = db.session.query(User).filter(User.email.like(f'{search_email.lower()}%')).order_by(User.id).limit(page_size).all()\n",
    "    else:\n",
    "        # Retrieve all users if no search query is provided\n",
    "        if page_token:\n",
    "            user_recs = db.session.query(User).filter(User.id > page_token).order_by(User.id).limit(page_size).all()\n",
    "        else: \n",
    "            user_recs = db.session.query(User).order_by(User.id).limit(page_size).all()\n",
    "\n",
    "    # below code throws error as the SQL Alchemy get response includes attributes\n",
    "    # such as _sa_instance_state. \n",
    "    # The values of these attributes are not JSON Serializable\n",
    "    # users = list(map(lambda rec: rec.__dict__, user_recs))\n",
    "    users = []\n",
    "    for user in user_recs:\n",
    "        user.__dict__.pop('_sa_instance_state')\n",
    "        users.append(user.__dict__)\n",
    "\n",
    "    payload = {\n",
    "        'records': users,\n",
    "        'pageToken': users[-1]['id'] if len(users) == page_size else None,\n",
    "        'recordCount': len(users)\n",
    "    }\n",
    "    return jsonify(payload)\n",
    "```"
   ]
  },
  {
   "cell_type": "markdown",
   "metadata": {},
   "source": [
    "* Validate users API with Pagination\n",
    "\n",
    "1. Go to `/apidocs`\n",
    "2. Test multiple scenarios (`/users` with out page size, with page size, with page size and token, etc)\n",
    "\n",
    "You can also use `requests` to validate."
   ]
  },
  {
   "cell_type": "code",
   "execution_count": null,
   "metadata": {},
   "outputs": [],
   "source": [
    "import requests"
   ]
  },
  {
   "cell_type": "code",
   "execution_count": null,
   "metadata": {},
   "outputs": [],
   "source": [
    "base_url = input('Enter base url: ')"
   ]
  },
  {
   "cell_type": "code",
   "execution_count": null,
   "metadata": {},
   "outputs": [],
   "source": [
    "requests.get(f'{base_url}/users').json()"
   ]
  },
  {
   "cell_type": "code",
   "execution_count": null,
   "metadata": {},
   "outputs": [],
   "source": [
    "requests.get(f'{base_url}/users?pageSize=100').json()"
   ]
  },
  {
   "cell_type": "code",
   "execution_count": null,
   "metadata": {},
   "outputs": [],
   "source": [
    "requests.get(f'{base_url}/users?pageToken=100&pageSize=100').json()"
   ]
  },
  {
   "cell_type": "code",
   "execution_count": null,
   "metadata": {},
   "outputs": [],
   "source": [
    "requests.get(f'{base_url}/users?pageSize=101').json()"
   ]
  },
  {
   "cell_type": "markdown",
   "metadata": {},
   "source": [
    "* Process all the users data using Pagination"
   ]
  },
  {
   "cell_type": "code",
   "execution_count": null,
   "metadata": {},
   "outputs": [],
   "source": [
    "import requests"
   ]
  },
  {
   "cell_type": "code",
   "execution_count": null,
   "metadata": {},
   "outputs": [],
   "source": [
    "base_url = input('Enter base url: ')"
   ]
  },
  {
   "cell_type": "code",
   "execution_count": null,
   "metadata": {},
   "outputs": [],
   "source": [
    "users = []\n",
    "pageToken = 0\n",
    "pageSize = 100\n",
    "while True:\n",
    "    payload = requests.get(f'{base_url}/users?pageSize={pageSize}&pageToken={pageToken}').json()\n",
    "    users.extend(payload['records'])\n",
    "    if payload['recordCount'] < pageSize:\n",
    "        break\n",
    "    pageToken += pageSize"
   ]
  },
  {
   "cell_type": "code",
   "execution_count": null,
   "metadata": {},
   "outputs": [],
   "source": [
    "users[0]"
   ]
  },
  {
   "cell_type": "code",
   "execution_count": null,
   "metadata": {},
   "outputs": [],
   "source": [
    "len(users)"
   ]
  },
  {
   "cell_type": "markdown",
   "metadata": {},
   "source": [
    "* Exercise and Solution - Pagination for orders\n",
    "\n",
    "1. Update `/orders` logic with pagination. Make sure it accept both `pageSize` and `pageToken` as parameters. The default `pageSize` should be 100 and the maximum `pageSize` can go up to 1000. In case, if the `pageSize` is greater than 1000, then it should return only 1000 records, otherwise the API should return the number of records equivalent to specified page size.\n",
    "2. Validate if pagination logic is working as expected or not. Here are some of the test case scenarios.\n",
    "  * Invoke `/orders` without token or size. It should return 100 records.\n",
    "  * Invoke `/orders` with page size 500 and token 500. It should return 500 records starting from order id 501.\n",
    "  * Invoke `/orders` with page size 1001 and token 500. It should return 1000 records starting from 501.\n",
    "3. Come up with required logic to process all the orders. Start with page token 0 and page size 1000."
   ]
  }
 ],
 "metadata": {
  "kernelspec": {
   "display_name": "Python 3",
   "language": "python",
   "name": "python3"
  },
  "language_info": {
   "codemirror_mode": {
    "name": "ipython",
    "version": 3
   },
   "file_extension": ".py",
   "mimetype": "text/x-python",
   "name": "python",
   "nbconvert_exporter": "python",
   "pygments_lexer": "ipython3",
   "version": "3.11.2"
  },
  "orig_nbformat": 4
 },
 "nbformat": 4,
 "nbformat_minor": 2
}
