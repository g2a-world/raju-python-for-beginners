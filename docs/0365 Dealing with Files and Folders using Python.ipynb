{
 "cells": [
  {
   "cell_type": "markdown",
   "metadata": {},
   "source": [
    "* Manage folders\n",
    "```python\n",
    "help(os.mkdir)\n",
    "help(os.makedirs)\n",
    "```\n",
    "* Validating paths\n",
    "```python\n",
    "help(os.path.isdir)\n",
    "os.path.isdir('data/retail_db')\n",
    "os.path.isdir('data/README.md')\n",
    "\n",
    "help(os.path.isfile)\n",
    "os.path.isfile('data/retail_db')\n",
    "os.path.isfile('data/README.md')\n",
    "\n",
    "help(os.path.split)\n",
    "os.path.split('data/retail_db/orders/part-00000')\n",
    "\n",
    "help(os.path.splitext)\n",
    "os.path.splitext('data/nyse_all/nyse_data/NYSE_1997.txt.gz')\n",
    "```\n",
    "* Walk through folder recursively\n",
    "```python\n",
    "import os\n",
    "\n",
    "os.walk('data') #walks through recursively\n",
    "\n",
    "for i in os.walk('data/retail_db'):\n",
    "    print(i) # tuple with path, [folders] and [files]\n",
    "```"
   ]
  },
  {
   "cell_type": "markdown",
   "metadata": {},
   "source": []
  }
 ],
 "metadata": {
  "kernelspec": {
   "display_name": "Python 3.x",
   "language": "python",
   "name": "python3"
  },
  "language_info": {
   "name": "python",
   "version": "3"
  },
  "orig_nbformat": 4,
  "vscode": {
   "interpreter": {
    "hash": "31f2aee4e71d21fbe5cf8b01ff0e069b9275f58929596ceb00d14d90e3e16cd6"
   }
  }
 },
 "nbformat": 4,
 "nbformat_minor": 2
}
