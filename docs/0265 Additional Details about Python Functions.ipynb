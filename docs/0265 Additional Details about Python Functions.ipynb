{
 "cells": [
  {
   "attachments": {},
   "cell_type": "markdown",
   "metadata": {},
   "source": [
    "* Positional Arguments\n",
    "* Keyword or Named Arguments\n",
    "* Default Values for Arguments\n",
    "* Arbitrary or Variable Arguments\n",
    "* Arbitrary or Variable Keyword Arguments\n",
    "* Returning multiple values\n",
    "* `args` and `kwargs`\n",
    "* Converting to Arbitrary Arguments\n",
    "* Invoke `format` with Arbitrary Arguments\n",
    "* Exercises with Solutions"
   ]
  },
  {
   "cell_type": "code",
   "execution_count": null,
   "metadata": {},
   "outputs": [],
   "source": [
    "# Functions\n",
    "\n",
    "def sum_n(n):\n",
    "    return (n * (n + 1)) / 2"
   ]
  },
  {
   "cell_type": "code",
   "execution_count": null,
   "metadata": {},
   "outputs": [],
   "source": [
    "def sum_range(lb, ub):\n",
    "    return sum_n(ub) - sum_n(lb - 1)"
   ]
  },
  {
   "cell_type": "code",
   "execution_count": null,
   "metadata": {},
   "outputs": [],
   "source": [
    "# Positional Arguments\n",
    "\n",
    "sum_range(4, 10)"
   ]
  },
  {
   "cell_type": "code",
   "execution_count": null,
   "metadata": {},
   "outputs": [],
   "source": [
    "# Keyword or Named Arguments\n",
    "sum_range(lb=4, ub=10)"
   ]
  },
  {
   "cell_type": "code",
   "execution_count": null,
   "metadata": {},
   "outputs": [],
   "source": [
    "sum_range(ub=10, lb=4)"
   ]
  },
  {
   "cell_type": "code",
   "execution_count": null,
   "metadata": {},
   "outputs": [],
   "source": [
    "# Default Values for Arguments\n",
    "# Define Function\n",
    "\n",
    "def sum_n(n=10):\n",
    "    return (n * (n + 1)) / 2"
   ]
  },
  {
   "cell_type": "code",
   "execution_count": null,
   "metadata": {},
   "outputs": [],
   "source": [
    "sum_n()"
   ]
  },
  {
   "cell_type": "code",
   "execution_count": null,
   "metadata": {},
   "outputs": [],
   "source": [
    "def sum_range(lb=1, ub=10):\n",
    "    return sum_n(ub) - sum_n(lb - 1)"
   ]
  },
  {
   "cell_type": "code",
   "execution_count": null,
   "metadata": {},
   "outputs": [],
   "source": [
    "sum_range()"
   ]
  },
  {
   "cell_type": "code",
   "execution_count": null,
   "metadata": {},
   "outputs": [],
   "source": [
    "# Arbitrary or Variable Arguments\n",
    "\n",
    "def compute_total(*scores):\n",
    "    return sum(scores)"
   ]
  },
  {
   "cell_type": "code",
   "execution_count": null,
   "metadata": {},
   "outputs": [],
   "source": [
    "math = 90\n",
    "cs = 80\n",
    "english = 70\n",
    "compute_total(math, cs, english)"
   ]
  },
  {
   "cell_type": "code",
   "execution_count": null,
   "metadata": {},
   "outputs": [],
   "source": [
    "def compute_total(*scores):\n",
    "    total = 0\n",
    "    for score in scores:\n",
    "        if score < 0 or score > 100:\n",
    "            raise ValueError(f'{score} is invalid (should be between 0 and 100)')\n",
    "        total += score\n",
    "    return total"
   ]
  },
  {
   "cell_type": "code",
   "execution_count": null,
   "metadata": {},
   "outputs": [],
   "source": [
    "math = 90\n",
    "cs = 80\n",
    "english = 70\n",
    "compute_total(math, cs, english)"
   ]
  },
  {
   "cell_type": "code",
   "execution_count": null,
   "metadata": {},
   "outputs": [],
   "source": [
    "math = 90\n",
    "cs = 80\n",
    "english = 101\n",
    "compute_total(math, cs, english)"
   ]
  },
  {
   "cell_type": "code",
   "execution_count": null,
   "metadata": {},
   "outputs": [],
   "source": [
    "# Arbitrary or Variable Keyword Arguments\n",
    "def compute_total(**scores):\n",
    "    return sum(scores.values())"
   ]
  },
  {
   "cell_type": "code",
   "execution_count": null,
   "metadata": {},
   "outputs": [],
   "source": [
    "compute_total(math=90, cs=70, english=90)"
   ]
  },
  {
   "cell_type": "code",
   "execution_count": null,
   "metadata": {},
   "outputs": [],
   "source": [
    "def compute_total(**scores):\n",
    "    total = 0\n",
    "    print(scores)\n",
    "    for subject, score in scores.items():\n",
    "        if score < 0 or score > 100:\n",
    "            raise ValueError(f'{score} is invalid for subject {subject} (should be between 0 and 100)')\n",
    "        total += score\n",
    "    return total"
   ]
  },
  {
   "cell_type": "code",
   "execution_count": null,
   "metadata": {},
   "outputs": [],
   "source": [
    "compute_total(math=90, cs=70, english=90)"
   ]
  },
  {
   "cell_type": "code",
   "execution_count": null,
   "metadata": {},
   "outputs": [],
   "source": [
    "compute_total(math=90, cs=70, english=101)"
   ]
  },
  {
   "cell_type": "code",
   "execution_count": null,
   "metadata": {},
   "outputs": [],
   "source": [
    "# Returning multiple values\n",
    "\n",
    "def gen_revenue(*sales):\n",
    "    return sum(sales), sum(sales)/len(sales)"
   ]
  },
  {
   "cell_type": "code",
   "execution_count": null,
   "metadata": {},
   "outputs": [],
   "source": [
    "total, avg = gen_revenue(1250.0, 1800.50, 989.75)"
   ]
  },
  {
   "cell_type": "code",
   "execution_count": null,
   "metadata": {},
   "outputs": [],
   "source": [
    "total"
   ]
  },
  {
   "cell_type": "code",
   "execution_count": null,
   "metadata": {},
   "outputs": [],
   "source": [
    "avg"
   ]
  },
  {
   "attachments": {},
   "cell_type": "markdown",
   "metadata": {},
   "source": [
    "* `args` and `kwargs`\n",
    "  * `args` is standard name for arbitrary arguments - eg: `get_revenue(*args)`\n",
    "  * `kwargs` is standard name for arbitrary keyword arguments - eg: `get_revenue(**kwargs)`"
   ]
  },
  {
   "cell_type": "code",
   "execution_count": null,
   "metadata": {},
   "outputs": [],
   "source": [
    "# Converting to Arbitrary Arguments\n",
    "# Lists or Sets or Tuples to Arbitrary Arguments\n",
    "\n",
    "def gen_revenue(*sales):\n",
    "    return sum(sales)"
   ]
  },
  {
   "cell_type": "code",
   "execution_count": null,
   "metadata": {},
   "outputs": [],
   "source": [
    "sales = [1250.0, 1800.50, 989.75]"
   ]
  },
  {
   "cell_type": "code",
   "execution_count": null,
   "metadata": {},
   "outputs": [],
   "source": [
    "gen_revenue(*sales)"
   ]
  },
  {
   "cell_type": "code",
   "execution_count": null,
   "metadata": {},
   "outputs": [],
   "source": [
    "sales = (1250.0, 1800.50, 989.75)\n",
    "gen_revenue(*sales)"
   ]
  },
  {
   "cell_type": "code",
   "execution_count": null,
   "metadata": {},
   "outputs": [],
   "source": [
    "sales = {1250.0, 1800.50, 989.75}\n",
    "gen_revenue(*sales)"
   ]
  },
  {
   "cell_type": "code",
   "execution_count": null,
   "metadata": {},
   "outputs": [],
   "source": [
    "# Converting to Arbitrary Arguments\n",
    "# Dicts to Arbitrary Keyword Arguments\n",
    "def compute_total(**scores):\n",
    "    return sum(scores.values())"
   ]
  },
  {
   "cell_type": "code",
   "execution_count": null,
   "metadata": {},
   "outputs": [],
   "source": [
    "scores = {\n",
    "    'math': 90,\n",
    "    'cs': 80,\n",
    "    'english': 70\n",
    "}"
   ]
  },
  {
   "cell_type": "code",
   "execution_count": null,
   "metadata": {},
   "outputs": [],
   "source": [
    "compute_total(**scores)"
   ]
  },
  {
   "cell_type": "code",
   "execution_count": null,
   "metadata": {},
   "outputs": [],
   "source": [
    "# Invoke `format` with Arbitrary Arguments\n",
    "student_details = {\n",
    "    'student_id': 1,\n",
    "    'total_score': 800,\n",
    "    'status': 'Graduated',\n",
    "    'address': 'NA'\n",
    "}"
   ]
  },
  {
   "cell_type": "code",
   "execution_count": null,
   "metadata": {},
   "outputs": [],
   "source": [
    "student_message = 'Student {student_id} with {total_score} is {status}'"
   ]
  },
  {
   "cell_type": "code",
   "execution_count": null,
   "metadata": {},
   "outputs": [],
   "source": [
    "student_message.format(**student_details)"
   ]
  },
  {
   "attachments": {},
   "cell_type": "markdown",
   "metadata": {},
   "source": [
    "* Exercises"
   ]
  },
  {
   "attachments": {},
   "cell_type": "markdown",
   "metadata": {},
   "source": [
    "1. Write a Python function named `sum_sales` that accepts an arbitrary number of arguments and returns the sum of all of the sales. If no arguments are provided, the function should return 0. If `None` or negative values are passed, they should be ignored.\n",
    "\n",
    "Validation and Sample Output\n",
    "```python\n",
    "# Sample inputs\n",
    "print(sum_sales())\n",
    "print(sum_sales(10, -20, None, 30))\n",
    "\n",
    "# Sample outputs\n",
    "0\n",
    "40\n",
    "```"
   ]
  },
  {
   "attachments": {},
   "cell_type": "markdown",
   "metadata": {},
   "source": [
    "2. Write a Python function named `filter_words` that accepts an arbitrary number of string arguments and returns a list of the arguments that contain the word \"python\". The function should ignore case (i.e. \"Python\" and \"python\" should both be considered a match).\n",
    "\n",
    "Validation and Sample Output\n",
    "```python\n",
    "# Sample inputs\n",
    "print(filter_words(\"Python is awesome!\", \"I love Java\", \"I'm learning Python\"))\n",
    "\n",
    "# Sample output\n",
    "[\"Python is awesome!\", \"I'm learning Python\"]\n",
    "```"
   ]
  }
 ],
 "metadata": {
  "kernelspec": {
   "display_name": "Python 3.11.2 64-bit",
   "language": "python",
   "name": "python3"
  },
  "language_info": {
   "codemirror_mode": {
    "name": "ipython",
    "version": 3
   },
   "file_extension": ".py",
   "mimetype": "text/x-python",
   "name": "python",
   "nbconvert_exporter": "python",
   "pygments_lexer": "ipython3",
   "version": "3.11.2"
  },
  "orig_nbformat": 4,
  "vscode": {
   "interpreter": {
    "hash": "1a1af0ee75eeea9e2e1ee996c87e7a2b11a0bebd85af04bb136d915cefc0abce"
   }
  }
 },
 "nbformat": 4,
 "nbformat_minor": 2
}
