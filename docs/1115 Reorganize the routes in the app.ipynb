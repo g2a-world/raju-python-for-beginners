{
 "cells": [
  {
   "attachments": {},
   "cell_type": "markdown",
   "metadata": {},
   "source": [
    "* Overview of Modularizing Flask Code\n",
    "* Cleaning up Stale branches\n",
    "* Checkout new branch\n",
    "* Modularize Flask Routes for Users\n",
    "* Validate Modularized Flask App Locally\n",
    "* Merge Changes to Remote branch\n",
    "* Validate on Remote VM\n",
    "* Exercise and Solution - Modularize Flask Routes for Courses"
   ]
  },
  {
   "attachments": {},
   "cell_type": "markdown",
   "metadata": {},
   "source": [
    "* Overview of Modularizing Flask Code\n",
    "\n",
    "Instead of having all the route logic in `app.py`, we should modularize into separate Python program files."
   ]
  },
  {
   "attachments": {},
   "cell_type": "markdown",
   "metadata": {},
   "source": [
    "* Cleaning up Stale branches\n",
    "\n",
    "1. Go to GitHub repository and delete the branches.\n",
    "2. Checkout Main Branch locally.\n",
    "3. Delete the stale branches in local repository.\n",
    "4. Prune the deleted branches from local repository using `git remote prune origin`."
   ]
  },
  {
   "attachments": {},
   "cell_type": "markdown",
   "metadata": {},
   "source": [
    "* Checkout new branch\n",
    "\n",
    "Create new branch to modularize existing routes - `git checkout -b modularize-routes`"
   ]
  },
  {
   "attachments": {},
   "cell_type": "markdown",
   "metadata": {},
   "source": [
    "* Modularize Flask Routes for Users\n",
    "\n",
    "1. Create routes folder.\n",
    "2. Add `users.py` under routes folder.\n",
    "3. Move `users` function for `\\users` endpoint to `users.py`.\n",
    "4. Make sure to add required imports.\n",
    "5. Clean up `app.py`.\n",
    "6. Import `users` from routes in `app.py`."
   ]
  },
  {
   "attachments": {},
   "cell_type": "markdown",
   "metadata": {},
   "source": [
    "* Validate Modularized Flask App Locally\n",
    "\n",
    "1. Make sure kill any active local `flask run` session.\n",
    "2. Run application using `python -m flask run -p 5001`.\n",
    "3. Validate by accessing `/users` endpoint using browser."
   ]
  },
  {
   "attachments": {},
   "cell_type": "markdown",
   "metadata": {},
   "source": [
    "* Merge Changes to Main branch\n",
    "\n",
    "1. Add, Commit and Push the local branch to remote repository.\n",
    "2. Place PR and make sure to merge changes to main branch\n",
    "3. Check whether GitHub Action is run or not."
   ]
  },
  {
   "attachments": {},
   "cell_type": "markdown",
   "metadata": {},
   "source": [
    "* Validate on Remote VM\n",
    "\n",
    "1. Check the source code on remote vm.\n",
    "2. Validate whether application is restarted or not using `sudo supervisorctl status`.\n",
    "3. Go to browser and validate to see whether `/users` endpoint is working or not."
   ]
  },
  {
   "attachments": {},
   "cell_type": "markdown",
   "metadata": {},
   "source": [
    "* Exercise - Modularize Flask Routes for Courses\n",
    "\n",
    "Create a new branch and make required changes.\n",
    "1. Move logic to serve `/courses` endpoint to `courses.py` under `routes` folder.\n",
    "2. Import the courses routes as part of `app.py`.\n",
    "3. Clean up unnecessary imports from `app.py`.\n",
    "4. Merge changes to main branch and validate to see if the application is running as expected or not."
   ]
  },
  {
   "attachments": {},
   "cell_type": "markdown",
   "metadata": {},
   "source": [
    "* Solution - Modularize Flask Routes for Courses\n",
    "\n",
    "Create a new branch and make required changes.\n",
    "1. Move logic to serve `/courses` endpoint to `courses.py` under `routes` folder.\n",
    "2. Import the courses routes as part of `app.py`.\n",
    "3. Clean up unnecessary imports from `app.py`.\n",
    "4. Merge changes to main branch and validate to see if the application is running as expected or not."
   ]
  }
 ],
 "metadata": {
  "language_info": {
   "name": "python"
  },
  "orig_nbformat": 4
 },
 "nbformat": 4,
 "nbformat_minor": 2
}
