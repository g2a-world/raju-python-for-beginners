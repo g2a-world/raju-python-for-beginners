{
 "cells": [
  {
   "cell_type": "markdown",
   "metadata": {},
   "source": [
    "* Review list of delimited strings\n",
    "* Convert list of strings to list of tuples\n",
    "* Convert list of strings to list of dicts\n",
    "* Overview of `csv`\n",
    "* Process using `csv.reader`\n",
    "* Process using `csv.DictReader`\n",
    "* Overview of csv writer functions\n",
    "* Exercise and Solution"
   ]
  },
  {
   "cell_type": "code",
   "execution_count": null,
   "metadata": {},
   "outputs": [],
   "source": [
    "sales = [\n",
    "    '1,101,500.00,5',\n",
    "    '2,102,250.00,3',\n",
    "    '3,103,1000.00,8',\n",
    "    '4,104,750.00,',\n",
    "    '5,101,300.00,-1',\n",
    "    '6,106,400.00,3',\n",
    "    '7,104,200.00,0',\n",
    "    '8,103,150.00,1',\n",
    "    '9,104,600.00,4',\n",
    "    '10,101,800.00,6'\n",
    "]"
   ]
  },
  {
   "cell_type": "code",
   "execution_count": null,
   "metadata": {},
   "outputs": [],
   "source": [
    "type(sales)"
   ]
  },
  {
   "cell_type": "code",
   "execution_count": null,
   "metadata": {},
   "outputs": [],
   "source": [
    "sale = sales[0]"
   ]
  },
  {
   "cell_type": "code",
   "execution_count": null,
   "metadata": {},
   "outputs": [],
   "source": [
    "type(sale)"
   ]
  },
  {
   "cell_type": "code",
   "execution_count": null,
   "metadata": {},
   "outputs": [],
   "source": [
    "sale.split(',')"
   ]
  },
  {
   "cell_type": "code",
   "execution_count": null,
   "metadata": {},
   "outputs": [],
   "source": [
    "type(sale.split(',')[0])"
   ]
  },
  {
   "cell_type": "code",
   "execution_count": null,
   "metadata": {},
   "outputs": [],
   "source": [
    "int(sale.split(',')[0])"
   ]
  },
  {
   "cell_type": "code",
   "execution_count": null,
   "metadata": {},
   "outputs": [],
   "source": [
    "# Convert list of strings to list of tuples\n",
    "sales_tuples = []"
   ]
  },
  {
   "cell_type": "code",
   "execution_count": null,
   "metadata": {},
   "outputs": [],
   "source": [
    "for sale in sales:\n",
    "    s = sale.split(',')\n",
    "    sales_tuples.append((int(s[0]), int(s[1]), float(s[2]), int(s[3]) if s[3] != '' else None))"
   ]
  },
  {
   "cell_type": "code",
   "execution_count": null,
   "metadata": {},
   "outputs": [],
   "source": [
    "sales_tuples"
   ]
  },
  {
   "cell_type": "code",
   "execution_count": null,
   "metadata": {},
   "outputs": [],
   "source": [
    "sum(sale[2] for sale in sales_tuples)"
   ]
  },
  {
   "cell_type": "code",
   "execution_count": null,
   "metadata": {},
   "outputs": [],
   "source": [
    "# Convert list of strings to list of dicts\n",
    "sales_dicts = []"
   ]
  },
  {
   "cell_type": "code",
   "execution_count": null,
   "metadata": {},
   "outputs": [],
   "source": [
    "for sale in sales:\n",
    "    s = sale.split(',')\n",
    "    sales_dicts.append({\n",
    "        'sale_id': int(s[0]), \n",
    "        'sale_rep_id': int(s[1]), \n",
    "        'sale_amount': float(s[2]), \n",
    "        'commission_pct': int(s[3]) if s[3] != '' else None\n",
    "    })"
   ]
  },
  {
   "cell_type": "code",
   "execution_count": null,
   "metadata": {},
   "outputs": [],
   "source": [
    "sales_dicts"
   ]
  },
  {
   "cell_type": "code",
   "execution_count": null,
   "metadata": {},
   "outputs": [],
   "source": [
    "sum(sale['sale_amount'] for sale in sales_dicts)"
   ]
  },
  {
   "cell_type": "code",
   "execution_count": null,
   "metadata": {},
   "outputs": [],
   "source": [
    "# Overview of csv\n",
    "import csv"
   ]
  },
  {
   "cell_type": "code",
   "execution_count": null,
   "metadata": {},
   "outputs": [],
   "source": [
    "# Process using `csv.reader`\n",
    "for rec in csv.reader(sales):\n",
    "    print(rec)"
   ]
  },
  {
   "cell_type": "code",
   "execution_count": null,
   "metadata": {},
   "outputs": [],
   "source": [
    "[sale for sale in csv.reader(sales)]"
   ]
  },
  {
   "cell_type": "code",
   "execution_count": null,
   "metadata": {},
   "outputs": [],
   "source": [
    "sum(float(sale[2]) for sale in csv.reader(sales))"
   ]
  },
  {
   "cell_type": "code",
   "execution_count": null,
   "metadata": {},
   "outputs": [],
   "source": [
    "# Process using `csv.DictReader`\n",
    "for rec in csv.DictReader(sales, fieldnames=['sale_id', 'sale_rep_id', 'sale_amount', 'commission_pct']):\n",
    "    print(rec)"
   ]
  },
  {
   "cell_type": "code",
   "execution_count": null,
   "metadata": {},
   "outputs": [],
   "source": [
    "sales_dr = csv.DictReader(sales, fieldnames=['sale_id', 'sale_rep_id', 'sale_amount', 'commission_pct'])"
   ]
  },
  {
   "cell_type": "code",
   "execution_count": null,
   "metadata": {},
   "outputs": [],
   "source": [
    "sum(float(sale['sale_amount']) for sale in sales_dr)"
   ]
  },
  {
   "cell_type": "code",
   "execution_count": null,
   "metadata": {},
   "outputs": [],
   "source": [
    "# Overview of csv writer functions\n",
    "csv.writer?"
   ]
  },
  {
   "cell_type": "markdown",
   "metadata": {},
   "source": [
    "* Exercise: Use the below student data and compute total score. The output should be list of tuples. Implement the solution using `csv.reader`. Each delimited string contain student id followed by scores related to 3 subjects.\n",
    "\n",
    "```python\n",
    "students = [\n",
    "    '1,92,93,95',\n",
    "    '2,89,86,96',\n",
    "    '3,75,66,80',\n",
    "    '4,55,58,75',\n",
    "    '5,72,78,69'\n",
    "]\n",
    "```"
   ]
  }
 ],
 "metadata": {
  "kernelspec": {
   "display_name": "Python 3.11.2 64-bit",
   "language": "python",
   "name": "python3"
  },
  "language_info": {
   "codemirror_mode": {
    "name": "ipython",
    "version": 3
   },
   "file_extension": ".py",
   "mimetype": "text/x-python",
   "name": "python",
   "nbconvert_exporter": "python",
   "pygments_lexer": "ipython3",
   "version": "3.11.2"
  },
  "orig_nbformat": 4,
  "vscode": {
   "interpreter": {
    "hash": "1a1af0ee75eeea9e2e1ee996c87e7a2b11a0bebd85af04bb136d915cefc0abce"
   }
  }
 },
 "nbformat": 4,
 "nbformat_minor": 2
}
