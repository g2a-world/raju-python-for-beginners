{
 "cells": [
  {
   "cell_type": "markdown",
   "metadata": {},
   "source": [
    "* Common File Operations\n",
    "* Getting Started with File I/O\n",
    "* Open File in read-only mode\n",
    "* Convert Data into Collection\n",
    "* Create list of tuples\n",
    "* Create list of dicts\n",
    "* Filter for invalid sales data\n",
    "* Compute Net Sale Revenue for valid sale\n",
    "* Compute Total Net Revenue\n",
    "* Overview of writing to files\n",
    "* Write list of tuples to File\n",
    "* Exercise and Solution"
   ]
  },
  {
   "cell_type": "markdown",
   "metadata": {},
   "source": [
    "### Common File Operations\n",
    "Here are some of the common file operations we perform. We will use text files which contain comma separated data.\n",
    "* Read data from file.\n",
    "* Create File and write data into it.\n",
    "* Append data to existing file."
   ]
  },
  {
   "cell_type": "markdown",
   "metadata": {},
   "source": [
    "### Getting Started with File I/O\n",
    "Here are the details about performing File I/O to read the data from the file.\n",
    "* Create File Object using `open`. We need to pass the relative or absolute path as string to it. By default file will be opened in read-only mode.\n",
    "* We can use functions such as `read` to read the content from the file into Python object (`str` for text files).\n",
    "* We can also use relevant functions such as `write` on File Object to write to a specific file. For this we need to open the file in write mode."
   ]
  },
  {
   "cell_type": "code",
   "execution_count": null,
   "metadata": {},
   "outputs": [],
   "source": [
    "# Open File in read-only mode (default)\n",
    "# Relative Path: data/sales/part-00000\n",
    "\n",
    "f = open('data/sales/part-00000') # same as open('path', 'r')"
   ]
  },
  {
   "cell_type": "code",
   "execution_count": null,
   "metadata": {},
   "outputs": [],
   "source": [
    "type(f)"
   ]
  },
  {
   "cell_type": "code",
   "execution_count": null,
   "metadata": {},
   "outputs": [],
   "source": [
    "dir(f)"
   ]
  },
  {
   "cell_type": "code",
   "execution_count": null,
   "metadata": {},
   "outputs": [],
   "source": [
    "f.readable()"
   ]
  },
  {
   "cell_type": "code",
   "execution_count": null,
   "metadata": {},
   "outputs": [],
   "source": [
    "f.read() # reads data from file into memory as str object"
   ]
  },
  {
   "cell_type": "code",
   "execution_count": null,
   "metadata": {},
   "outputs": [],
   "source": [
    "# Convert Data into Collection\n",
    "\n",
    "f = open('data/sales/part-00000')\n",
    "data = f.read()"
   ]
  },
  {
   "cell_type": "code",
   "execution_count": null,
   "metadata": {},
   "outputs": [],
   "source": [
    "data"
   ]
  },
  {
   "cell_type": "code",
   "execution_count": null,
   "metadata": {},
   "outputs": [],
   "source": [
    "recs = data.splitlines() # data.split('\\n')"
   ]
  },
  {
   "cell_type": "code",
   "execution_count": null,
   "metadata": {},
   "outputs": [],
   "source": [
    "recs"
   ]
  },
  {
   "cell_type": "code",
   "execution_count": null,
   "metadata": {},
   "outputs": [],
   "source": [
    "recs[0]"
   ]
  },
  {
   "cell_type": "code",
   "execution_count": null,
   "metadata": {},
   "outputs": [],
   "source": [
    "recs[1:]"
   ]
  },
  {
   "cell_type": "code",
   "execution_count": null,
   "metadata": {},
   "outputs": [],
   "source": [
    "# Create list of tuples (using loops)\n",
    "\n",
    "f = open('data/sales/part-00000')\n",
    "recs = f.read().splitlines()[1:]"
   ]
  },
  {
   "cell_type": "code",
   "execution_count": null,
   "metadata": {},
   "outputs": [],
   "source": [
    "s = recs[0].split(',')"
   ]
  },
  {
   "cell_type": "code",
   "execution_count": null,
   "metadata": {},
   "outputs": [],
   "source": [
    "(int(s[0]), int(s[1]), float(s[2]), int(s[3]) if s[3] != '' else None)"
   ]
  },
  {
   "cell_type": "code",
   "execution_count": null,
   "metadata": {},
   "outputs": [],
   "source": [
    "\n",
    "sales_tuples = []\n",
    "for rec in recs:\n",
    "    s = rec.split(',')\n",
    "    sales_tuples.append((int(s[0]), int(s[1]), float(s[2]), int(s[3]) if s[3] != '' else None))\n",
    "    \n",
    "sales_tuples"
   ]
  },
  {
   "cell_type": "code",
   "execution_count": null,
   "metadata": {},
   "outputs": [],
   "source": [
    "# Create list of tuples (using csv)\n",
    "\n",
    "import csv"
   ]
  },
  {
   "cell_type": "code",
   "execution_count": null,
   "metadata": {},
   "outputs": [],
   "source": [
    "\n",
    "f = open('data/sales/part-00000')\n",
    "recs = f.read().splitlines()[1:]"
   ]
  },
  {
   "cell_type": "code",
   "execution_count": null,
   "metadata": {},
   "outputs": [],
   "source": [
    "for rec in csv.reader(recs):\n",
    "    print(tuple(rec))"
   ]
  },
  {
   "cell_type": "code",
   "execution_count": null,
   "metadata": {},
   "outputs": [],
   "source": [
    "# Create list of dicts (using loops)\n",
    "\n",
    "f = open('data/sales/part-00000')\n",
    "data = f.read().splitlines()"
   ]
  },
  {
   "cell_type": "code",
   "execution_count": null,
   "metadata": {},
   "outputs": [],
   "source": [
    "header = data[0]"
   ]
  },
  {
   "cell_type": "code",
   "execution_count": null,
   "metadata": {},
   "outputs": [],
   "source": [
    "header"
   ]
  },
  {
   "cell_type": "code",
   "execution_count": null,
   "metadata": {},
   "outputs": [],
   "source": [
    "recs = data[1:]"
   ]
  },
  {
   "cell_type": "code",
   "execution_count": null,
   "metadata": {},
   "outputs": [],
   "source": [
    "recs"
   ]
  },
  {
   "cell_type": "code",
   "execution_count": null,
   "metadata": {},
   "outputs": [],
   "source": [
    "columns = header.split(',')"
   ]
  },
  {
   "cell_type": "code",
   "execution_count": null,
   "metadata": {},
   "outputs": [],
   "source": [
    "s = recs[0].split(',')"
   ]
  },
  {
   "cell_type": "code",
   "execution_count": null,
   "metadata": {},
   "outputs": [],
   "source": [
    "row = (int(s[0]), int(s[1]), float(s[2]), int(s[3]) if s[3] != '' else None)"
   ]
  },
  {
   "cell_type": "code",
   "execution_count": null,
   "metadata": {},
   "outputs": [],
   "source": [
    "dict(zip(columns, row))"
   ]
  },
  {
   "cell_type": "code",
   "execution_count": null,
   "metadata": {},
   "outputs": [],
   "source": [
    "sales_dicts = []\n",
    "for rec in recs:\n",
    "    s = rec.split(',')\n",
    "    row = (int(s[0]), int(s[1]), float(s[2]), int(s[3]) if s[3] != '' else None)\n",
    "    sales_dicts.append(dict(zip(columns, row)))\n",
    "    \n",
    "sales_dicts"
   ]
  },
  {
   "cell_type": "code",
   "execution_count": null,
   "metadata": {},
   "outputs": [],
   "source": [
    "# Create list of dicts (using csv)\n",
    "f = open('data/sales/part-00000')\n",
    "data = f.read().splitlines()"
   ]
  },
  {
   "cell_type": "code",
   "execution_count": null,
   "metadata": {},
   "outputs": [],
   "source": [
    "for rec in csv.DictReader(data):\n",
    "    print(rec)"
   ]
  },
  {
   "cell_type": "code",
   "execution_count": null,
   "metadata": {},
   "outputs": [],
   "source": [
    "# Filter for invalid sales data (using list of dicts)\n",
    "f = open('data/sales/part-00000')\n",
    "data = f.read().splitlines()\n",
    "sales = csv.DictReader(data)"
   ]
  },
  {
   "cell_type": "code",
   "execution_count": null,
   "metadata": {},
   "outputs": [],
   "source": [
    "sales_filtered = []\n",
    "\n",
    "for sale in sales:\n",
    "    if (sale['commission_pct'] == '' or int(sale['commission_pct']) < 0):\n",
    "        sales_filtered.append(sale)\n",
    "\n",
    "sales_filtered"
   ]
  },
  {
   "cell_type": "code",
   "execution_count": null,
   "metadata": {},
   "outputs": [],
   "source": [
    "# Compute Net Sale Revenue for valid sale\n",
    "# sale_amount - commission_amount\n",
    "# commission_amount = (sale_amount * commission_pct) / 100\n",
    "\n",
    "f = open('data/sales/part-00000')\n",
    "data = f.read().splitlines()\n",
    "sales = csv.DictReader(data)"
   ]
  },
  {
   "cell_type": "code",
   "execution_count": null,
   "metadata": {},
   "outputs": [],
   "source": [
    "\n",
    "sales_net_revenue = []\n",
    "\n",
    "for sale in sales:\n",
    "    if not (sale['commission_pct'] == '' or int(sale['commission_pct']) < 0):\n",
    "        sales_net_revenue.append((int(sale['sale_id']), float(sale['sale_amount']) - (float(sale['sale_amount']) * int(sale['commission_pct'])) / 100))\n",
    "\n",
    "sales_net_revenue"
   ]
  },
  {
   "cell_type": "code",
   "execution_count": null,
   "metadata": {},
   "outputs": [],
   "source": [
    "# Compute Total Net Revenue\n",
    "sum(sale[1] for sale in sales_net_revenue)"
   ]
  },
  {
   "cell_type": "code",
   "execution_count": null,
   "metadata": {},
   "outputs": [],
   "source": [
    "# Overview of writing to files\n",
    "# Open file in write mode\n",
    "# Write Python object to file\n",
    "# Close the file\n",
    "\n",
    "f = open('data/sales/dummy1.csv', 'w')"
   ]
  },
  {
   "cell_type": "code",
   "execution_count": null,
   "metadata": {},
   "outputs": [],
   "source": [
    "l = [1, 2, 3, 4]"
   ]
  },
  {
   "cell_type": "code",
   "execution_count": null,
   "metadata": {},
   "outputs": [],
   "source": [
    "for i in l:\n",
    "    f.write(str(i))\n",
    "    f.write('\\n')"
   ]
  },
  {
   "cell_type": "code",
   "execution_count": null,
   "metadata": {},
   "outputs": [],
   "source": [
    "f.close()\n",
    "# Open file using explorer and validate"
   ]
  },
  {
   "cell_type": "code",
   "execution_count": null,
   "metadata": {},
   "outputs": [],
   "source": [
    "# Using Context Manager (read)\n",
    "\n",
    "with open('data/sales/part-00000') as f:\n",
    "    data = f.read().splitlines()\n",
    "\n",
    "data"
   ]
  },
  {
   "cell_type": "code",
   "execution_count": null,
   "metadata": {},
   "outputs": [],
   "source": [
    "# Using Context Manager (write)\n",
    "\n",
    "l = [1, 2, 3, 4]\n",
    "with open('data/sales/dummy2.csv', 'w') as f:\n",
    "    for i in l:\n",
    "        f.write(str(i))\n",
    "        f.write('\\n')"
   ]
  },
  {
   "cell_type": "code",
   "execution_count": null,
   "metadata": {},
   "outputs": [],
   "source": [
    "# Write list of tuples to File (using csv)\n",
    "f = open('data/sales/part-00000')\n",
    "data = f.read().splitlines()\n",
    "sales = csv.DictReader(data)"
   ]
  },
  {
   "cell_type": "code",
   "execution_count": null,
   "metadata": {},
   "outputs": [],
   "source": [
    "sales_net_revenue = []\n",
    "\n",
    "for sale in sales:\n",
    "    if not (sale['commission_pct'] == '' or int(sale['commission_pct']) < 0):\n",
    "        sales_net_revenue.append((int(sale['sale_id']), float(sale['sale_amount']) - (float(sale['sale_amount']) * int(sale['commission_pct'])) / 100))\n",
    "\n",
    "sales_net_revenue"
   ]
  },
  {
   "cell_type": "code",
   "execution_count": null,
   "metadata": {},
   "outputs": [],
   "source": [
    "help(csv.writer)"
   ]
  },
  {
   "cell_type": "code",
   "execution_count": null,
   "metadata": {},
   "outputs": [],
   "source": [
    "with open('data/sales/sale_revenue.csv', 'w') as sales_f:\n",
    "    writer = csv.writer(sales_f)\n",
    "    writer.writerows(sales_net_revenue)\n",
    "    \n",
    "# review by opening the file using explorer"
   ]
  },
  {
   "cell_type": "markdown",
   "metadata": {},
   "source": [
    "* Exercise: Read, Process and Write (using File I/O and csv)\n",
    "  * Read sales data from `data/sales/part-00000` using `csv.reader`.\n",
    "  * Filter for valid sales with sale amount <= 500.\n",
    "  * Write filtered data back to `data/sales/filtered.csv` using `csv.writer`."
   ]
  }
 ],
 "metadata": {
  "kernelspec": {
   "display_name": "Python 3.11.2 64-bit",
   "language": "python",
   "name": "python3"
  },
  "language_info": {
   "codemirror_mode": {
    "name": "ipython",
    "version": 3
   },
   "file_extension": ".py",
   "mimetype": "text/x-python",
   "name": "python",
   "nbconvert_exporter": "python",
   "pygments_lexer": "ipython3",
   "version": "3.11.2"
  },
  "orig_nbformat": 4,
  "vscode": {
   "interpreter": {
    "hash": "1a1af0ee75eeea9e2e1ee996c87e7a2b11a0bebd85af04bb136d915cefc0abce"
   }
  }
 },
 "nbformat": 4,
 "nbformat_minor": 2
}
