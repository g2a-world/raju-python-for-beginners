{
 "cells": [
  {
   "cell_type": "markdown",
   "metadata": {},
   "source": [
    "* Functions as objects\n",
    "* Syntax for decorators\n",
    "* Creating decorators\n",
    "* Annotating decorators\n",
    "* Decorating functions with arguments\n",
    "* Using multiple decorators\n",
    "* Real World Implementation of Decorators"
   ]
  },
  {
   "cell_type": "code",
   "execution_count": null,
   "metadata": {},
   "outputs": [],
   "source": [
    "def my_function():\n",
    "    print(\"Hello, world!\")"
   ]
  },
  {
   "cell_type": "code",
   "execution_count": null,
   "metadata": {},
   "outputs": [],
   "source": [
    "# Functions can be assigned to variables\n",
    "my_var = my_function\n",
    "my_var()"
   ]
  },
  {
   "cell_type": "code",
   "execution_count": null,
   "metadata": {},
   "outputs": [],
   "source": [
    "# Functions can be passed as arguments to other functions\n",
    "def my_other_function(func):\n",
    "    func()"
   ]
  },
  {
   "cell_type": "code",
   "execution_count": null,
   "metadata": {},
   "outputs": [],
   "source": [
    "my_other_function(my_function)"
   ]
  },
  {
   "cell_type": "code",
   "execution_count": null,
   "metadata": {},
   "outputs": [],
   "source": [
    "# Syntax for decorator\n",
    "def my_decorator(func):\n",
    "    def wrapper():\n",
    "        print(\"Before function\")\n",
    "        func()\n",
    "        print(\"After function\")\n",
    "    return wrapper"
   ]
  },
  {
   "cell_type": "code",
   "execution_count": null,
   "metadata": {},
   "outputs": [],
   "source": [
    "\n",
    "def my_function():\n",
    "    print(\"Hello, world!\")"
   ]
  },
  {
   "cell_type": "code",
   "execution_count": null,
   "metadata": {},
   "outputs": [],
   "source": [
    "my_function = my_decorator(my_function)"
   ]
  },
  {
   "cell_type": "code",
   "execution_count": null,
   "metadata": {},
   "outputs": [],
   "source": [
    "my_function()"
   ]
  },
  {
   "cell_type": "code",
   "execution_count": null,
   "metadata": {},
   "outputs": [],
   "source": [
    "# Example for creating decorator\n",
    "def my_decorator(func):\n",
    "    def wrapper(msg, audience):\n",
    "        print(\"Before function\")\n",
    "        func(msg.upper(), audience.upper())\n",
    "        print(\"After function\")\n",
    "    return wrapper"
   ]
  },
  {
   "cell_type": "code",
   "execution_count": null,
   "metadata": {},
   "outputs": [],
   "source": [
    "def my_function(msg, audience):\n",
    "    print(f\"{msg}, {audience}!\")\n",
    "\n",
    "my_function = my_decorator(my_function)"
   ]
  },
  {
   "cell_type": "code",
   "execution_count": null,
   "metadata": {},
   "outputs": [],
   "source": [
    "my_function('Hello', 'World')"
   ]
  },
  {
   "cell_type": "code",
   "execution_count": null,
   "metadata": {},
   "outputs": [],
   "source": [
    "# Annotating with decorator\n",
    "@my_decorator\n",
    "def my_function(msg, audience):\n",
    "    print(f\"{msg}, {audience}!\")\n",
    "\n",
    "my_function('Hello', 'World')"
   ]
  },
  {
   "cell_type": "code",
   "execution_count": null,
   "metadata": {},
   "outputs": [],
   "source": [
    "def my_decorator(func):\n",
    "    def wrapper():\n",
    "        print(\"Before function\")\n",
    "        func()\n",
    "        print(\"After function\")\n",
    "    return wrapper\n",
    "\n",
    "def my_function():\n",
    "    print(\"Hello, world!\")\n",
    "\n",
    "my_function = my_decorator(my_function)\n",
    "\n",
    "my_function()"
   ]
  },
  {
   "cell_type": "code",
   "execution_count": null,
   "metadata": {},
   "outputs": [],
   "source": [
    "# Decorating functions with arguments\n",
    "\n",
    "def my_decorator(func):\n",
    "    def wrapper(*args, **kwargs):\n",
    "        print(\"Before function\")\n",
    "        result = func(*args, **kwargs)\n",
    "        print(\"After function\")\n",
    "        return result\n",
    "    return wrapper\n",
    "\n",
    "@my_decorator\n",
    "def my_function(name):\n",
    "    print(f\"Hello, {name}!\")\n",
    "\n",
    "my_function(\"John\")\n"
   ]
  },
  {
   "cell_type": "code",
   "execution_count": null,
   "metadata": {},
   "outputs": [],
   "source": [
    "# Using multiple decorators\n",
    "\n",
    "def my_decorator_1(func):\n",
    "    def wrapper():\n",
    "        print(\"Before decorator 1\")\n",
    "        func()\n",
    "        print(\"After decorator 1\")\n",
    "    return wrapper\n",
    "\n",
    "def my_decorator_2(func):\n",
    "    def wrapper():\n",
    "        print(\"Before decorator 2\")\n",
    "        func()\n",
    "        print(\"After decorator 2\")\n",
    "    return wrapper\n",
    "\n",
    "@my_decorator_1\n",
    "@my_decorator_2\n",
    "def my_function():\n",
    "    print(\"Hello, world!\")\n",
    "\n",
    "my_function()"
   ]
  },
  {
   "cell_type": "code",
   "execution_count": null,
   "metadata": {},
   "outputs": [],
   "source": [
    "# Real world implementation of decorator\n",
    "def log_decorator(func):\n",
    "    def wrapper(*args, **kwargs):\n",
    "        print(f\"Calling function {func.__name__} with args {args} and kwargs {kwargs}\")\n",
    "        result = func(*args, **kwargs)\n",
    "        print(f\"Function {func.__name__} returned {result}\")\n",
    "        return result\n",
    "    return wrapper"
   ]
  },
  {
   "cell_type": "code",
   "execution_count": null,
   "metadata": {},
   "outputs": [],
   "source": [
    "@log_decorator\n",
    "def add_numbers(a, b):\n",
    "    return a + b\n",
    "\n",
    "result = add_numbers(2, 3)\n",
    "print(result)"
   ]
  }
 ],
 "metadata": {
  "kernelspec": {
   "display_name": "Python 3.11.2 64-bit",
   "language": "python",
   "name": "python3"
  },
  "language_info": {
   "codemirror_mode": {
    "name": "ipython",
    "version": 3
   },
   "file_extension": ".py",
   "mimetype": "text/x-python",
   "name": "python",
   "nbconvert_exporter": "python",
   "pygments_lexer": "ipython3",
   "version": "3.11.2"
  },
  "orig_nbformat": 4,
  "vscode": {
   "interpreter": {
    "hash": "1a1af0ee75eeea9e2e1ee996c87e7a2b11a0bebd85af04bb136d915cefc0abce"
   }
  }
 },
 "nbformat": 4,
 "nbformat_minor": 2
}
