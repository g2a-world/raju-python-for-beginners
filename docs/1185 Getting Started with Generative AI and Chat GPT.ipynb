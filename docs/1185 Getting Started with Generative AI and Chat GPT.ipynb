{
 "cells": [
  {
   "attachments": {},
   "cell_type": "markdown",
   "metadata": {},
   "source": [
    "* Signing up for Chat GPT\n",
    "* Understanding Chat GPT Interface\n",
    "* Overview of Generative AI\n",
    "* Add Nav Bar to the Application\n",
    "* Link to User Detail Page from Dashboard\n",
    "* Button to User Form Page from Dashboard\n",
    "* Exercise and Solution - Add features using Chat GPT\n",
    "    1. Add link to course detail page from dashboard\n",
    "    2. Add button to course form page from dashboard\n",
    "    3. Deploy changes to remote vm using CI/CD\n",
    "    4. Cleanup the branches"
   ]
  }
 ],
 "metadata": {
  "language_info": {
   "name": "python"
  },
  "orig_nbformat": 4
 },
 "nbformat": 4,
 "nbformat_minor": 2
}
