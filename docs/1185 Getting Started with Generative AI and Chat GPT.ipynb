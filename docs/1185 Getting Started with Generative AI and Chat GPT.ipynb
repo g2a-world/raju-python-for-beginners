{
 "cells": [
  {
   "attachments": {},
   "cell_type": "markdown",
   "metadata": {},
   "source": [
    "* Signing up for Chat GPT\n",
    "* Understanding Chat GPT Interface\n",
    "* Overview of Generative AI\n",
    "* Add Nav Bar to the Application\n",
    "* Link to Detail Page from Dashboard\n",
    "* Button to Form Page from Dashboard\n",
    "* Exercise and Solution"
   ]
  }
 ],
 "metadata": {
  "language_info": {
   "name": "python"
  },
  "orig_nbformat": 4
 },
 "nbformat": 4,
 "nbformat_minor": 2
}
