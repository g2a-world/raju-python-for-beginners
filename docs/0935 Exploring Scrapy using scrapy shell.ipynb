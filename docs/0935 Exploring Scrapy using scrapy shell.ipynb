{
 "cells": [
  {
   "attachments": {},
   "cell_type": "markdown",
   "metadata": {},
   "source": [
    "* Getting Started with scrapy shell\n",
    "* Overview of fetch and response\n",
    "* Read blog post titles using scrapy shell\n",
    "* Read text and attribute values\n",
    "* Explore Quotes Content using scrapy shell\n",
    "* Exercise and Solution - Get Author Names"
   ]
  },
  {
   "attachments": {},
   "cell_type": "markdown",
   "metadata": {},
   "source": [
    "* Getting Started with scrapy shell\n",
    "\n",
    "1. Go to the base folder of the project\n",
    "2. Run `scrapy shell https://www.zyte.com/blog/`"
   ]
  },
  {
   "attachments": {},
   "cell_type": "markdown",
   "metadata": {},
   "source": [
    "* Overview of fetch and response\n",
    "\n",
    "1. Review response object (eg: `response.url`)\n",
    "2. Exit from Scrapy shell and launch `scrapy shell` with out specifying any url\n",
    "3. Run `fetch('https://www.zyte.com/blog/')` to create `response object.\n",
    "4. Validate by running `response.url`. You can open the url using default browser by running `view(response)`."
   ]
  },
  {
   "attachments": {},
   "cell_type": "markdown",
   "metadata": {},
   "source": [
    "* Read blog post titles using scrapy shell\n",
    "\n",
    "1. Launch `scrapy shell` with url or run fetch by passing url after launching scrapy shell.\n",
    "2. Validate url by using `response.url`.\n",
    "3. Run `response.css('.oxy-post-title')` to get HTML content related to all the titles."
   ]
  },
  {
   "attachments": {},
   "cell_type": "markdown",
   "metadata": {},
   "source": [
    "* Read text and attribute values\n",
    "\n",
    "1. Run `response.css('.oxy-post-title')` to get HTML content related to all the titles. `get` will return first element details where as `getall` will return a list of elements matching the criteria.\n",
    "2. Run `response.css('.oxy-post-title::attr(href)').getall()` to get all relative urls from HTML. `getall` will return the list.\n",
    "3. We can iterate and build full urls.\n",
    "\n",
    "```python\n",
    "base_url = 'https://www.zyte.com'\n",
    "\n",
    "urls = [\n",
    "    f'{base_url}{relative_url}' \n",
    "    for relative_url in \n",
    "        response.css('.oxy-post-title::attr(href)').getall()\n",
    "]\n",
    "```"
   ]
  },
  {
   "attachments": {},
   "cell_type": "markdown",
   "metadata": {},
   "source": [
    "* Explore Quotes Content using scrapy shell\n",
    "\n",
    "1. Launch scrapy shell using `scrapy shell https://www.goodreads.com/quotes?page=1`\n",
    "2. Get all the quote details using `response.css('.quoteDetails').getall()`\n",
    "3. Get all the quote text content using `response.css('.quoteText::text').getall()`\n",
    "4. Get the quote text, author or title, author or title url using below code snippet.\n",
    "\n",
    "```python\n",
    "# We need to first get quoteDetails, iterate through each and every quote to get required details\n",
    "# We need to use quoteDetails as baseline in each iteration.\n",
    "for quoteDetails in response.css('.quoteDetails'):\n",
    "    print(\n",
    "        {\n",
    "            'quoteText': quoteDetails.css('.quoteText::text').get(),\n",
    "            'authorOrTitle': quoteDetails.css('span.authorOrTitle::text').get(),\n",
    "            'authorOrTitleUrl': quoteDetails.css('a.authorOrTitle::attr(href)').get()\n",
    "        }\n",
    "    )\n",
    "```"
   ]
  },
  {
   "attachments": {},
   "cell_type": "markdown",
   "metadata": {},
   "source": [
    "* Exercise - Get all Author or Title Names\n",
    "\n",
    "1. Launch scrapy shell using https://www.goodreads.com/quotes?page=1\n",
    "2. Use CLI to get all authors or titles of the quotes"
   ]
  },
  {
   "attachments": {},
   "cell_type": "markdown",
   "metadata": {},
   "source": [
    "* Solution - Get all Author or Title Names\n",
    "\n",
    "1. Launch scrapy shell using `scrapy shell https://www.goodreads.com/quotes?page=1`\n",
    "2. Use CLI to get all authors or titles of the quotes - `response.css('span.authorOrTitle::text').getall()`\n",
    "\n",
    "Note: You can't use `.authorOrTitle` as it is specified as class for both the title with span tag as well as url with a tag (in some cases)."
   ]
  }
 ],
 "metadata": {
  "language_info": {
   "name": "python"
  },
  "orig_nbformat": 4
 },
 "nbformat": 4,
 "nbformat_minor": 2
}
