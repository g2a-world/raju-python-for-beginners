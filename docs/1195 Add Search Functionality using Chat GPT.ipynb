{
 "cells": [
  {
   "attachments": {},
   "cell_type": "markdown",
   "metadata": {},
   "source": [
    "* Overview of Search Functionality\n",
    "* Case Sensitive Search vs. Case Insensitive Search\n",
    "* Overview of Filtering using SQL\n",
    "* Best Practices to save data in the table\n",
    "* Equal Search of user by email id\n",
    "* Pattern based search of user by email id\n",
    "* Exercise and Solution - Add Search Functionality to Courses"
   ]
  },
  {
   "attachments": {},
   "cell_type": "markdown",
   "metadata": {},
   "source": [
    "* Overview of Filtering using SQL\n",
    "\n",
    "1. Different Operators - `=`, `!=`, `>`, `>=`, `<`, `<=`, `LIKE`, `NOT LIKE`\n",
    "2. Filtering for Case Sensitive Search\n",
    "\n",
    "```sql\n",
    "SELECT * FROM users\n",
    "WHERE email = 'stiger@email.com';\n",
    "\n",
    "SELECT * FROM users\n",
    "WHERE email = 'Stiger@email.com';\n",
    "```\n",
    "\n",
    "3. Filtering for Case Insensitive Search\n",
    "\n",
    "```sql\n",
    "SELECT * FROM users\n",
    "WHERE email = lower('stiger@email.com');\n",
    "\n",
    "SELECT * FROM users\n",
    "WHERE email = lower('Stiger@email.com');\n",
    "```\n",
    "\n",
    "4. Pattern based filtering\n",
    "\n",
    "```sql\n",
    "SELECT * FROM users\n",
    "WHERE email LIKE 'sti%';\n",
    "\n",
    "SELECT * FROM users\n",
    "WHERE email LIKE lower('Sti%');\n",
    "\n",
    "SELECT * FROM users\n",
    "WHERE email LIKE lower('%@email.com');\n",
    "```"
   ]
  },
  {
   "attachments": {},
   "cell_type": "markdown",
   "metadata": {},
   "source": [
    "* Best Practices to save data in the table\n",
    "\n",
    "1. Store data (especially user data) in the database tables using single case (lower or upper).\n",
    "2. Ensure data does not have trailing or leading spaces.\n",
    "3. Make sure to use correct data types for the columns based on the data.\n",
    "4. Use null values are used in case of missing data for a given column in the record. Remember null means nothing and it have no data type associated with it.\n"
   ]
  },
  {
   "attachments": {},
   "cell_type": "markdown",
   "metadata": {},
   "source": [
    "* Exercise - Add Search Functionality to Courses\n",
    "\n",
    "1. Make sure search functionality is added to courses based on course title.\n",
    "2. The search should be based on case insensitivity. Also you need to return the course details if the title contains the string (for example, if we search for Python, we should get all the courses which contain Python)\n",
    "3. Deploy changes to remote vm using CI/CD\n",
    "4. Cleanup the branches"
   ]
  }
 ],
 "metadata": {
  "language_info": {
   "name": "python"
  },
  "orig_nbformat": 4
 },
 "nbformat": 4,
 "nbformat_minor": 2
}
