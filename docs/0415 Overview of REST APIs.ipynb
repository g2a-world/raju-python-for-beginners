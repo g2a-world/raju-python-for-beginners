{
 "cells": [
  {
   "cell_type": "markdown",
   "metadata": {},
   "source": [
    "* Overview of REST APIs\n",
    "* Overview of GitHub Developer APIs\n",
    "* Validate GET API using curl\n",
    "* Overview of REST Payload\n",
    "* Overview of Authentication in REST APIs\n",
    "* Generate API Key in GitHub\n",
    "* Passing API Key for Authentication"
   ]
  },
  {
   "cell_type": "markdown",
   "metadata": {},
   "source": []
  }
 ],
 "metadata": {
  "language_info": {
   "name": "python"
  },
  "orig_nbformat": 4
 },
 "nbformat": 4,
 "nbformat_minor": 2
}
