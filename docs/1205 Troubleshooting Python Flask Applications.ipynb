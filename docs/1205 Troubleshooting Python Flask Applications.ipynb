{
 "cells": [
  {
   "attachments": {},
   "cell_type": "markdown",
   "metadata": {},
   "source": [
    "* Overview of Troubleshooting\n",
    "* Run Application locally in debug mode\n",
    "* Review Gunicorn Logs on Servers\n",
    "* Extract SQL Queries using Flask SQLAlchemy\n",
    "* Handling Exceptions such as User Not Found\n",
    "* Exercise and Solution"
   ]
  }
 ],
 "metadata": {
  "language_info": {
   "name": "python"
  },
  "orig_nbformat": 4
 },
 "nbformat": 4,
 "nbformat_minor": 2
}
