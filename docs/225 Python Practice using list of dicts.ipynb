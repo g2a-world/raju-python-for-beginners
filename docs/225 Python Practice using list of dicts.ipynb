{
 "cells": [
  {
   "cell_type": "markdown",
   "metadata": {},
   "source": [
    "* Review Data Set\n",
    "```python\n",
    "sales = [\n",
    "    {'sale_id': 1, 'sale_rep_id': 101, 'sale_amount': 500.00, 'commission_pct': 5},\n",
    "    {'sale_id': 2, 'sale_rep_id': 102, 'sale_amount': 250.00, 'commission_pct': 3},\n",
    "    {'sale_id': 3, 'sale_rep_id': 103, 'sale_amount': 1000.00, 'commission_pct': 8},\n",
    "    {'sale_id': 4, 'sale_rep_id': 104, 'sale_amount': 750.00, 'commission_pct': None},\n",
    "    {'sale_id': 5, 'sale_rep_id': 101, 'sale_amount': 300.00, 'commission_pct': -1},\n",
    "    {'sale_id': 6, 'sale_rep_id': 106, 'sale_amount': 400.00, 'commission_pct': 3},\n",
    "    {'sale_id': 7, 'sale_rep_id': 104, 'sale_amount': 200.00, 'commission_pct': 0},\n",
    "    {'sale_id': 8, 'sale_rep_id': 103, 'sale_amount': 150.00, 'commission_pct': 1},\n",
    "    {'sale_id': 9, 'sale_rep_id': 104, 'sale_amount': 600.00, 'commission_pct': 4},\n",
    "    {'sale_id': 10, 'sale_rep_id': 101, 'sale_amount': 800.00, 'commission_pct': 6}\n",
    "]\n",
    "```\n",
    "* Get number of elements in the list\n",
    "```python\n",
    "len(sales)\n",
    "```\n",
    "* Get unique sale_rep_ids.\n",
    "```python\n",
    "sale_rep_ids = set() # Initializing a set\n",
    "for sale in sales:\n",
    "    if sale['sale_rep_id'] not in sale_rep_ids:\n",
    "        sale_rep_ids.add(sale['sale_rep_id'])\n",
    "\n",
    "print(sale_rep_ids)\n",
    "```\n",
    "* Develop a function to get list of sale transactions where transaction amount is less than 500. Each element should be of type dict.\n",
    "```python\n",
    "def get_low_revenue_sales(sales):\n",
    "    low_revenue_sales = [] # Initializing empty list\n",
    "    for sale in sales:\n",
    "        if sale['sale_amount'] < 500:\n",
    "            low_revenue_sales.append(sale)\n",
    "    return low_revenue_sales\n",
    "\n",
    "get_low_revenue_sales(sales)\n",
    "```\n",
    "* Exercise 1: Develop a function to get list of transactions with invalid commission percentage (negative or None). Each element should be of type dict.\n",
    "* Exercise 2: Develop a function to get list of transactions with commission amounts. Commission amount is equal to `(\"sale amount\" * \"commission %\") / 100`. Each element should be of type dict. Each dict in the list should contain 5 elements. The list should not contain transactions with invalid commission % (negative or none). The last element in each of the dict should be named as `commission_amount`.\n"
   ]
  },
  {
   "cell_type": "markdown",
   "metadata": {},
   "source": []
  }
 ],
 "metadata": {
  "kernelspec": {
   "display_name": "Python 3.x",
   "language": "python",
   "name": "python3"
  },
  "language_info": {
   "name": "python",
   "version": "3"
  },
  "orig_nbformat": 4,
  "vscode": {
   "interpreter": {
    "hash": "31f2aee4e71d21fbe5cf8b01ff0e069b9275f58929596ceb00d14d90e3e16cd6"
   }
  }
 },
 "nbformat": 4,
 "nbformat_minor": 2
}
