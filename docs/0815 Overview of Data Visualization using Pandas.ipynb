{
 "cells": [
  {
   "attachments": {},
   "cell_type": "markdown",
   "metadata": {},
   "source": [
    "* Overview of Visualization\n",
    "* Different Python Libraries for Visualization\n",
    "* Getting started with Visualization using Pandas\n",
    "* Generate Test Data for Visualization\n",
    "* Create Pandas Dataframe\n",
    "* Plot using Pandas Dataframe\n",
    "* Plot Pie Chart using Pandas Dataframe\n",
    "* Plot Bar Chart using Pandas Dataframe\n",
    "* Exercise and Solution"
   ]
  },
  {
   "cell_type": "code",
   "execution_count": null,
   "metadata": {},
   "outputs": [],
   "source": [
    "# Overview of Visualization\n",
    "# Line Graph\n",
    "# Pie Chart\n",
    "# Bar Chart\n",
    "# Histogram\n",
    "# Scattered Plot"
   ]
  },
  {
   "cell_type": "code",
   "execution_count": null,
   "metadata": {},
   "outputs": [],
   "source": [
    "# Different Python Libraries for Visualization\n",
    "# Matplotlib\n",
    "# Seaborn\n",
    "# Pandas\n",
    "# dash, redash, etc"
   ]
  },
  {
   "cell_type": "code",
   "execution_count": null,
   "metadata": {},
   "outputs": [],
   "source": [
    "# Getting started with Visualization using Pandas\n",
    "# python -m pip install matplotlib"
   ]
  },
  {
   "cell_type": "code",
   "execution_count": null,
   "metadata": {},
   "outputs": [],
   "source": [
    "# Generate Test Data for Visualization\n",
    "import random"
   ]
  },
  {
   "cell_type": "code",
   "execution_count": null,
   "metadata": {},
   "outputs": [],
   "source": [
    "sales = []\n",
    "\n",
    "for i in range(202201, 202213):\n",
    "    sales.append((i, random.randrange(12000, 21000, 1000)))"
   ]
  },
  {
   "cell_type": "code",
   "execution_count": null,
   "metadata": {},
   "outputs": [],
   "source": [
    "sales"
   ]
  },
  {
   "cell_type": "code",
   "execution_count": null,
   "metadata": {},
   "outputs": [],
   "source": [
    "# Create Pandas Dataframe\n",
    "import pandas as pd"
   ]
  },
  {
   "cell_type": "code",
   "execution_count": null,
   "metadata": {},
   "outputs": [],
   "source": [
    "sales_df = pd.DataFrame(sales, columns=['Sale Month', 'Revenue'])"
   ]
  },
  {
   "cell_type": "code",
   "execution_count": null,
   "metadata": {},
   "outputs": [],
   "source": [
    "sales_df"
   ]
  },
  {
   "cell_type": "code",
   "execution_count": null,
   "metadata": {},
   "outputs": [],
   "source": [
    "# Plot using Pandas Dataframe\n",
    "help(sales_df.plot)"
   ]
  },
  {
   "cell_type": "code",
   "execution_count": null,
   "metadata": {},
   "outputs": [],
   "source": [
    "sales_df.plot(x='Sale Month', y='Revenue')"
   ]
  },
  {
   "cell_type": "code",
   "execution_count": null,
   "metadata": {},
   "outputs": [],
   "source": [
    "# Plot Pie Chart using Pandas Dataframe\n",
    "import random"
   ]
  },
  {
   "cell_type": "code",
   "execution_count": null,
   "metadata": {},
   "outputs": [],
   "source": [
    "def get_revenue(course):\n",
    "    if course == 'Python':\n",
    "        return random.randrange(15000, 18000, 1000)\n",
    "    elif course == 'Java Script':\n",
    "        return random.randrange(5000, 6000, 500)\n",
    "    else:\n",
    "        return random.randrange(12000, 14000, 500)"
   ]
  },
  {
   "cell_type": "code",
   "execution_count": null,
   "metadata": {},
   "outputs": [],
   "source": [
    "sales = []\n",
    "courses = ['Python', 'Java', 'Java Script']"
   ]
  },
  {
   "cell_type": "code",
   "execution_count": null,
   "metadata": {},
   "outputs": [],
   "source": [
    "for i in range(202201, 202213):\n",
    "    for course in courses:\n",
    "        sales.append((i, course, get_revenue(course)))"
   ]
  },
  {
   "cell_type": "code",
   "execution_count": null,
   "metadata": {},
   "outputs": [],
   "source": [
    "sales"
   ]
  },
  {
   "cell_type": "code",
   "execution_count": null,
   "metadata": {},
   "outputs": [],
   "source": [
    "sales_df = pd.DataFrame(sales, columns=['Sale Month', 'Course Title', 'Revenue'])"
   ]
  },
  {
   "cell_type": "code",
   "execution_count": null,
   "metadata": {},
   "outputs": [],
   "source": [
    "sales_df"
   ]
  },
  {
   "cell_type": "code",
   "execution_count": null,
   "metadata": {},
   "outputs": [],
   "source": [
    "sales_df.groupby('Course Title')['Revenue'].agg('sum')"
   ]
  },
  {
   "cell_type": "code",
   "execution_count": null,
   "metadata": {},
   "outputs": [],
   "source": [
    "revenue_by_title = sales_df.groupby('Course Title')['Revenue'].agg('sum')"
   ]
  },
  {
   "cell_type": "code",
   "execution_count": null,
   "metadata": {},
   "outputs": [],
   "source": [
    "type(revenue_by_title)"
   ]
  },
  {
   "cell_type": "code",
   "execution_count": null,
   "metadata": {},
   "outputs": [],
   "source": [
    "revenue_by_title.plot(kind='pie')"
   ]
  },
  {
   "cell_type": "code",
   "execution_count": null,
   "metadata": {},
   "outputs": [],
   "source": [
    "revenue_by_title.plot.pie()"
   ]
  },
  {
   "cell_type": "code",
   "execution_count": null,
   "metadata": {},
   "outputs": [],
   "source": [
    "# Plot Bar Chart using Pandas Dataframe\n",
    "import random"
   ]
  },
  {
   "cell_type": "code",
   "execution_count": null,
   "metadata": {},
   "outputs": [],
   "source": [
    "def get_revenue(course):\n",
    "    if course == 'Python':\n",
    "        return random.randrange(15000, 18000, 1000)\n",
    "    elif course == 'Java Script':\n",
    "        return random.randrange(5000, 6000, 500)\n",
    "    else:\n",
    "        return random.randrange(12000, 14000, 500)"
   ]
  },
  {
   "cell_type": "code",
   "execution_count": null,
   "metadata": {},
   "outputs": [],
   "source": [
    "sales = []\n",
    "for i in range(202201, 202213):\n",
    "    sales.append((i, get_revenue('Python'), get_revenue('Java'), get_revenue('Java Script')))"
   ]
  },
  {
   "cell_type": "code",
   "execution_count": null,
   "metadata": {},
   "outputs": [],
   "source": [
    "sales"
   ]
  },
  {
   "cell_type": "code",
   "execution_count": null,
   "metadata": {},
   "outputs": [],
   "source": [
    "sales_df = pd.DataFrame(sales, columns=['Sale Month', 'Python', 'Java', 'Java Script'])"
   ]
  },
  {
   "cell_type": "code",
   "execution_count": null,
   "metadata": {},
   "outputs": [],
   "source": [
    "sales_df"
   ]
  },
  {
   "cell_type": "code",
   "execution_count": null,
   "metadata": {},
   "outputs": [],
   "source": [
    "sales_df.plot(kind='bar', x='Sale Month')"
   ]
  },
  {
   "cell_type": "code",
   "execution_count": null,
   "metadata": {},
   "outputs": [],
   "source": [
    "sales_df.plot(kind='bar', x='Sale Month', stacked=True)"
   ]
  },
  {
   "cell_type": "code",
   "execution_count": null,
   "metadata": {},
   "outputs": [],
   "source": [
    "import random\n",
    "import pandas as pd\n",
    "\n",
    "def get_revenue(course):\n",
    "    if course == 'Python':\n",
    "        return random.randrange(15000, 18000, 1000)\n",
    "    elif course == 'Java Script':\n",
    "        return random.randrange(5000, 6000, 500)\n",
    "    else:\n",
    "        return random.randrange(12000, 14000, 500)\n",
    "    \n",
    "sales = []\n",
    "courses = ['Python', 'Java', 'Java Script']\n",
    "\n",
    "for i in range(202201, 202213):\n",
    "    for course in courses:\n",
    "        sales.append((i, course, get_revenue(course)))\n",
    "\n",
    "sales_df = pd.DataFrame(sales, columns=['Sale Month', 'Course Title', 'Revenue'])"
   ]
  },
  {
   "cell_type": "code",
   "execution_count": null,
   "metadata": {},
   "outputs": [],
   "source": [
    "sales_df.pivot(index='Sale Month', columns=\"Course Title\")"
   ]
  },
  {
   "cell_type": "code",
   "execution_count": null,
   "metadata": {},
   "outputs": [],
   "source": [
    "sales_by_course = sales_df.pivot(index='Sale Month', columns=\"Course Title\")"
   ]
  },
  {
   "cell_type": "code",
   "execution_count": null,
   "metadata": {},
   "outputs": [],
   "source": [
    "sales_by_course.plot(kind='bar', stacked=True)"
   ]
  },
  {
   "cell_type": "code",
   "execution_count": null,
   "metadata": {},
   "outputs": [],
   "source": [
    "sales_by_course.plot()"
   ]
  },
  {
   "cell_type": "code",
   "execution_count": null,
   "metadata": {},
   "outputs": [],
   "source": [
    "import pandas as pd"
   ]
  },
  {
   "cell_type": "code",
   "execution_count": null,
   "metadata": {},
   "outputs": [],
   "source": [
    "nyse_df = pd.read_csv(\n",
    "    'data/nyse_all/nyse_data/NYSE_2010.txt.gz',\n",
    "    names=['ticker', 'trade_date', 'open_price', 'low_price', \n",
    "           'high_price', 'close_price', 'volume']\n",
    ")"
   ]
  },
  {
   "cell_type": "code",
   "execution_count": null,
   "metadata": {},
   "outputs": [],
   "source": [
    "nyse_df.head()"
   ]
  },
  {
   "cell_type": "code",
   "execution_count": null,
   "metadata": {},
   "outputs": [],
   "source": [
    "# BAC, C, JPM, WFC\n",
    "\n",
    "nyse_df.query('ticker in (\"BAC\", \"C\", \"JPM\", \"WFC\")').head()"
   ]
  },
  {
   "cell_type": "code",
   "execution_count": null,
   "metadata": {},
   "outputs": [],
   "source": [
    "nyse_filtered = nyse_df.query('(volume != 0) & (ticker in (\"BAC\", \"C\", \"JPM\", \"WFC\")) & (trade_date >= 20100101) & (trade_date <= 20100131)')"
   ]
  },
  {
   "cell_type": "code",
   "execution_count": null,
   "metadata": {},
   "outputs": [],
   "source": [
    "nyse_filtered = nyse_filtered[['trade_date', 'ticker', 'volume']]"
   ]
  },
  {
   "cell_type": "code",
   "execution_count": null,
   "metadata": {},
   "outputs": [],
   "source": [
    "nyse_filtered # 20100104 180845100 40679340 35463300 39338100"
   ]
  },
  {
   "cell_type": "code",
   "execution_count": null,
   "metadata": {},
   "outputs": [],
   "source": [
    "nyse_filtered.pivot(index='trade_date', columns='ticker')"
   ]
  },
  {
   "cell_type": "code",
   "execution_count": null,
   "metadata": {},
   "outputs": [],
   "source": [
    "nyse_filtered.pivot(index='trade_date', columns='ticker').shape"
   ]
  },
  {
   "cell_type": "code",
   "execution_count": null,
   "metadata": {},
   "outputs": [],
   "source": [
    "nyse_pivoted = nyse_filtered.pivot(index='trade_date', columns='ticker')"
   ]
  },
  {
   "cell_type": "code",
   "execution_count": null,
   "metadata": {},
   "outputs": [],
   "source": [
    "nyse_pivoted.plot()"
   ]
  },
  {
   "cell_type": "code",
   "execution_count": null,
   "metadata": {},
   "outputs": [],
   "source": [
    "nyse_pivoted.plot(kind='bar')"
   ]
  },
  {
   "cell_type": "code",
   "execution_count": null,
   "metadata": {},
   "outputs": [],
   "source": [
    "nyse_pivoted.plot(kind='bar', stacked=True)"
   ]
  },
  {
   "attachments": {},
   "cell_type": "markdown",
   "metadata": {},
   "source": [
    "* Exercise: Read sales data from file and create pie chart using sale amount for each sale rep id.\n",
    "  * Read sales data from `data/sales/part-00000` using Pandas.\n",
    "  * Group the data by `sale_rep_id` and compute revenue for each sale rep id. Revenue can be computed using `sale_amount`.\n",
    "  * Plot pie chart using revenue for each sale rep id."
   ]
  }
 ],
 "metadata": {
  "kernelspec": {
   "display_name": "Python 3",
   "language": "python",
   "name": "python3"
  },
  "language_info": {
   "codemirror_mode": {
    "name": "ipython",
    "version": 3
   },
   "file_extension": ".py",
   "mimetype": "text/x-python",
   "name": "python",
   "nbconvert_exporter": "python",
   "pygments_lexer": "ipython3",
   "version": "3.11.2"
  },
  "orig_nbformat": 4
 },
 "nbformat": 4,
 "nbformat_minor": 2
}
