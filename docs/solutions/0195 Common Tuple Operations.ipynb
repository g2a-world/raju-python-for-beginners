{
 "cells": [
  {
   "attachments": {},
   "cell_type": "markdown",
   "metadata": {},
   "source": [
    "\n",
    "* Exercise 1: Get list of integers from a tuple.\n",
    "```python\n",
    "t = (1, 'Foo', 'Bar', 2, 1, 2, 3)\n",
    "```\n",
    "* Exercise 2: Get unique integers from a tuple. Use the above tuple.\n",
    "* Solution for Exercise 1\n",
    "```python\n",
    "l = []\n",
    "for i in t:\n",
    "    if type(i) == int:\n",
    "        l.append(i)\n",
    "\n",
    "print(l)\n",
    "```\n",
    "* Solution for Exercise 2\n",
    "```python\n",
    "s = set()\n",
    "for i in t:\n",
    "    if type(i) == int:\n",
    "        s.add(i)\n",
    "\n",
    "print(s)\n",
    "```"
   ]
  },
  {
   "cell_type": "markdown",
   "metadata": {},
   "source": []
  }
 ],
 "metadata": {
  "kernelspec": {
   "display_name": "Python 3.x",
   "language": "python",
   "name": "python3"
  },
  "language_info": {
   "name": "python",
   "version": "3"
  },
  "orig_nbformat": 4,
  "vscode": {
   "interpreter": {
    "hash": "31f2aee4e71d21fbe5cf8b01ff0e069b9275f58929596ceb00d14d90e3e16cd6"
   }
  }
 },
 "nbformat": 4,
 "nbformat_minor": 2
}
