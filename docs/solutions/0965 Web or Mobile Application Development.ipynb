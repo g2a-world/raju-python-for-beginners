{
 "cells": [
  {
   "attachments": {},
   "cell_type": "markdown",
   "metadata": {},
   "source": [
    "* Exercise - Getting Started with Flask\n",
    "\n",
    "1. Create model for courses using following details\n",
    "  * `course_id` of type integer, unique and sequence generated.\n",
    "  * `course_name` of type string.\n",
    "  * `course_author` of type string.\n",
    "  * `course_endpoint` of type string and unique.\n",
    "2. Launch flask shell and create table using course model.\n",
    "3. Populate data into the table using following details.\n",
    "\n",
    "|Course Id|Course Name|Course Author|Course Endpoint|\n",
    "|---|---|---|---|\n",
    "|1|Mastering Python|Scott Tiger|mastering-python|\n",
    "|2|Python App Development|Donald Duck|python-app-development|\n",
    "|3|DevOps Bootcamp|Mickey Mouse|devops-bootcamp|\n",
    "\n",
    "4. Validate whether data is populated in the table or not using appropriate API calls in Flask shell"
   ]
  },
  {
   "attachments": {},
   "cell_type": "markdown",
   "metadata": {},
   "source": [
    "* Solution - Getting Started with Flask\n",
    "\n",
    "Create Course model under `models/course.py`.\n",
    "```python\n",
    "from app import db\n",
    "\n",
    "class Course(db.Model):\n",
    "    course_id = db.Column(db.Integer, primary_key=True)\n",
    "    course_name = db.Column(db.String)\n",
    "    course_author = db.Column(db.String)\n",
    "    course_endpoint = db.Column(db.String, unique=True)\n",
    "```\n",
    "\n",
    "Launch flask shell using `python -m flask shell` and create Course Model.\n",
    "```python\n",
    "db.create_all()\n",
    "```\n",
    "\n",
    "Populate data into the table using model. We will use flask shell to run below python code to populate data into the table.\n",
    "```python\n",
    "from models.course import Course\n",
    "\n",
    "courses = [\n",
    "    {'course_id': 1, 'course_name': 'Mastering Python', 'course_author': 'Scott Tiger', 'course_endpoint': 'mastering-python'},\n",
    "    {'course_id': 2, 'course_name': 'Python App Development', 'course_author': 'Donald Duck', 'course_endpoint': 'python-app-development'},\n",
    "    {'course_id': 3, 'course_name': 'DevOps Bootcamp', 'course_author': 'Mickey Mouse', 'course_endpoint': 'devops-bootcamp'}\n",
    "]\n",
    "\n",
    "for item in courses:\n",
    "    course = Course(**item)\n",
    "    db.session.add(course)\n",
    "\n",
    "db.session.commit()\n",
    "```\n",
    "\n",
    "Validate by using get API by passing course id.\n",
    "```python\n",
    "c = Course.query.get(1)\n",
    "\n",
    "c.course_id\n",
    "c.course_name\n",
    "c.course_endpoint\n",
    "```"
   ]
  }
 ],
 "metadata": {
  "kernelspec": {
   "display_name": "Python 3.x",
   "language": "python",
   "name": "python3"
  },
  "language_info": {
   "name": "python",
   "version": "3"
  },
  "orig_nbformat": 4,
  "vscode": {
   "interpreter": {
    "hash": "31f2aee4e71d21fbe5cf8b01ff0e069b9275f58929596ceb00d14d90e3e16cd6"
   }
  }
 },
 "nbformat": 4,
 "nbformat_minor": 2
}
