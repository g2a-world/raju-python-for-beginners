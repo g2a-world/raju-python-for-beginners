{
 "cells": [
  {
   "attachments": {},
   "cell_type": "markdown",
   "metadata": {},
   "source": [
    "* Exercise - Develop a function which sends the greeting to the receiver.\n",
    "  * Function Name: `send_greeting`\n",
    "  * Arguments: `from_email`, `to_emails`, `subject`, `message`\n",
    "  * Use `sendgrid` library to send the email based on the subject and message.\n",
    "  * Make sure to validate to see if the emails are sent or not by calling the function."
   ]
  },
  {
   "attachments": {},
   "cell_type": "markdown",
   "metadata": {},
   "source": [
    "* Solution - Place in `send_mail.py`.\n",
    "\n",
    "```python\n",
    "import os\n",
    "import sys\n",
    "import ssl\n",
    "from sendgrid import SendGridAPIClient\n",
    "from sendgrid.helpers.mail import Mail\n",
    "\n",
    "\n",
    "def send_greeting(from_email, to_emails, subject, message):\n",
    "    ssl._create_default_https_context = ssl._create_unverified_context\n",
    "    message = Mail(\n",
    "        from_email=from_email,\n",
    "        to_emails=to_emails,\n",
    "        subject=subject,\n",
    "        html_content=message\n",
    "    )\n",
    "    try:\n",
    "        sg = SendGridAPIClient(os.environ.get('SENDGRID_API_KEY'))\n",
    "        response = sg.send(message)\n",
    "        print(response.status_code)\n",
    "        print(response.body)\n",
    "        print(response.headers)\n",
    "        return response\n",
    "    except Exception as e:\n",
    "        print(e.message)\n",
    "        raise\n",
    "\n",
    "\n",
    "if __name__ == '__main__':\n",
    "    args = sys.argv\n",
    "    from_email = args[1]\n",
    "    to_emails = args[2]\n",
    "    subject = args[3]\n",
    "    message = args[4]\n",
    "    send_greeting(from_email, to_emails, subject, message)\n",
    "```\n",
    "\n",
    "* Validate using below commands\n",
    "\n",
    "```\n",
    "# Mac or Linux\n",
    "export SENDGRID_API_KEY=<PASTE SENDGRID API KEY HERE>\n",
    "\n",
    "# Windows\n",
    "$Env:SENDGRID_API_KEY = \"<PASTE SENDGRID API KEY HERE>\"\n",
    "python send_mail.py durga.gadiraju@analytiqs.io dgadiraju@itversity.com \"Happy Birth Day\" \"Wish you have a great day on your birth day\"\n",
    "```"
   ]
  }
 ],
 "metadata": {
  "kernelspec": {
   "display_name": "Python 3.11.2 64-bit",
   "language": "python",
   "name": "python3"
  },
  "language_info": {
   "codemirror_mode": {
    "name": "ipython",
    "version": 3
   },
   "file_extension": ".py",
   "mimetype": "text/x-python",
   "name": "python",
   "nbconvert_exporter": "python",
   "pygments_lexer": "ipython3",
   "version": "3.11.2"
  },
  "orig_nbformat": 4,
  "vscode": {
   "interpreter": {
    "hash": "1a1af0ee75eeea9e2e1ee996c87e7a2b11a0bebd85af04bb136d915cefc0abce"
   }
  }
 },
 "nbformat": 4,
 "nbformat_minor": 2
}
