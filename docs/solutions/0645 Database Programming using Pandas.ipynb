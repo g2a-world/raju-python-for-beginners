{
 "cells": [
  {
   "attachments": {},
   "cell_type": "markdown",
   "metadata": {},
   "source": [
    "* Exercise: Read data from `data/sales/part-00000` and write to `sales` table in the database.\n",
    "  * Make sure to reset the table if it exists (recreate or truncate).\n",
    "  * Use `pandas` to read the data from file into dataframe.\n",
    "  * Write dataframe into `sales` table using `pandas`.\n",
    "  * Use `read_sql` to see if the data is written to the table or not."
   ]
  },
  {
   "cell_type": "code",
   "execution_count": null,
   "metadata": {},
   "outputs": [],
   "source": [
    "import pandas as pd"
   ]
  },
  {
   "cell_type": "code",
   "execution_count": null,
   "metadata": {},
   "outputs": [],
   "source": [
    "sales_df = pd.read_csv('data/sales/part-00000')"
   ]
  },
  {
   "cell_type": "code",
   "execution_count": null,
   "metadata": {},
   "outputs": [],
   "source": [
    "sales_df"
   ]
  },
  {
   "cell_type": "code",
   "execution_count": null,
   "metadata": {},
   "outputs": [],
   "source": [
    "host = 'localhost'\n",
    "port = 5432\n",
    "database = 'itversity_retail_db'\n",
    "user = 'itversity_retail_user'\n",
    "password = 'itversity'"
   ]
  },
  {
   "cell_type": "code",
   "execution_count": null,
   "metadata": {},
   "outputs": [],
   "source": [
    "conn = f'postgresql://{user}:{password}@{host}:{port}/{database}'"
   ]
  },
  {
   "cell_type": "code",
   "execution_count": null,
   "metadata": {},
   "outputs": [],
   "source": [
    "sales_df.to_sql(\n",
    "   'sales',\n",
    "   con=conn,\n",
    "   if_exists='append',\n",
    "   index=False\n",
    ")"
   ]
  },
  {
   "cell_type": "code",
   "execution_count": null,
   "metadata": {},
   "outputs": [],
   "source": [
    "pd.read_sql('sales', con=conn)"
   ]
  },
  {
   "cell_type": "code",
   "execution_count": null,
   "metadata": {},
   "outputs": [],
   "source": [
    "# Consolidated Code\n",
    "\n",
    "import pandas as pd\n",
    "sales_df = pd.read_csv('data/sales/part-00000')\n",
    "\n",
    "host = 'localhost'\n",
    "port = 5432\n",
    "database = 'itversity_retail_db'\n",
    "user = 'itversity_retail_user'\n",
    "password = 'itversity'\n",
    "\n",
    "conn = f'postgresql://{user}:{password}@{host}:{port}/{database}'\n",
    "\n",
    "sales_df.to_sql(\n",
    "   'sales',\n",
    "   con=conn,\n",
    "   if_exists='append',\n",
    "   index=False\n",
    ")"
   ]
  }
 ],
 "metadata": {
  "kernelspec": {
   "display_name": "Python 3.x",
   "language": "python",
   "name": "python3"
  },
  "language_info": {
   "codemirror_mode": {
    "name": "ipython",
    "version": 3
   },
   "file_extension": ".py",
   "mimetype": "text/x-python",
   "name": "python",
   "nbconvert_exporter": "python",
   "pygments_lexer": "ipython3",
   "version": "3"
  },
  "orig_nbformat": 4,
  "vscode": {
   "interpreter": {
    "hash": "31f2aee4e71d21fbe5cf8b01ff0e069b9275f58929596ceb00d14d90e3e16cd6"
   }
  }
 },
 "nbformat": 4,
 "nbformat_minor": 2
}
