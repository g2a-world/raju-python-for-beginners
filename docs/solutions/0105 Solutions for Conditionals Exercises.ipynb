{
 "cells": [
  {
   "cell_type": "markdown",
   "metadata": {},
   "source": [
    "* Exercise 1 - Check if the number is positive integer and also if it is divisible by 2 or 3.\n",
    "  * If all the conditions satisfy, print \"{n} is positive integer and is divisible by 2 or 3\"\n",
    "  * If any of the conditions fail, print \"{n} is not a valid number\""
   ]
  },
  {
   "cell_type": "markdown",
   "metadata": {},
   "source": [
    "* Exercise 2 - Check whether candidate is \"failed\" or \"just passed\" or \"passed with distinciton\".\n",
    "  * If score <= 50, failed\n",
    "  * If score > 50 and score <= 80, \"just passed\"\n",
    "  * Otherwise \"passed with distinction\""
   ]
  },
  {
   "cell_type": "markdown",
   "metadata": {},
   "source": [
    "* Exercise 3 - Leap Year\n",
    "\n",
    "Accept an integer value using input and assign to variable by name year. If year is negative or 0 print \"Entered year {year} is invalid\", if year is positive apply below logic to determine leap year. If it is leap year print \"Entered year {year} is leap year\", if not print \"Entered year {year} is not leap year\".\n",
    "\n",
    "Leap Year Formulla: \n",
    "To be a leap year, the year number must be divisible by four – except for end-of-century years, which must be divisible by 400. This means that the year 2000 was a leap year, although 1900 was not. 2024, 2028, 2032 and 2036 are all leap years.\n"
   ]
  },
  {
   "cell_type": "code",
   "execution_count": null,
   "metadata": {},
   "outputs": [],
   "source": [
    "# Solution for Exercise 1\n",
    "n = 11 # Test with negative integer or 0\n",
    "\n",
    "if (type(n) == int and n > 0) and (n % 2 == 0 or n % 3 == 0):\n",
    "    print(f'{n} is positive integer and is divisible by 2 or 3')\n",
    "else:\n",
    "    print(f'{n} is not a valid number')"
   ]
  },
  {
   "cell_type": "code",
   "execution_count": null,
   "metadata": {},
   "outputs": [],
   "source": [
    "# Solution for Exercise 2\n",
    "\n",
    "score = 90\n",
    "\n",
    "if score <= 50:\n",
    "    print('failed')\n",
    "elif score > 50 and score <= 80:\n",
    "    print('just passed')\n",
    "else:\n",
    "    print('passed with distinct')"
   ]
  },
  {
   "cell_type": "code",
   "execution_count": null,
   "metadata": {},
   "outputs": [],
   "source": [
    "# Solution for Exercise 3\n",
    "year = int(input('Enter year to check if it is leap year: '))"
   ]
  },
  {
   "cell_type": "code",
   "execution_count": null,
   "metadata": {},
   "outputs": [],
   "source": [
    "if year <= 0:\n",
    "    print(f'Entered year {year} is invalid')\n",
    "elif year % 4 != 0 or (year % 100 == 0 and year % 400 != 0):\n",
    "    print(f'Entered year {year} is not leap year')\n",
    "else:\n",
    "    print(f'Entered year {year} is leap year')"
   ]
  }
 ],
 "metadata": {
  "kernelspec": {
   "display_name": "Python 3.11.2 64-bit",
   "language": "python",
   "name": "python3"
  },
  "language_info": {
   "name": "python",
   "version": "3.11.2"
  },
  "orig_nbformat": 4,
  "vscode": {
   "interpreter": {
    "hash": "1a1af0ee75eeea9e2e1ee996c87e7a2b11a0bebd85af04bb136d915cefc0abce"
   }
  }
 },
 "nbformat": 4,
 "nbformat_minor": 2
}
