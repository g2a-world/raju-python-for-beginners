{
 "cells": [
  {
   "attachments": {},
   "cell_type": "markdown",
   "metadata": {},
   "source": [
    "\n",
    "Exercise\n",
    "```\n",
    "sale_id,sale_rep_id,sale_amount,commission_pct\n",
    "1,101,500.00,5\n",
    "2,102,250.00,3\n",
    "3,103,1000.00,8\n",
    "4,104,750.00,\n",
    "5,101,300.00,-1\n",
    "6,106,400.00,3\n",
    "7,104,200.00,0\n",
    "8,103,150.00,1\n",
    "9,104,600.00,4\n",
    "10,101,800.00,6\n",
    "```\n",
    "\n",
    "Create Table Commands.\n",
    "```sql\n",
    "DROP TABLE sales;\n",
    "CREATE TABLE sales (\n",
    "\tsale_id INT PRIMARY KEY, -- Unique as well as not null\n",
    "\tsale_rep_id INT,\n",
    "\tsale_amount FLOAT,\n",
    "\tcommission_pct INT\n",
    ");\n",
    "\n",
    "DROP TABLE sale_reps;\n",
    "CREATE TABLE sale_reps (\n",
    "\tsale_rep_id INT PRIMARY KEY, \n",
    "\tsr_first_name VARCHAR(50) NOT NULL,\n",
    "\tsr_last_name VARCHAR(50) NOT NULL DEFAULT 'NA',\n",
    "\tsr_email VARCHAR(100) NOT NULL,\n",
    "\tsr_phone_number VARCHAR(20),\n",
    "\tsr_salary FLOAT,\n",
    "\tcreated_ts TIMESTAMP DEFAULT current_timestamp\n",
    ");\n",
    "```\n",
    "\n",
    "Solution for Exercise\n",
    "```sql\n",
    "INSERT INTO sales\n",
    "VALUES\n",
    "\t(1, 101, 500.00, 5),\n",
    "\t(2, 102, 250.00, 3),\n",
    "\t(3, 103, 1000.00, 8),\n",
    "\t(4, 104, 750.00, NULL),\n",
    "\t(5, 101, 300.00, -1),\n",
    "\t(6, 106, 400.00, 3),\n",
    "\t(7, 104, 200.00, 0),\n",
    "\t(8, 103, 150.00, 1),\n",
    "\t(9, 104, 600.00, 4),\n",
    "\t(10, 101, 800.00, 6);\n",
    "\t\n",
    "SELECT * FROM sales;\n",
    "SELECT * FROM sales WHERE commission_pct IS NULL;\n",
    "```"
   ]
  },
  {
   "attachments": {},
   "cell_type": "markdown",
   "metadata": {},
   "source": []
  }
 ],
 "metadata": {
  "kernelspec": {
   "display_name": "Python 3.x",
   "language": "python",
   "name": "python3"
  },
  "language_info": {
   "name": "python",
   "version": "3"
  },
  "orig_nbformat": 4,
  "vscode": {
   "interpreter": {
    "hash": "31f2aee4e71d21fbe5cf8b01ff0e069b9275f58929596ceb00d14d90e3e16cd6"
   }
  }
 },
 "nbformat": 4,
 "nbformat_minor": 2
}
