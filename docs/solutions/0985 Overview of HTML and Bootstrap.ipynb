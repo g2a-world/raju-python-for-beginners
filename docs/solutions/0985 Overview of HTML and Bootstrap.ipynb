{
 "cells": [
  {
   "attachments": {},
   "cell_type": "markdown",
   "metadata": {},
   "source": [
    "* Exercise and Solution\n",
    "\n",
    "Create a responsive HTML page using below data. The HTML page should have a table.\n",
    "\n",
    "|Course Id|Course Name|Course Author|Course Endpoint|\n",
    "|---|---|---|---|\n",
    "|1|Mastering Python|Scott Tiger|mastering-python|\n",
    "|2|Python App Development|Donald Duck|python-app-development|\n",
    "|3|DevOps Bootcamp|Mickey Mouse|devops-bootcamp|"
   ]
  },
  {
   "attachments": {},
   "cell_type": "markdown",
   "metadata": {},
   "source": [
    "* Solution\n",
    "\n",
    "```html\n",
    "<!DOCTYPE html>\n",
    "<html>\n",
    "    <head>\n",
    "        <meta charset=\"utf-8\">\n",
    "        <meta name=\"viewport\" content=\"width=device-width, initial-scale=1\">\n",
    "        <link href=\"https://cdn.jsdelivr.net/npm/bootstrap@5.2.3/dist/css/bootstrap.min.css\" rel=\"stylesheet\">\n",
    "        <script src=\"https://cdn.jsdelivr.net/npm/bootstrap@5.2.3/dist/js/bootstrap.bundle.min.js\"></script>\n",
    "        <style>\n",
    "            table, th, td {\n",
    "                border: 1px solid black;\n",
    "            }\n",
    "        </style>\n",
    "    </head>\n",
    "    <body>\n",
    "        <div class=\"container\">\n",
    "            <h1>Courses Data</h1>\n",
    "            <table border=\"true\">\n",
    "                <thead>\n",
    "                    <tr>\n",
    "                        <th>Course Id</th>\n",
    "                        <th>Course Name</th>\n",
    "                        <th>Course Author</th>\n",
    "                        <th>Course Endpoint</th>\n",
    "                    </tr>\n",
    "                </thead>\n",
    "                <tbody>\n",
    "                    <tr>\n",
    "                        <td>1</td>\n",
    "                        <td>Mastering Python</td>\n",
    "                        <td>Scott Tiger</td>\n",
    "                        <td>mastering-python</td>\n",
    "                    </tr>\n",
    "                    <tr>\n",
    "                        <td>2</td>\n",
    "                        <td>Python App Development</td>\n",
    "                        <td>Donald Duck</td>\n",
    "                        <td>python-app-development</td>\n",
    "                    </tr>\n",
    "                    <tr>\n",
    "                        <td>3</td>\n",
    "                        <td>DevOps Bootcamp</td>\n",
    "                        <td>Mickey Mouse</td>\n",
    "                        <td>devops-bootcamp</td>\n",
    "                    </tr>\n",
    "                </tbody>\n",
    "            </table>\n",
    "        </div>\n",
    "    </body>\n",
    "</html>\n",
    "```"
   ]
  }
 ],
 "metadata": {
  "kernelspec": {
   "display_name": "Python 3.x",
   "language": "python",
   "name": "python3"
  },
  "language_info": {
   "name": "python",
   "version": "3"
  },
  "orig_nbformat": 4,
  "vscode": {
   "interpreter": {
    "hash": "31f2aee4e71d21fbe5cf8b01ff0e069b9275f58929596ceb00d14d90e3e16cd6"
   }
  }
 },
 "nbformat": 4,
 "nbformat_minor": 2
}
