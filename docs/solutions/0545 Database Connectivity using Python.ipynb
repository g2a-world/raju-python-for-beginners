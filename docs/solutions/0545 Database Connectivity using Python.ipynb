{
 "cells": [
  {
   "attachments": {},
   "cell_type": "markdown",
   "metadata": {},
   "source": [
    "* Exercise and Solution\n",
    "  * Create Tables in remote database\n",
    "  * Populate Sales data into the table and Validate by running queries\n",
    "  * Validate Database Connectivity against remote database using Python\n",
    "\n",
    "Solution\n",
    "```sql\n",
    "DROP TABLE sales;\n",
    "CREATE TABLE sales (\n",
    "\tsale_id INT PRIMARY KEY, -- Unique as well as not null\n",
    "\tsale_rep_id INT,\n",
    "\tsale_amount FLOAT,\n",
    "\tcommission_pct INT\n",
    ");\n",
    "\n",
    "DROP TABLE sale_reps;\n",
    "CREATE TABLE sale_reps (\n",
    "\tsale_rep_id INT PRIMARY KEY, \n",
    "\tsr_first_name VARCHAR(50) NOT NULL,\n",
    "\tsr_last_name VARCHAR(50) NOT NULL DEFAULT 'NA',\n",
    "\tsr_email VARCHAR(100) NOT NULL,\n",
    "\tsr_phone_number VARCHAR(20),\n",
    "\tsr_salary FLOAT,\n",
    "\tcreated_ts TIMESTAMP DEFAULT current_timestamp\n",
    ");\n",
    "\n",
    "INSERT INTO sales\n",
    "VALUES\n",
    "\t(1, 101, 500.00, 5),\n",
    "\t(2, 102, 250.00, 3),\n",
    "\t(3, 103, 1000.00, 8),\n",
    "\t(4, 104, 750.00, NULL),\n",
    "\t(5, 101, 300.00, -1),\n",
    "\t(6, 106, 400.00, 3),\n",
    "\t(7, 104, 200.00, 0),\n",
    "\t(8, 103, 150.00, 1),\n",
    "\t(9, 104, 600.00, 4),\n",
    "\t(10, 101, 800.00, 6);\n",
    "\t\n",
    "SELECT * FROM sales;\n",
    "SELECT * FROM sales WHERE commission_pct IS NULL;\n",
    "```"
   ]
  },
  {
   "cell_type": "code",
   "execution_count": null,
   "metadata": {},
   "outputs": [],
   "source": [
    "# Validate Database Connectivity using Python\n",
    "# You can use the same code for the solution to the exercise\n",
    "import psycopg2"
   ]
  },
  {
   "cell_type": "code",
   "execution_count": null,
   "metadata": {},
   "outputs": [],
   "source": [
    "help(psycopg2.connect)"
   ]
  },
  {
   "cell_type": "code",
   "execution_count": null,
   "metadata": {},
   "outputs": [],
   "source": [
    "# Update details using remote database information for the solution to the exercise\n",
    "conn = psycopg2.connect(\n",
    "    host='localhost',\n",
    "    port=5432,\n",
    "    database='itversity_retail_db',\n",
    "    user='itversity_retail_user',\n",
    "    password='itversity'\n",
    ")"
   ]
  },
  {
   "cell_type": "code",
   "execution_count": null,
   "metadata": {},
   "outputs": [],
   "source": [
    "cur = conn.cursor()"
   ]
  },
  {
   "cell_type": "code",
   "execution_count": null,
   "metadata": {},
   "outputs": [],
   "source": [
    "cur.execute('SELECT current_date')"
   ]
  },
  {
   "cell_type": "code",
   "execution_count": null,
   "metadata": {},
   "outputs": [],
   "source": [
    "cur.fetchall()"
   ]
  },
  {
   "cell_type": "code",
   "execution_count": null,
   "metadata": {},
   "outputs": [],
   "source": [
    "cur.execute('SELECT * FROM sales')"
   ]
  },
  {
   "cell_type": "code",
   "execution_count": null,
   "metadata": {},
   "outputs": [],
   "source": [
    "cur.fetchall()"
   ]
  },
  {
   "cell_type": "code",
   "execution_count": null,
   "metadata": {},
   "outputs": [],
   "source": []
  }
 ],
 "metadata": {
  "kernelspec": {
   "display_name": "Python 3",
   "language": "python",
   "name": "python3"
  },
  "language_info": {
   "name": "python",
   "version": "3.11.2"
  },
  "orig_nbformat": 4,
  "vscode": {
   "interpreter": {
    "hash": "949777d72b0d2535278d3dc13498b2535136f6dfe0678499012e853ee9abcab1"
   }
  }
 },
 "nbformat": 4,
 "nbformat_minor": 2
}
