{
 "cells": [
  {
   "cell_type": "markdown",
   "metadata": {},
   "source": [
    "* Exercise: Read, Process and Write (using File I/O and csv)\n",
    "  * Read sales data from `data/sales/part-00000` using `csv.reader`.\n",
    "  * Filter for valid sales with sale amount <= 500.\n",
    "  * Write filtered data back to `data/sales/filtered.csv` using `csv.writer`."
   ]
  },
  {
   "cell_type": "code",
   "execution_count": null,
   "metadata": {},
   "outputs": [],
   "source": [
    "# Read from file\n",
    "with open('data/sales/part-00000') as f:\n",
    "    data = csv.reader(f.read().splitlines())"
   ]
  },
  {
   "cell_type": "code",
   "execution_count": null,
   "metadata": {},
   "outputs": [],
   "source": [
    "# Process (filter)\n",
    "sales_filtered = []\n",
    "for idx, sale in enumerate(data):\n",
    "    if idx != 0 and (sale[3] != '' and float(sale[3]) >= 0 and float(sale[2]) <= 500):\n",
    "        sales_filtered.append(sale)\n",
    "\n",
    "sales_filtered"
   ]
  },
  {
   "cell_type": "code",
   "execution_count": null,
   "metadata": {},
   "outputs": [],
   "source": [
    "# Write to file\n",
    "with open('data/sales/filtered.csv', 'w') as f:\n",
    "    writer = csv.writer(f)\n",
    "    writer.writerows(sales_filtered)"
   ]
  }
 ],
 "metadata": {
  "kernelspec": {
   "display_name": "Python 3.11.2 64-bit",
   "language": "python",
   "name": "python3"
  },
  "language_info": {
   "codemirror_mode": {
    "name": "ipython",
    "version": 3
   },
   "file_extension": ".py",
   "mimetype": "text/x-python",
   "name": "python",
   "nbconvert_exporter": "python",
   "pygments_lexer": "ipython3",
   "version": "3.11.2"
  },
  "orig_nbformat": 4,
  "vscode": {
   "interpreter": {
    "hash": "1a1af0ee75eeea9e2e1ee996c87e7a2b11a0bebd85af04bb136d915cefc0abce"
   }
  }
 },
 "nbformat": 4,
 "nbformat_minor": 2
}
