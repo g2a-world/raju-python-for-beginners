{
 "cells": [
  {
   "cell_type": "markdown",
   "metadata": {},
   "source": [
    "* Exercise: Use the below student data and compute total score. The output should be list of tuples. Implement the solution using `csv.reader`. Each delimited string contain student id followed by scores related to 3 subjects.\n",
    "\n",
    "```python\n",
    "students = [\n",
    "    '1,92,93,95',\n",
    "    '2,89,86,96',\n",
    "    '3,75,66,80',\n",
    "    '4,55,58,75',\n",
    "    '5,72,78,69'\n",
    "]\n",
    "```"
   ]
  },
  {
   "cell_type": "code",
   "execution_count": null,
   "metadata": {},
   "outputs": [],
   "source": [
    "students = [\n",
    "    '1,92,93,95',\n",
    "    '2,89,86,96',\n",
    "    '3,75,66,80',\n",
    "    '4,55,58,75',\n",
    "    '5,72,78,69'\n",
    "]"
   ]
  },
  {
   "cell_type": "code",
   "execution_count": null,
   "metadata": {},
   "outputs": [],
   "source": [
    "student_scores = []\n",
    "for student in csv.reader(students):\n",
    "    sd = [int(s) for s in student]\n",
    "    student_scores.append((sd[0], sum(sd[1:])))\n",
    "\n",
    "\n",
    "student_scores"
   ]
  },
  {
   "cell_type": "code",
   "execution_count": null,
   "metadata": {},
   "outputs": [],
   "source": []
  }
 ],
 "metadata": {
  "kernelspec": {
   "display_name": "Python 3.11.2 64-bit",
   "language": "python",
   "name": "python3"
  },
  "language_info": {
   "codemirror_mode": {
    "name": "ipython",
    "version": 3
   },
   "file_extension": ".py",
   "mimetype": "text/x-python",
   "name": "python",
   "nbconvert_exporter": "python",
   "pygments_lexer": "ipython3",
   "version": "3.11.2"
  },
  "orig_nbformat": 4,
  "vscode": {
   "interpreter": {
    "hash": "1a1af0ee75eeea9e2e1ee996c87e7a2b11a0bebd85af04bb136d915cefc0abce"
   }
  }
 },
 "nbformat": 4,
 "nbformat_minor": 2
}
