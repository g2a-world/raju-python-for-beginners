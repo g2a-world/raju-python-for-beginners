{
 "cells": [
  {
   "cell_type": "markdown",
   "metadata": {},
   "source": [
    "Exercise 1: Get sum of all the numbers greater than 100 from the sorted list `[125, 115, 101, 100, 90, 80, 75]`.\n",
    "\n",
    "Exercise 2: Print all the numbers which are divisible by both 2 and 3 between 1 and 100.\n"
   ]
  },
  {
   "cell_type": "code",
   "execution_count": null,
   "metadata": {},
   "outputs": [],
   "source": [
    "# Solution for exercise 1\n",
    "l = [125, 115, 101, 100, 90, 80, 75]\n",
    "i = 0\n",
    "total = 0\n",
    "while l[i] > 100:\n",
    "    total += l[i]\n",
    "    i += 1\n",
    "\n",
    "print(total)\n"
   ]
  },
  {
   "cell_type": "code",
   "execution_count": null,
   "metadata": {},
   "outputs": [],
   "source": [
    "# Solution for exercise 2\n",
    "for i in range(1, 101):\n",
    "    if i % 2 == 0 and i % 3 == 0:\n",
    "        print(i, end=' ')"
   ]
  }
 ],
 "metadata": {
  "kernelspec": {
   "display_name": "Python 3.x",
   "language": "python",
   "name": "python3"
  },
  "language_info": {
   "name": "python",
   "version": "3"
  },
  "orig_nbformat": 4,
  "vscode": {
   "interpreter": {
    "hash": "31f2aee4e71d21fbe5cf8b01ff0e069b9275f58929596ceb00d14d90e3e16cd6"
   }
  }
 },
 "nbformat": 4,
 "nbformat_minor": 2
}
