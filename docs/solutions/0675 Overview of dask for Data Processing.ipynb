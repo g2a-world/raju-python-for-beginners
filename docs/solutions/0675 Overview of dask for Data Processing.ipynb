{
 "cells": [
  {
   "attachments": {},
   "cell_type": "markdown",
   "metadata": {},
   "source": [
    "* Exercise: Convert the text files under `data/nyse_all/nyse_data` to json. Use `dask` to take care of reading the data into the data frame and then writing the data to json format.\n",
    "  * Source folder: `data/nyse_all/nyse_data`\n",
    "  * Target folder: `data/nyse_all/nyse_json`\n",
    "  * File Format: `gzip` compressed json format.\n",
    "  * Column Names: `['ticker', 'trade_date', 'open_price', 'low_price', 'high_price', 'close_price', 'volume']`\n",
    "  * Make sure file name is generated using part-nnnnn.json.gz (eg: `part-00000.json.gz`)\n",
    "  * Validate by using shape on both source and target locations.\n",
    "  * Monitor the overall execution time"
   ]
  },
  {
   "cell_type": "code",
   "execution_count": null,
   "metadata": {},
   "outputs": [],
   "source": [
    "from dask import dataframe as dd"
   ]
  },
  {
   "cell_type": "code",
   "execution_count": null,
   "metadata": {},
   "outputs": [],
   "source": [
    "df = dd.read_csv(\n",
    "    'data/nyse_all/nyse_data/NYSE*.txt.gz',\n",
    "    names=['ticker', 'trade_date', 'open_price', 'low_price', \n",
    "           'high_price', 'close_price', 'volume'],\n",
    "    blocksize=None\n",
    ")"
   ]
  },
  {
   "cell_type": "code",
   "execution_count": null,
   "metadata": {},
   "outputs": [],
   "source": [
    "df.compute().shape"
   ]
  },
  {
   "cell_type": "code",
   "execution_count": null,
   "metadata": {},
   "outputs": [],
   "source": [
    "df.head()"
   ]
  },
  {
   "cell_type": "code",
   "execution_count": null,
   "metadata": {},
   "outputs": [],
   "source": [
    "df.query('volume > 0').head()"
   ]
  },
  {
   "cell_type": "code",
   "execution_count": null,
   "metadata": {},
   "outputs": [],
   "source": [
    "df.to_json(\n",
    "    'data/nyse_all/nyse_json/part-*.json.gz',\n",
    "    orient='records',\n",
    "    lines=True,\n",
    "    compression='gzip',\n",
    "    name_function=lambda i: '%05d' % i\n",
    ")"
   ]
  },
  {
   "cell_type": "code",
   "execution_count": null,
   "metadata": {},
   "outputs": [],
   "source": [
    "dd.read_csv(\n",
    "    'data/nyse_all/nyse_data/NYSE*.txt.gz',\n",
    "    header=None,\n",
    "    blocksize=None\n",
    ").compute().shape"
   ]
  },
  {
   "cell_type": "code",
   "execution_count": null,
   "metadata": {},
   "outputs": [],
   "source": [
    "dd.read_json(\n",
    "    'data/nyse_all/nyse_json/part-*.json.gz',\n",
    "    blocksize=None\n",
    ").compute().shape"
   ]
  },
  {
   "cell_type": "code",
   "execution_count": null,
   "metadata": {},
   "outputs": [],
   "source": [
    "dd.read_json(\n",
    "    'data/nyse_all/nyse_json/part-*.json.gz',\n",
    "    blocksize=None\n",
    ").head()"
   ]
  },
  {
   "cell_type": "code",
   "execution_count": null,
   "metadata": {},
   "outputs": [],
   "source": [
    "dd.read_json(\n",
    "    'data/nyse_all/nyse_json/part-*.json.gz',\n",
    "    blocksize=None\n",
    ").query('volume > 0').head()"
   ]
  },
  {
   "cell_type": "code",
   "execution_count": null,
   "metadata": {},
   "outputs": [],
   "source": []
  }
 ],
 "metadata": {
  "kernelspec": {
   "display_name": "Python 3",
   "language": "python",
   "name": "python3"
  },
  "language_info": {
   "codemirror_mode": {
    "name": "ipython",
    "version": 3
   },
   "file_extension": ".py",
   "mimetype": "text/x-python",
   "name": "python",
   "nbconvert_exporter": "python",
   "pygments_lexer": "ipython3",
   "version": "3.11.2"
  },
  "orig_nbformat": 4
 },
 "nbformat": 4,
 "nbformat_minor": 2
}
