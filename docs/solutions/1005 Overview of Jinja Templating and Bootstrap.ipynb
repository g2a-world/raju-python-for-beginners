{
 "cells": [
  {
   "attachments": {},
   "cell_type": "markdown",
   "metadata": {},
   "source": [
    "* Exercise - Jinja Templating and Bootstrap\n",
    "\n",
    "1. Develop the HTML Template for courses dashboard using Jinja Templating.\n",
    "2. Add `courses` function to `app.py` for endpoint `/courses`."
   ]
  },
  {
   "attachments": {},
   "cell_type": "markdown",
   "metadata": {},
   "source": [
    "* Solution - Jinja Templating and Bootstrap\n",
    "\n",
    "HTML Template for courses dashboard\n",
    "```html\n",
    "{%- extends \"base.html\" %}\n",
    "\n",
    " {% block content %}\n",
    "    <h3>Courses Dashboard</h3>\n",
    "    <table id=\"data\" class=\"table table-striped\">\n",
    "        <thead>\n",
    "            <tr>\n",
    "                <th>Course Id</th>\n",
    "                <th>Course Name</th>\n",
    "                <th>Course Author</th>\n",
    "                <th>Course Endpoint</th>\n",
    "            </tr>\n",
    "        </thead>\n",
    "        <tbody>\n",
    "            {% for course in courses %}\n",
    "            <tr>\n",
    "                <td>{{ course.course_id }}</td>\n",
    "                <td>{{ course.course_name }}</td>\n",
    "                <td>{{ course.course_author }}</td>\n",
    "                <td>{{ course.course_endpoint }}</td>\n",
    "            </tr>\n",
    "            {% endfor %}\n",
    "        </tbody>\n",
    "    </table>\n",
    " {%- endblock %}\n",
    "```\n",
    "\n",
    "Update `app.py` with the below piece of code.\n",
    "```python\n",
    "@app.route('/courses')\n",
    "def courses():\n",
    "    course_recs = db.session.query(Course).all()\n",
    "    courses = list(map(lambda rec: rec.__dict__, course_recs))\n",
    "    return render_template('courses.html', courses=courses)\n",
    "```\n",
    "\n",
    "Run and validate by going to http://localhost:5000/courses"
   ]
  }
 ],
 "metadata": {
  "language_info": {
   "name": "python"
  },
  "orig_nbformat": 4
 },
 "nbformat": 4,
 "nbformat_minor": 2
}
