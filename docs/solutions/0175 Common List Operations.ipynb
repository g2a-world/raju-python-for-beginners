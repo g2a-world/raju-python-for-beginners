{
 "cells": [
  {
   "attachments": {},
   "cell_type": "markdown",
   "metadata": {},
   "source": [
    "* Exercise 1: Return list of Fibonacci numbers up to the positive integer entered. Use below code to check if the given number is a fibonacci number.\n",
    "```python\n",
    "def is_fibonacci(n: int) -> bool:\n",
    "    if n < 0 or type(n) != int:\n",
    "        raise ValueError('Invalid Number')\n",
    "    fib_base1 = 0\n",
    "    fib_base2 = 1\n",
    "    fib = fib_base1\n",
    "    while fib < n:\n",
    "        fib = fib_base2\n",
    "        fib_base2 += fib_base1\n",
    "        fib_base1 = fib \n",
    "    return fib == n\n",
    "```\n",
    "\n",
    "* Exercise 2: Return list of Prime numbers up to the positive integer entered. Use below code to check if the given number is a prime number.\n",
    "```python\n",
    "import math\n",
    "\n",
    "def is_prime(n: int) -> bool:\n",
    "    if n < 0 or type(n) != int:\n",
    "        raise ValueError('Invalid Number')\n",
    "    if (n != 2 and n % 2 == 0) or n in (0, 1):\n",
    "        return False\n",
    "    if n == 3 or n == 2:\n",
    "        return True\n",
    "    for i in range(3, math.ceil(math.sqrt(n)) + 1, 2):\n",
    "        if n % i == 0:\n",
    "            return False\n",
    "    return True\n",
    "```\n",
    "\n",
    "* Solution for Exercise 1\n",
    "```python\n",
    "def get_fibs(n=10):\n",
    "    fibs = []\n",
    "    for i in range(1, n + 1):\n",
    "        if is_fibonacci(i):\n",
    "            fibs.append(i)\n",
    "    return fibs\n",
    "\n",
    "get_fibs(100)\n",
    "```\n",
    "\n",
    "* Solution for Exercise 2:\n",
    "```python\n",
    "def get_primes(n=20):\n",
    "    primes = []\n",
    "    for i in range(1, n + 1):\n",
    "        if is_prime(i):\n",
    "            primes.append(i)\n",
    "    return primes\n",
    "\n",
    "get_primes(100)\n",
    "```"
   ]
  }
 ],
 "metadata": {
  "kernelspec": {
   "display_name": "Python 3.x",
   "language": "python",
   "name": "python3"
  },
  "language_info": {
   "name": "python",
   "version": "3"
  },
  "orig_nbformat": 4,
  "vscode": {
   "interpreter": {
    "hash": "31f2aee4e71d21fbe5cf8b01ff0e069b9275f58929596ceb00d14d90e3e16cd6"
   }
  }
 },
 "nbformat": 4,
 "nbformat_minor": 2
}
