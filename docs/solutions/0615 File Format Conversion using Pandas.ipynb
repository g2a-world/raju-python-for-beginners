{
 "cells": [
  {
   "attachments": {},
   "cell_type": "markdown",
   "metadata": {},
   "source": [
    "* Exercise: Convert NYSE data from CSV in `data/nyse_all/nyse_data` to JSON format using gzip compression.\n",
    "  * Source folder: `data/nyse_all/nyse_data`\n",
    "  * Target folder: `data/nyse_all/nyse_json`\n",
    "  * File Format: `gzip` compressed json format.\n",
    "  * Column Names: `['ticker', 'trade_date', 'open_price', 'low_price', 'high_price', 'close_price', 'volume']`\n",
    "  * Make sure file names are generated using `part-uuid.json` format (eg: `part-some-unique-id.json.gz`)\n",
    "  * Validate by using shape on both source and target locations.\n"
   ]
  },
  {
   "cell_type": "code",
   "execution_count": null,
   "metadata": {},
   "outputs": [],
   "source": [
    "import glob\n",
    "import os\n",
    "import uuid\n",
    "import pandas as pd"
   ]
  },
  {
   "cell_type": "code",
   "execution_count": null,
   "metadata": {},
   "outputs": [],
   "source": [
    "for path in glob.glob('data/nyse_all/nyse_data/*.txt.gz'):\n",
    "    df = pd.read_csv(\n",
    "        path,\n",
    "        names=['ticker', 'trade_date', 'open_price', 'low_price', \n",
    "               'high_price', 'close_price', 'volume']\n",
    "    )\n",
    "    print(f'Number of records in {path} is {df.shape[0]}')"
   ]
  },
  {
   "cell_type": "code",
   "execution_count": null,
   "metadata": {},
   "outputs": [],
   "source": [
    "%%time\n",
    "\n",
    "os.makedirs('data/nyse_all/nyse_json', exist_ok=True)\n",
    "for path in glob.glob('data/nyse_all/nyse_data/*.txt.gz'):\n",
    "    df = pd.read_csv(\n",
    "        path,\n",
    "        names=['ticker', 'trade_date', 'open_price', 'low_price', \n",
    "               'high_price', 'close_price', 'volume']\n",
    "    )\n",
    "    df.to_json(\n",
    "        f'data/nyse_all/nyse_json/part-{str(uuid.uuid1())}.json.gz',\n",
    "        orient='records',\n",
    "        lines=True,\n",
    "        compression='gzip'\n",
    "    )\n",
    "    print(f'Number of records processed in {path} is {df.shape[0]}')"
   ]
  },
  {
   "cell_type": "code",
   "execution_count": null,
   "metadata": {},
   "outputs": [],
   "source": [
    "%%time\n",
    "for path in glob.glob('data/nyse_all/nyse_json/*.json.gz'):\n",
    "    df = pd.read_json(\n",
    "        path,\n",
    "        lines=True\n",
    "    )\n",
    "    print(f'Number of records in {path} is {df.shape[0]}')"
   ]
  },
  {
   "cell_type": "code",
   "execution_count": null,
   "metadata": {},
   "outputs": [],
   "source": []
  }
 ],
 "metadata": {
  "kernelspec": {
   "display_name": "Python 3",
   "language": "python",
   "name": "python3"
  },
  "language_info": {
   "codemirror_mode": {
    "name": "ipython",
    "version": 3
   },
   "file_extension": ".py",
   "mimetype": "text/x-python",
   "name": "python",
   "nbconvert_exporter": "python",
   "pygments_lexer": "ipython3",
   "version": "3.10.10"
  },
  "orig_nbformat": 4,
  "vscode": {
   "interpreter": {
    "hash": "7e1998ff7f8aa20ada591c520b972326324e5ea05489af9e422744c7c09f6dad"
   }
  }
 },
 "nbformat": 4,
 "nbformat_minor": 2
}
