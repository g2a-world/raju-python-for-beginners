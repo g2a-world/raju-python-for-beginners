{
 "cells": [
  {
   "attachments": {},
   "cell_type": "markdown",
   "metadata": {},
   "source": [
    "* Exercise: Create a function which will compute commission amount using sale amount and commission %. Make sure to log messages before and after executing it using `log_decorator`.\n",
    "  * Function Name: `get_commission_amount`\n",
    "  * Parameters: `sale_amount` and `commission_pct`.\n",
    "  * Use the formulla of (\"sale amount\" * \"commission %\") / 100 to compute \"commission amount\".\n",
    "  * Validate by invoking the function and print the result.\n",
    "  * Ensure the messages are logged by log decorator"
   ]
  },
  {
   "cell_type": "code",
   "execution_count": null,
   "metadata": {},
   "outputs": [],
   "source": [
    "from datetime import datetime as dt\n",
    "def log_decorator(func):\n",
    "    def wrapper(*args, **kwargs):\n",
    "        print(f'{str(dt.now())}: Calling function {func.__name__} with args {args} and kwargs {kwargs}')\n",
    "        result = func(*args, **kwargs)\n",
    "        print(f'{str(dt.now())}: Function {func.__name__} returned {result}')\n",
    "        return result\n",
    "    return wrapper"
   ]
  },
  {
   "cell_type": "code",
   "execution_count": null,
   "metadata": {},
   "outputs": [],
   "source": [
    "@log_decorator\n",
    "def get_commission_amount(sale_amount, commission_pct):\n",
    "    return (sale_amount * commission_pct) / 100"
   ]
  },
  {
   "cell_type": "code",
   "execution_count": null,
   "metadata": {},
   "outputs": [],
   "source": [
    "get_commission_amount(1400, 12)"
   ]
  },
  {
   "cell_type": "code",
   "execution_count": null,
   "metadata": {},
   "outputs": [],
   "source": [
    "def get_commission_amount(sale_amount, commission_pct):\n",
    "    return (sale_amount * commission_pct) / 100"
   ]
  },
  {
   "cell_type": "code",
   "execution_count": null,
   "metadata": {},
   "outputs": [],
   "source": [
    "get_commission_amount = log_decorator(get_commission_amount)"
   ]
  },
  {
   "cell_type": "code",
   "execution_count": null,
   "metadata": {},
   "outputs": [],
   "source": [
    "get_commission_amount(1400, 12)"
   ]
  },
  {
   "cell_type": "code",
   "execution_count": null,
   "metadata": {},
   "outputs": [],
   "source": []
  }
 ],
 "metadata": {
  "kernelspec": {
   "display_name": "Python 3",
   "language": "python",
   "name": "python3"
  },
  "language_info": {
   "codemirror_mode": {
    "name": "ipython",
    "version": 3
   },
   "file_extension": ".py",
   "mimetype": "text/x-python",
   "name": "python",
   "nbconvert_exporter": "python",
   "pygments_lexer": "ipython3",
   "version": "3.11.2"
  },
  "orig_nbformat": 4
 },
 "nbformat": 4,
 "nbformat_minor": 2
}
