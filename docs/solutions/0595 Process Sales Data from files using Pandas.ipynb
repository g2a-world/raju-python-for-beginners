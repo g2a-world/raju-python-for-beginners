{
 "cells": [
  {
   "attachments": {},
   "cell_type": "markdown",
   "metadata": {},
   "source": [
    "* Exercise: Read data from `data/hr_db/employees/part-00000.csv` into Dataframe. Filter for employees whose salary is greater than or equal to 15000 and write to `data/hr_db/employees_hni/part-00000.csv`.\n",
    "  * Make sure the `data/hr_db/employees_hni` folder is created, if it does not exists using `os`.\n",
    "  * Here are the column names that are supposed to be used.\n",
    "    * `employee_id`\n",
    "    * `first_name`\n",
    "    * `last_name`\n",
    "    * `email`\n",
    "    * `phone_number`\n",
    "    * `hire_date`\n",
    "    * `job_id`\n",
    "    * `salary`\n",
    "    * `commission_pct`\n",
    "    * `manager_id`\n",
    "    * `department_id`\n",
    "  * Make sure the newly created file does not contain Dataframe index."
   ]
  },
  {
   "cell_type": "code",
   "execution_count": null,
   "metadata": {},
   "outputs": [],
   "source": [
    "import pandas as pd"
   ]
  },
  {
   "cell_type": "code",
   "execution_count": null,
   "metadata": {},
   "outputs": [],
   "source": [
    "columns = [\n",
    "    'employee_id', 'first_name', 'last_name',\n",
    "    'email', 'phone_number', 'hire_date',\n",
    "    'job_id', 'salary', 'commission_pct',\n",
    "    'manager_id', 'department_id'\n",
    "]"
   ]
  },
  {
   "cell_type": "code",
   "execution_count": null,
   "metadata": {},
   "outputs": [],
   "source": [
    "employees_df = pd.read_csv(\n",
    "    'data/hr_db/employees/part-00000.csv',\n",
    "    sep='\\t',\n",
    "    names=columns\n",
    ")"
   ]
  },
  {
   "cell_type": "code",
   "execution_count": null,
   "metadata": {},
   "outputs": [],
   "source": [
    "employees_df"
   ]
  },
  {
   "cell_type": "code",
   "execution_count": null,
   "metadata": {},
   "outputs": [],
   "source": [
    "employees_hni = employees_df.query('salary >= 15000')"
   ]
  },
  {
   "cell_type": "code",
   "execution_count": null,
   "metadata": {},
   "outputs": [],
   "source": [
    "employees_hni"
   ]
  },
  {
   "cell_type": "code",
   "execution_count": null,
   "metadata": {},
   "outputs": [],
   "source": [
    "import os"
   ]
  },
  {
   "cell_type": "code",
   "execution_count": null,
   "metadata": {},
   "outputs": [],
   "source": [
    "os.makedirs('data/hr_db/employees_hni', exist_ok=True)"
   ]
  },
  {
   "cell_type": "code",
   "execution_count": null,
   "metadata": {},
   "outputs": [],
   "source": [
    "employees_hni.to_csv(\n",
    "    'data/hr_db/employees_hni/part-00000.csv',\n",
    "    header=True,\n",
    "    index=False\n",
    ")"
   ]
  },
  {
   "cell_type": "code",
   "execution_count": null,
   "metadata": {},
   "outputs": [],
   "source": [
    "pd.read_csv('data/hr_db/employees_hni/part-00000.csv')"
   ]
  },
  {
   "cell_type": "code",
   "execution_count": null,
   "metadata": {},
   "outputs": [],
   "source": []
  }
 ],
 "metadata": {
  "kernelspec": {
   "display_name": "Python 3",
   "language": "python",
   "name": "python3"
  },
  "language_info": {
   "codemirror_mode": {
    "name": "ipython",
    "version": 3
   },
   "file_extension": ".py",
   "mimetype": "text/x-python",
   "name": "python",
   "nbconvert_exporter": "python",
   "pygments_lexer": "ipython3",
   "version": "3.11.2"
  },
  "orig_nbformat": 4
 },
 "nbformat": 4,
 "nbformat_minor": 2
}
