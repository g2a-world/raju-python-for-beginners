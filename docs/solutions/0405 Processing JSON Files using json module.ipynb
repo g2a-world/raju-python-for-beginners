{
 "cells": [
  {
   "attachments": {},
   "cell_type": "markdown",
   "metadata": {},
   "source": [
    "* Exercise 1: Read data from below string which contain array of students and compute total score for each student\n",
    "```python\n",
    "student_scores = '[{\"sid\": 1, \"scores\": [91, 88, 90]}, {\"sid\": 2, \"scores\": [75, 79, 65]}, {\"sid\": 3, \"scores\": [82, 88, 78]}, {\"sid\": 4, \"scores\": [95, 69, 72]}, {\"sid\": 5, \"scores\": [88, 81, 85]}]'\n",
    "```\n",
    "  * Make sure the list of dicts is created with `sid` and `ts` as keys. The values should be `sid` from student_scores and then sum of scores (result of adding all the scores in `scores`).\n",
    "  * Sort the data in the newly created list by `ts` (total score) in descending order (using `sorted`)"
   ]
  },
  {
   "cell_type": "code",
   "execution_count": null,
   "metadata": {},
   "outputs": [],
   "source": [
    "student_scores = '[{\"sid\": 1, \"scores\": [91, 88, 90]}, {\"sid\": 2, \"scores\": [75, 79, 65]}, {\"sid\": 3, \"scores\": [82, 88, 78]}, {\"sid\": 4, \"scores\": [95, 69, 72]}, {\"sid\": 5, \"scores\": [88, 81, 85]}]'"
   ]
  },
  {
   "cell_type": "code",
   "execution_count": null,
   "metadata": {},
   "outputs": [],
   "source": [
    "type(student_scores)"
   ]
  },
  {
   "cell_type": "code",
   "execution_count": null,
   "metadata": {},
   "outputs": [],
   "source": [
    "import json"
   ]
  },
  {
   "cell_type": "code",
   "execution_count": null,
   "metadata": {},
   "outputs": [],
   "source": [
    "ss = json.loads(student_scores)"
   ]
  },
  {
   "cell_type": "code",
   "execution_count": null,
   "metadata": {},
   "outputs": [],
   "source": [
    "s = ss[0]"
   ]
  },
  {
   "cell_type": "code",
   "execution_count": null,
   "metadata": {},
   "outputs": [],
   "source": [
    "{'sid': s['sid'], 'ts': sum(s['scores'])}"
   ]
  },
  {
   "cell_type": "code",
   "execution_count": null,
   "metadata": {},
   "outputs": [],
   "source": [
    "student_totals = []\n",
    "for s in json.loads(student_scores):\n",
    "    student_totals.append({'sid': s['sid'], 'ts': sum(s['scores'])})"
   ]
  },
  {
   "cell_type": "code",
   "execution_count": null,
   "metadata": {},
   "outputs": [],
   "source": [
    "student_totals"
   ]
  },
  {
   "cell_type": "code",
   "execution_count": null,
   "metadata": {},
   "outputs": [],
   "source": [
    "sorted(student_totals, key=lambda s: s['ts'], reverse=True)"
   ]
  },
  {
   "attachments": {},
   "cell_type": "markdown",
   "metadata": {},
   "source": [
    "* Exercise 2: Read data from `data/sales/part-00000` and write in the form of JSON to `data/sales_json/part-00000`. \n",
    "  * Filter for valid sales records where commission_pct is not none and greater than zero.\n",
    "  * Make sure type conversion is taken care.\n",
    "  * Use **sale_id, sale_rep_id, sale_amount, commission_pct** as column names for respective values read from the file.\n",
    "  * Make sure to have one valid json per line in the file `data/sales_json/part-00000`."
   ]
  },
  {
   "cell_type": "code",
   "execution_count": null,
   "metadata": {},
   "outputs": [],
   "source": [
    "import csv\n",
    "\n",
    "with open('data/sales/part-00000') as fp:\n",
    "    data = csv.DictReader(fp.read().splitlines())"
   ]
  },
  {
   "cell_type": "code",
   "execution_count": null,
   "metadata": {},
   "outputs": [],
   "source": [
    "sales_filtered = []\n",
    "\n",
    "for rec in data:\n",
    "    if rec['commission_pct'] != '' and int(rec['commission_pct']) >= 0:\n",
    "        sales_filtered.append(json.dumps(rec))"
   ]
  },
  {
   "cell_type": "code",
   "execution_count": null,
   "metadata": {},
   "outputs": [],
   "source": [
    "sales_filtered"
   ]
  },
  {
   "cell_type": "code",
   "execution_count": null,
   "metadata": {},
   "outputs": [],
   "source": [
    "len(sales_filtered)"
   ]
  },
  {
   "cell_type": "code",
   "execution_count": null,
   "metadata": {},
   "outputs": [],
   "source": [
    "import os"
   ]
  },
  {
   "cell_type": "code",
   "execution_count": null,
   "metadata": {},
   "outputs": [],
   "source": [
    "os.makedirs('data/sales_json', exist_ok=True)"
   ]
  },
  {
   "cell_type": "code",
   "execution_count": null,
   "metadata": {},
   "outputs": [],
   "source": [
    "with open('data/sales_json/part-00000', 'w') as fp:\n",
    "    for rec in sales_filtered:\n",
    "        fp.write(rec)\n",
    "        fp.write('\\n')"
   ]
  },
  {
   "cell_type": "code",
   "execution_count": null,
   "metadata": {},
   "outputs": [],
   "source": []
  }
 ],
 "metadata": {
  "kernelspec": {
   "display_name": "Python 3",
   "language": "python",
   "name": "python3"
  },
  "language_info": {
   "codemirror_mode": {
    "name": "ipython",
    "version": 3
   },
   "file_extension": ".py",
   "mimetype": "text/x-python",
   "name": "python",
   "nbconvert_exporter": "python",
   "pygments_lexer": "ipython3",
   "version": "3.11.2"
  },
  "orig_nbformat": 4,
  "vscode": {
   "interpreter": {
    "hash": "949777d72b0d2535278d3dc13498b2535136f6dfe0678499012e853ee9abcab1"
   }
  }
 },
 "nbformat": 4,
 "nbformat_minor": 2
}
