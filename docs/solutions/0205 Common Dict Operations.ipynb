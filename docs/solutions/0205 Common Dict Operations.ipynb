{
 "cells": [
  {
   "attachments": {},
   "cell_type": "markdown",
   "metadata": {},
   "source": [
    "\n",
    "* Exercise 1: Get unique list of values from a dict.\n",
    "```python\n",
    "d = {\n",
    "    1: 100,\n",
    "    2: None,\n",
    "    3: 105,\n",
    "    4: 100,\n",
    "    5: 105\n",
    "}\n",
    "```\n",
    "* Exercise 2: Get unique list of values which are not None. Use the above dict for the same.\n",
    "* Solution for Exercise 1\n",
    "```python\n",
    "list(set(d.values()))\n",
    "```\n",
    "* Solution for Exercise 2\n",
    "```python\n",
    "l = []\n",
    "for i in d.values():\n",
    "  if i:\n",
    "    l.append(i)\n",
    "\n",
    "list(set(l))\n",
    "```"
   ]
  },
  {
   "cell_type": "markdown",
   "metadata": {},
   "source": []
  }
 ],
 "metadata": {
  "kernelspec": {
   "display_name": "Python 3.x",
   "language": "python",
   "name": "python3"
  },
  "language_info": {
   "name": "python",
   "version": "3"
  },
  "orig_nbformat": 4,
  "vscode": {
   "interpreter": {
    "hash": "31f2aee4e71d21fbe5cf8b01ff0e069b9275f58929596ceb00d14d90e3e16cd6"
   }
  }
 },
 "nbformat": 4,
 "nbformat_minor": 2
}
