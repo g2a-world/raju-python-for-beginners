{
 "cells": [
  {
   "attachments": {},
   "cell_type": "markdown",
   "metadata": {},
   "source": [
    "* Exercises"
   ]
  },
  {
   "attachments": {},
   "cell_type": "markdown",
   "metadata": {},
   "source": [
    "1. Write a Python function named `sum_sales` that accepts an arbitrary number of arguments and returns the sum of all of the sales. If no arguments are provided, the function should return 0. If `None` or negative values are passed, they should be ignored.\n",
    "\n",
    "Validation and Sample Output\n",
    "```python\n",
    "# Sample inputs\n",
    "print(sum_sales())\n",
    "print(sum_sales(10, -20, None, 30))\n",
    "\n",
    "# Sample outputs\n",
    "0\n",
    "40\n",
    "```"
   ]
  },
  {
   "attachments": {},
   "cell_type": "markdown",
   "metadata": {},
   "source": [
    "2. Write a Python function named `filter_words` that accepts an arbitrary number of string arguments and returns a list of the arguments that contain the word \"python\". The function should ignore case (i.e. \"Python\" and \"python\" should both be considered a match).\n",
    "\n",
    "Validation and Sample Output\n",
    "```python\n",
    "# Sample inputs\n",
    "print(filter_words(\"Python is awesome!\", \"I love Java\", \"I'm learning Python\"))\n",
    "\n",
    "# Sample output\n",
    "[\"Python is awesome!\", \"I'm learning Python\"]\n",
    "```"
   ]
  },
  {
   "attachments": {},
   "cell_type": "markdown",
   "metadata": {},
   "source": [
    "* Solution for Exercise 1"
   ]
  },
  {
   "cell_type": "code",
   "execution_count": null,
   "metadata": {},
   "outputs": [],
   "source": [
    "def sum_sales(*sales):\n",
    "    revenue = 0\n",
    "    for sale in sales:\n",
    "        if sale and sale >= 0:\n",
    "            revenue += sale\n",
    "    return revenue"
   ]
  },
  {
   "cell_type": "code",
   "execution_count": null,
   "metadata": {},
   "outputs": [],
   "source": [
    "print(sum_sales())"
   ]
  },
  {
   "cell_type": "code",
   "execution_count": null,
   "metadata": {},
   "outputs": [],
   "source": [
    "print(sum_sales(10, -20, None, 30))"
   ]
  },
  {
   "cell_type": "code",
   "execution_count": null,
   "metadata": {},
   "outputs": [],
   "source": [
    "def sum_sales(*sales):\n",
    "    return sum(sale for sale in sales if sale and sale >=0)"
   ]
  },
  {
   "cell_type": "code",
   "execution_count": null,
   "metadata": {},
   "outputs": [],
   "source": [
    "print(sum_sales())"
   ]
  },
  {
   "cell_type": "code",
   "execution_count": null,
   "metadata": {},
   "outputs": [],
   "source": [
    "print(sum_sales(10, -20, None, 30))"
   ]
  },
  {
   "attachments": {},
   "cell_type": "markdown",
   "metadata": {},
   "source": [
    "* Solution for Exercise 2"
   ]
  },
  {
   "cell_type": "code",
   "execution_count": null,
   "metadata": {},
   "outputs": [],
   "source": [
    "# Solution\n",
    "def filter_words(*args):\n",
    "    filtered = []\n",
    "    for arg in args:\n",
    "        if \"python\" in arg.lower():\n",
    "            filtered.append(arg)\n",
    "    return filtered"
   ]
  },
  {
   "cell_type": "code",
   "execution_count": null,
   "metadata": {},
   "outputs": [],
   "source": [
    "def filter_words(*args):\n",
    "    return [arg for arg in args if \"python\" in arg.lower()] # comprehensions"
   ]
  }
 ],
 "metadata": {
  "kernelspec": {
   "display_name": "Python 3.11.2 64-bit",
   "language": "python",
   "name": "python3"
  },
  "language_info": {
   "codemirror_mode": {
    "name": "ipython",
    "version": 3
   },
   "file_extension": ".py",
   "mimetype": "text/x-python",
   "name": "python",
   "nbconvert_exporter": "python",
   "pygments_lexer": "ipython3",
   "version": "3.11.2"
  },
  "orig_nbformat": 4,
  "vscode": {
   "interpreter": {
    "hash": "1a1af0ee75eeea9e2e1ee996c87e7a2b11a0bebd85af04bb136d915cefc0abce"
   }
  }
 },
 "nbformat": 4,
 "nbformat_minor": 2
}
