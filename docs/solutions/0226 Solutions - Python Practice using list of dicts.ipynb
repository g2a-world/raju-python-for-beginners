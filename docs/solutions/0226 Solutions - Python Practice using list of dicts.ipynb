{
 "cells": [
  {
   "cell_type": "markdown",
   "metadata": {},
   "source": [
    "* Exercise 1: Develop a function to get list of transactions with invalid commission percentage (negative or None). Each element should be of type dict.\n",
    "* Exercise 2: Develop a function to get list of transactions with commission amounts. Commission amount is equal to `(\"sale amount\" * \"commission %\") / 100`. Each element should be of type dict. Each dict in the list should contain 5 elements. The list should not contain transactions with invalid commission % (negative or none). The last element in each of the dict should be named as `commission_amount`.\n",
    "```python\n",
    "sales = [\n",
    "    {'sale_id': 1, 'sale_rep_id': 101, 'sale_amount': 500.00, 'commission_pct': 5},\n",
    "    {'sale_id': 2, 'sale_rep_id': 102, 'sale_amount': 250.00, 'commission_pct': 3},\n",
    "    {'sale_id': 3, 'sale_rep_id': 103, 'sale_amount': 1000.00, 'commission_pct': 8},\n",
    "    {'sale_id': 4, 'sale_rep_id': 104, 'sale_amount': 750.00, 'commission_pct': None},\n",
    "    {'sale_id': 5, 'sale_rep_id': 101, 'sale_amount': 300.00, 'commission_pct': -1},\n",
    "    {'sale_id': 6, 'sale_rep_id': 106, 'sale_amount': 400.00, 'commission_pct': 3},\n",
    "    {'sale_id': 7, 'sale_rep_id': 104, 'sale_amount': 200.00, 'commission_pct': 0},\n",
    "    {'sale_id': 8, 'sale_rep_id': 103, 'sale_amount': 150.00, 'commission_pct': 1},\n",
    "    {'sale_id': 9, 'sale_rep_id': 104, 'sale_amount': 600.00, 'commission_pct': 4},\n",
    "    {'sale_id': 10, 'sale_rep_id': 101, 'sale_amount': 800.00, 'commission_pct': 6}\n",
    "]\n",
    "```\n",
    "* Solution for Exercise 1\n",
    "```python\n",
    "def get_invalid_sales(sales):\n",
    "    invalid_sales = [] # Initializing empty list\n",
    "    for sale in sales:\n",
    "        if sale['commission_pct'] == None or sale['commission_pct'] < 0:\n",
    "            invalid_sales.append(sale)\n",
    "    return invalid_sales\n",
    "\n",
    "get_invalid_sales(sales)\n",
    "```\n",
    "* Solution for Exercise 2\n",
    "```python\n",
    "def get_sales_with_commission(sales):\n",
    "    sales_with_commission = [] # Initializing empty list\n",
    "    for sale in sales:\n",
    "        if sale['commission_pct'] != None and sale['commission_pct'] >= 0:\n",
    "            sale['commission_amount'] = (sale['sale_amount'] * sale['commission_pct']) / 100\n",
    "            sales_with_commission.append(sale)\n",
    "    return sales_with_commission\n",
    "\n",
    "get_sales_with_commission(sales)\n",
    "```\n"
   ]
  },
  {
   "cell_type": "markdown",
   "metadata": {},
   "source": []
  }
 ],
 "metadata": {
  "kernelspec": {
   "display_name": "Python 3.x",
   "language": "python",
   "name": "python3"
  },
  "language_info": {
   "name": "python",
   "version": "3"
  },
  "orig_nbformat": 4,
  "vscode": {
   "interpreter": {
    "hash": "31f2aee4e71d21fbe5cf8b01ff0e069b9275f58929596ceb00d14d90e3e16cd6"
   }
  }
 },
 "nbformat": 4,
 "nbformat_minor": 2
}
