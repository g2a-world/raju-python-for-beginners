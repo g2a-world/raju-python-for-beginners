{
 "cells": [
  {
   "attachments": {},
   "cell_type": "markdown",
   "metadata": {},
   "source": [
    "* Recap of Software Development Life Cycle\n",
    "* Setup Git Repo for CI/CD Demo\n",
    "* Review Virtual Machine to deploy the application\n",
    "* Review Manual Deployment Process\n",
    "* Getting Started with GitHub Actions\n",
    "* Create GitHub Repository Secrets\n",
    "* Validate GitHub Action and VM Integration\n",
    "* Overview of Git Branching\n",
    "* Overview of Git Pull Requests\n",
    "* Develop Shell Script to Deploy using GitHub Actions\n",
    "* Validate CI/CD Pipeline\n",
    "* Exercise and Solution"
   ]
  },
  {
   "attachments": {},
   "cell_type": "markdown",
   "metadata": {},
   "source": [
    "* Recap of Software Development Life Cycle\n",
    "\n",
    "SDLC have different phases.\n",
    "* Analysis\n",
    "* Design\n",
    "* Development\n",
    "* Test\n",
    "* Production\n",
    "\n",
    "We use different servers for development, test and production. Once the code is developed, only reviewed and validated/tested code will go into test and production environments."
   ]
  },
  {
   "attachments": {},
   "cell_type": "markdown",
   "metadata": {},
   "source": [
    "* Setup Git Repo for CI/CD Demo\n",
    "\n",
    "Here are the steps invovled in setting up git repo.\n",
    "* Go to github and create a new repository by name cicd-demo.\n",
    "* Create a Python file by name `hw.py` with below code.\n",
    "```python\n",
    "print('Hello World')\n",
    "```\n",
    "* Make sure to clone the repo to PC or Mac for local development."
   ]
  },
  {
   "attachments": {},
   "cell_type": "markdown",
   "metadata": {},
   "source": [
    "* Review Virtual Machine to deploy the application\n",
    "\n",
    "Make sure to login via SSH into the virtual machine created. You can also validate whether Python is installed or not on the VM."
   ]
  },
  {
   "attachments": {},
   "cell_type": "markdown",
   "metadata": {},
   "source": [
    "* Review Manual Deployment Process\n",
    "\n",
    "Here are the steps that are involved in manual deployment process.\n",
    "* Login into VM using SSH where application needs to be deployed.\n",
    "* Clone git repository and get into the directory\n",
    "* Run the application using `python app.py`"
   ]
  },
  {
   "attachments": {},
   "cell_type": "markdown",
   "metadata": {},
   "source": [
    "* Getting Started with GitHub Actions\n",
    "\n",
    "Here are the steps to get started with GitHub Actions.\n",
    "* Go to GitHub repository and then navigate to Actions.\n",
    "* Click on \"set up a workflow yourself\"\n",
    "```yml\n",
    "name: CICD Demo\n",
    "\n",
    "on:\n",
    "  push:\n",
    "    branches: [ \"main\" ]\n",
    "  pull_request:\n",
    "    branches: [ \"main\" ]\n",
    "\n",
    "permissions:\n",
    "  contents: read\n",
    "\n",
    "jobs:\n",
    "  build:\n",
    "\n",
    "    runs-on: ubuntu-latest\n",
    "\n",
    "    steps:\n",
    "    - uses: actions/checkout@v3\n",
    "    - name: Hello World\n",
    "      run: |\n",
    "        echo `hostname`\n",
    "        echo \"Hello World\"\n",
    "```"
   ]
  },
  {
   "attachments": {},
   "cell_type": "markdown",
   "metadata": {},
   "source": [
    "* Create GitHub Repository Secrets\n",
    "\n",
    "Here are the details to create GitHub Repository Secrets. Secrets can be created by going to Settings of a specific repository.\n",
    "|Secret Name|Description|\n",
    "|---|---|\n",
    "|APP_HOST|IP Address or DNS Alias of VM|\n",
    "|APP_SSH_USER|Username to connect to VM|\n",
    "|APP_SSH_SECRET_KEY|Private key for password less login|\n",
    "\n",
    "As the VM is created using GCP, the content of `google_compute_engine` is used for `APP_SSH_SECRET_KEY`."
   ]
  },
  {
   "attachments": {},
   "cell_type": "markdown",
   "metadata": {},
   "source": [
    "* Validate GitHub Action and VM Integration\n",
    "\n",
    "```yml\n",
    "name: CICD Demo\n",
    "\n",
    "on:\n",
    "  push:\n",
    "    branches: [ \"main\" ]\n",
    "  pull_request:\n",
    "    branches: [ \"main\" ]\n",
    "\n",
    "permissions:\n",
    "  contents: read\n",
    "\n",
    "jobs:\n",
    "  build:\n",
    "\n",
    "    runs-on: ubuntu-latest\n",
    "\n",
    "    steps:\n",
    "    - uses: actions/checkout@v3\n",
    "    - name: Validate GitHub Action and VM Integration\n",
    "      env:\n",
    "        APP_HOST: ${{ secrets.APP_HOST }}\n",
    "        APP_SSH_USER: ${{ secrets.APP_SSH_USER }}\n",
    "        APP_SSH_SECRET_KEY: ${{ secrets.APP_SSH_SECRET_KEY }}\n",
    "      run: |\n",
    "        mkdir -p /tmp/keys && chmod 700 /tmp/keys\n",
    "        echo \"$APP_SSH_SECRET_KEY\" > /tmp/keys/private_key && chmod 600 /tmp/keys/private_key\n",
    "        ssh -o StrictHostKeyChecking=no -i /tmp/keys/private_key ${APP_SSH_USER}@${APP_HOST} '\n",
    "          echo `hostname`\n",
    "        '\n",
    "```"
   ]
  },
  {
   "attachments": {},
   "cell_type": "markdown",
   "metadata": {},
   "source": [
    "* Overview of Git Branching\n",
    "\n",
    "Here are the steps to create a branch.\n",
    "* Checkout a new branch\n",
    "* Make changes to `hw.py`\n",
    "* Add, Commit and Push the changes in the new branch to Git repository."
   ]
  },
  {
   "attachments": {},
   "cell_type": "markdown",
   "metadata": {},
   "source": [
    "* Overview of Git Pull Requests\n",
    "\n",
    "Once the changes in the branch are pushed to Git repository, a PR can be created. Once PR is approved and changes in the new branch are merged into main branch, the GitHub action will be triggered."
   ]
  },
  {
   "attachments": {},
   "cell_type": "markdown",
   "metadata": {},
   "source": [
    "* Develop Shell Script to Deploy using GitHub Actions\n",
    "```shell\n",
    "python3 -m venv cd-venv\n",
    "source cd-venv/bin/activate\n",
    "pip install flask\n",
    "sudo systemctl restart nginx\n",
    "```"
   ]
  },
  {
   "attachments": {},
   "cell_type": "markdown",
   "metadata": {},
   "source": [
    "* Validate CI/CD Pipeline\n",
    "\n",
    "```yml\n",
    "name: CICD Demo\n",
    "\n",
    "on:\n",
    "  push:\n",
    "    branches: [ \"main\" ]\n",
    "  pull_request:\n",
    "    branches: [ \"main\" ]\n",
    "\n",
    "permissions:\n",
    "  contents: read\n",
    "\n",
    "jobs:\n",
    "  build:\n",
    "\n",
    "    runs-on: ubuntu-latest\n",
    "\n",
    "    steps:\n",
    "    - uses: actions/checkout@v3\n",
    "    - name: Deploy and Build\n",
    "      env:\n",
    "        APP_HOST: ${{ secrets.APP_HOST }}\n",
    "        APP_SSH_USER: ${{ secrets.APP_SSH_USER }}\n",
    "        APP_SSH_SECRET_KEY: ${{ secrets.APP_SSH_SECRET_KEY }}\n",
    "      run: |\n",
    "        echo `pwd`\n",
    "        mkdir -p /tmp/keys && chmod 700 /tmp/keys\n",
    "        echo \"$APP_SSH_SECRET_KEY\" > /tmp/keys/private_key && chmod 600 /tmp/keys/private_key\n",
    "        ssh -o StrictHostKeyChecking=no -i /tmp/keys/private_key ${APP_SSH_USER}@${APP_HOST} '\n",
    "          mkdir -p cicddemo\n",
    "        '\n",
    "        scp -i /tmp/keys/private_key -r * ${APP_SSH_USER}@${APP_HOST}:cicddemo\n",
    "        ssh -i /tmp/keys/private_key ${APP_SSH_USER}@${APP_HOST} '\n",
    "          source cicddemo/setup.sh\n",
    "        '\n",
    "```"
   ]
  },
  {
   "attachments": {},
   "cell_type": "markdown",
   "metadata": {},
   "source": [
    "* Exercise - CI/CD using GitHub\n",
    "\n",
    "1. Create Git Repository for `sales-app`.\n",
    "2. Add Secrets to deploy the application via GitHub Actions\n",
    "3. Create GitHub Action by name `sales-app.yml`\n",
    "4. Update `nginx.conf` with below details.\n",
    "```text\n",
    "\n",
    "```\n",
    "5. Add below shell script to the base folder of the repository.\n",
    "```shell\n",
    "python3 -m venv sa-venv\n",
    "source sa-venv/bin/activate\n",
    "pip install -r requirements.txt\n",
    "gunicorn -w 2 --threads 2 -b 0.0.0.0:5000 app:app\n",
    "sudo systemctl restart nginx\n",
    "```\n",
    "6. Validate whether GitHub Action is run successfully or not."
   ]
  }
 ],
 "metadata": {
  "language_info": {
   "name": "python"
  },
  "orig_nbformat": 4
 },
 "nbformat": 4,
 "nbformat_minor": 2
}
