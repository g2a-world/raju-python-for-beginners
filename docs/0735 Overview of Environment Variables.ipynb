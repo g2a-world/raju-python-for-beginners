{
 "cells": [
  {
   "attachments": {},
   "cell_type": "markdown",
   "metadata": {},
   "source": [
    "* Overview of environment variables in Windows\n",
    "* Overview of environment variables in Mac or Linux\n",
    "* Creating Environment Variable in Windows\n",
    "* Creating Environment Variable in Mac or Linux\n",
    "* Overview of `os.environ`\n",
    "* Reading Environment Variables\n",
    "* Using `setdefault`\n",
    "* Using `update`\n",
    "* Application Development using Environment Variables\n",
    "* Exercise and Solution"
   ]
  },
  {
   "attachments": {},
   "cell_type": "markdown",
   "metadata": {},
   "source": [
    "* Exercise: Make changes to nyse-converter to use environment variables.\n",
    "  * SRC_DIR: `data/nyse_all/nyse_data`\n",
    "  * TGT_DIR: `data/nyse_all/nyse_json`\n",
    "  * Make sure to run and validate the code after making changes using environment variables.\n",
    "  * Make sure to commit and push the changes to remote git repository."
   ]
  },
  {
   "cell_type": "markdown",
   "metadata": {},
   "source": []
  }
 ],
 "metadata": {
  "language_info": {
   "name": "python"
  },
  "orig_nbformat": 4
 },
 "nbformat": 4,
 "nbformat_minor": 2
}
