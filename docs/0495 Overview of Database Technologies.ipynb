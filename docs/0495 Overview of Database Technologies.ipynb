{
 "cells": [
  {
   "attachments": {},
   "cell_type": "markdown",
   "metadata": {},
   "source": [
    "* Limitations of using files for Data\n",
    "* Overview of Databases\n",
    "* Different types of Databases\n",
    "* Overview of RDBMS Technologies\n",
    "* Use Cases for RDBMS Databases\n",
    "* Important Concepts with in RDBMS for Developers\n",
    "* Relationship between Programming Languages and Databases"
   ]
  }
 ],
 "metadata": {
  "language_info": {
   "name": "python"
  },
  "orig_nbformat": 4
 },
 "nbformat": 4,
 "nbformat_minor": 2
}
