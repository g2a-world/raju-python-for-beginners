{
 "cells": [
  {
   "cell_type": "markdown",
   "metadata": {},
   "source": [
    "* Review Application Architecture\n",
    "* Performance Testing of POST requests\n",
    "* Troubleshoot to identify bottleneck\n",
    "* Fix the issue by adding new API\n",
    "* Retest the Performance\n",
    "* Exercise and Solution - POST request for orders"
   ]
  },
  {
   "cell_type": "markdown",
   "metadata": {},
   "source": [
    "* Review Application Architecture\n",
    "\n",
    "Here we will be reviewing the application architecture which is deployed in GCP VM.\n",
    "\n",
    "1. We will be submitting the post requests from our local PC/Mac (Client).\n",
    "2. The application is running in a VM provisioned from GCP. The VM is in US Central.\n",
    "3. We have the Postgres Database setup using Elephant SQL. The Postgres Database is running in US Eastern."
   ]
  },
  {
   "cell_type": "markdown",
   "metadata": {},
   "source": [
    "* Performance Testing of POST requests\n",
    "\n",
    "1. Generate Test data using Faker (100 records).\n",
    "2. Make POST request for each record against the application that is running in GCP VM."
   ]
  },
  {
   "cell_type": "code",
   "execution_count": null,
   "metadata": {},
   "outputs": [],
   "source": [
    "from faker import Faker\n",
    "faker = Faker()\n",
    "users = []\n",
    "usernames = set()\n",
    "ctr = 0\n",
    "\n",
    "while True:\n",
    "    if ctr == 100:\n",
    "        break\n",
    "    first_name = faker.first_name()\n",
    "    last_name = faker.last_name()\n",
    "    username = f'{first_name[:1]}{last_name}'.lower()\n",
    "    email = f'{username}@email.com'\n",
    "    if username not in usernames:\n",
    "        usernames.add(username)\n",
    "        user = {\n",
    "            'id': '',\n",
    "            'first_name': first_name,\n",
    "            'last_name': last_name,\n",
    "            'username': username,\n",
    "            'email': email\n",
    "        }\n",
    "        users.append(user)\n",
    "        ctr = ctr + 1\n",
    "\n",
    "len(users)"
   ]
  },
  {
   "cell_type": "code",
   "execution_count": null,
   "metadata": {},
   "outputs": [],
   "source": [
    "import requests"
   ]
  },
  {
   "cell_type": "code",
   "execution_count": null,
   "metadata": {},
   "outputs": [],
   "source": [
    "base_url = input('Enter base url: ')"
   ]
  },
  {
   "cell_type": "code",
   "execution_count": null,
   "metadata": {},
   "outputs": [],
   "source": [
    "for user in users:\n",
    "    response = requests.post(\n",
    "        f'{base_url}/user', \n",
    "        data=user\n",
    "    )\n",
    "    print(response.status_code)"
   ]
  },
  {
   "cell_type": "markdown",
   "metadata": {},
   "source": [
    "* Troubleshoot to identify bottleneck\n",
    "\n",
    "1. Review the overall execution time.\n",
    "2. Use ping to review the response time between our PC to GCP VM and then GCP VM to the server on which Postgres is running (Elephant SQL)."
   ]
  },
  {
   "cell_type": "markdown",
   "metadata": {},
   "source": [
    "* Fix the issue by adding new API\n",
    "\n",
    "Update `user_routes/users.py` with below function:\n",
    "\n",
    "```python\n",
    "@app.route('/users', methods=['POST'])\n",
    "def add_users():\n",
    "    users = json.loads(request.form['users'])\n",
    "    users_ = []\n",
    "    for user in users:\n",
    "        users_.append(User(**user))\n",
    "    db.session.add_all(users_)\n",
    "    db.session.commit()    \n",
    "    return jsonify({'message': 'Users added successfully...'}), 201\n",
    "```"
   ]
  },
  {
   "cell_type": "markdown",
   "metadata": {},
   "source": [
    "* Deploy Changes to GCP VM\n",
    "\n",
    "1. Unit test to see if `add_users` is working as expected or not.\n",
    "2. Push changes to GitHub Repository.\n",
    "3. Make sure the GitHub Action or CI/CD Pipeline have run with out any issues."
   ]
  },
  {
   "cell_type": "markdown",
   "metadata": {},
   "source": [
    "* Retest the Performance\n",
    "\n",
    "1. Generate 10000 test records (without id).\n",
    "2. Invoke `add_users` with 1000 records at a time.\n",
    "3. Evaluate the performance.\n",
    "\n",
    "Note: You might be able to load all the records at once. But as the number of records increase, we might exceed the size of network package and might end up running into issues. Hence, we should divide overall data into manageable chunks."
   ]
  },
  {
   "cell_type": "code",
   "execution_count": null,
   "metadata": {},
   "outputs": [],
   "source": [
    "from faker import Faker\n",
    "faker = Faker()\n",
    "users = []\n",
    "usernames = set()\n",
    "ctr = 0\n",
    "\n",
    "while True:\n",
    "    if ctr == 10000:\n",
    "        break\n",
    "    first_name = faker.first_name()\n",
    "    last_name = faker.last_name()\n",
    "    username = f'{first_name[:1]}{last_name}'.lower()\n",
    "    email = f'{username}@email.com'\n",
    "    if username not in usernames:\n",
    "        usernames.add(username)\n",
    "        user = {\n",
    "            'first_name': first_name,\n",
    "            'last_name': last_name,\n",
    "            'username': username,\n",
    "            'email': email\n",
    "        }\n",
    "        users.append(user)\n",
    "        ctr = ctr + 1\n",
    "\n",
    "len(users)"
   ]
  },
  {
   "cell_type": "code",
   "execution_count": null,
   "metadata": {},
   "outputs": [],
   "source": [
    "import requests\n",
    "import json"
   ]
  },
  {
   "cell_type": "code",
   "execution_count": null,
   "metadata": {},
   "outputs": [],
   "source": [
    "base_url = input('Enter base url: ')"
   ]
  },
  {
   "cell_type": "code",
   "execution_count": null,
   "metadata": {},
   "outputs": [],
   "source": [
    "batch_size = int(input('Enter batch size: '))"
   ]
  },
  {
   "cell_type": "code",
   "execution_count": null,
   "metadata": {},
   "outputs": [],
   "source": [
    "for i in range(0, len(users), batch_size):\n",
    "    users_chunk = users[i:i+batch_size]\n",
    "    response = requests.post(\n",
    "        f'{base_url}/users', \n",
    "        data={'users': json.dumps(users_chunk)}\n",
    "    )\n",
    "    print(response.json())"
   ]
  },
  {
   "cell_type": "code",
   "execution_count": null,
   "metadata": {},
   "outputs": [],
   "source": [
    "response.text"
   ]
  },
  {
   "cell_type": "code",
   "execution_count": null,
   "metadata": {},
   "outputs": [],
   "source": [
    "print(response.json())"
   ]
  },
  {
   "cell_type": "markdown",
   "metadata": {},
   "source": [
    "* Exercise - POST request for orders\n",
    "\n",
    "1. Reset the tables using Flask Shell (includes orders)\n",
    "2. Update `sales-app-rest` with functionality to add record into orders table. You need to develop a new function to support `POST` Methods. The function should be similar to `/user` with `POST` Method (populating one record per request).\n",
    "3. Unit test for first 100 records in the file (`data/retail_db/orders`).\n",
    "  * Read data CSV using Pandas `read_csv`. Make sure to specify `order_id, order_date, order_customer_id, order_status` as column names. You can drop `order_id` as it is supposed to be populated by sequence.\n",
    "  * Get first 100 records by using `head` and convert them to list of dicts (using `to_dict` with `orient=records`)\n",
    "  * Iterate through the list and invoke the newly added POST API.\n",
    "  * Make sure to validate by either using existing end points or by invoking `Order.query.all()` using `flask shell`.\n",
    "  * Make sure to push the changes to remote repository.\n",
    "4. Test the performance for first 100 records in the file (`data/retail_db/orders`). You can use the same code which is used for unit testing by changing the base url to remote VM.\n",
    "5. Identify the performance bottleneck.\n",
    "6. Update `sales-app-rest` with functionality to add multiple records into orders table at once. Add new function similar to `/users` with POST.\n",
    "7. Unit test the new function locally and push the changes to remote repository.\n",
    "8. Test the performance and see if it is improved or not. Make sure to reset the tables before retesting the performance."
   ]
  },
  {
   "cell_type": "markdown",
   "metadata": {},
   "source": [
    "* Solution - POST request for orders\n",
    "\n",
    "1. Reset the tables using Flask Shell (includes orders)\n",
    "\n",
    "```python\n",
    "db.drop_all()\n",
    "db.create_all()\n",
    "```\n",
    "\n",
    "2. Update `sales-app-rest` with functionality to add record into orders table. You need to develop a new function to support `POST` Methods. Also, make sure to push changes to Git repository.\n",
    "\n",
    "```python\n",
    "@app.route('/order', methods=['POST'])\n",
    "def create_or_update_order():\n",
    "    \"\"\"\n",
    "    Create or update an order.\n",
    "    ---\n",
    "    parameters:\n",
    "      - name: order_id\n",
    "        in: formData\n",
    "        type: integer\n",
    "        required: false\n",
    "        description: ID of the order.\n",
    "      - name: order_date\n",
    "        in: formData\n",
    "        type: string\n",
    "        format: date\n",
    "        required: true\n",
    "        description: Date of the order (YYYY-MM-DD).\n",
    "      - name: order_customer_id\n",
    "        in: formData\n",
    "        type: integer\n",
    "        required: true\n",
    "        description: ID of the customer associated with the order.\n",
    "      - name: order_status\n",
    "        in: formData\n",
    "        type: string\n",
    "        required: true\n",
    "        description: Status of the order.\n",
    "    responses:\n",
    "      201:\n",
    "        description: Order added successfully.\n",
    "      200:\n",
    "        description: Order updated successfully.\n",
    "    \"\"\"\n",
    "    order_id = request.form.get('order_id')\n",
    "    order_date = request.form['order_date']\n",
    "    order_customer_id = request.form['order_customer_id']\n",
    "    order_status = request.form['order_status']\n",
    "    if order_id:\n",
    "        order = Order.query.get(order_id)\n",
    "        order.order_date = order_date\n",
    "        order.order_customer_id = order_customer_id\n",
    "        order.order_status = order_status\n",
    "        db.session.commit()\n",
    "        return jsonify({'message': 'Order updated successfully...'}), 200\n",
    "    else:\n",
    "        order = Order(\n",
    "            order_id=order_id,\n",
    "            order_date=order_date,\n",
    "            order_customer_id=order_customer_id,\n",
    "            order_status=order_status\n",
    "        )\n",
    "        db.session.add(order)\n",
    "        db.session.commit()\n",
    "        return jsonify({'message': 'Order added successfully...'}), 201\n",
    "\n",
    "```\n",
    "\n",
    "3. Test the performance for first 100 records in the file (`data/retail_db/orders`).\n",
    "  * Read data CSV using Pandas `read_csv`. Make sure to specify`order_id, order_date, order_customer_id, order_status` as column names.\n",
    "  * Get first 100 records by using `head` and convert them to list of dicts (using `to_dict` with `orient=records`)\n",
    "  * Iterate through the list and invoke the newly added POST API.\n",
    "  * Make sure to validate by either using existing end points or by invoking `Order.query.all()` using `flask shell`."
   ]
  },
  {
   "cell_type": "code",
   "execution_count": null,
   "metadata": {},
   "outputs": [],
   "source": [
    "import pandas as pd"
   ]
  },
  {
   "cell_type": "code",
   "execution_count": null,
   "metadata": {},
   "outputs": [],
   "source": [
    "df = pd.read_csv(\n",
    "    'data/retail_db/orders/part-00000',\n",
    "    names=['order_id', 'order_date', 'order_customer_id', 'order_status']\n",
    ").drop('order_id')"
   ]
  },
  {
   "cell_type": "code",
   "execution_count": null,
   "metadata": {},
   "outputs": [],
   "source": [
    "orders = df.head(100).to_dict(orient='records')"
   ]
  },
  {
   "cell_type": "code",
   "execution_count": null,
   "metadata": {},
   "outputs": [],
   "source": [
    "import requests"
   ]
  },
  {
   "cell_type": "code",
   "execution_count": null,
   "metadata": {},
   "outputs": [],
   "source": [
    "base_url = input('Enter base url: ')"
   ]
  },
  {
   "cell_type": "code",
   "execution_count": null,
   "metadata": {},
   "outputs": [],
   "source": [
    "for order in orders:\n",
    "    requests.post(f'{base_url}/order', data=order)"
   ]
  },
  {
   "cell_type": "code",
   "execution_count": null,
   "metadata": {},
   "outputs": [],
   "source": [
    "requests.get(f'{base_url}/orders').json()"
   ]
  },
  {
   "cell_type": "markdown",
   "metadata": {},
   "source": [
    "4. Identify the performance bottleneck.\n",
    "\n",
    "Each post request which is inserting one record at a time is almost taking 1 second. We need to consider developing new function which can populate multiple records at once."
   ]
  },
  {
   "cell_type": "markdown",
   "metadata": {},
   "source": [
    "5. Update `sales-app-rest` with functionality to add multiple records into orders table at once.\n",
    "\n",
    "Update `routes/order_routes.py` with additional function by name `add_orders` which serve `/orders` via POST method.\n",
    "\n",
    "```python\n",
    "@app.route('/orders', methods=['POST'])\n",
    "def add_orders():\n",
    "    orders = json.loads(request.form['orders'])\n",
    "    orders_ = []\n",
    "    for order in orders:\n",
    "        orders_.append(Order(**order))\n",
    "    db.session.add_all(orders_)\n",
    "    db.session.commit()    \n",
    "    return jsonify({'message': 'Orders added successfully...'}), 201    \n",
    "```"
   ]
  },
  {
   "cell_type": "markdown",
   "metadata": {},
   "source": [
    "6. Test the performance and see if it is improved or not. "
   ]
  },
  {
   "cell_type": "code",
   "execution_count": null,
   "metadata": {},
   "outputs": [],
   "source": [
    "import pandas as pd"
   ]
  },
  {
   "cell_type": "code",
   "execution_count": null,
   "metadata": {},
   "outputs": [],
   "source": [
    "df = pd.read_csv(\n",
    "    'data/retail_db/orders/part-00000',\n",
    "    names=['order_id', 'order_date', 'order_customer_id', 'order_status']\n",
    ").drop('order_id')"
   ]
  },
  {
   "cell_type": "code",
   "execution_count": null,
   "metadata": {},
   "outputs": [],
   "source": [
    "orders = df.to_dict(orient='records')"
   ]
  },
  {
   "cell_type": "code",
   "execution_count": null,
   "metadata": {},
   "outputs": [],
   "source": [
    "import requests\n",
    "import json"
   ]
  },
  {
   "cell_type": "code",
   "execution_count": null,
   "metadata": {},
   "outputs": [],
   "source": [
    "base_url = input('Enter base url: ')"
   ]
  },
  {
   "cell_type": "code",
   "execution_count": null,
   "metadata": {},
   "outputs": [],
   "source": [
    "batch_size = int(input('Enter batch size: '))"
   ]
  },
  {
   "cell_type": "code",
   "execution_count": null,
   "metadata": {},
   "outputs": [],
   "source": [
    "len(orders)"
   ]
  },
  {
   "cell_type": "code",
   "execution_count": null,
   "metadata": {},
   "outputs": [],
   "source": [
    "for i in range(0, len(orders), batch_size):\n",
    "    orders_chunk = orders[i:i+batch_size]\n",
    "    response = requests.post(\n",
    "        f'{base_url}/orders', \n",
    "        data={'orders': json.dumps(orders_chunk)}\n",
    "    )\n",
    "    print(response.status_code)"
   ]
  },
  {
   "cell_type": "code",
   "execution_count": null,
   "metadata": {},
   "outputs": [],
   "source": []
  }
 ],
 "metadata": {
  "kernelspec": {
   "display_name": "Python 3",
   "language": "python",
   "name": "python3"
  },
  "language_info": {
   "codemirror_mode": {
    "name": "ipython",
    "version": 3
   },
   "file_extension": ".py",
   "mimetype": "text/x-python",
   "name": "python",
   "nbconvert_exporter": "python",
   "pygments_lexer": "ipython3",
   "version": "3.11.2"
  },
  "orig_nbformat": 4
 },
 "nbformat": 4,
 "nbformat_minor": 2
}
