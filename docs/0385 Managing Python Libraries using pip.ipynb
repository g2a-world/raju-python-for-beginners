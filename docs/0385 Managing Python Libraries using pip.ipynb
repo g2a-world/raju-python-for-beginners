{
 "cells": [
  {
   "attachments": {},
   "cell_type": "markdown",
   "metadata": {},
   "source": [
    "* Recap of Python Modules\n",
    "* Overview of 3rd Party Libraries\n",
    "* Reviewing 3rd Party Libraries using pypi.org\n",
    "* Getting started with `pip`\n",
    "* Install individual libraries using `pip`\n",
    "* Upgrade individual libraries\n",
    "* Delete individual libraries\n",
    "* Install libraries using specific versions\n",
    "* Using requirements file\n",
    "\n",
    "Note: As of now we have not covered virtual environments yet, hence we will use pip belonging to global Python."
   ]
  },
  {
   "cell_type": "markdown",
   "metadata": {},
   "source": [
    "Commands used in this lecture.\n",
    "```sh\n",
    "python -m pip --help\n",
    "python -m pip --version\n",
    "python -m pip install configparser\n",
    "python -m pip install --upgrade configparser\n",
    "python -m pip install --upgrade pip\n",
    "python -m pip uninstall configparser\n",
    "python -m pip install configparser==5.3.0\n",
    "python -m pip install -r requirements.txt\n",
    "```"
   ]
  },
  {
   "cell_type": "markdown",
   "metadata": {},
   "source": []
  }
 ],
 "metadata": {
  "kernelspec": {
   "display_name": "Python 3.x",
   "language": "python",
   "name": "python3"
  },
  "language_info": {
   "name": "python",
   "version": "3"
  },
  "orig_nbformat": 4,
  "vscode": {
   "interpreter": {
    "hash": "31f2aee4e71d21fbe5cf8b01ff0e069b9275f58929596ceb00d14d90e3e16cd6"
   }
  }
 },
 "nbformat": 4,
 "nbformat_minor": 2
}
