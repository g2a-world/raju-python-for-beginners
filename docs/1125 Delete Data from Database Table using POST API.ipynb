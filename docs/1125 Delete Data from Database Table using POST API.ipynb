{
 "cells": [
  {
   "attachments": {},
   "cell_type": "markdown",
   "metadata": {},
   "source": [
    "* Overview of Implementing Delete logic\n",
    "* Update user detail HTML page for Deletion\n",
    "* Review logic to delete data using flask shell\n",
    "* Add delete user logic to the application\n",
    "* Review delete user logic\n",
    "* Run application and validate\n",
    "* Exercise and Solution"
   ]
  },
  {
   "attachments": {},
   "cell_type": "markdown",
   "metadata": {},
   "source": [
    "* Overview of Implementing Delete logic\n",
    "  * `DELETE` is one of the REST APIs\n",
    "  * HTML Forms typically supports `GET` and `POST`\n",
    "  * We will implement the `DELETE` functionality using `POST`"
   ]
  },
  {
   "attachments": {},
   "cell_type": "markdown",
   "metadata": {},
   "source": [
    "* Update user detail HTML page for Deletion\n",
    "\n",
    "Update `templates/user_detail.html`\n",
    "\n",
    "```html\n",
    "{%- extends \"base.html\" %}\n",
    "\n",
    "{% block content %}\n",
    "<form method=\"POST\" action=\"{{ url_for('user', id=user.id) }}\">\n",
    "    <h3>User Details</h3>\n",
    "    <div class=\"container\">\n",
    "        <label for=\"first_name\"><b>First Name</b></label>\n",
    "        {{ user.first_name }}\n",
    "        <br><br>\n",
    "        <label for=\"last_name\"><b>Last Name</b></label>\n",
    "        {{ user.last_name }}\n",
    "        <br><br>\n",
    "        <label for=\"username\"><b>Username</b></label>\n",
    "        {{ user.username }}\n",
    "        <br><br>\n",
    "        <label for=\"email\"><b>Email</b></label>\n",
    "        {{ user.email }}\n",
    "        <br><br>\n",
    "\n",
    "        <button type=\"submit\" name=\"action\" value=\"edit\">Edit</button>\n",
    "        <button type=\"submit\" name=\"action\" value=\"delete\">Delete</button>\n",
    "    </div>\n",
    "</form>\n",
    "{%- endblock %}\n",
    "```"
   ]
  },
  {
   "attachments": {},
   "cell_type": "markdown",
   "metadata": {},
   "source": [
    "* Review logic to delete data using flask shell\n",
    "\n",
    "Launch flask shell using `python -m flask shell` and run the below code snippets.\n",
    "```python\n",
    "from models.user import User\n",
    "User.query.all() # Use the first id\n",
    "u = User.query.get(1)\n",
    "db.session.delete(u)\n",
    "db.session.commit() # Updates the data in the database table\n",
    "\n",
    "User.query.all()\n",
    "# The result will not contain the record deleted\n",
    "```\n",
    "\n",
    "Use pgAdmin and run the following query to confirm.\n",
    "```sql\n",
    "SELECT * FROM users WHERE id = 1;\n",
    "```"
   ]
  },
  {
   "attachments": {},
   "cell_type": "markdown",
   "metadata": {},
   "source": [
    "* Add delete user logic to the application\n",
    "\n",
    "Update `user` function in `app.py` with delete functionality.\n",
    "\n",
    "```python\n",
    "@app.route('/user', methods=['GET', 'POST'])\n",
    "def user():\n",
    "    if request.method == 'GET':\n",
    "        id = request.args.get('id')\n",
    "        if id:\n",
    "            user = User.query.get(id)\n",
    "            return render_template('user_detail.html', user=user)\n",
    "        else:\n",
    "            return render_template('user_form.html', user=None)\n",
    "    elif request.method == 'POST':\n",
    "        id = request.args.get('id')\n",
    "        if id:\n",
    "            user = User.query.get(id)\n",
    "            form_action = request.form['action']\n",
    "            if form_action == 'edit':\n",
    "                return render_template('user_form.html', user=user)\n",
    "            elif form_action == 'delete':\n",
    "                db.session.delete(user)\n",
    "                db.session.commit()\n",
    "                return redirect(url_for('users'))\n",
    "        else:\n",
    "            id = request.form['id']\n",
    "            first_name = request.form['first_name']\n",
    "            last_name = request.form['last_name']\n",
    "            username = request.form['username']\n",
    "            email = request.form['email']\n",
    "            if id:\n",
    "                user = User.query.get(id)\n",
    "                user.first_name = first_name\n",
    "                user.last_name = last_name\n",
    "                user.username = username\n",
    "                user.email = email\n",
    "            else:\n",
    "                user = User(\n",
    "                    first_name=first_name, \n",
    "                    last_name=last_name, \n",
    "                    username=username,\n",
    "                    email=email\n",
    "                )\n",
    "                db.session.add(user)\n",
    "            db.session.commit()\n",
    "            return redirect(url_for('users'))\n",
    "```"
   ]
  },
  {
   "attachments": {},
   "cell_type": "markdown",
   "metadata": {},
   "source": [
    "* Review delete user logic\n",
    "  * Changes to user detail page\n",
    "  * Changes to application to delete the data."
   ]
  },
  {
   "attachments": {},
   "cell_type": "markdown",
   "metadata": {},
   "source": [
    "* Run application and validate\n",
    "\n",
    "Run the application using Flask.\n",
    "```shell\n",
    "python -m flask run\n",
    "```\n",
    "\n",
    "Here are the steps to validate the application.\n",
    "* Visit Users Dashboard http://localhost:5000/users\n",
    "* Visit User Details page for 1 - http://localhost:5000/users?id=1\n",
    "* Click on **Delete** button.\n",
    "* The page will be redirected to users page. Make sure to review and confirm if the user is deleted from the database or not.\n",
    "* You can also connect to pgAdmin and run `SELECT` to confirm if the user is deleted or not."
   ]
  },
  {
   "attachments": {},
   "cell_type": "markdown",
   "metadata": {},
   "source": [
    "* Exercise - Develop functionality to delete course details to the table.\n",
    "  * Update course detail html page (course_form.html) to form to update existing course details. \n",
    "  * Update function `course` for `/course` end point with `POST` to delete data in the table.\n",
    "  * Run and Validate the application. Go to the end point `/course` with `?course_id=1` parameter and perform below steps.\n",
    "    * Make sure to click on **Delete** button.\n",
    "    * Make sure that the page is redirected to **courses** dashboard.\n",
    "    * The course deleted should not be there in the dashboard."
   ]
  }
 ],
 "metadata": {
  "language_info": {
   "name": "python"
  },
  "orig_nbformat": 4
 },
 "nbformat": 4,
 "nbformat_minor": 2
}
