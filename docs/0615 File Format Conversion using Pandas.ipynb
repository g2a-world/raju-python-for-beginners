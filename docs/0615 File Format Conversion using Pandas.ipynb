{
 "cells": [
  {
   "attachments": {},
   "cell_type": "markdown",
   "metadata": {},
   "source": [
    "* Overview of File Format Conversion\n",
    "* Review Schema Details in JSON Format\n",
    "* Develop function to return column names\n",
    "* Read data from csv into dataframe using schema\n",
    "* Print number of records from each data set\n",
    "* Write data in JSON format to files\n",
    "* Compute overall execution time\n",
    "* Validate data in JSON files using Pandas\n",
    "* Exercise and Solution"
   ]
  },
  {
   "cell_type": "code",
   "execution_count": null,
   "metadata": {},
   "outputs": [],
   "source": [
    "# Overview of File Format Conversion"
   ]
  },
  {
   "cell_type": "code",
   "execution_count": null,
   "metadata": {},
   "outputs": [],
   "source": [
    "# Review Schema Details in JSON Format\n",
    "# data/retail_db/schemas.json"
   ]
  },
  {
   "cell_type": "code",
   "execution_count": null,
   "metadata": {},
   "outputs": [],
   "source": [
    "# Develop function to return column names\n",
    "import json\n",
    "def get_columns(ds):\n",
    "    with open('data/retail_db/schemas.json') as fp:\n",
    "        schemas = json.load(fp)\n",
    "    try:\n",
    "        schema = schemas.get(ds)\n",
    "        if not schema:\n",
    "            raise KeyError\n",
    "        cols = sorted(schema, key=lambda s: s['column_position'])\n",
    "        columns = [col['column_name'] for col in cols]\n",
    "        return columns\n",
    "    except KeyError:\n",
    "        print(f'Schema not found for {ds}')\n",
    "        return\n",
    "\n"
   ]
  },
  {
   "cell_type": "code",
   "execution_count": null,
   "metadata": {},
   "outputs": [],
   "source": [
    "get_columns('orders')"
   ]
  },
  {
   "cell_type": "code",
   "execution_count": null,
   "metadata": {},
   "outputs": [],
   "source": [
    "get_columns('dummy')"
   ]
  },
  {
   "cell_type": "code",
   "execution_count": null,
   "metadata": {},
   "outputs": [],
   "source": [
    "# Read data from csv into dataframe using schema\n",
    "import pandas as pd"
   ]
  },
  {
   "cell_type": "code",
   "execution_count": null,
   "metadata": {},
   "outputs": [],
   "source": [
    "df = pd.read_csv(\n",
    "    'data/retail_db/departments/part-00000',\n",
    "    names=get_columns('departments')\n",
    ")"
   ]
  },
  {
   "cell_type": "code",
   "execution_count": null,
   "metadata": {},
   "outputs": [],
   "source": [
    "df.shape"
   ]
  },
  {
   "cell_type": "code",
   "execution_count": null,
   "metadata": {},
   "outputs": [],
   "source": [
    "# Print number of records from each data set\n",
    "import glob\n",
    "import os"
   ]
  },
  {
   "cell_type": "code",
   "execution_count": null,
   "metadata": {},
   "outputs": [],
   "source": [
    "for path in glob.glob('data/retail_db/*'):\n",
    "    if os.path.isdir(path):\n",
    "        ds = os.path.split(path)[1]\n",
    "        for file in glob.glob(f'{path}/part*'):\n",
    "            df = pd.read_csv(file, names=get_columns(ds))\n",
    "            print(f'Number of records for {os.path.split(file)[1]} in {ds} is {df.shape[0]}')"
   ]
  },
  {
   "cell_type": "code",
   "execution_count": null,
   "metadata": {},
   "outputs": [],
   "source": [
    "# Write data in JSON format to files\n",
    "\n",
    "import uuid\n",
    "for path in glob.glob('data/retail_db/*'):\n",
    "    if os.path.isdir(path):\n",
    "        ds = os.path.split(path)[1]\n",
    "        for file in glob.glob(f'{path}/part*'):\n",
    "            df = pd.read_csv(file, names=get_columns(ds))\n",
    "            os.makedirs(f'data/retail_demo/{ds}', exist_ok=True)\n",
    "            df.to_json(\n",
    "                f'data/retail_demo/{ds}/{str(uuid.uuid1())}.json',\n",
    "                orient='records',\n",
    "                lines=True\n",
    "            )\n",
    "            print(f'Number of records processed for {os.path.split(file)[1]} in {ds} is {df.shape[0]}')"
   ]
  },
  {
   "cell_type": "code",
   "execution_count": null,
   "metadata": {},
   "outputs": [],
   "source": [
    "# Compute overall execution time\n",
    "# delete target base folder before running this\n",
    "%time\n",
    "\n",
    "import uuid\n",
    "for path in glob.glob('data/retail_db/*'):\n",
    "    if os.path.isdir(path):\n",
    "        ds = os.path.split(path)[1]\n",
    "        for file in glob.glob(f'{path}/part*'):\n",
    "            df = pd.read_csv(file, names=get_columns(ds))\n",
    "            os.makedirs(f'data/retail_demo/{ds}', exist_ok=True)\n",
    "            df.to_json(\n",
    "                f'data/retail_demo/{ds}/part-{str(uuid.uuid1())}.json',\n",
    "                orient='records',\n",
    "                lines=True\n",
    "            )\n",
    "            print(f'Number of records processed for {os.path.split(file)[1]} in {ds} is {df.shape[0]}')"
   ]
  },
  {
   "cell_type": "code",
   "execution_count": null,
   "metadata": {},
   "outputs": [],
   "source": [
    "# Validate data in JSON files using Pandas\n",
    "for path in glob.glob('data/retail_demo/*'):\n",
    "    if os.path.isdir(path):\n",
    "        for file in glob.glob(f'{path}/part*'):\n",
    "            df = pd.read_json(file, lines=True)\n",
    "            print(f'Number of records for {os.path.split(file)[1]} in {ds} is {df.shape[0]}')"
   ]
  },
  {
   "attachments": {},
   "cell_type": "markdown",
   "metadata": {},
   "source": [
    "* Exercise: Convert NYSE data from CSV in `data/nyse_all/nyse_data` to JSON format using gzip compression.\n",
    "  * Source folder: `data/nyse_all/nyse_data`\n",
    "  * Target folder: `data/nyse_all/nyse_json`\n",
    "  * File Format: `gzip` compressed json format.\n",
    "  * Column Names: `['ticker', 'trade_date', 'open_price', 'low_price', 'high_price', 'close_price', 'volume']`\n",
    "  * Make sure file names are generated using `part-uuid.json` format (eg: `part-some-unique-id.json.gz`)\n",
    "  * Validate by using shape on both source and target locations.\n"
   ]
  }
 ],
 "metadata": {
  "kernelspec": {
   "display_name": "Python 3",
   "language": "python",
   "name": "python3"
  },
  "language_info": {
   "codemirror_mode": {
    "name": "ipython",
    "version": 3
   },
   "file_extension": ".py",
   "mimetype": "text/x-python",
   "name": "python",
   "nbconvert_exporter": "python",
   "pygments_lexer": "ipython3",
   "version": "3.10.10"
  },
  "orig_nbformat": 4,
  "vscode": {
   "interpreter": {
    "hash": "7e1998ff7f8aa20ada591c520b972326324e5ea05489af9e422744c7c09f6dad"
   }
  }
 },
 "nbformat": 4,
 "nbformat_minor": 2
}
