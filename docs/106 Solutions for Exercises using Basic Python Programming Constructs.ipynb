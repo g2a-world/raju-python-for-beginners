{
 "cells": [
  {
   "cell_type": "markdown",
   "metadata": {},
   "source": [
    "* Develop a function to check if the positive integer belongs to Fibonacci series or not.\n",
    "  * Raise `ValueError` exception with message \"Invalid Value\" if the argument passed is not valid positive integer.\n",
    "```python\n",
    "def is_fibonacci(n: int) -> bool:\n",
    "    if n < 0 or type(n) != int:\n",
    "        raise ValueError('Invalid Number') \n",
    "    fib1 = 0\n",
    "    fib2 = 1\n",
    "    fib = fib1\n",
    "    while fib < n:\n",
    "        fib = fib2\n",
    "        fib2 += fib1\n",
    "        fib1 = fib \n",
    "\n",
    "    return fib == n\n",
    "\n",
    "is_fibonacci(-10)\n",
    "\n",
    "for i in range(1, 11):\n",
    "    print(i)\n",
    "    print(f'{i} is Fibonacci: {is_fibonacci(i)})') \n",
    "```\n",
    "* Print Fibonacci numbers between 1 to n\n",
    "```python\n",
    "for i in range(1, 11):\n",
    "    if is_fibonacci(i):\n",
    "        print(i, end=' ')\n",
    "```\n",
    "* Develop a function to check if given positive integer n is prime or not\n",
    "  * Raise `ValueError` exception with message \"Invalid Value\" if the argument passed is not valid positive integer.\n",
    "```python\n",
    "import math\n",
    "\n",
    "def is_prime(n: int) -> bool:\n",
    "    if n < 0 or type(n) != int:\n",
    "        raise ValueError('Invalid Number') \n",
    "\n",
    "    if (n != 2 and n % 2 == 0) or n in (0, 1):\n",
    "        return False\n",
    "    \n",
    "    for i in range(3, math.ceil(math.sqrt(n)) + 1, 2):\n",
    "        if n % i == 0:\n",
    "            return False\n",
    "    \n",
    "    return True\n",
    "\n",
    "print(is_prime(7))\n",
    "print(is_prime(9))\n",
    "```\n",
    "* Print Prime Numbers up to n\n",
    "```python\n",
    "for i in range(1, 101):\n",
    "    if is_prime(i):\n",
    "        print(i, end=' ')\n",
    "```\n",
    "* Develop a function to print multiplication table for given positive integer n from 1 up to 10.\n",
    "  * Raise `ValueError` exception with message \"Invalid Value\" if the argument passed is not valid positive integer.\n",
    "```python\n",
    "def mul_table(n, t=10):\n",
    "    if n < 0 or type(n) != int:\n",
    "        raise ValueError('Invalid Number') \n",
    "    for i in range(1, t + 1):\n",
    "        print(f'{n} * {i} = {n * i}')\n",
    "\n",
    "mul_table(5)\n",
    "```\n"
   ]
  },
  {
   "cell_type": "markdown",
   "metadata": {},
   "source": []
  }
 ],
 "metadata": {
  "kernelspec": {
   "display_name": "Python 3.11.2 64-bit",
   "language": "python",
   "name": "python3"
  },
  "language_info": {
   "name": "python",
   "version": "3.11.2"
  },
  "orig_nbformat": 4,
  "vscode": {
   "interpreter": {
    "hash": "1a1af0ee75eeea9e2e1ee996c87e7a2b11a0bebd85af04bb136d915cefc0abce"
   }
  }
 },
 "nbformat": 4,
 "nbformat_minor": 2
}
