{
 "cells": [
  {
   "attachments": {},
   "cell_type": "markdown",
   "metadata": {},
   "source": [
    "* Getting started with Database Programming using Pandas\n",
    "* Role of `SQLAlchemy` and `psycopg2`\n",
    "* Read data from Database Table into Dataframe\n",
    "* Read query results into Dataframe\n",
    "* Database Programming Best Practices\n",
    "* Write data from Dataframe to Database Table\n",
    "* Overview of using `method` in `to_sql`\n",
    "* Exercise and Solution"
   ]
  },
  {
   "cell_type": "code",
   "execution_count": null,
   "metadata": {},
   "outputs": [],
   "source": [
    "import psycopg2\n",
    "\n",
    "# read data from the file\n",
    "with open('data/retail_db/departments/part-00000') as fp:\n",
    "    data = fp.read().splitlines()\n",
    "\n",
    "# build list of tuples for insert\n",
    "recs = []\n",
    "for rec in data:\n",
    "    r = rec.split(',')\n",
    "    recs.append((int(r[0]), r[1]))\n",
    "\n",
    "# prep for database programming\n",
    "conn = psycopg2.connect(\n",
    "    host='localhost',\n",
    "    port=5432,\n",
    "    database='itversity_retail_db',\n",
    "    user='itversity_retail_user',\n",
    "    password='itversity'\n",
    ")\n",
    "cur = conn.cursor()\n",
    "\n",
    "# populate data in recs into the departments table\n",
    "query = '''\n",
    "    INSERT INTO departments (department_id, department_name)\n",
    "    VALUES (%s, %s)\n",
    "'''\n",
    "\n",
    "cur.executemany(query, recs)\n",
    "\n",
    "conn.commit()\n",
    "conn.close()\n",
    "\n",
    "# Limitations\n",
    "# Complexity: High\n",
    "# Readability: Low\n",
    "# Reusability: Low\n",
    "# Pandas with data driven development will address all these limitations"
   ]
  },
  {
   "cell_type": "code",
   "execution_count": null,
   "metadata": {},
   "outputs": [],
   "source": [
    "# Getting started with Database Programming using Pandas\n",
    "# Make sure pandas is installed\n",
    "# Make sure psycopg2-binary is installed\n",
    "# Make sure SQLAlchemy is installed"
   ]
  },
  {
   "cell_type": "code",
   "execution_count": null,
   "metadata": {},
   "outputs": [],
   "source": [
    "# Role of `SQLAlchemy` and `psycopg2`"
   ]
  },
  {
   "cell_type": "code",
   "execution_count": null,
   "metadata": {},
   "outputs": [],
   "source": [
    "# Read data from Database Table into Dataframe\n",
    "import pandas as pd"
   ]
  },
  {
   "cell_type": "code",
   "execution_count": null,
   "metadata": {},
   "outputs": [],
   "source": [
    "host = 'localhost'\n",
    "port = 5432\n",
    "database = 'itversity_retail_db'\n",
    "user = 'itversity_retail_user'\n",
    "password = 'itversity'"
   ]
  },
  {
   "cell_type": "code",
   "execution_count": null,
   "metadata": {},
   "outputs": [],
   "source": [
    "conn = f'postgresql://{user}:{password}@{host}:{port}/{database}'"
   ]
  },
  {
   "cell_type": "code",
   "execution_count": null,
   "metadata": {},
   "outputs": [],
   "source": [
    "pd.read_sql('departments', con=conn)"
   ]
  },
  {
   "cell_type": "code",
   "execution_count": null,
   "metadata": {},
   "outputs": [],
   "source": [
    "# Read query results into Dataframe\n",
    "pd.read_sql('SELECT * FROM departments', con=conn)"
   ]
  },
  {
   "cell_type": "code",
   "execution_count": null,
   "metadata": {},
   "outputs": [],
   "source": [
    "pd.read_sql(\n",
    "    \"SELECT * FROM information_schema.tables WHERE table_schema = 'public'\", \n",
    "    con=conn\n",
    ")"
   ]
  },
  {
   "cell_type": "code",
   "execution_count": null,
   "metadata": {},
   "outputs": [],
   "source": [
    "pd.read_sql('SELECT current_date', con=conn)"
   ]
  },
  {
   "cell_type": "code",
   "execution_count": null,
   "metadata": {},
   "outputs": [],
   "source": [
    "# Database Programming Best Practices\n",
    "# Databases are generally much powerful than servers where applications run\n",
    "# Implement the core data processing logic using SQL to run on Database Servers"
   ]
  },
  {
   "cell_type": "code",
   "execution_count": null,
   "metadata": {},
   "outputs": [],
   "source": [
    "# Write data from Dataframe to Database Table\n",
    "df = pd.read_csv(\n",
    "    'data/retail_db/departments/part-00000',\n",
    "    names=['department_id', 'department_name']\n",
    ")"
   ]
  },
  {
   "cell_type": "code",
   "execution_count": null,
   "metadata": {},
   "outputs": [],
   "source": [
    "df"
   ]
  },
  {
   "cell_type": "code",
   "execution_count": null,
   "metadata": {},
   "outputs": [],
   "source": [
    "help(df.to_sql)"
   ]
  },
  {
   "cell_type": "code",
   "execution_count": null,
   "metadata": {},
   "outputs": [],
   "source": [
    "df.to_sql(\n",
    "    'departments',\n",
    "    con=conn,\n",
    "    if_exists='append', # Make sure the table is pre-recreated with constraints\n",
    "    index=False\n",
    ")"
   ]
  },
  {
   "cell_type": "code",
   "execution_count": null,
   "metadata": {},
   "outputs": [],
   "source": [
    "pd.read_sql('departments', con=conn)"
   ]
  },
  {
   "cell_type": "code",
   "execution_count": null,
   "metadata": {},
   "outputs": [],
   "source": [
    "# Overview of using `method` in `to_sql`\n",
    "help(df.to_sql)"
   ]
  },
  {
   "cell_type": "code",
   "execution_count": null,
   "metadata": {},
   "outputs": [],
   "source": [
    "order_items = pd.read_csv(\n",
    "    'data/retail_db/order_items/part-00000',\n",
    "    names=['order_item_id', 'order_item_order_id', 'order_item_product_id', \n",
    "           'order_item_quantity', 'order_item_subtotal', 'order_item_product_price']\n",
    ")"
   ]
  },
  {
   "cell_type": "code",
   "execution_count": null,
   "metadata": {},
   "outputs": [],
   "source": [
    "order_items.shape"
   ]
  },
  {
   "cell_type": "code",
   "execution_count": null,
   "metadata": {},
   "outputs": [],
   "source": [
    "order_items.to_sql(\n",
    "    'order_items',\n",
    "    con=conn,\n",
    "    if_exists='replace',\n",
    "    index=False,\n",
    "    chunksize=10000,\n",
    "    method='multi'\n",
    ")"
   ]
  },
  {
   "cell_type": "code",
   "execution_count": null,
   "metadata": {},
   "outputs": [],
   "source": [
    "pd.read_sql('order_items', con=conn)"
   ]
  },
  {
   "attachments": {},
   "cell_type": "markdown",
   "metadata": {},
   "source": [
    "* Exercise: Read data from `data/sales/part-00000` and write to `sales` table in the database.\n",
    "  * Make sure to reset the table if it exists (recreate or truncate).\n",
    "  * Use `pandas` to read the data from file into dataframe.\n",
    "  * Write dataframe into `sales` table using `pandas`.\n",
    "  * Use `read_sql` to see if the data is written to the table or not."
   ]
  }
 ],
 "metadata": {
  "kernelspec": {
   "display_name": "Python 3.x",
   "language": "python",
   "name": "python3"
  },
  "language_info": {
   "codemirror_mode": {
    "name": "ipython",
    "version": 3
   },
   "file_extension": ".py",
   "mimetype": "text/x-python",
   "name": "python",
   "nbconvert_exporter": "python",
   "pygments_lexer": "ipython3",
   "version": "3"
  },
  "orig_nbformat": 4,
  "vscode": {
   "interpreter": {
    "hash": "31f2aee4e71d21fbe5cf8b01ff0e069b9275f58929596ceb00d14d90e3e16cd6"
   }
  }
 },
 "nbformat": 4,
 "nbformat_minor": 2
}
