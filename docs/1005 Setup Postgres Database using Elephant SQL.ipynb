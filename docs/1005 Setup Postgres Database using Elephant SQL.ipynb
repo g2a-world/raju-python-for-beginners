{
 "cells": [
  {
   "attachments": {},
   "cell_type": "markdown",
   "metadata": {},
   "source": [
    "* Overview of Elephant SQL\n",
    "* Signing up for Elephant SQL\n",
    "* Create free Postgres Database\n",
    "* Validate connectivity using pgAdmin\n",
    "* Overview of Database Connection Details\n",
    "* Create a test table\n",
    "* Populate data into the test table\n",
    "* Exercise and Solution\n"
   ]
  }
 ],
 "metadata": {
  "language_info": {
   "name": "python"
  },
  "orig_nbformat": 4
 },
 "nbformat": 4,
 "nbformat_minor": 2
}
