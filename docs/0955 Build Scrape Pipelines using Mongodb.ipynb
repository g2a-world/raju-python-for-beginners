{
 "cells": [
  {
   "attachments": {},
   "cell_type": "markdown",
   "metadata": {},
   "source": [
    "* Validate and Setup Mongodb Database\n",
    "* Overview of Scrapy Pipelines\n",
    "* Develop Pipeline Logic to write to Mongodb\n",
    "* Run the Pipeline to write to Mongodb\n",
    "* Validate Data in Mongodb Collection\n",
    "* Exercise and Solution"
   ]
  }
 ],
 "metadata": {
  "language_info": {
   "name": "python"
  },
  "orig_nbformat": 4
 },
 "nbformat": 4,
 "nbformat_minor": 2
}
