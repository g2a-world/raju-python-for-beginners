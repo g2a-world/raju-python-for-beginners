{
 "cells": [
  {
   "attachments": {},
   "cell_type": "markdown",
   "metadata": {},
   "source": [
    "* Setup Scrapy project using Scrapy CLI\n",
    "* Review Folder Structure\n",
    "* Add Spider to the Project\n",
    "* Update Settings to write to json file\n",
    "* Run and Validate the Project\n",
    "* Exercise and Solution"
   ]
  },
  {
   "attachments": {},
   "cell_type": "markdown",
   "metadata": {},
   "source": [
    "* Setting up Project using Scrapy CLI\n",
    "\n",
    "1. Run `scrapy startproject quotes` to setup scrapy project.\n",
    "2. Check whether a folder by name quotes is not created or not."
   ]
  },
  {
   "attachments": {},
   "cell_type": "markdown",
   "metadata": {},
   "source": [
    "* Review Folder Structure\n",
    "\n",
    "1. Check configuration file\n",
    "2. Review `spiders` folder\n",
    "3. Review `settings.py`\n",
    "4. Review `pipelines.py`"
   ]
  },
  {
   "attachments": {},
   "cell_type": "markdown",
   "metadata": {},
   "source": [
    "* Add Spider to the Project\n",
    "\n",
    "1. Add a program file under `quotes/quotes/spiders` folder by name quotes_spider.py\n",
    "2. Review and understand the code.\n",
    "\n",
    "```python\n",
    "import scrapy\n",
    "\n",
    "\n",
    "def generate_urls(base_url):\n",
    "    urls = []\n",
    "    for i in range(1, 101):\n",
    "        urls.append(f'{base_url}?page={i}')\n",
    "    return urls\n",
    "\n",
    "    \n",
    "class QuoteSpider(scrapy.Spider):\n",
    "    name = 'quotes'\n",
    "    start_urls = generate_urls('https://www.goodreads.com/quotes')\n",
    "\n",
    "    def parse(self, response):\n",
    "        for authorOrTitle in response.css('a.authorOrTitle'):\n",
    "            payload = {\n",
    "                'url': response.url,\n",
    "                'authorOrTitle': authorOrTitle.css('::attr(href)').get()\n",
    "            }\n",
    "            yield payload\n",
    "```"
   ]
  }
 ],
 "metadata": {
  "language_info": {
   "name": "python"
  },
  "orig_nbformat": 4
 },
 "nbformat": 4,
 "nbformat_minor": 2
}
