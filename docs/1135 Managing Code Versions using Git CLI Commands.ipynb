{
 "cells": [
  {
   "attachments": {},
   "cell_type": "markdown",
   "metadata": {},
   "source": [
    "* Reviewing Git Commits\n",
    "* Overview of Managing Git Commits\n",
    "* Overwrite latest main version with past commit\n",
    "* Overwrite latest main version with past branch\n",
    "* Check details of specific git commit\n",
    "* Move forward to future commits using merge\n",
    "* Exercise and Solution"
   ]
  },
  {
   "attachments": {},
   "cell_type": "markdown",
   "metadata": {},
   "source": [
    "* Reviewing Git Commits\n",
    "\n",
    "1. Make sure you are in correct branch (in this case main) of the repository `cicd-demo`\n",
    "2. Run `git log` command to see the history of commits\n",
    "3. Review the details provided by the `git log` command."
   ]
  },
  {
   "attachments": {},
   "cell_type": "markdown",
   "metadata": {},
   "source": [
    "* Overview of Managing Git Commits\n",
    "\n",
    "1. Going back into the history (undo)\n",
    "2. Moving forward from older commits to new commits (redo)\n",
    "3. Important commands to manage git commits\n",
    "  * `git reset --hard commit_id`\n",
    "  * `git merge branch_name`\n",
    "  * `git push -f origin branch_name`"
   ]
  },
  {
   "attachments": {},
   "cell_type": "markdown",
   "metadata": {},
   "source": [
    "* Overwrite latest main version with past commit\n",
    "\n",
    "1. Make sure you are in right branch locally (in this case `main`).\n",
    "2. Run `git log` command and review the commit ids. Pick the commit id in the past to which you would like to reset.\n",
    "3. Run `git reset --hard commit_id` to reset to past commit. If you do not use `--hard` then the add and commit will not be automatically run.\n",
    "4. Review the changes to confirm the branch is reset to past commit.\n",
    "5. Run `git push -f origin main` to overwrite in remote branch as well. We will be overwriting the `main` branch with the code based on the past commit id.\n",
    "6. Go to GitHub Repository and review if the changes are reflected or not."
   ]
  },
  {
   "attachments": {},
   "cell_type": "markdown",
   "metadata": {},
   "source": [
    "* Overwrite latest main version with past branch\n",
    "\n",
    "1. Make sure you are in right branch locally (in this case `main`).\n",
    "2. Identify right branch to which you want to revert to. Either you can use commit id or branch name to reset.\n",
    "3. Run `git reset --hard origin/branch_name` to reset to past branch at origin (remote). If the branch is available locally, we can also use local branch name.\n",
    "4. Review the changes to confirm the branch is reset to past commit.\n",
    "5. Run `git push -f origin main` to overwrite in remote branch as well. We will be overwriting the remote `main` branch with the code based on the past branch.\n",
    "6. Go to GitHub Repository and review if the changes are reflected or not."
   ]
  },
  {
   "attachments": {},
   "cell_type": "markdown",
   "metadata": {},
   "source": [
    "* Check details of specific git commit\n",
    "\n",
    "We can use `git show commit_id` command to get all the details related to specific commit. Here are some of the commands that can come handy.\n",
    "\n",
    "1. `git show HEAD` to see the details related to the commit which is used as current baseline.\n",
    "2. `git show origin/branch_name` to see the details related to remote branch at origin for given branch name.\n",
    "3. `git show branch_name` to see the details related to local branch.\n",
    "4. `git show commit_id` to see the details related to specific commit id."
   ]
  },
  {
   "attachments": {},
   "cell_type": "markdown",
   "metadata": {},
   "source": [
    "* Move forward to future commits using merge\n",
    "\n",
    "Some times, we might want to go back to a branch or commit id in the past and then would like to apply changes that are available based on existing active branches. Here are the steps to be followed.\n",
    "\n",
    "1. Make sure to be in `main` branch. Your main branch should have been reset to some branch into the past.\n",
    "2. Run `git status` and review the changes.\n",
    "3. Identify a branch to which you would like to move forward - `cicd-pipeline`.\n",
    "4. Run `git merge origin/cicd-pipeline` and review the changes locally. We can also use commit id from the activity, if the branch is already deleted. You can go to Branch and click on activity to review the activity details. If the remote branch is not deleted, then you can use `git show` command to get the commit id and other details.\n",
    "5. Run `git push -f origin main` to push the changes to remote main branch. Make sure to review to validate if the changes are properly pushed or not to remote main branch."
   ]
  },
  {
   "attachments": {},
   "cell_type": "markdown",
   "metadata": {},
   "source": [
    "* Exercise - Reset and Redo for sales-app\n",
    "\n",
    "Make sure to use commit ids for both reset and redoing sales-app.\n",
    "\n",
    "1. Make sure to be in main branch\n",
    "2. Identify commit id pointing to latest `sales-cicd`.\n",
    "3. Reset to the main branch to specific version.\n",
    "4. Push changes and validate. Make sure to review code and also validate the application.\n",
    "5. Identify commit id pointing to latest `modularize-routes` (same as original main before taking this exercise).\n",
    "6. Merge the changes into the local main branch and then push to remote branch.\n",
    "7. Validate both code (locally or in GitHub or both) and application by going to the browser."
   ]
  },
  {
   "attachments": {},
   "cell_type": "markdown",
   "metadata": {},
   "source": [
    "* Solution - Reset and Redo for sales-app\n",
    "\n",
    "Follow the lecture if you could not recollect the commands.\n",
    "\n",
    "1. Make sure to be in main branch\n",
    "2. Identify commit id pointing to latest `sales-cicd`.\n",
    "3. Reset to the main branch to specific version.\n",
    "4. Push changes and validate. Make sure to review code and also validate the application.\n",
    "5. Identify commit id pointing to latest `modularize-routes` (same as original main before taking this exercise).\n",
    "6. Merge the changes into the local main branch and then push to remote branch.\n",
    "7. Validate both code (locally or in GitHub or both) and application by going to the browser."
   ]
  }
 ],
 "metadata": {
  "language_info": {
   "name": "python"
  },
  "orig_nbformat": 4
 },
 "nbformat": 4,
 "nbformat_minor": 2
}
