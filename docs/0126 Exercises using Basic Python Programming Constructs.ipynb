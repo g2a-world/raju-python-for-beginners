{
 "cells": [
  {
   "cell_type": "markdown",
   "metadata": {},
   "source": [
    "* Develop a function to check if the positive integer belongs to Fibonacci series or not.\n",
    "  * Raise `ValueError` exception with message \"Invalid Value\" if the argument passed is not valid positive integer.\n",
    "* Print Fibonacci series up to n\n",
    "* Develop a function to check if given positive integer n is prime or not\n",
    "  * Raise `ValueError` exception with message \"Invalid Value\" if the argument passed is not valid positive integer.\n",
    "* Print Prime Numbers from 1 up to n\n",
    "* Develop a function to print multiplication table for given positive integer n from 1 up to 10.\n",
    "  * Raise `ValueError` exception with message \"Invalid Value\" if the argument passed is not valid positive integer."
   ]
  },
  {
   "cell_type": "markdown",
   "metadata": {},
   "source": []
  }
 ],
 "metadata": {
  "kernelspec": {
   "display_name": "Python 3.11.2 64-bit",
   "language": "python",
   "name": "python3"
  },
  "language_info": {
   "name": "python",
   "version": "3.11.2"
  },
  "orig_nbformat": 4,
  "vscode": {
   "interpreter": {
    "hash": "1a1af0ee75eeea9e2e1ee996c87e7a2b11a0bebd85af04bb136d915cefc0abce"
   }
  }
 },
 "nbformat": 4,
 "nbformat_minor": 2
}
