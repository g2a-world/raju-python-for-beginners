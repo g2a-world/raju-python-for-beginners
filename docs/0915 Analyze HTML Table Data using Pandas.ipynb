{
 "cells": [
  {
   "attachments": {},
   "cell_type": "markdown",
   "metadata": {},
   "source": [
    "* Validate the installation of Pandas\n",
    "* Understand NFL Data in HTML\n",
    "* Create Pandas Data Frame for HTML Table Data\n",
    "* Get Division, Club and Head Coach Details\n",
    "* Get all the Teams related to East\n",
    "* Get Number of Teams per Conference and Division\n",
    "* Limitations of using Pandas\n",
    "* Exercise and Solution"
   ]
  },
  {
   "attachments": {},
   "cell_type": "markdown",
   "metadata": {},
   "source": [
    "* Validate the installation of Pandas"
   ]
  },
  {
   "cell_type": "code",
   "execution_count": null,
   "metadata": {},
   "outputs": [],
   "source": [
    "!python -m pip show pandas"
   ]
  },
  {
   "attachments": {},
   "cell_type": "markdown",
   "metadata": {},
   "source": [
    "* Understand NFL Data in HTML\n",
    "\n",
    "A simple table copied from NFL Wiki - https://en.wikipedia.org/wiki/National_Football_League"
   ]
  },
  {
   "attachments": {},
   "cell_type": "markdown",
   "metadata": {},
   "source": [
    "* Create Pandas Data Frame for HTML Table Data"
   ]
  },
  {
   "cell_type": "code",
   "execution_count": null,
   "metadata": {},
   "outputs": [],
   "source": [
    "import pandas as pd"
   ]
  },
  {
   "cell_type": "code",
   "execution_count": null,
   "metadata": {},
   "outputs": [],
   "source": [
    "file_name = 'nfl_teams.html'"
   ]
  },
  {
   "cell_type": "code",
   "execution_count": null,
   "metadata": {},
   "outputs": [],
   "source": [
    "pd.read_html(file_name)[0]"
   ]
  },
  {
   "attachments": {},
   "cell_type": "markdown",
   "metadata": {},
   "source": [
    "* Get Division, Club and Head Coach Details"
   ]
  },
  {
   "cell_type": "code",
   "execution_count": null,
   "metadata": {},
   "outputs": [],
   "source": [
    "nfl_df = pd.read_html(file_name)[0]"
   ]
  },
  {
   "cell_type": "code",
   "execution_count": null,
   "metadata": {},
   "outputs": [],
   "source": [
    "nfl_df.head()"
   ]
  },
  {
   "cell_type": "code",
   "execution_count": null,
   "metadata": {},
   "outputs": [],
   "source": [
    "nfl_df[['Division', 'Club', 'Head Coach']]"
   ]
  },
  {
   "attachments": {},
   "cell_type": "markdown",
   "metadata": {},
   "source": [
    "* Get all the Teams related to East"
   ]
  },
  {
   "cell_type": "code",
   "execution_count": null,
   "metadata": {},
   "outputs": [],
   "source": [
    "nfl_df.query('Division == \"East\"')"
   ]
  },
  {
   "attachments": {},
   "cell_type": "markdown",
   "metadata": {},
   "source": [
    "* Get Number of Teams per Conference and Division"
   ]
  },
  {
   "cell_type": "code",
   "execution_count": 25,
   "metadata": {},
   "outputs": [
    {
     "name": "stdout",
     "output_type": "stream",
     "text": [
      "Help on method aggregate in module pandas.core.groupby.generic:\n",
      "\n",
      "aggregate(func=None, *args, engine=None, engine_kwargs=None, **kwargs) method of pandas.core.groupby.generic.SeriesGroupBy instance\n",
      "    Aggregate using one or more operations over the specified axis.\n",
      "    \n",
      "    Parameters\n",
      "    ----------\n",
      "    func : function, str, list or dict\n",
      "        Function to use for aggregating the data. If a function, must either\n",
      "        work when passed a Series or when passed to Series.apply.\n",
      "    \n",
      "        Accepted combinations are:\n",
      "    \n",
      "        - function\n",
      "        - string function name\n",
      "        - list of functions and/or function names, e.g. ``[np.sum, 'mean']``\n",
      "        - dict of axis labels -> functions, function names or list of such.\n",
      "    \n",
      "        Can also accept a Numba JIT function with\n",
      "        ``engine='numba'`` specified. Only passing a single function is supported\n",
      "        with this engine.\n",
      "    \n",
      "        If the ``'numba'`` engine is chosen, the function must be\n",
      "        a user defined function with ``values`` and ``index`` as the\n",
      "        first and second arguments respectively in the function signature.\n",
      "        Each group's index will be passed to the user defined function\n",
      "        and optionally available for use.\n",
      "    \n",
      "        .. versionchanged:: 1.1.0\n",
      "    *args\n",
      "        Positional arguments to pass to func.\n",
      "    engine : str, default None\n",
      "        * ``'cython'`` : Runs the function through C-extensions from cython.\n",
      "        * ``'numba'`` : Runs the function through JIT compiled code from numba.\n",
      "        * ``None`` : Defaults to ``'cython'`` or globally setting ``compute.use_numba``\n",
      "    \n",
      "        .. versionadded:: 1.1.0\n",
      "    engine_kwargs : dict, default None\n",
      "        * For ``'cython'`` engine, there are no accepted ``engine_kwargs``\n",
      "        * For ``'numba'`` engine, the engine can accept ``nopython``, ``nogil``\n",
      "          and ``parallel`` dictionary keys. The values must either be ``True`` or\n",
      "          ``False``. The default ``engine_kwargs`` for the ``'numba'`` engine is\n",
      "          ``{'nopython': True, 'nogil': False, 'parallel': False}`` and will be\n",
      "          applied to the function\n",
      "    \n",
      "        .. versionadded:: 1.1.0\n",
      "    **kwargs\n",
      "        Keyword arguments to be passed into func.\n",
      "    \n",
      "    Returns\n",
      "    -------\n",
      "    Series\n",
      "    \n",
      "    See Also\n",
      "    --------\n",
      "    Series.groupby.apply : Apply function func group-wise\n",
      "        and combine the results together.\n",
      "    Series.groupby.transform : Aggregate using one or more\n",
      "        operations over the specified axis.\n",
      "    Series.aggregate : Transforms the Series on each group\n",
      "        based on the given function.\n",
      "    \n",
      "    Notes\n",
      "    -----\n",
      "    When using ``engine='numba'``, there will be no \"fall back\" behavior internally.\n",
      "    The group data and group index will be passed as numpy arrays to the JITed\n",
      "    user defined function, and no alternative execution attempts will be tried.\n",
      "    \n",
      "    Functions that mutate the passed object can produce unexpected\n",
      "    behavior or errors and are not supported. See :ref:`gotchas.udf-mutation`\n",
      "    for more details.\n",
      "    \n",
      "    .. versionchanged:: 1.3.0\n",
      "    \n",
      "        The resulting dtype will reflect the return value of the passed ``func``,\n",
      "        see the examples below.\n",
      "    \n",
      "    Examples\n",
      "    --------\n",
      "    >>> s = pd.Series([1, 2, 3, 4])\n",
      "    \n",
      "    >>> s\n",
      "    0    1\n",
      "    1    2\n",
      "    2    3\n",
      "    3    4\n",
      "    dtype: int64\n",
      "    \n",
      "    >>> s.groupby([1, 1, 2, 2]).min()\n",
      "    1    1\n",
      "    2    3\n",
      "    dtype: int64\n",
      "    \n",
      "    >>> s.groupby([1, 1, 2, 2]).agg('min')\n",
      "    1    1\n",
      "    2    3\n",
      "    dtype: int64\n",
      "    \n",
      "    >>> s.groupby([1, 1, 2, 2]).agg(['min', 'max'])\n",
      "       min  max\n",
      "    1    1    2\n",
      "    2    3    4\n",
      "    \n",
      "    The output column names can be controlled by passing\n",
      "    the desired column names and aggregations as keyword arguments.\n",
      "    \n",
      "    >>> s.groupby([1, 1, 2, 2]).agg(\n",
      "    ...     minimum='min',\n",
      "    ...     maximum='max',\n",
      "    ... )\n",
      "       minimum  maximum\n",
      "    1        1        2\n",
      "    2        3        4\n",
      "    \n",
      "    .. versionchanged:: 1.3.0\n",
      "    \n",
      "        The resulting dtype will reflect the return value of the aggregating function.\n",
      "    \n",
      "    >>> s.groupby([1, 1, 2, 2]).agg(lambda x: x.astype(float).min())\n",
      "    1    1.0\n",
      "    2    3.0\n",
      "    dtype: float64\n",
      "\n"
     ]
    }
   ],
   "source": [
    "help(nfl_df.groupby(['Conference', 'Division'])['Club'].agg)"
   ]
  },
  {
   "cell_type": "code",
   "execution_count": 28,
   "metadata": {},
   "outputs": [
    {
     "data": {
      "text/html": [
       "<div>\n",
       "<style scoped>\n",
       "    .dataframe tbody tr th:only-of-type {\n",
       "        vertical-align: middle;\n",
       "    }\n",
       "\n",
       "    .dataframe tbody tr th {\n",
       "        vertical-align: top;\n",
       "    }\n",
       "\n",
       "    .dataframe thead th {\n",
       "        text-align: right;\n",
       "    }\n",
       "</style>\n",
       "<table border=\"1\" class=\"dataframe\">\n",
       "  <thead>\n",
       "    <tr style=\"text-align: right;\">\n",
       "      <th></th>\n",
       "      <th>Conference</th>\n",
       "      <th>Division</th>\n",
       "      <th>club_count</th>\n",
       "    </tr>\n",
       "  </thead>\n",
       "  <tbody>\n",
       "    <tr>\n",
       "      <th>0</th>\n",
       "      <td>American Football Conference</td>\n",
       "      <td>East</td>\n",
       "      <td>4</td>\n",
       "    </tr>\n",
       "    <tr>\n",
       "      <th>1</th>\n",
       "      <td>American Football Conference</td>\n",
       "      <td>North</td>\n",
       "      <td>4</td>\n",
       "    </tr>\n",
       "    <tr>\n",
       "      <th>2</th>\n",
       "      <td>American Football Conference</td>\n",
       "      <td>South</td>\n",
       "      <td>4</td>\n",
       "    </tr>\n",
       "    <tr>\n",
       "      <th>3</th>\n",
       "      <td>American Football Conference</td>\n",
       "      <td>West</td>\n",
       "      <td>4</td>\n",
       "    </tr>\n",
       "    <tr>\n",
       "      <th>4</th>\n",
       "      <td>National Football Conference</td>\n",
       "      <td>East</td>\n",
       "      <td>4</td>\n",
       "    </tr>\n",
       "    <tr>\n",
       "      <th>5</th>\n",
       "      <td>National Football Conference</td>\n",
       "      <td>North</td>\n",
       "      <td>4</td>\n",
       "    </tr>\n",
       "    <tr>\n",
       "      <th>6</th>\n",
       "      <td>National Football Conference</td>\n",
       "      <td>South</td>\n",
       "      <td>4</td>\n",
       "    </tr>\n",
       "    <tr>\n",
       "      <th>7</th>\n",
       "      <td>National Football Conference</td>\n",
       "      <td>West</td>\n",
       "      <td>4</td>\n",
       "    </tr>\n",
       "  </tbody>\n",
       "</table>\n",
       "</div>"
      ],
      "text/plain": [
       "                     Conference Division  club_count\n",
       "0  American Football Conference     East           4\n",
       "1  American Football Conference    North           4\n",
       "2  American Football Conference    South           4\n",
       "3  American Football Conference     West           4\n",
       "4  National Football Conference     East           4\n",
       "5  National Football Conference    North           4\n",
       "6  National Football Conference    South           4\n",
       "7  National Football Conference     West           4"
      ]
     },
     "execution_count": 28,
     "metadata": {},
     "output_type": "execute_result"
    }
   ],
   "source": [
    "nfl_df. \\\n",
    "    groupby(['Conference', 'Division'])['Club']. \\\n",
    "    agg(club_count='count'). \\\n",
    "    reset_index()"
   ]
  },
  {
   "attachments": {},
   "cell_type": "markdown",
   "metadata": {},
   "source": [
    "* Limitations of using Pandas\n",
    "\n",
    "Here are the limitations related to using Pandas to analyze HTML data.\n",
    "\n",
    "1. Supports only http, ftp and file url protocols. Hence you might not be able to use secure urls.\n",
    "2. Behavior might not be consistent if the html pages are too diversified (like Wiki pages)"
   ]
  },
  {
   "attachments": {},
   "cell_type": "markdown",
   "metadata": {},
   "source": [
    "* Exercise and Solution"
   ]
  }
 ],
 "metadata": {
  "kernelspec": {
   "display_name": "Python 3",
   "language": "python",
   "name": "python3"
  },
  "language_info": {
   "codemirror_mode": {
    "name": "ipython",
    "version": 3
   },
   "file_extension": ".py",
   "mimetype": "text/x-python",
   "name": "python",
   "nbconvert_exporter": "python",
   "pygments_lexer": "ipython3",
   "version": "3.11.2"
  },
  "orig_nbformat": 4
 },
 "nbformat": 4,
 "nbformat_minor": 2
}
