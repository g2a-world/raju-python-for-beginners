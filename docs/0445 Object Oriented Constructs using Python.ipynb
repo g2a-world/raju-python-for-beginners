{
 "cells": [
  {
   "attachments": {},
   "cell_type": "markdown",
   "metadata": {},
   "source": [
    "* Defining a class in Python\n",
    "* Overriding default constructor\n",
    "* Defining custom constructor\n",
    "* Overriding str and repr methods\n",
    "* Overview of Inheritance\n",
    "* Adding additional methods\n",
    "* Using Class in other program files"
   ]
  },
  {
   "cell_type": "code",
   "execution_count": null,
   "metadata": {},
   "outputs": [],
   "source": [
    "# user.py\n",
    "class User:\n",
    "    user_id: int\n",
    "    first_name: str\n",
    "    last_name: str\n",
    "    email: str"
   ]
  },
  {
   "cell_type": "code",
   "execution_count": null,
   "metadata": {},
   "outputs": [],
   "source": [
    "# user.py\n",
    "# default constructor\n",
    "\n",
    "class User:\n",
    "    user_id: int\n",
    "    first_name: str\n",
    "    last_name: str\n",
    "    email: str\n",
    "    \n",
    "    def __init__(self):\n",
    "        print('Inside Constructor')"
   ]
  },
  {
   "cell_type": "code",
   "execution_count": null,
   "metadata": {},
   "outputs": [],
   "source": [
    "user = User()"
   ]
  },
  {
   "cell_type": "code",
   "execution_count": null,
   "metadata": {},
   "outputs": [],
   "source": [
    "# user.py\n",
    "# custom constructor\n",
    "\n",
    "class User:\n",
    "    user_id: int\n",
    "    first_name: str\n",
    "    last_name: str\n",
    "    email: str\n",
    "    \n",
    "    def __init__(self):\n",
    "        print('Inside Constructor')\n",
    "        \n",
    "    def __init__(self, user_id, first_name, last_name, email):\n",
    "        print('Inside custom constructor')\n",
    "        self.user_id = user_id\n",
    "        self.first_name = first_name\n",
    "        self.last_name = last_name\n",
    "        self.email = email\n",
    "        self.status = 'Active'"
   ]
  },
  {
   "cell_type": "code",
   "execution_count": null,
   "metadata": {},
   "outputs": [],
   "source": [
    "user = User(1, 'Durga', 'Gadiraju', 'dg@email.com')"
   ]
  },
  {
   "cell_type": "code",
   "execution_count": null,
   "metadata": {},
   "outputs": [],
   "source": [
    "user.email"
   ]
  },
  {
   "cell_type": "code",
   "execution_count": null,
   "metadata": {},
   "outputs": [],
   "source": [
    "user.status"
   ]
  },
  {
   "cell_type": "code",
   "execution_count": 1,
   "metadata": {},
   "outputs": [],
   "source": [
    "# Overriding str and repr methods\n",
    "# user.py\n",
    "# Run print as well as repr with only __str__\n",
    "# Run print as well as repr with only __repr__\n",
    "# Run print as well as repr with both\n",
    "\n",
    "class User:\n",
    "    user_id: int\n",
    "    first_name: str\n",
    "    last_name: str\n",
    "    email: str\n",
    "        \n",
    "    def __init__(self, user_id, first_name, last_name, email):\n",
    "        print('Inside custom constructor')\n",
    "        self.user_id = user_id\n",
    "        self.first_name = first_name\n",
    "        self.last_name = last_name\n",
    "        self.email = email\n",
    "        self.status = 'Active'\n",
    "\n",
    "    def __repr__(self):\n",
    "        return f'{__class__.__name__}<{self.user_id}>'\n",
    "    \n",
    "    def __str__(self):\n",
    "        return str(self.user_id)"
   ]
  },
  {
   "cell_type": "code",
   "execution_count": 2,
   "metadata": {},
   "outputs": [
    {
     "name": "stdout",
     "output_type": "stream",
     "text": [
      "Inside custom constructor\n"
     ]
    }
   ],
   "source": [
    "user = User(1, 'Durga', 'Gadiraju', 'dg@email.com')"
   ]
  },
  {
   "cell_type": "code",
   "execution_count": 3,
   "metadata": {},
   "outputs": [
    {
     "data": {
      "text/plain": [
       "'User<1>'"
      ]
     },
     "execution_count": 3,
     "metadata": {},
     "output_type": "execute_result"
    }
   ],
   "source": [
    "repr(user)"
   ]
  },
  {
   "cell_type": "code",
   "execution_count": 4,
   "metadata": {},
   "outputs": [
    {
     "name": "stdout",
     "output_type": "stream",
     "text": [
      "1\n"
     ]
    }
   ],
   "source": [
    "print(user)"
   ]
  },
  {
   "cell_type": "code",
   "execution_count": 7,
   "metadata": {},
   "outputs": [],
   "source": [
    "# Overview of inheritance\n",
    "class Student(User):\n",
    "    degree: str\n",
    "    def __init__(self, user_id, first_name, last_name, email, degree):\n",
    "        super().__init__(user_id, first_name, last_name, email)\n",
    "        self.degree = degree\n",
    "    \n",
    "    def __repr__(self):\n",
    "        return f'{__class__.__name__}<{self.user_id}>'"
   ]
  },
  {
   "cell_type": "code",
   "execution_count": 8,
   "metadata": {},
   "outputs": [
    {
     "name": "stdout",
     "output_type": "stream",
     "text": [
      "Inside custom constructor\n"
     ]
    }
   ],
   "source": [
    "student = Student(1, 'Durga', 'Gadiraju', 'dg@email.com', 'CS')"
   ]
  },
  {
   "cell_type": "code",
   "execution_count": 9,
   "metadata": {},
   "outputs": [
    {
     "data": {
      "text/plain": [
       "'CS'"
      ]
     },
     "execution_count": 9,
     "metadata": {},
     "output_type": "execute_result"
    }
   ],
   "source": [
    "student.degree"
   ]
  },
  {
   "cell_type": "code",
   "execution_count": null,
   "metadata": {},
   "outputs": [],
   "source": [
    "# Adding additional methods\n",
    "# sales.py\n",
    "class Sale:\n",
    "    sale_id: int\n",
    "    sale_rep_id: int\n",
    "    sale_amount: float\n",
    "    commission_pct: int\n",
    "\n",
    "    def __init__(self, sale_id, sale_rep_id, sale_amount, commission_pct):\n",
    "        self.sale_id = sale_id\n",
    "        self.sale_rep_id = sale_rep_id\n",
    "        self.sale_amount = sale_amount\n",
    "        self.commission_pct = commission_pct\n",
    "\n",
    "    def get_commission_amount(self):\n",
    "        if self.commission_pct and self.commission_pct < 0:\n",
    "            raise ValueError\n",
    "        if self.commission_pct == None:\n",
    "            return 0.0\n",
    "        return (self.commission_pct * self.sale_amount) / 100\n",
    "    \n",
    "    def get_sale_revenue(self):\n",
    "        if self.commission_pct and self.commission_pct < 0:\n",
    "            raise ValueError\n",
    "        if self.commission_pct == None:\n",
    "            return self.sale_amount\n",
    "        return self.sale_amount - self.get_commission_amount()\n",
    "\n",
    "    def __repr__(self):\n",
    "        return f'{__class__.__name__}<{self.sale_id}>'\n"
   ]
  },
  {
   "cell_type": "code",
   "execution_count": null,
   "metadata": {},
   "outputs": [],
   "source": [
    "sale1 = Sale(1, 1, 1500.00, 15)"
   ]
  },
  {
   "cell_type": "code",
   "execution_count": null,
   "metadata": {},
   "outputs": [],
   "source": [
    "sale1.get_commission_amount()"
   ]
  },
  {
   "cell_type": "code",
   "execution_count": null,
   "metadata": {},
   "outputs": [],
   "source": [
    "sale1.get_sale_revenue()"
   ]
  },
  {
   "cell_type": "markdown",
   "metadata": {},
   "source": [
    "* Using Sale from other program\n",
    "```python\n",
    "# app.py\n",
    "from sales import Sale\n",
    "\n",
    "sale1 = Sale(1, 1, 1500.00, 15)\n",
    "\n",
    "print(f'Commission Amount for {sale1.sale_id} is {sale1.get_commission_amount()}')\n",
    "print(f'Net Sale Revenue for {sale1.sale_id} is {sale2.get_sale_revenue()}')\n",
    "\n",
    "sale2 = Sale(2, 1, 1000.00, None)\n",
    "print(f'Commission Amount for {sale2.sale_id} is {sale2.get_commission_amount()}')\n",
    "print(f'Net Sale Revenue for {sale2.sale_id} is {sale2.get_sale_revenue()}')\n",
    "```"
   ]
  },
  {
   "cell_type": "markdown",
   "metadata": {},
   "source": []
  }
 ],
 "metadata": {
  "kernelspec": {
   "display_name": "Python 3.11.2 64-bit",
   "language": "python",
   "name": "python3"
  },
  "language_info": {
   "codemirror_mode": {
    "name": "ipython",
    "version": 3
   },
   "file_extension": ".py",
   "mimetype": "text/x-python",
   "name": "python",
   "nbconvert_exporter": "python",
   "pygments_lexer": "ipython3",
   "version": "3.11.2"
  },
  "orig_nbformat": 4,
  "vscode": {
   "interpreter": {
    "hash": "1a1af0ee75eeea9e2e1ee996c87e7a2b11a0bebd85af04bb136d915cefc0abce"
   }
  }
 },
 "nbformat": 4,
 "nbformat_minor": 2
}
