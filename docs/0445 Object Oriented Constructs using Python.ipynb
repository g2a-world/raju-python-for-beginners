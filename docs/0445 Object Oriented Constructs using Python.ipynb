{
 "cells": [
  {
   "attachments": {},
   "cell_type": "markdown",
   "metadata": {},
   "source": [
    "* Defining a class in Python\n",
    "* Overriding default constructor\n",
    "* Defining custom constructor\n",
    "* Overriding str and repr methods\n",
    "* Adding additional methods\n",
    "* Overview of Inheritance\n",
    "* Using Class in other program files"
   ]
  },
  {
   "cell_type": "code",
   "execution_count": null,
   "metadata": {},
   "outputs": [],
   "source": [
    "# sales.py\n",
    "class Sale:\n",
    "    sale_id: int\n",
    "    sale_rep_id: int\n",
    "    sale_amount: float\n",
    "    commission_pct: int\n"
   ]
  },
  {
   "cell_type": "code",
   "execution_count": null,
   "metadata": {},
   "outputs": [],
   "source": [
    "sale = Sale()"
   ]
  },
  {
   "cell_type": "code",
   "execution_count": null,
   "metadata": {},
   "outputs": [],
   "source": [
    "print(sale)"
   ]
  },
  {
   "cell_type": "code",
   "execution_count": null,
   "metadata": {},
   "outputs": [],
   "source": [
    "# Overriding default constructor\n",
    "class Sale:\n",
    "    sale_id: int\n",
    "    sale_rep_id: int\n",
    "    sale_amount: float\n",
    "    commission_pct: int\n",
    "\n",
    "    def __init__(self):\n",
    "        print('Inside Constructor')"
   ]
  },
  {
   "cell_type": "code",
   "execution_count": null,
   "metadata": {},
   "outputs": [],
   "source": [
    "sale = Sale()"
   ]
  },
  {
   "cell_type": "code",
   "execution_count": null,
   "metadata": {},
   "outputs": [],
   "source": [
    "print(sale)"
   ]
  },
  {
   "cell_type": "code",
   "execution_count": null,
   "metadata": {},
   "outputs": [],
   "source": [
    "# Define custom constructor\n",
    "\n",
    "class Sale:\n",
    "    sale_id: int\n",
    "    sale_rep_id: int\n",
    "    sale_amount: float\n",
    "    commission_pct: int\n",
    "\n",
    "\n",
    "    def __init__(self, sale_id, sale_rep_id, sale_amount, commission_pct):\n",
    "        self.sale_id = sale_id\n",
    "        self.sale_rep_id = sale_rep_id\n",
    "        self.sale_amount = sale_amount\n",
    "        self.commission_pct = commission_pct"
   ]
  },
  {
   "cell_type": "code",
   "execution_count": null,
   "metadata": {},
   "outputs": [],
   "source": [
    "sale = Sale(1, 1, 1500.00, 15)"
   ]
  },
  {
   "cell_type": "code",
   "execution_count": null,
   "metadata": {},
   "outputs": [],
   "source": [
    "print(sale)"
   ]
  },
  {
   "cell_type": "code",
   "execution_count": null,
   "metadata": {},
   "outputs": [],
   "source": [
    "print(sale.sale_id)"
   ]
  },
  {
   "cell_type": "code",
   "execution_count": null,
   "metadata": {},
   "outputs": [],
   "source": [
    "# Overriding str and repr methods\n",
    "# sales.py\n",
    "class Sale:\n",
    "    sale_id: int\n",
    "    sale_rep_id: int\n",
    "    sale_amount: float\n",
    "    commission_pct: int\n",
    "\n",
    "    def __init__(self, sale_id, sale_rep_id, sale_amount, commission_pct):\n",
    "        self.sale_id = sale_id\n",
    "        self.sale_rep_id = sale_rep_id\n",
    "        self.sale_amount = sale_amount\n",
    "        self.commission_pct = commission_pct\n",
    "\n",
    "    def __repr__(self):\n",
    "        return f'{__class__.__name__}<{self.sale_id}>'\n",
    "    \n",
    "    def __str__(self):\n",
    "        return str(sale.sale_id)"
   ]
  },
  {
   "cell_type": "code",
   "execution_count": null,
   "metadata": {},
   "outputs": [],
   "source": [
    "sale = Sale(1, 1, 1500.00, 15)"
   ]
  },
  {
   "cell_type": "code",
   "execution_count": null,
   "metadata": {},
   "outputs": [],
   "source": [
    "sale"
   ]
  },
  {
   "cell_type": "code",
   "execution_count": null,
   "metadata": {},
   "outputs": [],
   "source": [
    "print(sale)"
   ]
  },
  {
   "cell_type": "code",
   "execution_count": null,
   "metadata": {},
   "outputs": [],
   "source": [
    "# Adding additional methods\n",
    "# sales.py\n",
    "class Sale:\n",
    "    sale_id: int\n",
    "    sale_rep_id: int\n",
    "    sale_amount: float\n",
    "    commission_pct: int\n",
    "\n",
    "    def __init__(self, sale_id, sale_rep_id, sale_amount, commission_pct):\n",
    "        self.sale_id = sale_id\n",
    "        self.sale_rep_id = sale_rep_id\n",
    "        self.sale_amount = sale_amount\n",
    "        self.commission_pct = commission_pct\n",
    "\n",
    "    def get_commission_amount(self):\n",
    "        if self.commission_pct and self.commission_pct < 0:\n",
    "            raise ValueError\n",
    "        if self.commission_pct == None:\n",
    "            return 0.0\n",
    "        return (self.commission_pct * self.sale_amount) / 100\n",
    "    \n",
    "    def get_sale_revenue(self):\n",
    "        if self.commission_pct and self.commission_pct < 0:\n",
    "            raise ValueError\n",
    "        if self.commission_pct == None:\n",
    "            return self.sale_amount\n",
    "        return self.sale_amount - self.get_commission_amount()\n",
    "\n",
    "    def __repr__(self):\n",
    "        return f'{__class__.__name__}<{self.sale_id}>'\n"
   ]
  },
  {
   "cell_type": "code",
   "execution_count": null,
   "metadata": {},
   "outputs": [],
   "source": [
    "sale1 = Sale(1, 1, 1500.00, 15)"
   ]
  },
  {
   "cell_type": "code",
   "execution_count": null,
   "metadata": {},
   "outputs": [],
   "source": [
    "sale1.get_commission_amount()"
   ]
  },
  {
   "cell_type": "code",
   "execution_count": null,
   "metadata": {},
   "outputs": [],
   "source": [
    "sale1.get_sale_revenue()"
   ]
  },
  {
   "cell_type": "markdown",
   "metadata": {},
   "source": [
    "* Using Sale from other program\n",
    "```python\n",
    "# app.py\n",
    "from sales import Sale\n",
    "\n",
    "sale1 = Sale(1, 1, 1500.00, 15)\n",
    "\n",
    "print(f'Commission Amount for {sale1.sale_id} is {sale1.get_commission_amount()}')\n",
    "print(f'Net Sale Revenue for {sale1.sale_id} is {sale2.get_sale_revenue()}')\n",
    "\n",
    "sale2 = Sale(2, 1, 1000.00, None)\n",
    "print(f'Commission Amount for {sale2.sale_id} is {sale2.get_commission_amount()}')\n",
    "print(f'Net Sale Revenue for {sale2.sale_id} is {sale2.get_sale_revenue()}')\n",
    "```"
   ]
  },
  {
   "cell_type": "markdown",
   "metadata": {},
   "source": []
  }
 ],
 "metadata": {
  "kernelspec": {
   "display_name": "Python 3",
   "language": "python",
   "name": "python3"
  },
  "language_info": {
   "codemirror_mode": {
    "name": "ipython",
    "version": 3
   },
   "file_extension": ".py",
   "mimetype": "text/x-python",
   "name": "python",
   "nbconvert_exporter": "python",
   "pygments_lexer": "ipython3",
   "version": "3.10.6"
  },
  "orig_nbformat": 4,
  "vscode": {
   "interpreter": {
    "hash": "7e1998ff7f8aa20ada591c520b972326324e5ea05489af9e422744c7c09f6dad"
   }
  }
 },
 "nbformat": 4,
 "nbformat_minor": 2
}
