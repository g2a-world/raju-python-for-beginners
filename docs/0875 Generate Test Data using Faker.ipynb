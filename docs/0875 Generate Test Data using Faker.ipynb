{
 "cells": [
  {
   "attachments": {},
   "cell_type": "markdown",
   "metadata": {},
   "source": [
    "* Getting started with faker\n",
    "* Setup Mongodb Database and collection\n",
    "* Overview of Mongo DB CRUD Operations\n",
    "* Create index on month and day of month\n",
    "* Generate test data using faker\n",
    "* Getting started with pymongo\n",
    "* Populate generated data into Mongo Collection\n",
    "* Validate data in Mongo Collection\n",
    "* Exercise and Solution"
   ]
  },
  {
   "cell_type": "code",
   "execution_count": null,
   "metadata": {},
   "outputs": [],
   "source": [
    "# Getting started with faker\n",
    "# python -m pip install faker\n",
    "from faker import Faker"
   ]
  },
  {
   "cell_type": "code",
   "execution_count": null,
   "metadata": {},
   "outputs": [],
   "source": [
    "faker = Faker()"
   ]
  },
  {
   "cell_type": "code",
   "execution_count": null,
   "metadata": {},
   "outputs": [],
   "source": [
    "faker.name()"
   ]
  },
  {
   "cell_type": "code",
   "execution_count": null,
   "metadata": {},
   "outputs": [],
   "source": [
    "faker.first_name()"
   ]
  },
  {
   "cell_type": "code",
   "execution_count": null,
   "metadata": {},
   "outputs": [],
   "source": [
    "faker.last_name()"
   ]
  },
  {
   "cell_type": "code",
   "execution_count": null,
   "metadata": {},
   "outputs": [],
   "source": [
    "# Setup Mongodb Database and collection\n",
    "# Install Mongodb community edition\n",
    "# Launch Mongo Shell using mongosh and create database and collection\n",
    "# mongosh\n",
    "# use mailer\n",
    "# db.createCollection('mails')"
   ]
  },
  {
   "cell_type": "code",
   "execution_count": null,
   "metadata": {},
   "outputs": [],
   "source": [
    "# Overview of Mongo DB CRUD Operations\n",
    "# db.mails.insertOne({\"fn\": \"Durga\", \"ln\": \"Gadiraju\", \"m\": \"d@g.com\"})\n",
    "# db.mails.deleteOne({'m': 'd@g.com'})"
   ]
  },
  {
   "cell_type": "code",
   "execution_count": null,
   "metadata": {},
   "outputs": [],
   "source": [
    "# Create index on month and day of month\n",
    "# db.mails.createIndex({\"month\": 1, \"day\": 1}, {\"name\": \"mails-day-1\"})"
   ]
  },
  {
   "cell_type": "code",
   "execution_count": null,
   "metadata": {},
   "outputs": [],
   "source": [
    "# Generate test data using faker\n",
    "rec_count = 10"
   ]
  },
  {
   "cell_type": "code",
   "execution_count": null,
   "metadata": {},
   "outputs": [],
   "source": [
    "events = ['Birth Day', 'Marriage Anniversary']"
   ]
  },
  {
   "cell_type": "code",
   "execution_count": null,
   "metadata": {},
   "outputs": [],
   "source": [
    "import random\n",
    "random.choice(events)"
   ]
  },
  {
   "cell_type": "code",
   "execution_count": null,
   "metadata": {},
   "outputs": [],
   "source": [
    "recs = []\n",
    "\n",
    "for i in range(1, rec_count + 1):\n",
    "    fn = faker.first_name()\n",
    "    ln = faker.last_name()\n",
    "    m = f'dgadiraju+{fn.lower()}@gmail.com'\n",
    "    month = faker.month()\n",
    "    day = faker.day_of_month()\n",
    "    e = random.choice(events)\n",
    "    recs.append((i, fn, ln, m, month, day, e))"
   ]
  },
  {
   "cell_type": "code",
   "execution_count": null,
   "metadata": {},
   "outputs": [],
   "source": [
    "recs"
   ]
  },
  {
   "cell_type": "code",
   "execution_count": null,
   "metadata": {},
   "outputs": [],
   "source": [
    "# Getting started with pymongo\n",
    "# python -m pip install pymongo\n",
    "import pymongo"
   ]
  },
  {
   "cell_type": "code",
   "execution_count": null,
   "metadata": {},
   "outputs": [],
   "source": [
    "client = pymongo.MongoClient('localhost', 27017)"
   ]
  },
  {
   "cell_type": "code",
   "execution_count": null,
   "metadata": {},
   "outputs": [],
   "source": [
    "db = client['mailer']"
   ]
  },
  {
   "cell_type": "code",
   "execution_count": null,
   "metadata": {},
   "outputs": [],
   "source": [
    "coll = db['mails']"
   ]
  },
  {
   "cell_type": "code",
   "execution_count": null,
   "metadata": {},
   "outputs": [],
   "source": [
    "coll.delete_many({})"
   ]
  },
  {
   "cell_type": "code",
   "execution_count": null,
   "metadata": {},
   "outputs": [],
   "source": [
    "coll.find_one()"
   ]
  },
  {
   "cell_type": "code",
   "execution_count": null,
   "metadata": {},
   "outputs": [],
   "source": [
    "import random\n",
    "from faker import Faker\n",
    "\n",
    "faker = Faker()\n",
    "rec_count = 10\n",
    "events = ['Birth Day', 'Marriage Anniversary']\n",
    "recs = []\n",
    "\n",
    "for i in range(1, rec_count + 1):\n",
    "    fn = faker.first_name()\n",
    "    ln = faker.last_name()\n",
    "    m = f'dgadiraju+{fn.lower()}{i}@gmail.com'\n",
    "    month = faker.month()\n",
    "    day = faker.day_of_month()\n",
    "    e = random.choice(events)\n",
    "    recs.append({\n",
    "        'fn': fn, \n",
    "        'ln': ln, \n",
    "        'm': m, \n",
    "        'month': month, \n",
    "        'day': day, \n",
    "        'e': e\n",
    "    })"
   ]
  },
  {
   "cell_type": "code",
   "execution_count": null,
   "metadata": {},
   "outputs": [],
   "source": [
    "# Populate generated data into Mongo Collection\n",
    "import pymongo\n",
    "client = pymongo.MongoClient('localhost', 27017)\n",
    "db = client['mailer']\n",
    "coll = db['mails']"
   ]
  },
  {
   "cell_type": "code",
   "execution_count": null,
   "metadata": {},
   "outputs": [],
   "source": [
    "coll.insert_many(recs)"
   ]
  },
  {
   "cell_type": "code",
   "execution_count": null,
   "metadata": {},
   "outputs": [],
   "source": [
    "# Validate data in Mongo Collection\n",
    "for rec in coll.find():\n",
    "    print(rec)"
   ]
  },
  {
   "attachments": {},
   "cell_type": "markdown",
   "metadata": {},
   "source": [
    "* Exercise: Load Sales data from `data/sales/part-00000` to Mongo Collection by name `sales` in database `sales_db`.\n",
    "  * Create database by name `sales_db`.\n",
    "  * Create collection by name `sales`.\n",
    "  * Populate data from CSV file `data/sales/part-00000` to Mongo DB collection.\n",
    "  * Validate by running `find` on top of the collection. It should display the 10 records.\n",
    "  * Hint: Use Pandas to create dataframe and then `to_dict` on Dataframe to convert data into list of dicts to insert into Mongo DB collection using `insert_many`."
   ]
  }
 ],
 "metadata": {
  "kernelspec": {
   "display_name": "Python 3.11.2 64-bit",
   "language": "python",
   "name": "python3"
  },
  "language_info": {
   "codemirror_mode": {
    "name": "ipython",
    "version": 3
   },
   "file_extension": ".py",
   "mimetype": "text/x-python",
   "name": "python",
   "nbconvert_exporter": "python",
   "pygments_lexer": "ipython3",
   "version": "3.11.2"
  },
  "orig_nbformat": 4,
  "vscode": {
   "interpreter": {
    "hash": "1a1af0ee75eeea9e2e1ee996c87e7a2b11a0bebd85af04bb136d915cefc0abce"
   }
  }
 },
 "nbformat": 4,
 "nbformat_minor": 2
}
