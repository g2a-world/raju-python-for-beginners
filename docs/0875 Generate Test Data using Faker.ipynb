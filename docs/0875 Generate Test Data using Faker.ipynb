{
 "cells": [
  {
   "attachments": {},
   "cell_type": "markdown",
   "metadata": {},
   "source": [
    "* Getting started with faker\n",
    "* Setup Mongodb Database and collection\n",
    "* Overview of Mongo DB CRUD Operations\n",
    "* Create index on month and day of month\n",
    "* Generate test data using faker\n",
    "* Getting started with pymongo\n",
    "* Populate generated data into Mongo Collection\n",
    "* Validate data in Mongo Collection\n",
    "* Exercise and Solution"
   ]
  },
  {
   "cell_type": "code",
   "execution_count": 1,
   "metadata": {},
   "outputs": [],
   "source": [
    "# Getting started with faker\n",
    "# python -m pip install faker\n",
    "from faker import Faker"
   ]
  },
  {
   "cell_type": "code",
   "execution_count": 2,
   "metadata": {},
   "outputs": [],
   "source": [
    "faker = Faker()"
   ]
  },
  {
   "cell_type": "code",
   "execution_count": 3,
   "metadata": {},
   "outputs": [
    {
     "data": {
      "text/plain": [
       "'Laura Gibbs'"
      ]
     },
     "execution_count": 3,
     "metadata": {},
     "output_type": "execute_result"
    }
   ],
   "source": [
    "faker.name()"
   ]
  },
  {
   "cell_type": "code",
   "execution_count": 4,
   "metadata": {},
   "outputs": [
    {
     "data": {
      "text/plain": [
       "'Jonathan'"
      ]
     },
     "execution_count": 4,
     "metadata": {},
     "output_type": "execute_result"
    }
   ],
   "source": [
    "faker.first_name()"
   ]
  },
  {
   "cell_type": "code",
   "execution_count": 5,
   "metadata": {},
   "outputs": [
    {
     "data": {
      "text/plain": [
       "'Key'"
      ]
     },
     "execution_count": 5,
     "metadata": {},
     "output_type": "execute_result"
    }
   ],
   "source": [
    "faker.last_name()"
   ]
  },
  {
   "cell_type": "code",
   "execution_count": null,
   "metadata": {},
   "outputs": [],
   "source": [
    "# Setup Mongodb Database and collection\n",
    "# Install Mongodb community edition\n",
    "# Launch Mongo Shell using mongosh and create database and collection\n",
    "# mongosh\n",
    "# use mailer\n",
    "# db.createCollection('mails')"
   ]
  },
  {
   "cell_type": "code",
   "execution_count": null,
   "metadata": {},
   "outputs": [],
   "source": [
    "# Overview of Mongo DB CRUD Operations\n",
    "# db.mails.insertOne({\"fn\": \"Durga\", \"ln\": \"Gadiraju\", \"m\": \"d@g.com\"})\n",
    "# db.mails.deleteOne({'m': 'd@g.com'})"
   ]
  },
  {
   "cell_type": "code",
   "execution_count": null,
   "metadata": {},
   "outputs": [],
   "source": [
    "# Create index on month and day of month\n",
    "# db.mails.createIndex({\"month\": 1, \"day\": 1}, {\"name\": \"mails-day-1\"})"
   ]
  },
  {
   "cell_type": "code",
   "execution_count": 7,
   "metadata": {},
   "outputs": [],
   "source": [
    "# Generate test data using faker\n",
    "rec_count = 10"
   ]
  },
  {
   "cell_type": "code",
   "execution_count": 8,
   "metadata": {},
   "outputs": [],
   "source": [
    "events = ['Birth Day', 'Marriage Anniversary']"
   ]
  },
  {
   "cell_type": "code",
   "execution_count": 9,
   "metadata": {},
   "outputs": [
    {
     "data": {
      "text/plain": [
       "'Birth Day'"
      ]
     },
     "execution_count": 9,
     "metadata": {},
     "output_type": "execute_result"
    }
   ],
   "source": [
    "import random\n",
    "random.choice(events)"
   ]
  },
  {
   "cell_type": "code",
   "execution_count": 10,
   "metadata": {},
   "outputs": [],
   "source": [
    "recs = []\n",
    "\n",
    "for i in range(1, rec_count + 1):\n",
    "    fn = faker.first_name()\n",
    "    ln = faker.last_name()\n",
    "    m = f'dgadiraju+{fn.lower()}@gmail.com'\n",
    "    month = faker.month()\n",
    "    day = faker.day_of_month()\n",
    "    e = random.choice(events)\n",
    "    recs.append((i, fn, ln, m, month, day, e))"
   ]
  },
  {
   "cell_type": "code",
   "execution_count": 11,
   "metadata": {},
   "outputs": [
    {
     "data": {
      "text/plain": [
       "[(1,\n",
       "  'Andrea',\n",
       "  'Jackson',\n",
       "  'dgadiraju+andrea@gmail.com',\n",
       "  '01',\n",
       "  '08',\n",
       "  'Birth Day'),\n",
       " (2,\n",
       "  'Michael',\n",
       "  'Armstrong',\n",
       "  'dgadiraju+michael@gmail.com',\n",
       "  '12',\n",
       "  '30',\n",
       "  'Marriage Anniversary'),\n",
       " (3,\n",
       "  'Stacey',\n",
       "  'Wallace',\n",
       "  'dgadiraju+stacey@gmail.com',\n",
       "  '03',\n",
       "  '27',\n",
       "  'Birth Day'),\n",
       " (4,\n",
       "  'Brian',\n",
       "  'Delgado',\n",
       "  'dgadiraju+brian@gmail.com',\n",
       "  '06',\n",
       "  '19',\n",
       "  'Marriage Anniversary'),\n",
       " (5,\n",
       "  'Michael',\n",
       "  'Williams',\n",
       "  'dgadiraju+michael@gmail.com',\n",
       "  '09',\n",
       "  '22',\n",
       "  'Marriage Anniversary'),\n",
       " (6,\n",
       "  'Hayden',\n",
       "  'Hansen',\n",
       "  'dgadiraju+hayden@gmail.com',\n",
       "  '03',\n",
       "  '22',\n",
       "  'Marriage Anniversary'),\n",
       " (7,\n",
       "  'Juan',\n",
       "  'Ferrell',\n",
       "  'dgadiraju+juan@gmail.com',\n",
       "  '02',\n",
       "  '05',\n",
       "  'Marriage Anniversary'),\n",
       " (8, 'Daniel', 'Long', 'dgadiraju+daniel@gmail.com', '09', '21', 'Birth Day'),\n",
       " (9, 'Evan', 'Madden', 'dgadiraju+evan@gmail.com', '03', '10', 'Birth Day'),\n",
       " (10,\n",
       "  'David',\n",
       "  'Lee',\n",
       "  'dgadiraju+david@gmail.com',\n",
       "  '02',\n",
       "  '22',\n",
       "  'Marriage Anniversary')]"
      ]
     },
     "execution_count": 11,
     "metadata": {},
     "output_type": "execute_result"
    }
   ],
   "source": [
    "recs"
   ]
  },
  {
   "cell_type": "code",
   "execution_count": 12,
   "metadata": {},
   "outputs": [],
   "source": [
    "# Getting started with pymongo\n",
    "# python -m pip install pymongo\n",
    "import pymongo"
   ]
  },
  {
   "cell_type": "code",
   "execution_count": 13,
   "metadata": {},
   "outputs": [],
   "source": [
    "client = pymongo.MongoClient('localhost', 27017)"
   ]
  },
  {
   "cell_type": "code",
   "execution_count": 14,
   "metadata": {},
   "outputs": [],
   "source": [
    "db = client['mailer']"
   ]
  },
  {
   "cell_type": "code",
   "execution_count": 15,
   "metadata": {},
   "outputs": [],
   "source": [
    "coll = db['mails']"
   ]
  },
  {
   "cell_type": "code",
   "execution_count": 17,
   "metadata": {},
   "outputs": [
    {
     "data": {
      "text/plain": [
       "<pymongo.results.DeleteResult at 0x1113ae680>"
      ]
     },
     "execution_count": 17,
     "metadata": {},
     "output_type": "execute_result"
    }
   ],
   "source": [
    "coll.delete_many({})"
   ]
  },
  {
   "cell_type": "code",
   "execution_count": 18,
   "metadata": {},
   "outputs": [],
   "source": [
    "coll.find_one()"
   ]
  },
  {
   "cell_type": "code",
   "execution_count": 19,
   "metadata": {},
   "outputs": [],
   "source": [
    "import random\n",
    "from faker import Faker\n",
    "\n",
    "faker = Faker()\n",
    "rec_count = 10\n",
    "events = ['Birth Day', 'Marriage Anniversary']\n",
    "recs = []\n",
    "\n",
    "for i in range(1, rec_count + 1):\n",
    "    fn = faker.first_name()\n",
    "    ln = faker.last_name()\n",
    "    m = f'dgadiraju+{fn.lower()}{i}@gmail.com'\n",
    "    month = faker.month()\n",
    "    day = faker.day_of_month()\n",
    "    e = random.choice(events)\n",
    "    recs.append({\n",
    "        'fn': fn, \n",
    "        'ln': ln, \n",
    "        'm': m, \n",
    "        'month': month, \n",
    "        'day': day, \n",
    "        'e': e\n",
    "    })"
   ]
  },
  {
   "cell_type": "code",
   "execution_count": 20,
   "metadata": {},
   "outputs": [],
   "source": [
    "# Populate generated data into Mongo Collection\n",
    "import pymongo\n",
    "client = pymongo.MongoClient('localhost', 27017)\n",
    "db = client['mailer']\n",
    "coll = db['mails']"
   ]
  },
  {
   "cell_type": "code",
   "execution_count": 21,
   "metadata": {},
   "outputs": [
    {
     "data": {
      "text/plain": [
       "<pymongo.results.InsertManyResult at 0x1113ac4f0>"
      ]
     },
     "execution_count": 21,
     "metadata": {},
     "output_type": "execute_result"
    }
   ],
   "source": [
    "coll.insert_many(recs)"
   ]
  },
  {
   "cell_type": "code",
   "execution_count": 22,
   "metadata": {},
   "outputs": [
    {
     "name": "stdout",
     "output_type": "stream",
     "text": [
      "{'_id': ObjectId('645f55a6cd531e17d1d7b601'), 'fn': 'James', 'ln': 'Schultz', 'm': 'dgadiraju+james1@gmail.com', 'month': '08', 'day': '04', 'e': 'Birth Day'}\n",
      "{'_id': ObjectId('645f55a6cd531e17d1d7b602'), 'fn': 'Adam', 'ln': 'Smith', 'm': 'dgadiraju+adam2@gmail.com', 'month': '07', 'day': '12', 'e': 'Birth Day'}\n",
      "{'_id': ObjectId('645f55a6cd531e17d1d7b603'), 'fn': 'Robin', 'ln': 'Hubbard', 'm': 'dgadiraju+robin3@gmail.com', 'month': '09', 'day': '15', 'e': 'Birth Day'}\n",
      "{'_id': ObjectId('645f55a6cd531e17d1d7b604'), 'fn': 'Melissa', 'ln': 'Gonzalez', 'm': 'dgadiraju+melissa4@gmail.com', 'month': '01', 'day': '09', 'e': 'Marriage Anniversary'}\n",
      "{'_id': ObjectId('645f55a6cd531e17d1d7b605'), 'fn': 'Amanda', 'ln': 'Terrell', 'm': 'dgadiraju+amanda5@gmail.com', 'month': '05', 'day': '10', 'e': 'Marriage Anniversary'}\n",
      "{'_id': ObjectId('645f55a6cd531e17d1d7b606'), 'fn': 'Sherry', 'ln': 'Perez', 'm': 'dgadiraju+sherry6@gmail.com', 'month': '01', 'day': '25', 'e': 'Marriage Anniversary'}\n",
      "{'_id': ObjectId('645f55a6cd531e17d1d7b607'), 'fn': 'Sydney', 'ln': 'Warren', 'm': 'dgadiraju+sydney7@gmail.com', 'month': '10', 'day': '15', 'e': 'Birth Day'}\n",
      "{'_id': ObjectId('645f55a6cd531e17d1d7b608'), 'fn': 'Tabitha', 'ln': 'Herring', 'm': 'dgadiraju+tabitha8@gmail.com', 'month': '06', 'day': '05', 'e': 'Marriage Anniversary'}\n",
      "{'_id': ObjectId('645f55a6cd531e17d1d7b609'), 'fn': 'Patricia', 'ln': 'Edwards', 'm': 'dgadiraju+patricia9@gmail.com', 'month': '01', 'day': '19', 'e': 'Marriage Anniversary'}\n",
      "{'_id': ObjectId('645f55a6cd531e17d1d7b60a'), 'fn': 'Jennifer', 'ln': 'Wells', 'm': 'dgadiraju+jennifer10@gmail.com', 'month': '09', 'day': '04', 'e': 'Marriage Anniversary'}\n"
     ]
    }
   ],
   "source": [
    "# Validate data in Mongo Collection\n",
    "for rec in coll.find():\n",
    "    print(rec)"
   ]
  },
  {
   "cell_type": "markdown",
   "metadata": {},
   "source": [
    "* Exercise: Load Sales data from `data/sales/part-00000` to Mongo Collection by name `sales` in database `sales_db`.\n",
    "  * Create database by name `sales_db`.\n",
    "  * Create collection by name `sales`.\n",
    "  * Populate data from CSV file `data/sales/part-00000` to Mongo DB collection.\n",
    "  * Validate by running `find` on top of the collection. It should display the 10 records.\n",
    "  * Hint: Use Pandas to create dataframe and then `to_dict` on Dataframe to convert data into list of dicts to insert into Mongo DB collection using `insert_many`."
   ]
  },
  {
   "cell_type": "code",
   "execution_count": null,
   "metadata": {},
   "outputs": [],
   "source": [
    "import pandas as pd\n",
    "\n",
    "sales = pd.read_csv('data/sales/part-00000')"
   ]
  },
  {
   "cell_type": "code",
   "execution_count": null,
   "metadata": {},
   "outputs": [],
   "source": [
    "sales.to_dict(orient='records')"
   ]
  },
  {
   "cell_type": "code",
   "execution_count": null,
   "metadata": {},
   "outputs": [],
   "source": [
    "import pymongo\n",
    "\n",
    "client = pymongo.MongoClient('localhost', 27017)\n",
    "sales_db = client['sales_db']\n",
    "sales_coll = sales_db['sales']\n",
    "\n",
    "sales_coll.insert_many(sales.to_dict(orient='records'))"
   ]
  },
  {
   "cell_type": "code",
   "execution_count": null,
   "metadata": {},
   "outputs": [],
   "source": [
    "for rec in sales_coll.find({}):\n",
    "    print(rec)"
   ]
  },
  {
   "cell_type": "code",
   "execution_count": null,
   "metadata": {},
   "outputs": [],
   "source": []
  }
 ],
 "metadata": {
  "kernelspec": {
   "display_name": "Python 3.11.2 64-bit",
   "language": "python",
   "name": "python3"
  },
  "language_info": {
   "codemirror_mode": {
    "name": "ipython",
    "version": 3
   },
   "file_extension": ".py",
   "mimetype": "text/x-python",
   "name": "python",
   "nbconvert_exporter": "python",
   "pygments_lexer": "ipython3",
   "version": "3.11.2"
  },
  "orig_nbformat": 4,
  "vscode": {
   "interpreter": {
    "hash": "1a1af0ee75eeea9e2e1ee996c87e7a2b11a0bebd85af04bb136d915cefc0abce"
   }
  }
 },
 "nbformat": 4,
 "nbformat_minor": 2
}
