{
 "cells": [
  {
   "attachments": {},
   "cell_type": "markdown",
   "metadata": {},
   "source": [
    "* Recap of Software Development Life Cycle\n",
    "* Setup Git Repo for CI/CD Demo\n",
    "* Review Virtual Machine to deploy the application\n",
    "* Review Manual Deployment Process\n",
    "* Getting Started with GitHub Actions\n",
    "* Exercise and Solution - Getting Started with GitHub Actions"
   ]
  },
  {
   "attachments": {},
   "cell_type": "markdown",
   "metadata": {},
   "source": [
    "* Recap of Software Development Life Cycle\n",
    "\n",
    "SDLC have different phases.\n",
    "* Analysis\n",
    "* Design\n",
    "* Development\n",
    "* Test\n",
    "* Production\n",
    "\n",
    "We use different servers for development, test and production. Once the code is developed, only reviewed and validated/tested code will go into test and production environments."
   ]
  },
  {
   "attachments": {},
   "cell_type": "markdown",
   "metadata": {},
   "source": [
    "* Setup Git Repo for CI/CD Demo\n",
    "\n",
    "Here are the steps invovled in setting up git repo.\n",
    "* Go to github and create a new repository by name cicd-demo.\n",
    "* Create a Python file by name `hw.py` with below code.\n",
    "```python\n",
    "print('Hello World')\n",
    "```\n",
    "* Make sure to clone the repo to PC or Mac for local development."
   ]
  },
  {
   "attachments": {},
   "cell_type": "markdown",
   "metadata": {},
   "source": [
    "* Review Virtual Machine to deploy the application\n",
    "\n",
    "Make sure to login via SSH into the virtual machine created. You can also validate whether Python is installed or not on the VM."
   ]
  },
  {
   "attachments": {},
   "cell_type": "markdown",
   "metadata": {},
   "source": [
    "* Review Manual Deployment Process\n",
    "\n",
    "Here are the steps that are involved in manual deployment process.\n",
    "* Login into VM using SSH where application needs to be deployed.\n",
    "* Clone git repository and get into the directory - `git clone https://github.com/dgadiraju/cicd-demo.git`\n",
    "* Make sure to get into the newly created folder with repo name - `cd cicd-demo`.\n",
    "* Create soft link using this command - `sudo ln -s /usr/bin/python3 /usr/bin/python`\n",
    "* Run the application using `python hw.py`"
   ]
  },
  {
   "attachments": {},
   "cell_type": "markdown",
   "metadata": {},
   "source": [
    "* Getting Started with GitHub Actions\n",
    "\n",
    "Here are the steps to get started with GitHub Actions.\n",
    "* Go to GitHub repository and then navigate to Actions.\n",
    "* Click on \"set up a workflow yourself\"\n",
    "```yml\n",
    "name: CICD Demo\n",
    "\n",
    "on:\n",
    "  push:\n",
    "    branches: [ \"main\" ]\n",
    "  pull_request:\n",
    "    branches: [ \"main\" ]\n",
    "\n",
    "permissions:\n",
    "  contents: read\n",
    "\n",
    "jobs:\n",
    "  build:\n",
    "\n",
    "    runs-on: ubuntu-latest\n",
    "\n",
    "    steps:\n",
    "    - uses: actions/checkout@v3\n",
    "    - name: Hello World\n",
    "      run: |\n",
    "        echo `hostname`\n",
    "        echo \"Hello World\"\n",
    "```"
   ]
  },
  {
   "attachments": {},
   "cell_type": "markdown",
   "metadata": {},
   "source": [
    "* Exercise - Getting Started with GitHub Actions\n",
    "\n",
    "1. Create a new branch `rename`.\n",
    "2. Rename `hw.py` to `app.py`\n",
    "3. Make required changes to `main.yml`\n",
    "4. Push local branch to remote repository using same name\n",
    "5. Merge changes to `main` branch and see if the Action is run successfully or not."
   ]
  }
 ],
 "metadata": {
  "language_info": {
   "name": "python"
  },
  "orig_nbformat": 4
 },
 "nbformat": 4,
 "nbformat_minor": 2
}
