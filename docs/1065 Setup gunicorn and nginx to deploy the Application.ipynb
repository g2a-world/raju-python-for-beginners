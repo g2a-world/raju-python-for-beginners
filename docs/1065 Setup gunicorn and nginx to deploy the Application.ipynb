{
 "cells": [
  {
   "attachments": {},
   "cell_type": "markdown",
   "metadata": {},
   "source": [
    "* Overview of nginx\n",
    "* Setup nginx on GCP Virtual Machine\n",
    "* Create flask demo project on GCP Virtual Machine\n",
    "* Install flask in the project\n",
    "* Create Hello World flask app\n",
    "* Overview of gunicorn\n",
    "* Install gunicorn in the project\n",
    "* Start the Flask application using gunicorn\n",
    "* Validate using telnet\n",
    "* Integrate gunicorn with nginx\n",
    "* Validate the application\n",
    "* Exercise and Solution"
   ]
  },
  {
   "attachments": {},
   "cell_type": "markdown",
   "metadata": {},
   "source": [
    "* Overview of nginx"
   ]
  },
  {
   "attachments": {},
   "cell_type": "markdown",
   "metadata": {},
   "source": [
    "* Setup nginx on GCP Virtual Machine\n",
    "\n",
    "Here are the steps to install and validate nginx on Ubuntu:\n",
    "* Install - `sudo apt install -y nginx`\n",
    "* Validate - `sudo systemctl status nginx`\n",
    "* Go to browser and run using http://[ip address]. If it failes make sure to open up port 80 using in firewalls."
   ]
  },
  {
   "attachments": {},
   "cell_type": "markdown",
   "metadata": {},
   "source": [
    "* Create flask demo project on GCP Virtual Machine\n",
    "\n",
    "Here are the steps to setup flask demo project on GCP Virtual Machine.\n",
    "* Create a folder by name `flask-demo` using `mkdir flask-demo`.\n",
    "* Switch to `flask-demo` folder using `cd flask-demo`.\n",
    "* Create Python Virtual Environment by name `fd-venv` using `python3 -m venv fd-venv`.\n",
    "* Activate Python Virtual Environment using `source fd-venv/bin/activate`."
   ]
  },
  {
   "attachments": {},
   "cell_type": "markdown",
   "metadata": {},
   "source": [
    "* Install flask in the project\n",
    "\n",
    "Run `pip install flask` to install flask. Make sure `fd-venv` is activated."
   ]
  },
  {
   "attachments": {},
   "cell_type": "markdown",
   "metadata": {},
   "source": [
    "* Create Hello World flask app\n",
    "\n",
    "```python\n",
    "from flask import Flask\n",
    "\n",
    "app = Flask(__name__)\n",
    "\n",
    "@app.route('/')\n",
    "def hello_world():\n",
    "    return \"<p>Hello, World!</p>\"\n",
    "```"
   ]
  },
  {
   "attachments": {},
   "cell_type": "markdown",
   "metadata": {},
   "source": [
    "* Overview of gunicorn\n",
    "\n",
    "Here are the details about `gunicorn` server to deploy Flask applicaton.\n",
    "* `gunicorn` stands for \"Green Unicorn\"\n",
    "* It is a Python WSGI (Web Server Gateway Interface) HTTP Server.\n",
    "* Compatible with multiple web frameworks such as Django, Flask, etc\n",
    "* Simple to deploy Flask based application\n",
    "* Light Weight on server resources\n",
    "* Fairly Speedy with multiple workers"
   ]
  },
  {
   "attachments": {},
   "cell_type": "markdown",
   "metadata": {},
   "source": [
    "* Install gunicorn in the project\n",
    "\n",
    "Run `pip install gunicorn` in the Python virtual environment `fd-venv`."
   ]
  },
  {
   "attachments": {},
   "cell_type": "markdown",
   "metadata": {},
   "source": [
    "* Start the Flask application using gunicorn\n",
    "\n",
    "Here is the command to start flask application using `gunicorn`.\n",
    "```shell\n",
    "gunicorn -w 2 --threads 2 -b 0.0.0.0:5000 app:app\n",
    "```"
   ]
  },
  {
   "attachments": {},
   "cell_type": "markdown",
   "metadata": {},
   "source": [
    "* Validate using telnet\n",
    "\n",
    "Telnet can be used to check whether application is running on port 5000. Make sure to open another tab and connect to VM to validate using below command.\n",
    "```shell\n",
    "telnet localhost 5000\n",
    "```\n",
    "\n",
    "You can also use curl http://localhost:5000 to see if the application is running as expected or not."
   ]
  },
  {
   "attachments": {},
   "cell_type": "markdown",
   "metadata": {},
   "source": [
    "* Integrate gunicorn with nginx\n",
    "\n",
    "Using `nginx` requests to port 80 can be redirected to 5000. Update `/etc/nginx/nginx.conf` with below content. Also, make sure to restart nginx after updating the configuration file.\n",
    "```\n",
    "events {\n",
    "    worker_connections 1024; # increase if you have lots of clients\n",
    "    accept_mutex off; # set to 'on' if nginx worker_processes > 1\n",
    "}\n",
    "\n",
    "http {\n",
    "    server {\n",
    "        listen 80;\n",
    "        server_name _;\n",
    "\n",
    "        location / {\n",
    "            proxy_pass         http://127.0.0.1:5000/;\n",
    "            proxy_redirect     off;\n",
    "            proxy_set_header   Host             $host;\n",
    "            proxy_set_header   X-Real-IP        $remote_addr;\n",
    "            proxy_set_header   X-Forwarded-For  $proxy_add_x_forwarded_for;\n",
    "        }\n",
    "    }\n",
    "}\n",
    "```\n",
    "\n",
    "Kill any active gunicorn sessions and restart in daemon mode (background).\n",
    "```shell\n",
    "gunicorn -w 2 --threads 2 -b 0.0.0.0:5000 -D app:app\n",
    "```"
   ]
  },
  {
   "attachments": {},
   "cell_type": "markdown",
   "metadata": {},
   "source": [
    "* Validate the application\n",
    "\n",
    "Try accessing the application using http://[ip address of VM]"
   ]
  },
  {
   "attachments": {},
   "cell_type": "markdown",
   "metadata": {},
   "source": [
    "* Exercise - Setup gunicorn and nginx for sales-app\n",
    "\n",
    "1. Make sure sales-app repository is setup using GitHub\n",
    "2. Setup the Python Virtual Environment and install dependencies including gunicorn\n",
    "3. Integrate the application with the Postgres Database (Elephant SQL)\n",
    "4. Start the sales-app application using gunicorn (using hello world flask application as reference)\n",
    "5. Configure nginx to forward http requests to sales-app application\n",
    "6. Validate to see if http requests are getting forwarded to sales-app application or not\n"
   ]
  }
 ],
 "metadata": {
  "language_info": {
   "name": "python"
  },
  "orig_nbformat": 4
 },
 "nbformat": 4,
 "nbformat_minor": 2
}
