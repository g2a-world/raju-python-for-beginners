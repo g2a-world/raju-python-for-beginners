{
 "cells": [
  {
   "cell_type": "markdown",
   "metadata": {},
   "source": [
    "```python\n",
    "# sales.py\n",
    "\n",
    "def validate_commission_pct(commission_pct):\n",
    "    if commission_pct and (commission_pct <= 0 or commission_pct > 100):\n",
    "        return False\n",
    "    return True\n",
    "\n",
    "\n",
    "def get_commission_amount(sale_amount, commission_pct):\n",
    "    if validate_commission_pct(commission_pct) == False:\n",
    "        raise ValueError('Invalid Number')\n",
    "    if commission_pct == None:\n",
    "        return 0\n",
    "    return ((sale_amount * commission_pct) / 100)\n",
    "\n",
    "\n",
    "print(get_commission_amount(1500, 12))\n",
    "\n",
    "\n",
    "def get_sales_revenue(sale_amount, commission_pct):\n",
    "    if validate_commission_pct(commission_pct) == False:\n",
    "        raise ValueError('Invalid Number')\n",
    "    commission_amount = get_commission_amount(sale_amount, commission_pct)\n",
    "    return sale_amount - commission_amount\n",
    "\n",
    "\n",
    "print(get_sales_revenue(1500, 12))   \n",
    "```"
   ]
  }
 ],
 "metadata": {
  "kernelspec": {
   "display_name": "Python 3.x",
   "language": "python",
   "name": "python3"
  },
  "language_info": {
   "name": "python",
   "version": "3"
  },
  "orig_nbformat": 4,
  "vscode": {
   "interpreter": {
    "hash": "31f2aee4e71d21fbe5cf8b01ff0e069b9275f58929596ceb00d14d90e3e16cd6"
   }
  }
 },
 "nbformat": 4,
 "nbformat_minor": 2
}
