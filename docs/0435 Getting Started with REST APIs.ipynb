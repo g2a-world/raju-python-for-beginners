{
 "cells": [
  {
   "attachments": {},
   "cell_type": "markdown",
   "metadata": {},
   "source": [
    "* Overview of REST APIs\n",
    "* Overview of GitHub Developer APIs\n",
    "* Validate GET API using curl\n",
    "* Overview of [Status Codes](https://en.wikipedia.org/wiki/List_of_HTTP_status_codes)\n",
    "* Overview of REST Payload\n",
    "* Overview of Authentication in REST APIs\n",
    "* Generate API Key in GitHub\n",
    "* Passing API Key for Authentication\n",
    "\n",
    "```\n",
    "curl -X https://api.github.com\n",
    "```"
   ]
  }
 ],
 "metadata": {
  "kernelspec": {
   "display_name": "Python 3.x",
   "language": "python",
   "name": "python3"
  },
  "language_info": {
   "name": "python",
   "version": "3.9.6"
  },
  "orig_nbformat": 4,
  "vscode": {
   "interpreter": {
    "hash": "31f2aee4e71d21fbe5cf8b01ff0e069b9275f58929596ceb00d14d90e3e16cd6"
   }
  }
 },
 "nbformat": 4,
 "nbformat_minor": 2
}
