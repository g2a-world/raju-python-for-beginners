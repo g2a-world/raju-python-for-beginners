{
 "cells": [
  {
   "attachments": {},
   "cell_type": "markdown",
   "metadata": {},
   "source": [
    "* Create a dict\n",
    "```python\n",
    "sales = {\n",
    "  1: 1000.50,\n",
    "  2: 750.0,\n",
    "  3: 800.0,\n",
    "  4: 1250.0,\n",
    "  5: 800.0\n",
    "}\n",
    "```\n",
    "* Add elements to the dict\n",
    "```python\n",
    "sales[6] = 750.0\n",
    "sales[2] = 775.0\n",
    "sales.update({5: 810.0, 7: 1100}) # Update as well as add\n",
    "```\n",
    "* Updating existing element \n",
    "* Get number of elements in the dict\n",
    "```python\n",
    "len(sales)\n",
    "```\n",
    "* Check if the key exists in the dict\n",
    "```python\n",
    "1 in sales\n",
    "10 in sales\n",
    "```\n",
    "* Get keys, values and items from the dict\n",
    "```python\n",
    "sales.keys()\n",
    "sales.values()\n",
    "sales.items()\n",
    "```\n",
    "* Access elements in the dict using key\n",
    "```python\n",
    "sales[1]\n",
    "sales[10] # throws KeyError\n",
    "\n",
    "sales.get(1)\n",
    "sales.get(10) # returns None\n",
    "```\n",
    "* Remove elements from the dict\n",
    "```python\n",
    "help(sales.pop)\n",
    "sales.pop(6)\n",
    "\n",
    "help(sales.popitem)\n",
    "sales.popitem()\n",
    "```\n",
    "* Exercise 1: Get unique list of values from a dict.\n",
    "```python\n",
    "d = {\n",
    "    1: 100,\n",
    "    2: None,\n",
    "    3: 105,\n",
    "    4: 100,\n",
    "    5: 105\n",
    "}\n",
    "```\n",
    "* Exercise 2: Get unique list of values which are not None. Use the above dict for the same.\n"
   ]
  },
  {
   "cell_type": "markdown",
   "metadata": {},
   "source": []
  }
 ],
 "metadata": {
  "kernelspec": {
   "display_name": "Python 3.x",
   "language": "python",
   "name": "python3"
  },
  "language_info": {
   "name": "python",
   "version": "3"
  },
  "orig_nbformat": 4,
  "vscode": {
   "interpreter": {
    "hash": "31f2aee4e71d21fbe5cf8b01ff0e069b9275f58929596ceb00d14d90e3e16cd6"
   }
  }
 },
 "nbformat": 4,
 "nbformat_minor": 2
}
