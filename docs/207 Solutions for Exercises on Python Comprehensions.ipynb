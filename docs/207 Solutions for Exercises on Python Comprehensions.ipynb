{
 "cells": [
  {
   "attachments": {},
   "cell_type": "markdown",
   "metadata": {},
   "source": [
    "* Exercise 1: Get new list where the \"commission %\" is valid"
   ]
  },
  {
   "cell_type": "code",
   "execution_count": null,
   "metadata": {},
   "outputs": [],
   "source": [
    "sales = [\n",
    "    (1, 101, 500.00, 5),\n",
    "    (2, 102, 250.00, 3),\n",
    "    (3, 103, 1000.00, 8),\n",
    "    (4, 104, 750.00, None),\n",
    "    (5, 101, 300.00, -1),\n",
    "    (6, 106, 400.00, 3),\n",
    "    (7, 104, 200.00, 0),\n",
    "    (8, 103, 150.00, 1),\n",
    "    (9, 104, 600.00, 4),\n",
    "    (10, 101, 800.00, 6)\n",
    "]"
   ]
  },
  {
   "cell_type": "code",
   "execution_count": null,
   "metadata": {},
   "outputs": [],
   "source": [
    "[sale for sale in sales if sale[3] != None and sale[3] >= 0]"
   ]
  },
  {
   "attachments": {},
   "cell_type": "markdown",
   "metadata": {},
   "source": [
    "* Exercise 2: Get sum of commission amounts where the \"commission %\" is valid\n",
    "* \"commission amount\" = (\"sale amount\" * \"commission %\") / 100"
   ]
  },
  {
   "cell_type": "code",
   "execution_count": null,
   "metadata": {},
   "outputs": [],
   "source": [
    "[(sale[2] * sale[3]) / 100 for sale in sales if sale[3] != None and sale[3] >= 0]"
   ]
  },
  {
   "cell_type": "code",
   "execution_count": null,
   "metadata": {},
   "outputs": [],
   "source": [
    "sum((sale[2] * sale[3]) / 100 for sale in sales if sale[3] != None and sale[3] >= 0)"
   ]
  },
  {
   "attachments": {},
   "cell_type": "markdown",
   "metadata": {},
   "source": [
    "* Exercise 3: Get total net sale amount (subtract commission amount from total sale amount)\n",
    "* Consider only sales where \"commission %\" is valid"
   ]
  },
  {
   "cell_type": "code",
   "execution_count": null,
   "metadata": {},
   "outputs": [],
   "source": [
    "# Total sale amount\n",
    "sum(sale[2] for sale in sales if sale[3] != None and sale[3] >= 0)"
   ]
  },
  {
   "cell_type": "code",
   "execution_count": null,
   "metadata": {},
   "outputs": [],
   "source": [
    "# Net sale amount\n",
    "sum(sale[2] - ((sale[2] * sale[3]) / 100) for sale in sales if sale[3] != None and sale[3] >= 0)"
   ]
  },
  {
   "cell_type": "code",
   "execution_count": null,
   "metadata": {},
   "outputs": [],
   "source": [
    "# Conventional loops and conditionals\n",
    "net_sale_revenue = 0\n",
    "\n",
    "for sale in sales:\n",
    "    if sale[3] != None and sale[3] >= 0:\n",
    "        net_sale_revenue += (sale[2] - ((sale[2] * sale[3]) / 100))\n",
    "\n",
    "net_sale_revenue"
   ]
  }
 ],
 "metadata": {
  "language_info": {
   "name": "python"
  },
  "orig_nbformat": 4
 },
 "nbformat": 4,
 "nbformat_minor": 2
}
