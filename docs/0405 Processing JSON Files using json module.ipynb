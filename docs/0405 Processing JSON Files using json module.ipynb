{
 "cells": [
  {
   "cell_type": "markdown",
   "metadata": {},
   "source": [
    "* Getting started with json module\n",
    "* Converting JSON string to dict\n",
    "* Converting dict to JSON string\n",
    "* Read JSON Array from file\n",
    "* Read JSON Documents from file\n",
    "* Write list of dicts to file\n",
    "* Write JSON Documents to file\n",
    "* Exercise and Solution"
   ]
  },
  {
   "cell_type": "markdown",
   "metadata": {},
   "source": []
  }
 ],
 "metadata": {
  "kernelspec": {
   "display_name": "Python 3.x",
   "language": "python",
   "name": "python3"
  },
  "language_info": {
   "name": "python",
   "version": "3"
  },
  "orig_nbformat": 4,
  "vscode": {
   "interpreter": {
    "hash": "31f2aee4e71d21fbe5cf8b01ff0e069b9275f58929596ceb00d14d90e3e16cd6"
   }
  }
 },
 "nbformat": 4,
 "nbformat_minor": 2
}
