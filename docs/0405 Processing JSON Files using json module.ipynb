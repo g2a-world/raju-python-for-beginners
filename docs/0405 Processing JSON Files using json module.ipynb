{
 "cells": [
  {
   "attachments": {},
   "cell_type": "markdown",
   "metadata": {},
   "source": [
    "* Different approaches to process JSON data\n",
    "* Getting started with json module\n",
    "* Converting JSON string to dict\n",
    "* Converting dict to JSON string\n",
    "* Read JSON Array from file\n",
    "* Read JSON Documents from file\n",
    "* Write list of dicts to file\n",
    "* Write dicts to file (one per line)\n",
    "* Exercise and Solution"
   ]
  },
  {
   "cell_type": "code",
   "execution_count": null,
   "metadata": {},
   "outputs": [],
   "source": [
    "# Different approaches to process JSON data\n",
    "# json (backend for web or mobile applications)\n",
    "# pandas\n",
    "# pyspark"
   ]
  },
  {
   "cell_type": "code",
   "execution_count": null,
   "metadata": {},
   "outputs": [],
   "source": [
    "# Getting started with json module\n",
    "import json"
   ]
  },
  {
   "cell_type": "code",
   "execution_count": null,
   "metadata": {},
   "outputs": [],
   "source": [
    "# json.load\n",
    "# json.loads\n",
    "# json.dump\n",
    "# json.dumps"
   ]
  },
  {
   "cell_type": "code",
   "execution_count": null,
   "metadata": {},
   "outputs": [],
   "source": [
    "# Converting JSON string to dict\n",
    "user_str = '{\"user_id\": 1, \"first_name\": \"Durga\", \"last_name\": \"Gadiraju\", \"salary\": 1500.00}'"
   ]
  },
  {
   "cell_type": "code",
   "execution_count": null,
   "metadata": {},
   "outputs": [],
   "source": [
    "type(user_str)"
   ]
  },
  {
   "cell_type": "code",
   "execution_count": null,
   "metadata": {},
   "outputs": [],
   "source": [
    "user_str"
   ]
  },
  {
   "cell_type": "code",
   "execution_count": null,
   "metadata": {},
   "outputs": [],
   "source": [
    "json.loads(user_str)"
   ]
  },
  {
   "cell_type": "code",
   "execution_count": null,
   "metadata": {},
   "outputs": [],
   "source": [
    "type(json.loads(user_str))"
   ]
  },
  {
   "cell_type": "code",
   "execution_count": null,
   "metadata": {},
   "outputs": [],
   "source": [
    "# Converting dict to JSON string\n",
    "sd = {\n",
    "    'id': 1,\n",
    "    'name': 'Durga Gadiraju',\n",
    "    'scores': [92, 89, 91]\n",
    "}"
   ]
  },
  {
   "cell_type": "code",
   "execution_count": null,
   "metadata": {},
   "outputs": [],
   "source": [
    "type(sd)"
   ]
  },
  {
   "cell_type": "code",
   "execution_count": null,
   "metadata": {},
   "outputs": [],
   "source": [
    "json.dumps(sd)"
   ]
  },
  {
   "cell_type": "code",
   "execution_count": null,
   "metadata": {},
   "outputs": [],
   "source": [
    "# Read JSON Array from file\n",
    "help(json.load)"
   ]
  },
  {
   "cell_type": "code",
   "execution_count": null,
   "metadata": {},
   "outputs": [],
   "source": [
    "with open('data/sales/part-00000.json') as fp:\n",
    "    data = json.load(fp)"
   ]
  },
  {
   "cell_type": "code",
   "execution_count": null,
   "metadata": {},
   "outputs": [],
   "source": [
    "type(data)"
   ]
  },
  {
   "cell_type": "code",
   "execution_count": null,
   "metadata": {},
   "outputs": [],
   "source": [
    "data"
   ]
  },
  {
   "cell_type": "code",
   "execution_count": null,
   "metadata": {},
   "outputs": [],
   "source": [
    "len(data)"
   ]
  },
  {
   "cell_type": "code",
   "execution_count": null,
   "metadata": {},
   "outputs": [],
   "source": [
    "[sale['sale_amount'] for sale in data]"
   ]
  },
  {
   "cell_type": "code",
   "execution_count": null,
   "metadata": {},
   "outputs": [],
   "source": [
    "sum(sale['sale_amount'] for sale in data)"
   ]
  },
  {
   "cell_type": "code",
   "execution_count": null,
   "metadata": {},
   "outputs": [],
   "source": [
    "# Reading JSON Documents from file\n",
    "with open('data/retail_db_json/departments/part-r-00000-3db7cfae-3ad2-4fc7-88ff-afe0ec709f49') \\\n",
    "    as fp:\n",
    "    data = fp.read().splitlines()"
   ]
  },
  {
   "cell_type": "code",
   "execution_count": null,
   "metadata": {},
   "outputs": [],
   "source": [
    "data"
   ]
  },
  {
   "cell_type": "code",
   "execution_count": null,
   "metadata": {},
   "outputs": [],
   "source": [
    "[json.loads(rec) for rec in data]"
   ]
  },
  {
   "cell_type": "code",
   "execution_count": null,
   "metadata": {},
   "outputs": [],
   "source": [
    "with open('data/sales/user.json') as fp:\n",
    "    data = json.load(fp)"
   ]
  },
  {
   "cell_type": "code",
   "execution_count": null,
   "metadata": {},
   "outputs": [],
   "source": [
    "type(data)"
   ]
  },
  {
   "cell_type": "code",
   "execution_count": null,
   "metadata": {},
   "outputs": [],
   "source": [
    "data"
   ]
  },
  {
   "cell_type": "code",
   "execution_count": null,
   "metadata": {},
   "outputs": [],
   "source": [
    "data.keys()"
   ]
  },
  {
   "cell_type": "code",
   "execution_count": null,
   "metadata": {},
   "outputs": [],
   "source": [
    "data.values()"
   ]
  },
  {
   "cell_type": "code",
   "execution_count": null,
   "metadata": {},
   "outputs": [],
   "source": [
    "data['phoneNumbers'][0]['number']"
   ]
  },
  {
   "cell_type": "code",
   "execution_count": null,
   "metadata": {},
   "outputs": [],
   "source": [
    "# Write list of dicts to file\n",
    "sales = [\n",
    "    {\"sale_id\": 1, \"sale_rep_id\": 101, \"sale_amount\": 500.00, \"commisson_pct\": 5},\n",
    "    {\"sale_id\": 2, \"sale_rep_id\": 102, \"sale_amount\": 250.00, \"commisson_pct\": 3},\n",
    "    {\"sale_id\": 3, \"sale_rep_id\": 103, \"sale_amount\": 750.00, \"commisson_pct\": 8},\n",
    "    {\"sale_id\": 4, \"sale_rep_id\": 104, \"sale_amount\": 1000.00, \"commisson_pct\": None},\n",
    "    {\"sale_id\": 5, \"sale_rep_id\": 101, \"sale_amount\": 300.00, \"commisson_pct\": -1}\n",
    "]"
   ]
  },
  {
   "cell_type": "code",
   "execution_count": null,
   "metadata": {},
   "outputs": [],
   "source": [
    "type(sales)"
   ]
  },
  {
   "cell_type": "code",
   "execution_count": null,
   "metadata": {},
   "outputs": [],
   "source": [
    "help(json.dump)"
   ]
  },
  {
   "cell_type": "code",
   "execution_count": null,
   "metadata": {},
   "outputs": [],
   "source": [
    "with open('data/sales/dummy1.json', 'w') as fp:\n",
    "    json.dump(sales, fp)"
   ]
  },
  {
   "cell_type": "code",
   "execution_count": null,
   "metadata": {},
   "outputs": [],
   "source": [
    "# Write dicts to file (one per line)\n",
    "sales = [\n",
    "    {\"sale_id\": 1, \"sale_rep_id\": 101, \"sale_amount\": 500.00, \"commisson_pct\": 5},\n",
    "    {\"sale_id\": 2, \"sale_rep_id\": 102, \"sale_amount\": 250.00, \"commisson_pct\": 3},\n",
    "    {\"sale_id\": 3, \"sale_rep_id\": 103, \"sale_amount\": 750.00, \"commisson_pct\": 8},\n",
    "    {\"sale_id\": 4, \"sale_rep_id\": 104, \"sale_amount\": 1000.00, \"commisson_pct\": None},\n",
    "    {\"sale_id\": 5, \"sale_rep_id\": 101, \"sale_amount\": 300.00, \"commisson_pct\": -1}\n",
    "]"
   ]
  },
  {
   "cell_type": "code",
   "execution_count": null,
   "metadata": {},
   "outputs": [],
   "source": [
    "sales_strs = [json.dumps(sale) for sale in sales]"
   ]
  },
  {
   "cell_type": "code",
   "execution_count": null,
   "metadata": {},
   "outputs": [],
   "source": [
    "sales_strs"
   ]
  },
  {
   "cell_type": "code",
   "execution_count": null,
   "metadata": {},
   "outputs": [],
   "source": [
    "with open('data/sales/dummy2.json', 'w') as fp:\n",
    "    for sale in sales_strs:\n",
    "        fp.write(sale)\n",
    "        fp.write('\\n')"
   ]
  },
  {
   "cell_type": "code",
   "execution_count": null,
   "metadata": {},
   "outputs": [],
   "source": [
    "# Convert CSV to JSON File (real world example)\n",
    "import csv\n",
    "with open('data/sales/part-00000') as fp:\n",
    "    data = csv.DictReader(fp.read().splitlines())"
   ]
  },
  {
   "cell_type": "code",
   "execution_count": null,
   "metadata": {},
   "outputs": [],
   "source": [
    "sales_strs = [json.dumps(sale) for sale in data]"
   ]
  },
  {
   "cell_type": "code",
   "execution_count": null,
   "metadata": {},
   "outputs": [],
   "source": [
    "sales_strs"
   ]
  },
  {
   "cell_type": "code",
   "execution_count": null,
   "metadata": {},
   "outputs": [],
   "source": [
    "with open('data/sales/dummy3.json', 'w') as fp:\n",
    "    for sale in sales_strs:\n",
    "        fp.write(sale)\n",
    "        fp.write('\\n')"
   ]
  },
  {
   "attachments": {},
   "cell_type": "markdown",
   "metadata": {},
   "source": [
    "* Exercise 1: Read data from below string which contain array of students and compute total score for each student\n",
    "```python\n",
    "student_scores = '[{\"sid\": 1, \"scores\": [91, 88, 90]}, {\"sid\": 2, \"scores\": [75, 79, 65]}, {\"sid\": 3, \"scores\": [82, 88, 78]}, {\"sid\": 4, \"scores\": [95, 69, 72]}, {\"sid\": 5, \"scores\": [88, 81, 85]}]'\n",
    "```\n",
    "  * Make sure the list of dicts is created with `sid` and `ts` as keys. The values should be `sid` from student_scores and then sum of scores (result of adding all the scores in `scores`).\n",
    "  * Sort the data in the newly created list by `ts` (total score) in descending order (using `sorted`)"
   ]
  },
  {
   "attachments": {},
   "cell_type": "markdown",
   "metadata": {},
   "source": [
    "* Exercise 2: Read data from `data/sales/part-00000` and write in the form of JSON to `data/sales_json/part-00000`. \n",
    "  * Filter for valid sales records where commission_pct is not none and greater than zero.\n",
    "  * Make sure type conversion is taken care.\n",
    "  * Use **sale_id, sale_rep_id, sale_amount, commission_pct** as column names for respective values read from the file.\n",
    "  * Make sure to have one valid json per line in the file `data/sales_json/part-00000`."
   ]
  }
 ],
 "metadata": {
  "kernelspec": {
   "display_name": "Python 3",
   "language": "python",
   "name": "python3"
  },
  "language_info": {
   "codemirror_mode": {
    "name": "ipython",
    "version": 3
   },
   "file_extension": ".py",
   "mimetype": "text/x-python",
   "name": "python",
   "nbconvert_exporter": "python",
   "pygments_lexer": "ipython3",
   "version": "3.11.2"
  },
  "orig_nbformat": 4,
  "vscode": {
   "interpreter": {
    "hash": "949777d72b0d2535278d3dc13498b2535136f6dfe0678499012e853ee9abcab1"
   }
  }
 },
 "nbformat": 4,
 "nbformat_minor": 2
}
