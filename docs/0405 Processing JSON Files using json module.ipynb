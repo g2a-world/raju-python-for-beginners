{
 "cells": [
  {
   "cell_type": "markdown",
   "metadata": {},
   "source": [
    "* Different approaches to process JSON data\n",
    "* Getting started with json module\n",
    "* Converting JSON string to dict\n",
    "* Converting dict to JSON string\n",
    "* Read JSON Array from file\n",
    "* Read JSON Documents from file\n",
    "* Write list of dicts to file\n",
    "* Write dicts to file (one per line)\n",
    "* Exercise and Solution"
   ]
  },
  {
   "cell_type": "code",
   "execution_count": null,
   "metadata": {},
   "outputs": [],
   "source": [
    "# Different approaches to process JSON data\n",
    "# json (backend for web or mobile applications)\n",
    "# pandas\n",
    "# pyspark"
   ]
  },
  {
   "cell_type": "code",
   "execution_count": null,
   "metadata": {},
   "outputs": [],
   "source": [
    "# Getting started with json module\n",
    "import json"
   ]
  },
  {
   "cell_type": "code",
   "execution_count": null,
   "metadata": {},
   "outputs": [],
   "source": [
    "# json.load\n",
    "# json.loads\n",
    "# json.dump\n",
    "# json.dumps"
   ]
  },
  {
   "cell_type": "code",
   "execution_count": null,
   "metadata": {},
   "outputs": [],
   "source": [
    "# Converting JSON string to dict\n",
    "user_str = '{\"user_id\": 1, \"first_name\": \"Durga\", \"last_name\": \"Gadiraju\", \"salary\": 1500.00}'"
   ]
  },
  {
   "cell_type": "code",
   "execution_count": null,
   "metadata": {},
   "outputs": [],
   "source": [
    "user_str"
   ]
  },
  {
   "cell_type": "code",
   "execution_count": null,
   "metadata": {},
   "outputs": [],
   "source": [
    "json.loads(user_str)"
   ]
  },
  {
   "cell_type": "code",
   "execution_count": null,
   "metadata": {},
   "outputs": [],
   "source": [
    "# Converting dict to JSON string\n",
    "sd = {\n",
    "    'id': 1,\n",
    "    'name': 'Durga Gadiraju',\n",
    "    'scores': [92, 89, 91]\n",
    "}"
   ]
  },
  {
   "cell_type": "code",
   "execution_count": null,
   "metadata": {},
   "outputs": [],
   "source": [
    "type(sd)"
   ]
  },
  {
   "cell_type": "code",
   "execution_count": null,
   "metadata": {},
   "outputs": [],
   "source": [
    "json.dumps(sd)"
   ]
  },
  {
   "cell_type": "code",
   "execution_count": null,
   "metadata": {},
   "outputs": [],
   "source": [
    "# Read JSON Array from file"
   ]
  },
  {
   "cell_type": "code",
   "execution_count": null,
   "metadata": {},
   "outputs": [],
   "source": [
    "# Read JSON Documents from file\n",
    "with open('data/retail_db_json/departments/part-r-00000-3db7cfae-3ad2-4fc7-88ff-afe0ec709f49') \\\n",
    "    as f:\n",
    "    data = f.read().splitlines()\n",
    "\n",
    "data"
   ]
  },
  {
   "cell_type": "code",
   "execution_count": null,
   "metadata": {},
   "outputs": [],
   "source": [
    "[json.loads(rec) for rec in data]"
   ]
  },
  {
   "cell_type": "code",
   "execution_count": null,
   "metadata": {},
   "outputs": [],
   "source": [
    "# Write list of dicts to file"
   ]
  },
  {
   "cell_type": "code",
   "execution_count": null,
   "metadata": {},
   "outputs": [],
   "source": [
    "# Write dicts to file (one per line)"
   ]
  },
  {
   "cell_type": "markdown",
   "metadata": {},
   "source": [
    "* Exercise 1: Read data from below string which contain array of students and compute total score for each student\n",
    "```python\n",
    "student_scores = '[{\"sid\": 1, \"scores\": [91, 88, 90]}, {\"sid\": 2, \"scores\": [75, 79, 65]}, {\"sid\": 3, \"scores\": [82, 88, 78]}, {\"sid\": 4, \"scores\": [95, 69, 72]}, {\"sid\": 5, \"scores\": [88, 81, 85]}]'\n",
    "```\n",
    "  * Make sure the list of dicts is created with `sid` and `ts` as keys. The values should be `sid` and sum of scores.\n",
    "  * Sort the data in the newly created list by `ts` (total score) in descending order (using `sorted`)"
   ]
  },
  {
   "cell_type": "code",
   "execution_count": null,
   "metadata": {},
   "outputs": [],
   "source": [
    "student_scores = '[{\"sid\": 1, \"scores\": [91, 88, 90]}, {\"sid\": 2, \"scores\": [75, 79, 65]}, {\"sid\": 3, \"scores\": [82, 88, 78]}, {\"sid\": 4, \"scores\": [95, 69, 72]}, {\"sid\": 5, \"scores\": [88, 81, 85]}]'"
   ]
  },
  {
   "cell_type": "code",
   "execution_count": null,
   "metadata": {},
   "outputs": [],
   "source": [
    "ss = json.loads(student_scores)"
   ]
  },
  {
   "cell_type": "code",
   "execution_count": null,
   "metadata": {},
   "outputs": [],
   "source": [
    "ss"
   ]
  },
  {
   "cell_type": "code",
   "execution_count": null,
   "metadata": {},
   "outputs": [],
   "source": [
    "total_scores = []\n",
    "for s in ss:\n",
    "    total_scores.append({'sid': s['sid'], 'ts': sum(s['scores'])})\n",
    "    \n",
    "total_scores"
   ]
  },
  {
   "cell_type": "code",
   "execution_count": null,
   "metadata": {},
   "outputs": [],
   "source": [
    "sorted(total_scores, key=lambda s: s['ts'], reverse=True)"
   ]
  },
  {
   "cell_type": "markdown",
   "metadata": {},
   "source": [
    "* Exercise 2: Read data from `data/sales/part-00000` and write in the form of JSON to `data/sales_json/part-00000`. \n",
    "  * Filter for valid sales records where commission_pct is not none and greater than zero.\n",
    "  * Make sure type conversion is taken care.\n",
    "  * Use **sale_id, sale_rep_id, sale_amount, commission_pct** as column names for respective values read from the file."
   ]
  },
  {
   "cell_type": "markdown",
   "metadata": {},
   "source": []
  }
 ],
 "metadata": {
  "kernelspec": {
   "display_name": "Python 3.11.2 64-bit",
   "language": "python",
   "name": "python3"
  },
  "language_info": {
   "codemirror_mode": {
    "name": "ipython",
    "version": 3
   },
   "file_extension": ".py",
   "mimetype": "text/x-python",
   "name": "python",
   "nbconvert_exporter": "python",
   "pygments_lexer": "ipython3",
   "version": "3.11.2"
  },
  "orig_nbformat": 4,
  "vscode": {
   "interpreter": {
    "hash": "1a1af0ee75eeea9e2e1ee996c87e7a2b11a0bebd85af04bb136d915cefc0abce"
   }
  }
 },
 "nbformat": 4,
 "nbformat_minor": 2
}
