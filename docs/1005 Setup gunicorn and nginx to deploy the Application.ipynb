{
 "cells": [
  {
   "attachments": {},
   "cell_type": "markdown",
   "metadata": {},
   "source": [
    "* Overview of nginx\n",
    "* Setup nginx on GCP Virtual Machine\n",
    "* Clone Git repo on GCP Virtual Machine\n",
    "* Install Project Dependencies\n",
    "* Overview of gunicorn\n",
    "* Install gunicorn in the project\n",
    "* Start the Flask application using gunicorn\n",
    "* Validate using telnet\n",
    "* Integrate gunicorn with nginx\n",
    "* Validate the application\n",
    "* Exercise and Solution"
   ]
  },
  {
   "attachments": {},
   "cell_type": "markdown",
   "metadata": {},
   "source": [
    "* Overview of nginx"
   ]
  },
  {
   "attachments": {},
   "cell_type": "markdown",
   "metadata": {},
   "source": [
    "* Setup nginx on GCP Virtual Machine\n",
    "\n",
    "Here are the steps to install and validate nginx on Ubuntu:\n",
    "* Install - `sudo apt install -y nginx`\n",
    "* Validate - `sudo systemctl status nginx`\n",
    "* Go to browser and run using http://[ip address]. If it failes make sure to open up port 80 using in firewalls."
   ]
  },
  {
   "attachments": {},
   "cell_type": "markdown",
   "metadata": {},
   "source": [
    "* Clone Git repo on GCP Virtual Machine"
   ]
  },
  {
   "attachments": {},
   "cell_type": "markdown",
   "metadata": {},
   "source": [
    "* Install Project Dependencies\n",
    "\n",
    "Here are the steps to install project dependencies.\n",
    "* Setup Python Virtual Environment - `python3 -m venv sa-venv`\n",
    "* Activate Virtual Environment - `source sa-venv/bin/activate`\n",
    "* Install Dependencies - `pip install -r requirements.txt`"
   ]
  },
  {
   "attachments": {},
   "cell_type": "markdown",
   "metadata": {},
   "source": [
    "* Overview of gunicorn\n",
    "\n",
    "Here are the details about `gunicorn` server to deploy Flask applicaton.\n",
    "* `gunicorn` stands for \"Green Unicorn\"\n",
    "* It is a Python WSGI (Web Server Gateway Interface) HTTP Server.\n",
    "* Compatible with multiple web frameworks such as Django, Flask, etc\n",
    "* Simple to deploy Flask based application\n",
    "* Light Weight on server resources\n",
    "* Fairly Speedy with multiple workers"
   ]
  },
  {
   "attachments": {},
   "cell_type": "markdown",
   "metadata": {},
   "source": [
    "* Install gunicorn in the project\n",
    "\n",
    "Ensure if `gunicorn` is installed in the project."
   ]
  },
  {
   "attachments": {},
   "cell_type": "markdown",
   "metadata": {},
   "source": [
    "* Start the Flask application using gunicorn\n",
    "\n",
    "Here is the command to start flask application using `gunicorn`.\n",
    "```shell\n",
    "gunicorn -w 2 --threads 2 -b 0.0.0.0:5000 app:app\n",
    "```"
   ]
  },
  {
   "attachments": {},
   "cell_type": "markdown",
   "metadata": {},
   "source": [
    "* Validate using telnet\n",
    "\n",
    "Telnet can be used to check whether application is running on port 5000.\n",
    "```shell\n",
    "telnet localhost 5000\n",
    "```"
   ]
  },
  {
   "attachments": {},
   "cell_type": "markdown",
   "metadata": {},
   "source": [
    "* Integrate gunicorn with nginx\n",
    "\n",
    "Using `nginx` requests to port 80 can be redirected to 5000. Update "
   ]
  },
  {
   "attachments": {},
   "cell_type": "markdown",
   "metadata": {},
   "source": [
    "* Validate the application"
   ]
  },
  {
   "attachments": {},
   "cell_type": "markdown",
   "metadata": {},
   "source": [
    "* Exercise and Solution"
   ]
  }
 ],
 "metadata": {
  "language_info": {
   "name": "python"
  },
  "orig_nbformat": 4
 },
 "nbformat": 4,
 "nbformat_minor": 2
}
