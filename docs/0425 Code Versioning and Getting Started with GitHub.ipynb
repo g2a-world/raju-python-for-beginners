{
 "cells": [
  {
   "attachments": {},
   "cell_type": "markdown",
   "metadata": {},
   "source": [
    "* Overview of SDLC\n",
    "* Relevance of Code Versioning\n",
    "* Overview of Git\n",
    "* Different flavors of Git\n",
    "* Overview of Git CLI\n",
    "* Cloud based Git Servers\n",
    "* Getting Started with GitHub\n",
    "* Create our first Git Repository"
   ]
  }
 ],
 "metadata": {
  "language_info": {
   "name": "python"
  },
  "orig_nbformat": 4
 },
 "nbformat": 4,
 "nbformat_minor": 2
}
