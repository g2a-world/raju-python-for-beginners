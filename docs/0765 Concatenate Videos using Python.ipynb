{
 "cells": [
  {
   "cell_type": "code",
   "execution_count": 1,
   "metadata": {},
   "outputs": [],
   "source": [
    "import glob"
   ]
  },
  {
   "cell_type": "code",
   "execution_count": 2,
   "metadata": {},
   "outputs": [],
   "source": [
    "files = glob.glob('data/videos/*/*.mp4')"
   ]
  },
  {
   "cell_type": "code",
   "execution_count": 3,
   "metadata": {},
   "outputs": [
    {
     "data": {
      "text/plain": [
       "['data/videos/02 Setup Airflow for Development using Astro CLI/125 Development Life Cycle of Airflow DAGs.mp4',\n",
       " 'data/videos/02 Setup Airflow for Development using Astro CLI/045 Setup VS Code Workspace to learn Airflow.mp4',\n",
       " 'data/videos/02 Setup Airflow for Development using Astro CLI/105 Review Airflow Components running using Astro CLI.mp4',\n",
       " 'data/videos/02 Setup Airflow for Development using Astro CLI/135 Develop our First Airflow DAG using EmptyOperator.mp4',\n",
       " 'data/videos/02 Setup Airflow for Development using Astro CLI/065 Ensure Airflow is setup using Astro CLI.mp4',\n",
       " 'data/videos/02 Setup Airflow for Development using Astro CLI/085 Overview of Virtual Machines and Docker.mp4',\n",
       " 'data/videos/02 Setup Airflow for Development using Astro CLI/107 Overwrite Airflow Ports using Astro CLI.mp4',\n",
       " 'data/videos/02 Setup Airflow for Development using Astro CLI/115 Setup VS Code Workspace for Airflow DAG Development.mp4',\n",
       " 'data/videos/02 Setup Airflow for Development using Astro CLI/075 Validate Airflow setup using Astro CLI.mp4',\n",
       " 'data/videos/02 Setup Airflow for Development using Astro CLI/025 Getting Started with Airflow for Development.mp4',\n",
       " 'data/videos/02 Setup Airflow for Development using Astro CLI/035 Setup Astro CLI for Development.mp4',\n",
       " 'data/videos/02 Setup Airflow for Development using Astro CLI/055 Setup Airflow using Astro CLI.mp4',\n",
       " 'data/videos/02 Setup Airflow for Development using Astro CLI/106 Setup Specific Version of Airflow locally using Astro CLI.mp4',\n",
       " 'data/videos/02 Setup Airflow for Development using Astro CLI/108 Cleanup older version of Airflow setup using Astro CLI.mp4',\n",
       " 'data/videos/02 Setup Airflow for Development using Astro CLI/095 Understanding Astro Airflow Setup using Docker.mp4']"
      ]
     },
     "execution_count": 3,
     "metadata": {},
     "output_type": "execute_result"
    }
   ],
   "source": [
    "files"
   ]
  },
  {
   "cell_type": "code",
   "execution_count": 4,
   "metadata": {},
   "outputs": [],
   "source": [
    "from moviepy.editor import *\n",
    "\n",
    "L = []\n",
    "\n",
    "#files.sort()\n",
    "files = sorted(files)\n",
    "for file in files:\n",
    "    video = VideoFileClip(file)\n",
    "    L.append(video)"
   ]
  },
  {
   "cell_type": "code",
   "execution_count": null,
   "metadata": {},
   "outputs": [],
   "source": [
    "L"
   ]
  },
  {
   "cell_type": "code",
   "execution_count": 5,
   "metadata": {},
   "outputs": [
    {
     "name": "stdout",
     "output_type": "stream",
     "text": [
      "Moviepy - Building video output.mp4.\n",
      "MoviePy - Writing audio in outputTEMP_MPY_wvf_snd.mp3\n"
     ]
    },
    {
     "name": "stderr",
     "output_type": "stream",
     "text": [
      "                                                                        \r"
     ]
    },
    {
     "name": "stdout",
     "output_type": "stream",
     "text": [
      "MoviePy - Done.\n",
      "Moviepy - Writing video output.mp4\n",
      "\n"
     ]
    },
    {
     "name": "stderr",
     "output_type": "stream",
     "text": [
      "                                                                   \r"
     ]
    },
    {
     "name": "stdout",
     "output_type": "stream",
     "text": [
      "Moviepy - Done !\n",
      "Moviepy - video ready output.mp4\n"
     ]
    }
   ],
   "source": [
    "final_clip = concatenate_videoclips(L)\n",
    "final_clip.fps = 30.0\n",
    "final_clip.write_videofile(\"output.mp4\", remove_temp=False)"
   ]
  },
  {
   "cell_type": "code",
   "execution_count": null,
   "metadata": {},
   "outputs": [],
   "source": [
    "import cv2\n",
    "\n",
    "for file in files:\n",
    "    # Open the video file\n",
    "    video = cv2.VideoCapture(file)\n",
    "\n",
    "    # Get the fps value\n",
    "    fps = video.get(cv2.CAP_PROP_FPS)\n",
    "\n",
    "    # Release the video file\n",
    "    video.release()\n",
    "\n",
    "    print(fps)"
   ]
  },
  {
   "cell_type": "code",
   "execution_count": null,
   "metadata": {},
   "outputs": [],
   "source": []
  }
 ],
 "metadata": {
  "kernelspec": {
   "display_name": "Python 3",
   "language": "python",
   "name": "python3"
  },
  "language_info": {
   "codemirror_mode": {
    "name": "ipython",
    "version": 3
   },
   "file_extension": ".py",
   "mimetype": "text/x-python",
   "name": "python",
   "nbconvert_exporter": "python",
   "pygments_lexer": "ipython3",
   "version": "3.11.2"
  },
  "orig_nbformat": 4,
  "vscode": {
   "interpreter": {
    "hash": "949777d72b0d2535278d3dc13498b2535136f6dfe0678499012e853ee9abcab1"
   }
  }
 },
 "nbformat": 4,
 "nbformat_minor": 2
}
