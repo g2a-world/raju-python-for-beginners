{
 "cells": [
  {
   "attachments": {},
   "cell_type": "markdown",
   "metadata": {},
   "source": [
    "\n",
    "* Overview of GitHub Repository Variables\n",
    "* Create GitHub Repository Secrets\n",
    "* Run Commands on VM using SSH\n",
    "* Validate GitHub Action and VM Integration\n",
    "* Copying Files to the Virtual Machine\n",
    "* Exercise and Solution - Run Commands on VM using SSH"
   ]
  },
  {
   "attachments": {},
   "cell_type": "markdown",
   "metadata": {},
   "source": [
    "* Overview of GitHub Repository Variables\n",
    "\n",
    "Create Variable by name `FOO` with value `bar`.\n",
    "\n",
    "```yml\n",
    "name: CICD Demo\n",
    "\n",
    "on:\n",
    "  push:\n",
    "    branches: [ \"main\" ]\n",
    "  pull_request:\n",
    "    branches: [ \"main\" ]\n",
    "\n",
    "permissions:\n",
    "  contents: read\n",
    "\n",
    "jobs:\n",
    "  build:\n",
    "\n",
    "    runs-on: ubuntu-latest\n",
    "\n",
    "    steps:\n",
    "    - uses: actions/checkout@v3\n",
    "    - name: Hello World\n",
    "      run: |\n",
    "        echo ${{ vars.FOO }}\n",
    "        echo `hostname`\n",
    "        echo \"Hello World\"\n",
    "```"
   ]
  },
  {
   "attachments": {},
   "cell_type": "markdown",
   "metadata": {},
   "source": [
    "* Create GitHub Repository Secrets\n",
    "\n",
    "Here are the details to create GitHub Repository Secrets. Secrets can be created by going to Settings of a specific repository.\n",
    "|Secret Name|Description|\n",
    "|---|---|\n",
    "|APP_HOST|IP Address or DNS Alias of VM|\n",
    "|APP_SSH_USER|Username to connect to VM|\n",
    "|APP_SSH_SECRET_KEY|Private key for password less login|\n",
    "\n",
    "As the VM is created using GCP, the content of `google_compute_engine` is used for `APP_SSH_SECRET_KEY`."
   ]
  },
  {
   "attachments": {},
   "cell_type": "markdown",
   "metadata": {},
   "source": [
    "* Run Commands on VM using SSH\n",
    "  * We can run command using SSH - (syntax: **ssh -i path_to_private_key username@hostname \"command\"**)\n",
    "  * Example - `ssh -i ~/.ssh/google_compute_engine itversity@35.238.90.14 \"ls -ltr\"`\n",
    "  * We can run any valid linux command using the above approach."
   ]
  },
  {
   "attachments": {},
   "cell_type": "markdown",
   "metadata": {},
   "source": [
    "* Validate GitHub Action and VM Integration\n",
    "\n",
    "```yml\n",
    "name: CICD Demo\n",
    "\n",
    "on:\n",
    "  push:\n",
    "    branches: [ \"main\" ]\n",
    "  pull_request:\n",
    "    branches: [ \"main\" ]\n",
    "\n",
    "permissions:\n",
    "  contents: read\n",
    "\n",
    "jobs:\n",
    "  build:\n",
    "\n",
    "    runs-on: ubuntu-latest\n",
    "\n",
    "    steps:\n",
    "    - uses: actions/checkout@v3\n",
    "    - name: Validate GitHub Action and VM Integration\n",
    "      env:\n",
    "        APP_HOST: ${{ secrets.APP_HOST }}\n",
    "        APP_SSH_USER: ${{ secrets.APP_SSH_USER }}\n",
    "        APP_SSH_SECRET_KEY: ${{ secrets.APP_SSH_SECRET_KEY }}\n",
    "      run: |\n",
    "        mkdir -p /tmp/keys && chmod 700 /tmp/keys\n",
    "        echo \"$APP_SSH_SECRET_KEY\" > /tmp/keys/private_key && chmod 600 /tmp/keys/private_key\n",
    "        ssh -o StrictHostKeyChecking=no -i /tmp/keys/private_key ${APP_SSH_USER}@${APP_HOST} '\n",
    "          echo `hostname`\n",
    "        '\n",
    "```"
   ]
  },
  {
   "attachments": {},
   "cell_type": "markdown",
   "metadata": {},
   "source": [
    "* Exercise and Solution - Run Commands on VM using SSH"
   ]
  }
 ],
 "metadata": {
  "language_info": {
   "name": "python"
  },
  "orig_nbformat": 4
 },
 "nbformat": 4,
 "nbformat_minor": 2
}
