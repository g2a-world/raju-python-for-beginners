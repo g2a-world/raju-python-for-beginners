{
 "cells": [
  {
   "attachments": {},
   "cell_type": "markdown",
   "metadata": {},
   "source": [
    "* Review User Model and Reset Tables\n",
    "* Install Faker in Notebook Environment\n",
    "* Validate POST request to add User\n",
    "* Generate Test Data for Users\n",
    "* Populate Test Data into Table\n",
    "* Exercise and Solution - Validate Data in the Table"
   ]
  },
  {
   "attachments": {},
   "cell_type": "markdown",
   "metadata": {},
   "source": [
    "* Review User Model and Reset Tables\n",
    "\n",
    "1. Review User Model in `models/user.py`\n",
    "2. Launch Flask Shell and reset the tables (drop and recreate)\n",
    "3. Make sure the application is up and running (so that we can invoke APIs using `requests`)"
   ]
  },
  {
   "attachments": {},
   "cell_type": "markdown",
   "metadata": {},
   "source": [
    "* Install Faker in Notebook Environment\n",
    "\n",
    "We will use Notebook Environment which is setup as part of our course repository to take care of generating test data.\n",
    "\n",
    "1. Validate to see if Faker is installed or not.\n",
    "2. If not installed, make sure to install using `python -m pip install faker`."
   ]
  },
  {
   "attachments": {},
   "cell_type": "markdown",
   "metadata": {},
   "source": [
    "* Validate POST request to add User\n",
    "\n",
    "1. Import `requests`\n",
    "2. Create payload (using Python dict)\n",
    "3. Invoke `requests.post` with end point and payload using `requests.post('/user', data=payload)`"
   ]
  },
  {
   "cell_type": "code",
   "execution_count": null,
   "metadata": {},
   "outputs": [],
   "source": [
    "import requests"
   ]
  },
  {
   "cell_type": "code",
   "execution_count": null,
   "metadata": {},
   "outputs": [],
   "source": [
    "base_url = input('Enter base url (eg: http://localhost:5000): ')"
   ]
  },
  {
   "cell_type": "code",
   "execution_count": null,
   "metadata": {},
   "outputs": [],
   "source": [
    "payload = {\n",
    "    'id': '',\n",
    "    'first_name': 'Durga',\n",
    "    'last_name': 'Gadiraju',\n",
    "    'username': 'dgadiraju',\n",
    "    'email': 'dgadiraju@email.com'\n",
    "}"
   ]
  },
  {
   "cell_type": "code",
   "execution_count": null,
   "metadata": {},
   "outputs": [],
   "source": [
    "requests.post(f'{base_url}/user', data=payload)"
   ]
  },
  {
   "attachments": {},
   "cell_type": "markdown",
   "metadata": {},
   "source": [
    "* Generate Test Data for Users\n",
    "\n",
    "1. Import `faker`.\n",
    "2. Generate test data using appropriate faker apis\n",
    "\n",
    "Make sure to build list of dicts with all the attributes relevant to our User Model (except for id, as id is sequence generated)"
   ]
  },
  {
   "cell_type": "code",
   "execution_count": null,
   "metadata": {},
   "outputs": [],
   "source": [
    "from faker import Faker"
   ]
  },
  {
   "cell_type": "code",
   "execution_count": null,
   "metadata": {},
   "outputs": [],
   "source": [
    "faker = Faker()"
   ]
  },
  {
   "cell_type": "code",
   "execution_count": null,
   "metadata": {},
   "outputs": [],
   "source": [
    "import json"
   ]
  },
  {
   "cell_type": "code",
   "execution_count": null,
   "metadata": {},
   "outputs": [],
   "source": [
    "users = []\n",
    "usernames = set()\n",
    "ctr = 0\n",
    "while True:\n",
    "    if ctr == 10000:\n",
    "        break\n",
    "    first_name = faker.first_name()\n",
    "    last_name = faker.last_name()\n",
    "    username = f'{first_name[:1]}{last_name}'.lower()\n",
    "    email = f'{username}@email.com'.lower()\n",
    "    if username not in usernames:\n",
    "        usernames.add(username)\n",
    "        user = {\n",
    "            'id': '',\n",
    "            'first_name': first_name,\n",
    "            'last_name': last_name,\n",
    "            'username': username,\n",
    "            'email': email\n",
    "        }\n",
    "        users.append(user)\n",
    "        ctr = ctr + 1"
   ]
  },
  {
   "cell_type": "code",
   "execution_count": null,
   "metadata": {},
   "outputs": [],
   "source": [
    "len(users)"
   ]
  },
  {
   "attachments": {},
   "cell_type": "markdown",
   "metadata": {},
   "source": [
    "* Populate Test Data into Table\n",
    "\n",
    "1. Iterate through users\n",
    "2. Convert each string in users to payload (python dict)\n",
    "3. Make post api call using `requests` to populate the data."
   ]
  },
  {
   "cell_type": "code",
   "execution_count": null,
   "metadata": {},
   "outputs": [],
   "source": [
    "import requests"
   ]
  },
  {
   "cell_type": "code",
   "execution_count": null,
   "metadata": {},
   "outputs": [],
   "source": [
    "base_url = input('Enter base url (eg: http://localhost:5000): ')"
   ]
  },
  {
   "cell_type": "code",
   "execution_count": null,
   "metadata": {},
   "outputs": [],
   "source": [
    "for user in users:\n",
    "    requests.post(f'{base_url}/user', data=user)"
   ]
  },
  {
   "attachments": {},
   "cell_type": "markdown",
   "metadata": {},
   "source": [
    "* Exercise - Validate Data in the Table\n",
    "\n",
    "1. Go to `sales-app-rest` project and launch flask shell\n",
    "2. Get the count in the table\n",
    "3. Iterate through first 100 records and review the data"
   ]
  },
  {
   "attachments": {},
   "cell_type": "markdown",
   "metadata": {},
   "source": [
    "* Solution - Validate Data in the Table\n",
    "\n",
    "1. Go to `sales-app-rest` project and launch flask shell\n",
    "2. Get the count in the table\n",
    "3. Iterate through first 100 records and review the data\n",
    "\n",
    "```python\n",
    "User.query.count()\n",
    "\n",
    "for user in User.query.limit(100).all():\n",
    "    print(user.__dict__)\n",
    "```"
   ]
  }
 ],
 "metadata": {
  "kernelspec": {
   "display_name": "Python 3",
   "language": "python",
   "name": "python3"
  },
  "language_info": {
   "codemirror_mode": {
    "name": "ipython",
    "version": 3
   },
   "file_extension": ".py",
   "mimetype": "text/x-python",
   "name": "python",
   "nbconvert_exporter": "python",
   "pygments_lexer": "ipython3",
   "version": "3.11.2"
  },
  "orig_nbformat": 4
 },
 "nbformat": 4,
 "nbformat_minor": 2
}
