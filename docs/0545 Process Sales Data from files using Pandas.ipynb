{
 "cells": [
  {
   "attachments": {},
   "cell_type": "markdown",
   "metadata": {},
   "source": [
    "* Overview of Pandas read APIs\n",
    "* Read sales data into Pandas Data Frame\n",
    "* Read data from csv file without Header\n",
    "* Specifying Delimiter or Seperator\n",
    "* Filter for Valid Sales Records\n",
    "* Compute Commission Amount and Sale Revenue\n",
    "* Overview of Pandas write or to APIs\n",
    "* Write Processed data to csv file with header\n",
    "* Validate reviewing file\n",
    "* Exercise and Solution"
   ]
  },
  {
   "cell_type": "code",
   "execution_count": null,
   "metadata": {},
   "outputs": [],
   "source": [
    "# Overview of Pandas Read APIs\n",
    "# pd.read_csv\n",
    "# pd.read_json\n",
    "# many more"
   ]
  },
  {
   "cell_type": "code",
   "execution_count": null,
   "metadata": {},
   "outputs": [],
   "source": [
    "# Read sales data into Pandas Data Frame\n",
    "import pandas as pd"
   ]
  },
  {
   "cell_type": "code",
   "execution_count": null,
   "metadata": {},
   "outputs": [],
   "source": [
    "sales_df = pd.read_csv('data/sales/part-00000')"
   ]
  },
  {
   "cell_type": "code",
   "execution_count": null,
   "metadata": {},
   "outputs": [],
   "source": [
    "sales_df.shape"
   ]
  },
  {
   "cell_type": "code",
   "execution_count": null,
   "metadata": {},
   "outputs": [],
   "source": [
    "sales_df.columns"
   ]
  },
  {
   "cell_type": "code",
   "execution_count": null,
   "metadata": {},
   "outputs": [],
   "source": [
    "# Read data from csv file without Header\n",
    "departments_df = pd.read_csv('data/retail_db/departments/part-00000')"
   ]
  },
  {
   "cell_type": "code",
   "execution_count": null,
   "metadata": {},
   "outputs": [],
   "source": [
    "departments_df # No proper column names (uses values in first row by default)"
   ]
  },
  {
   "cell_type": "code",
   "execution_count": null,
   "metadata": {},
   "outputs": [],
   "source": [
    "departments_df = pd.read_csv(\n",
    "    'data/retail_db/departments/part-00000', \n",
    "    header=None # uses system generated column names\n",
    ")"
   ]
  },
  {
   "cell_type": "code",
   "execution_count": null,
   "metadata": {},
   "outputs": [],
   "source": [
    "departments_df.columns"
   ]
  },
  {
   "cell_type": "code",
   "execution_count": null,
   "metadata": {},
   "outputs": [],
   "source": [
    "# Specifying column names\n",
    "departments_df = pd.read_csv(\n",
    "    'data/retail_db/departments/part-00000',\n",
    "    names=['department_id', 'department_name'] # uses specified column names\n",
    ")"
   ]
  },
  {
   "cell_type": "code",
   "execution_count": null,
   "metadata": {},
   "outputs": [],
   "source": [
    "departments_df # first row will not be considered as header"
   ]
  },
  {
   "cell_type": "code",
   "execution_count": null,
   "metadata": {},
   "outputs": [],
   "source": [
    "# Specifying delimiter or separator\n",
    "departments_df = pd.read_csv(\n",
    "    'data/retail_db/departments/part-00000',\n",
    "    names=['department_id', 'department_name'],\n",
    "    sep=',' # , is default. delimiter is same as sep\n",
    ")"
   ]
  },
  {
   "cell_type": "code",
   "execution_count": null,
   "metadata": {},
   "outputs": [],
   "source": [
    "departments_df"
   ]
  },
  {
   "cell_type": "code",
   "execution_count": null,
   "metadata": {},
   "outputs": [],
   "source": [
    "# Filter for Valid Sales Records\n",
    "# using query\n",
    "sales_df.query('commission_pct != -1')"
   ]
  },
  {
   "cell_type": "code",
   "execution_count": null,
   "metadata": {},
   "outputs": [],
   "source": [
    "sales_df.query('(commission_pct != -1) & (commission_pct.notnull())')"
   ]
  },
  {
   "cell_type": "code",
   "execution_count": null,
   "metadata": {},
   "outputs": [],
   "source": [
    "sales_df = sales_df.query('(commission_pct != -1) & (commission_pct.notnull())')"
   ]
  },
  {
   "cell_type": "code",
   "execution_count": null,
   "metadata": {},
   "outputs": [],
   "source": [
    "# Compute Commission Amount and Sale Revenue\n",
    "# using apply"
   ]
  },
  {
   "cell_type": "code",
   "execution_count": null,
   "metadata": {},
   "outputs": [],
   "source": [
    "# create a lambda function to compute commission amount and sale revenue\n",
    "calculate_commission = lambda row: row['sale_amount'] * row['commission_pct'] / 100"
   ]
  },
  {
   "cell_type": "code",
   "execution_count": null,
   "metadata": {},
   "outputs": [],
   "source": [
    "calculate_revenue = lambda row: row['sale_amount'] - row['commission_amt']"
   ]
  },
  {
   "cell_type": "code",
   "execution_count": null,
   "metadata": {},
   "outputs": [],
   "source": [
    "# create new columns using apply method\n",
    "sales_df['commission_amt'] = sales_df.apply(calculate_commission, axis=1)"
   ]
  },
  {
   "cell_type": "code",
   "execution_count": null,
   "metadata": {},
   "outputs": [],
   "source": [
    "sales_df"
   ]
  },
  {
   "cell_type": "code",
   "execution_count": null,
   "metadata": {},
   "outputs": [],
   "source": [
    "sales_df['sale_revenue'] = sales_df.apply(calculate_revenue, axis=1)"
   ]
  },
  {
   "cell_type": "code",
   "execution_count": null,
   "metadata": {},
   "outputs": [],
   "source": [
    "sales_df"
   ]
  },
  {
   "cell_type": "code",
   "execution_count": null,
   "metadata": {},
   "outputs": [],
   "source": [
    "# Overview of Pandas write or to APIs\n",
    "# to_csv\n",
    "# to_json\n",
    "# many more"
   ]
  },
  {
   "cell_type": "code",
   "execution_count": null,
   "metadata": {},
   "outputs": [],
   "source": [
    "# Write Processed data to csv file with header\n",
    "sales_df.to_csv('data/sales/sales_with_revenue.csv', header=True)"
   ]
  },
  {
   "cell_type": "code",
   "execution_count": null,
   "metadata": {},
   "outputs": [],
   "source": [
    "# Validate reviewing file\n",
    "pd.read_csv('data/sales/sales_with_revenue.csv') # writes with Dataframe index"
   ]
  },
  {
   "cell_type": "code",
   "execution_count": null,
   "metadata": {},
   "outputs": [],
   "source": [
    "sales_df.to_csv(\n",
    "    'data/sales/sales_with_revenue.csv', \n",
    "    header=True,\n",
    "    index=False\n",
    ") # Dataframe index will be skipped"
   ]
  },
  {
   "cell_type": "code",
   "execution_count": null,
   "metadata": {},
   "outputs": [],
   "source": [
    "pd.read_csv('data/sales/sales_with_revenue.csv')"
   ]
  },
  {
   "attachments": {},
   "cell_type": "markdown",
   "metadata": {},
   "source": [
    "* Exercise: Read data from `data/hr_db/employees/part-00000.csv` into Dataframe. Filter for employees whose salary is greater than or equal to 15000 and write to `data/hr_db/employees_hni/part-00000.csv`.\n",
    "  * Make sure the `data/hr_db/employees_hni` folder is created, if it does not exists using `os`.\n",
    "  * Here are the column names that are supposed to be used.\n",
    "    * `employee_id`\n",
    "    * `first_name`\n",
    "    * `last_name`\n",
    "    * `email`\n",
    "    * `phone_number`\n",
    "    * `hire_date`\n",
    "    * `job_id`\n",
    "    * `salary`\n",
    "    * `commission_pct`\n",
    "    * `manager_id`\n",
    "    * `department_id`\n",
    "  * Make sure the newly created file does not contain Dataframe index."
   ]
  },
  {
   "cell_type": "code",
   "execution_count": null,
   "metadata": {},
   "outputs": [],
   "source": [
    "import pandas as pd"
   ]
  },
  {
   "cell_type": "code",
   "execution_count": null,
   "metadata": {},
   "outputs": [],
   "source": [
    "columns = ['employee_id', 'first_name', 'last_name', 'email',\n",
    "           'phone_number', 'hire_date', 'job_id', 'salary',\n",
    "           'commission_pct', 'manager_id', 'department_id']\n",
    "employees_df = pd.read_csv(\n",
    "    'data/hr_db/employees/part-00000.csv',\n",
    "    sep='\\t',\n",
    "    names=columns\n",
    ")"
   ]
  },
  {
   "cell_type": "code",
   "execution_count": null,
   "metadata": {},
   "outputs": [],
   "source": [
    "employees_hni = employees_df.query('salary >= 15000')"
   ]
  },
  {
   "cell_type": "code",
   "execution_count": null,
   "metadata": {},
   "outputs": [],
   "source": [
    "import os\n",
    "os.makedirs('data/hr_db/employees_hni', exist_ok=True)"
   ]
  },
  {
   "cell_type": "code",
   "execution_count": null,
   "metadata": {},
   "outputs": [],
   "source": [
    "employees_hni.to_csv(\n",
    "    'data/hr_db/employees_hni/part-00000.csv',\n",
    "    header=True,\n",
    "    index=False\n",
    ")"
   ]
  },
  {
   "cell_type": "code",
   "execution_count": null,
   "metadata": {},
   "outputs": [],
   "source": [
    "pd.read_csv('data/hr_db/employees_hni/part-00000.csv')"
   ]
  },
  {
   "cell_type": "code",
   "execution_count": null,
   "metadata": {},
   "outputs": [],
   "source": []
  }
 ],
 "metadata": {
  "kernelspec": {
   "display_name": "Python 3",
   "language": "python",
   "name": "python3"
  },
  "language_info": {
   "codemirror_mode": {
    "name": "ipython",
    "version": 3
   },
   "file_extension": ".py",
   "mimetype": "text/x-python",
   "name": "python",
   "nbconvert_exporter": "python",
   "pygments_lexer": "ipython3",
   "version": "3.10.6"
  },
  "orig_nbformat": 4,
  "vscode": {
   "interpreter": {
    "hash": "7e1998ff7f8aa20ada591c520b972326324e5ea05489af9e422744c7c09f6dad"
   }
  }
 },
 "nbformat": 4,
 "nbformat_minor": 2
}
