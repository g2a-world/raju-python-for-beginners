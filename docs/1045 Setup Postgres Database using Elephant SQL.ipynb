{
 "cells": [
  {
   "attachments": {},
   "cell_type": "markdown",
   "metadata": {},
   "source": [
    "* Overview of Elephant SQL\n",
    "* Signing up for Elephant SQL\n",
    "* Create free Postgres Database\n",
    "* Validate connectivity using pgAdmin\n",
    "* Overview of Database Connection Details\n",
    "* Create a test table\n",
    "* Populate data into the test table\n",
    "* Exercise - Create table by name users with below details\n",
    "  * user_id which is surrogate primary key and is of type integer\n",
    "  * user_first_name which is of type VARCHAR(50)\n",
    "  * user_last_name which is of type VARCHAR(50)\n",
    "  * username which is of type VARCHAR(50), not nullable as well as unique\n",
    "  * user_email which is of type VARCHAR(50), not nullable as well as unique"
   ]
  },
  {
   "attachments": {},
   "cell_type": "markdown",
   "metadata": {},
   "source": [
    "* Solution - Create table by name users\n",
    "\n",
    "```sql\n",
    "CREATE TABLE users (\n",
    "\tid SERIAL PRIMARY KEY,\n",
    "\tfirst_name VARCHAR(50),\n",
    "\tlast_name VARCHAR(50),\n",
    "\tusername VARCHAR(50) UNIQUE NOT NULL,\n",
    "\temail VARCHAR(50) UNIQUE NOT NULL\n",
    ");\n",
    "```"
   ]
  }
 ],
 "metadata": {
  "language_info": {
   "name": "python"
  },
  "orig_nbformat": 4
 },
 "nbformat": 4,
 "nbformat_minor": 2
}
