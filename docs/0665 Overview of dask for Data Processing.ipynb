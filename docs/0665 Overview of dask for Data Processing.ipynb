{
 "cells": [
  {
   "cell_type": "markdown",
   "metadata": {},
   "source": [
    "* Getting started with dask\n",
    "* Overview of dask features\n",
    "* Data processing using dask dataframes\n",
    "* Create dask dataframe using csv files\n",
    "* Get the row and column count\n",
    "* Overview of data processing APIs of dask dataframes\n",
    "* Write data in dask dataframe to csv files\n",
    "* Real world example of data processing using dask\n",
    "* Exercise and Solution"
   ]
  },
  {
   "cell_type": "code",
   "execution_count": null,
   "metadata": {},
   "outputs": [],
   "source": [
    "# Getting started with dask\n",
    "# python -m pip install dask[complete]"
   ]
  },
  {
   "cell_type": "code",
   "execution_count": null,
   "metadata": {},
   "outputs": [],
   "source": [
    "# Overview of dask features\n",
    "# Scale PyData libraries such as numpy, pandas, scikit-learn, etc using Dask DataFrames\n",
    "# Scale any Python code using Dask Futures"
   ]
  },
  {
   "cell_type": "code",
   "execution_count": null,
   "metadata": {},
   "outputs": [],
   "source": [
    "# Data processing using dask dataframes\n",
    "# Read data from files and other sources using read apis\n",
    "# Process data using Pandas Dataframe like APIs (query, apply, groupby, join, etc)\n",
    "# Write data to files and other targets using to apis"
   ]
  },
  {
   "cell_type": "code",
   "execution_count": null,
   "metadata": {},
   "outputs": [],
   "source": [
    "from dask import dataframe as dd"
   ]
  },
  {
   "cell_type": "code",
   "execution_count": null,
   "metadata": {},
   "outputs": [],
   "source": [
    "# dd.read_json\n",
    "# df.to_json\n",
    "df = dd.read_json('data/retail_db_json/departments/*')\n",
    "# check the help on df.to_* APIs\n"
   ]
  },
  {
   "cell_type": "code",
   "execution_count": null,
   "metadata": {},
   "outputs": [],
   "source": [
    "# Create dask dataframe using csv files\n",
    "df = dd.read_csv(\n",
    "    'data/retail_db/departments/*', \n",
    "    names=['department_id', 'department_name']\n",
    ")"
   ]
  },
  {
   "cell_type": "code",
   "execution_count": null,
   "metadata": {},
   "outputs": [],
   "source": [
    "df.compute() # Lazily Evaluated"
   ]
  },
  {
   "cell_type": "code",
   "execution_count": null,
   "metadata": {},
   "outputs": [],
   "source": [
    "# Get the row and column count\n",
    "df.shape"
   ]
  },
  {
   "cell_type": "code",
   "execution_count": null,
   "metadata": {},
   "outputs": [],
   "source": [
    "type(df.compute())"
   ]
  },
  {
   "cell_type": "code",
   "execution_count": null,
   "metadata": {},
   "outputs": [],
   "source": [
    "df.compute().shape"
   ]
  },
  {
   "cell_type": "code",
   "execution_count": null,
   "metadata": {},
   "outputs": [],
   "source": [
    "# Overview of data processing APIs of dask dataframes\n",
    "# query\n",
    "# apply\n",
    "# groupby\n",
    "# join\n",
    "# sort_values\n",
    "df.query('department_id >= 3')"
   ]
  },
  {
   "cell_type": "code",
   "execution_count": null,
   "metadata": {},
   "outputs": [],
   "source": [
    "df.query('department_id >= 3').compute()"
   ]
  },
  {
   "cell_type": "code",
   "execution_count": null,
   "metadata": {},
   "outputs": [],
   "source": [
    "df.apply(lambda rec: rec['department_name'].upper(), axis=1)"
   ]
  },
  {
   "cell_type": "code",
   "execution_count": null,
   "metadata": {},
   "outputs": [],
   "source": [
    "df.apply(lambda rec: rec['department_name'].upper(), meta=(None, 'object'), axis=1).compute()"
   ]
  },
  {
   "cell_type": "code",
   "execution_count": null,
   "metadata": {},
   "outputs": [],
   "source": [
    "df.sort_values(by=['department_name']).compute()"
   ]
  },
  {
   "cell_type": "code",
   "execution_count": null,
   "metadata": {},
   "outputs": [],
   "source": [
    "# Write data in dask dataframe to csv files\n",
    "df = dd.read_json('data/retail_db_json/departments/*')"
   ]
  },
  {
   "cell_type": "code",
   "execution_count": null,
   "metadata": {},
   "outputs": [],
   "source": [
    "df.compute()"
   ]
  },
  {
   "cell_type": "code",
   "execution_count": null,
   "metadata": {},
   "outputs": [],
   "source": [
    "df.to_csv('data/retail_db_csv/departments/part*.csv', index=False)"
   ]
  },
  {
   "cell_type": "code",
   "execution_count": null,
   "metadata": {},
   "outputs": [],
   "source": [
    "dd.read_csv('data/retail_db_csv/departments/part*.csv').compute()"
   ]
  },
  {
   "cell_type": "code",
   "execution_count": null,
   "metadata": {},
   "outputs": [],
   "source": [
    "# Real world example of data processing using dask\n",
    "# Convert all the files under retail_db to json format\n",
    "import glob\n",
    "import os\n",
    "import json"
   ]
  },
  {
   "cell_type": "code",
   "execution_count": null,
   "metadata": {},
   "outputs": [],
   "source": [
    "def get_schema(ds):\n",
    "    with open('data/retail_db/schemas.json') as fp:\n",
    "        schemas = json.load(fp)\n",
    "    return [\n",
    "        schema['column_name'] \n",
    "        for schema in sorted(schemas[ds], key=lambda s: s['column_position'])\n",
    "    ]"
   ]
  },
  {
   "cell_type": "code",
   "execution_count": null,
   "metadata": {},
   "outputs": [],
   "source": [
    "for path in glob.glob('data/retail_db/*'):\n",
    "    if os.path.isdir(path):\n",
    "        ds = os.path.split(path)[1]\n",
    "        df = dd.read_csv(f'{path}/*', names=get_schema(ds))\n",
    "        df.to_json(\n",
    "            f'data/retail_demo_json/{ds}/part*.json', \n",
    "            orient='records',\n",
    "            lines=True,\n",
    "            name_function=lambda i: '%05d' % i\n",
    "        )"
   ]
  },
  {
   "cell_type": "markdown",
   "metadata": {},
   "source": [
    "* Exercise: Convert the text files under `data/nyse_all/nyse_data` to json.\n",
    "  * Source folder: `data/nyse_all/nyse_data`\n",
    "  * Target folder: `data/nyse_all/nyse_json`\n",
    "  * File Format: `gzip` compressed json format.\n",
    "  * Column Names: `['ticker', 'trade_date', 'open_price', 'low_price', 'high_price', 'close_price', 'volume']`\n",
    "  * Make sure file name is generated using part-nnnnn.json (eg: `part-00000.json.gz`)\n",
    "  * Validate by using shape on both source and target locations."
   ]
  },
  {
   "cell_type": "code",
   "execution_count": null,
   "metadata": {},
   "outputs": [],
   "source": [
    "from dask import dataframe as dd"
   ]
  },
  {
   "cell_type": "code",
   "execution_count": null,
   "metadata": {},
   "outputs": [],
   "source": [
    "df = dd.read_csv(\n",
    "    'data/nyse_all/nyse_data/*',\n",
    "    names=['ticker', 'trade_date', 'open_price', 'high_price', 'low_price', 'close_price', 'volume'],\n",
    "    blocksize=None\n",
    ")"
   ]
  },
  {
   "cell_type": "code",
   "execution_count": null,
   "metadata": {},
   "outputs": [],
   "source": [
    "df.head()"
   ]
  },
  {
   "cell_type": "code",
   "execution_count": null,
   "metadata": {},
   "outputs": [],
   "source": [
    "df.query('volume > 0').head()"
   ]
  },
  {
   "cell_type": "code",
   "execution_count": null,
   "metadata": {},
   "outputs": [],
   "source": [
    "df.compute().shape"
   ]
  },
  {
   "cell_type": "code",
   "execution_count": null,
   "metadata": {},
   "outputs": [],
   "source": [
    "df.to_json(\n",
    "    'data/nyse_all/nyse_json/part-*.json.gz',\n",
    "    orient='records',\n",
    "    lines=True,\n",
    "    compression='gzip',\n",
    "    name_function=lambda i: '%05d' % i\n",
    ")"
   ]
  },
  {
   "cell_type": "code",
   "execution_count": null,
   "metadata": {},
   "outputs": [],
   "source": [
    "dd.read_json(\n",
    "    'data/nyse_all/nyse_json/part-*.json.gz', \n",
    "    lines=True, \n",
    "    blocksize=None\n",
    "). \\\n",
    "    compute(). \\\n",
    "    shape"
   ]
  },
  {
   "cell_type": "code",
   "execution_count": null,
   "metadata": {},
   "outputs": [],
   "source": []
  }
 ],
 "metadata": {
  "kernelspec": {
   "display_name": "Python 3.11.2 64-bit",
   "language": "python",
   "name": "python3"
  },
  "language_info": {
   "codemirror_mode": {
    "name": "ipython",
    "version": 3
   },
   "file_extension": ".py",
   "mimetype": "text/x-python",
   "name": "python",
   "nbconvert_exporter": "python",
   "pygments_lexer": "ipython3",
   "version": "3.11.2"
  },
  "orig_nbformat": 4,
  "vscode": {
   "interpreter": {
    "hash": "1a1af0ee75eeea9e2e1ee996c87e7a2b11a0bebd85af04bb136d915cefc0abce"
   }
  }
 },
 "nbformat": 4,
 "nbformat_minor": 2
}
