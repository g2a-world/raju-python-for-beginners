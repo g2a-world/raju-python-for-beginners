{
 "cells": [
  {
   "cell_type": "markdown",
   "metadata": {},
   "source": [
    "* Syntax for defining functions\n",
    "* Overview of scoping using indentation\n",
    "* Sum of integers from 1 to n\n",
    "* Sum of integers from lower bound to upper bound\n",
    "* Overview of Parameters or Arguments\n",
    "* Overview of return statement\n",
    "* Common Pitfalls\n",
    "* Advantages of Type Hints\n",
    "* Exercise and Solution for User Defined Functions"
   ]
  },
  {
   "cell_type": "code",
   "execution_count": null,
   "metadata": {},
   "outputs": [],
   "source": [
    "def sum_n(n):\n",
    "    res = (n * (n + 1)) / 2\n",
    "    return res"
   ]
  },
  {
   "cell_type": "code",
   "execution_count": null,
   "metadata": {},
   "outputs": [],
   "source": [
    "sum_n(5)"
   ]
  },
  {
   "cell_type": "code",
   "execution_count": null,
   "metadata": {},
   "outputs": [],
   "source": [
    "# Sum of integers from lower bound to upper bound\n",
    "def sum_range(lb, ub):\n",
    "    res_lb = sum_n(lb - 1)\n",
    "    res_ub = sum_n(ub)\n",
    "    return res_ub - res_lb"
   ]
  },
  {
   "cell_type": "code",
   "execution_count": null,
   "metadata": {},
   "outputs": [],
   "source": [
    "sum_range(4, 10)"
   ]
  },
  {
   "cell_type": "code",
   "execution_count": null,
   "metadata": {},
   "outputs": [],
   "source": [
    "# Common Pitfalls\n",
    "def sum_n(n):\n",
    "    res = (n * (n + 1)) / 2\n",
    "    print(res)"
   ]
  },
  {
   "cell_type": "code",
   "execution_count": null,
   "metadata": {},
   "outputs": [],
   "source": [
    "\n",
    "res = sum_n(4)\n",
    "print(res) # Prints nothing\n",
    "type(res) # None as there is no return statement (returns None by default)"
   ]
  },
  {
   "cell_type": "code",
   "execution_count": null,
   "metadata": {},
   "outputs": [],
   "source": [
    "def sum_n(n):\n",
    "    res = (n * (n + 1)) / 2\n",
    "    return print(res)"
   ]
  },
  {
   "cell_type": "code",
   "execution_count": null,
   "metadata": {},
   "outputs": [],
   "source": [
    "\n",
    "res = sum_n(4)"
   ]
  },
  {
   "cell_type": "code",
   "execution_count": null,
   "metadata": {},
   "outputs": [],
   "source": [
    "print(res) # Prints nothing"
   ]
  },
  {
   "cell_type": "code",
   "execution_count": null,
   "metadata": {},
   "outputs": [],
   "source": [
    "type(res) # None, as print in function sum_n returns None. "
   ]
  },
  {
   "cell_type": "markdown",
   "metadata": {},
   "source": [
    "Exercise 1: Create a function by name my_add. It should accept 2 parameters of type integer and return the sum of the 2 parameters. Validate by invoking the function using 2 arguments."
   ]
  },
  {
   "cell_type": "markdown",
   "metadata": {},
   "source": [
    "\n",
    "Exercise 2: Create a function by name sum_of_squares from 1 to n. It should accept 1 parameter of type integer and return the sum of squares from 1 to n. Use the relevant formula for the same. Validate by invoking the function using one argument.\n",
    "Formulla: (n * (n + 1) * (2n + 1)) / 6"
   ]
  }
 ],
 "metadata": {
  "kernelspec": {
   "display_name": "Python 3.11.2 64-bit",
   "language": "python",
   "name": "python3"
  },
  "language_info": {
   "codemirror_mode": {
    "name": "ipython",
    "version": 3
   },
   "file_extension": ".py",
   "mimetype": "text/x-python",
   "name": "python",
   "nbconvert_exporter": "python",
   "pygments_lexer": "ipython3",
   "version": "3.11.2"
  },
  "orig_nbformat": 4,
  "vscode": {
   "interpreter": {
    "hash": "1a1af0ee75eeea9e2e1ee996c87e7a2b11a0bebd85af04bb136d915cefc0abce"
   }
  }
 },
 "nbformat": 4,
 "nbformat_minor": 2
}
