{
 "cells": [
  {
   "cell_type": "markdown",
   "metadata": {},
   "source": [
    "* Overview of files\n",
    "* Overview of folders\n",
    "* Different file formats\n",
    "* Overview of text files\n",
    "  * Plain text files or free flowing text files\n",
    "  * Comma Separated text files\n",
    "  * JSON text files\n",
    "* Name and Path for files and directories\n",
    "* Fully Qualified Path and Relative Path\n",
    "* Paths in Mac and Windows"
   ]
  },
  {
   "cell_type": "markdown",
   "metadata": {},
   "source": []
  }
 ],
 "metadata": {
  "language_info": {
   "name": "python"
  },
  "orig_nbformat": 4
 },
 "nbformat": 4,
 "nbformat_minor": 2
}
