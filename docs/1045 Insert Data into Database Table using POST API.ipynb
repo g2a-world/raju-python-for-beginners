{
 "cells": [
  {
   "attachments": {},
   "cell_type": "markdown",
   "metadata": {},
   "source": [
    "* Develop HTML Form for POST API\n",
    "* Update Application to render HTML Form\n",
    "* Validate Application with HTML Form\n",
    "* Add Functionality to save data\n",
    "* Validate Application to save data\n",
    "* Exercise and Solution"
   ]
  },
  {
   "attachments": {},
   "cell_type": "markdown",
   "metadata": {},
   "source": [
    "* Develop HTML Form for POST API\n",
    "\n",
    "```html\n",
    "{%- extends \"base.html\" %} {% block content %}\n",
    "<h3>User Page</h3>\n",
    "<form method=\"post\">\n",
    "    <label for=\"first_name\"><b>First Name</b></label>\n",
    "    <input type=\"text\" placeholder=\"Enter First Name\" name=\"first_name\" />\n",
    "    <br><br>\n",
    "    <label for=\"last_name\"><b>Last Name</b></label>\n",
    "    <input type=\"text\" placeholder=\"Enter Last Name\" name=\"last_name\" />\n",
    "    <br><br>\n",
    "    <label for=\"username\"><b>Username</b></label>\n",
    "    <input type=\"text\" placeholder=\"Enter Username\" name=\"username\" required />\n",
    "    <br><br>\n",
    "    <label for=\"email\"><b>Email</b></label>\n",
    "    <input type=\"text\" placeholder=\"Enter Email Id\" name=\"email\" />\n",
    "    <br><br>\n",
    "\n",
    "    <button type=\"submit\">Save</button>\n",
    "</form>\n",
    "<br>\n",
    "\n",
    "{%- endblock %}\n",
    "```"
   ]
  },
  {
   "attachments": {},
   "cell_type": "markdown",
   "metadata": {},
   "source": [
    "* Update Application to render HTML Form\n",
    "\n",
    "```python\n",
    "@app.route('/user', methods=['GET', 'POST'])\n",
    "def user():\n",
    "    id = request.args.get('id')\n",
    "    if request.method == 'GET':\n",
    "        if id:\n",
    "            user = User.query.get(id)\n",
    "            return render_template('user_detail.html', user=user)\n",
    "        else:\n",
    "            return render_template('user_form.html')\n",
    "```"
   ]
  },
  {
   "attachments": {},
   "cell_type": "markdown",
   "metadata": {},
   "source": [
    "* Validate Application with HTML Form\n",
    "\n",
    "Run the application using Flask.\n",
    "```shell\n",
    "python -m flask run\n",
    "```\n",
    "\n",
    "Go to the new end point http://localhost:5000/user using browser and check if the form to save details is rendered or not."
   ]
  },
  {
   "attachments": {},
   "cell_type": "markdown",
   "metadata": {},
   "source": [
    "* Add Functionality to save data\n",
    "\n",
    "```html\n",
    "{%- extends \"base.html\" %} {% block content %}\n",
    "<h3>User Form</h3>\n",
    "<form method=\"post\" action=\"{{ url_for('user') }}\">\n",
    "    <label for=\"first_name\"><b>First Name</b></label>\n",
    "    <input type=\"text\" placeholder=\"Enter First Name\" name=\"first_name\" />\n",
    "    <br><br>\n",
    "    <label for=\"last_name\"><b>Last Name</b></label>\n",
    "    <input type=\"text\" placeholder=\"Enter Last Name\" name=\"last_name\" />\n",
    "    <br><br>\n",
    "    <label for=\"username\"><b>Username</b></label>\n",
    "    <input type=\"text\" placeholder=\"Enter Username\" name=\"username\" required />\n",
    "    <br><br>\n",
    "    <label for=\"email\"><b>Email</b></label>\n",
    "    <input type=\"text\" placeholder=\"Enter Email Id\" name=\"email\" />\n",
    "    <br><br>\n",
    "\n",
    "    <button type=\"submit\">Save</button>\n",
    "</form>\n",
    "<br>\n",
    "\n",
    "{%- endblock %}\n",
    "```\n",
    "\n",
    "Update logic to `/user` endpoint for `POST` request.\n",
    "```python\n",
    "@app.route('/user', methods=['GET', 'POST'])\n",
    "def user():\n",
    "    id = request.args.get('id')\n",
    "    if request.method == 'GET':\n",
    "        if id:\n",
    "            user = User.query.get(id)\n",
    "            return render_template('user_detail.html', user=user)\n",
    "        else:\n",
    "            return render_template('user_form.html')\n",
    "    elif request.method == 'POST':\n",
    "        first_name = request.form['first_name']\n",
    "        last_name = request.form['last_name']\n",
    "        username = request.form['username']\n",
    "        email = request.form['email']\n",
    "        user = User(\n",
    "            first_name=first_name, \n",
    "            last_name=last_name, \n",
    "            username=username,\n",
    "            email=email\n",
    "        )\n",
    "        db.session.add(user)\n",
    "        db.session.commit()\n",
    "        return redirect(url_for('users'))\n",
    "```"
   ]
  },
  {
   "attachments": {},
   "cell_type": "markdown",
   "metadata": {},
   "source": [
    "* Validate Application to save data\n",
    "\n",
    "Run the application using Flask.\n",
    "```shell\n",
    "python -m flask run\n",
    "```\n",
    "\n",
    "Go to the new end point http://localhost:5000/user using browser and check if the form to save details is rendered or not. Also, enter some test data and see if the data is saved into the database or not. After saving, the application will be redirected to users dashboard."
   ]
  }
 ],
 "metadata": {
  "language_info": {
   "name": "python"
  },
  "orig_nbformat": 4
 },
 "nbformat": 4,
 "nbformat_minor": 2
}
