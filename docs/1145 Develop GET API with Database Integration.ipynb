{
 "cells": [
  {
   "attachments": {},
   "cell_type": "markdown",
   "metadata": {},
   "source": [
    "* Overview of CRUD Operations\n",
    "* Checkout new git branch for changes\n",
    "* Create user detail page using GET\n",
    "* Validate user detail page\n",
    "* Using Parameters for GET\n",
    "* Validate user detail page using parameters\n",
    "* Validate CI/CD Pipeline using GitHub Actions\n",
    "* Exercise and Solution"
   ]
  },
  {
   "attachments": {},
   "cell_type": "markdown",
   "metadata": {},
   "source": [
    "* Overview of CRUD Operations\n",
    "  * GET for select (read)\n",
    "  * POST for partial insert or update (excluding key and other application generated fields)\n",
    "  * PUT for full update or insert\n",
    "  * DELETE for delete\n",
    "\n",
    "  ||Database Operations|REST APIs|HTML Methods\n",
    "  |---|---|---|---|\n",
    "  |CREATE|INSERT|POST or PUT|POST|\n",
    "  |READ|SELECT|GET|GET|\n",
    "  |UPDATE|UPDATE|POST or PUT|POST|\n",
    "  |DELETE|DELETE|DELETE|POST|"
   ]
  },
  {
   "attachments": {},
   "cell_type": "markdown",
   "metadata": {},
   "source": [
    "* Checkout new git branch for changes\n",
    "  * Use command `git checkout -b feature/crudget`"
   ]
  },
  {
   "attachments": {},
   "cell_type": "markdown",
   "metadata": {},
   "source": [
    "* Create user detail page using GET\n",
    "\n",
    "Update `routes/users.py` to get user details.\n",
    "\n",
    "```python\n",
    "@app.route('/user/<int:id>', methods=['GET'])\n",
    "def user(id):\n",
    "    user = User.query.get(id)\n",
    "    return render_template('user_detail.html', user=user)\n",
    "```\n",
    "\n",
    "Add `templates/user_detail.html` page.\n",
    "```html\n",
    "{%- extends \"base.html\" %}\n",
    "\n",
    "{% block content %}\n",
    "    <h3>User Details</h3>\n",
    "    <div class=\"container\">\n",
    "        <label for=\"first_name\"><b>First Name</b></label>\n",
    "        {{ user.first_name }}\n",
    "        <br><br>\n",
    "        <label for=\"last_name\"><b>Last Name</b></label>\n",
    "        {{ user.last_name }}\n",
    "        <br><br>\n",
    "        <label for=\"username\"><b>Username</b></label>\n",
    "        {{ user.username }}\n",
    "        <br><br>\n",
    "        <label for=\"email\"><b>Email</b></label>\n",
    "        {{ user.email }}\n",
    "        <br><br>\n",
    "    </div>\n",
    "{%- endblock %}\n",
    "```"
   ]
  },
  {
   "attachments": {},
   "cell_type": "markdown",
   "metadata": {},
   "source": [
    "* Validate user detail page\n",
    "\n",
    "Run the application using Flask.\n",
    "\n",
    "```shell\n",
    "python -m flask run\n",
    "```\n",
    "\n",
    "Go to the new end point http://127.0.0.1/user/1 using browser and check if the user details are rendered or not.\n",
    "\n",
    "The endpoint can be validated using `curl` command as well.\n",
    "\n",
    "```shell\n",
    "curl http://localhost:5000/user/1\n",
    "```"
   ]
  },
  {
   "attachments": {},
   "cell_type": "markdown",
   "metadata": {},
   "source": [
    "* Using Parameters for GET\n",
    "\n",
    "Update `routes/users.py` to get user details using parameters.\n",
    "\n",
    "```python\n",
    "@app.route('/user', methods=['GET']) # default is GET\n",
    "def user():\n",
    "    id = request.args.get('id')\n",
    "    user = User.query.get(id)\n",
    "    return render_template('user_detail.html', user=user)\n",
    "```"
   ]
  },
  {
   "attachments": {},
   "cell_type": "markdown",
   "metadata": {},
   "source": [
    "* Validate user detail page using parameters\n",
    "\n",
    "Run the application using Flask.\n",
    "```shell\n",
    "python -m flask run\n",
    "```\n",
    "\n",
    "Go to the new end point http://localhost:5000/user?id=1 using browser and check if the user details are rendered or not. 1 is passed as parameter to the end point.\n",
    "\n",
    "The endpoint with the parameter can be used using `curl` command as well.\n",
    "\n",
    "```shell\n",
    "curl http://localhost:5000/user?id=1\n",
    "```"
   ]
  },
  {
   "attachments": {},
   "cell_type": "markdown",
   "metadata": {},
   "source": [
    "* Validate CI/CD Pipeline using GitHub Actions\n",
    "  * Push changes to remote repository\n",
    "  * Validate GitHub Action or CI/CD Pipeline\n",
    "  * Validate Application in GCP VM"
   ]
  },
  {
   "attachments": {},
   "cell_type": "markdown",
   "metadata": {},
   "source": [
    "* Exercise - Develop functionality to get course details using parameters.\n",
    "  1. Develop required html page (course_detail.html) to display course details for a given course id. \n",
    "  2. Update `routes/courses.py` with function by name `course` for `/course` end point. You should be using parameters.\n",
    "  3. Run and Validate the application locally.\n",
    "  4. Push the changes to remote repository and merge into main branch\n",
    "  5. Validate the application on Remote VM for the changes"
   ]
  },
  {
   "attachments": {},
   "cell_type": "markdown",
   "metadata": {},
   "source": [
    "* Solution - Develop functionality to get course details using parameters.\n",
    "\n",
    "Add `templates/course_details.html`\n",
    "\n",
    "```html\n",
    "{%- extends \"base.html\" %}\n",
    "\n",
    "{% block content %}\n",
    "    <h3>Course Details</h3>\n",
    "    <div class=\"container\">\n",
    "        <label for=\"course_name\"><b>Course Name</b></label>\n",
    "        {{ course.course_name }}\n",
    "        <br><br>\n",
    "        <label for=\"course_author\"><b>Course Author</b></label>\n",
    "        {{ course.course_author }}\n",
    "        <br><br>\n",
    "        <label for=\"course_endpoint\"><b>Course Endpoint</b></label>\n",
    "        {{ course.course_endpoint }}\n",
    "        <br><br>\n",
    "    </div>\n",
    "{%- endblock %}\n",
    "```\n",
    "\n",
    "Update `routes/courses.py`\n",
    "\n",
    "```python\n",
    "@app.route('/course')\n",
    "def course():\n",
    "    course_id = request.args.get('course_id')\n",
    "    course = Course.query.get(course_id)\n",
    "    return render_template('course_detail.html', course=course)\n",
    "```\n",
    "\n",
    "Restart the application and then go to `http://localhost:5000/course_id=1`. You should see the details related to the course."
   ]
  }
 ],
 "metadata": {
  "language_info": {
   "name": "python"
  },
  "orig_nbformat": 4
 },
 "nbformat": 4,
 "nbformat_minor": 2
}
