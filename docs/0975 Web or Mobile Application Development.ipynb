{
 "cells": [
  {
   "attachments": {},
   "cell_type": "markdown",
   "metadata": {},
   "source": [
    "* Overview Web or Mobile App Frameworks in Python\n",
    "* Getting Started with Flask\n",
    "* Develop Hello World using Flask\n",
    "* Validate Flask Application Locally\n",
    "* Overview of Web or Mobile Application Architecture\n",
    "* Overview of ORM\n",
    "* Getting Started with SQLAlchemy\n",
    "* Define required model\n",
    "* Overview of Flask Shell\n",
    "* Create Database Tables using Model\n",
    "* Exercise and Solution"
   ]
  },
  {
   "attachments": {},
   "cell_type": "markdown",
   "metadata": {},
   "source": [
    "* Overview Web or Mobile App Frameworks in Python\n",
    "  * Flask\n",
    "  * Django\n",
    "  * Fast API"
   ]
  },
  {
   "attachments": {},
   "cell_type": "markdown",
   "metadata": {},
   "source": [
    "* Getting Started with Flask\n",
    "  * Setup Project using VS Code - `sales-app`\n",
    "  * Create and Activate Python virtual environment - `sa-venv`\n",
    "  * Install flask using pip."
   ]
  },
  {
   "attachments": {},
   "cell_type": "markdown",
   "metadata": {},
   "source": [
    "* Develop Hello World using Flask\n",
    "```python\n",
    "from flask import Flask\n",
    "\n",
    "app = Flask(__name__)\n",
    "\n",
    "@app.route('/')\n",
    "def hello_world():\n",
    "    return \"<p>Hello, World!</p>\"\n",
    "```"
   ]
  },
  {
   "attachments": {},
   "cell_type": "markdown",
   "metadata": {},
   "source": [
    "* Validate Flask Application Locally\n",
    "  * Run the application using `python -m flask run`\n",
    "  * Open browser and enter `http://localhost:5000`"
   ]
  },
  {
   "attachments": {},
   "cell_type": "markdown",
   "metadata": {},
   "source": [
    "* Overview of Web or Mobile Application Architecture"
   ]
  },
  {
   "attachments": {},
   "cell_type": "markdown",
   "metadata": {},
   "source": [
    "* Overview of ORM (Object-relational Mapping)\n",
    "  * ORM facilitates to interact with Database Tables without using SQL Statements.\n",
    "  * We can use APIs which in turn convert to SQL Statements."
   ]
  },
  {
   "attachments": {},
   "cell_type": "markdown",
   "metadata": {},
   "source": [
    "* Getting Started with SQLAlchemy\n",
    "  * Install SQL Alchemy using pip - `pip install sqlalchemy`\n",
    "  * Install flask extension for SQL Alchemy using pip - `pip install flask_sqlalchemy`"
   ]
  },
  {
   "attachments": {},
   "cell_type": "markdown",
   "metadata": {},
   "source": [
    "* Define required model\n",
    "\n",
    "Update `app.py`\n",
    "```python\n",
    "from flask import Flask\n",
    "from flask_sqlalchemy import SQLAlchemy\n",
    "\n",
    "db = SQLAlchemy()\n",
    "app = Flask(__name__)\n",
    "app.config[\"SQLALCHEMY_DATABASE_URI\"] = \"sqlite:///project.db\"\n",
    "db.init_app(app)\n",
    "from models.user import User\n",
    "\n",
    "@app.route('/')\n",
    "def hello_world():\n",
    "    # rec = db.get_or_404(User, 1)\n",
    "    rec = User.query.get_or_404(1)\n",
    "    return f\"<p>Hello, World! from {rec.username}</p>\"\n",
    "```\n",
    "\n",
    "Update `models/user.py`\n",
    "```python\n",
    "from app import db\n",
    "\n",
    "class User(db.Model):\n",
    "    id = db.Column(db.Integer, primary_key=True)\n",
    "    username = db.Column(db.String, unique=True, nullable=False)\n",
    "    email = db.Column(db.String)\n",
    "```"
   ]
  },
  {
   "attachments": {},
   "cell_type": "markdown",
   "metadata": {},
   "source": [
    "* Overview of Flask Shell\n",
    "  * Launch flask shell using `python -m flask shell` and access the components of Flask Application. \n",
    "  * It comes handy to validate Flask Application or troubleshoot the issues."
   ]
  },
  {
   "attachments": {},
   "cell_type": "markdown",
   "metadata": {},
   "source": [
    "* Create Database Tables using Model\n",
    "\n",
    "```python\n",
    "db.create_all()\n",
    "from models.user import User\n",
    "user1 = User(id=1, username='dgadiraju', email='dgadiraju@email.com')\n",
    "db.session.add(user1)\n",
    "db.session.commit()\n",
    "u = db.session.execute(db.select(User)).fetchone()\n",
    "u[0].id\n",
    "u[0].email\n",
    "```"
   ]
  },
  {
   "attachments": {},
   "cell_type": "markdown",
   "metadata": {},
   "source": [
    "* Exercise - Getting Started with Flask\n",
    "\n",
    "1. Create model for courses using following details\n",
    "  * `course_id` of type integer, unique and sequence generated.\n",
    "  * `course_name` of type string.\n",
    "  * `course_author` of type string.\n",
    "  * `course_endpoint` of type string and unique.\n",
    "2. Launch flask shell and create table using course model.\n",
    "3. Populate data into the table using following details.\n",
    "\n",
    "|Course Id|Course Name|Course Author|Course Endpoint|\n",
    "|---|---|---|---|\n",
    "|1|Mastering Python|Scott Tiger|mastering-python|\n",
    "|2|Python App Development|Donald Duck|python-app-development|\n",
    "|3|DevOps Bootcamp|Mickey Mouse|devops-bootcamp|\n",
    "\n",
    "4. Validate whether data is populated in the table or not using appropriate API calls in Flask shell\n",
    "5. Push changes to sales-app GitHub Repository in your respective account"
   ]
  }
 ],
 "metadata": {
  "kernelspec": {
   "display_name": "Python 3.x",
   "language": "python",
   "name": "python3"
  },
  "language_info": {
   "name": "python",
   "version": "3"
  },
  "orig_nbformat": 4,
  "vscode": {
   "interpreter": {
    "hash": "31f2aee4e71d21fbe5cf8b01ff0e069b9275f58929596ceb00d14d90e3e16cd6"
   }
  }
 },
 "nbformat": 4,
 "nbformat_minor": 2
}
