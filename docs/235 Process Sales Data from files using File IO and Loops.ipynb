{
 "cells": [
  {
   "cell_type": "markdown",
   "metadata": {},
   "source": [
    "* Open File in read mode\n",
    "* Convert Data into Collection\n",
    "* Create list of tuples\n",
    "* Create list of dicts\n",
    "* Filter for invalid sales data\n",
    "* Compute Net Sale Revenue for valid sale\n",
    "* Compute Total Net Revenue\n",
    "* Write list of dicts to File"
   ]
  },
  {
   "cell_type": "markdown",
   "metadata": {},
   "source": []
  }
 ],
 "metadata": {
  "kernelspec": {
   "display_name": "Python 3.x",
   "language": "python",
   "name": "python3"
  },
  "language_info": {
   "name": "python",
   "version": "3"
  },
  "orig_nbformat": 4,
  "vscode": {
   "interpreter": {
    "hash": "31f2aee4e71d21fbe5cf8b01ff0e069b9275f58929596ceb00d14d90e3e16cd6"
   }
  }
 },
 "nbformat": 4,
 "nbformat_minor": 2
}
