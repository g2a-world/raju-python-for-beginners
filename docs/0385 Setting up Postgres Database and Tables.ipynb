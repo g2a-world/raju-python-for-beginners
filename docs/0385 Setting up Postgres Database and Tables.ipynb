{
 "cells": [
  {
   "cell_type": "markdown",
   "metadata": {},
   "source": [
    "* Install latest version of Postgres Database Server\n",
    "* Quick Review of pgAdmin\n",
    "* Managing Postgres Database Server using Task Manager on Windows\n",
    "* Connect to postgres Database using pgAdmin\n",
    "* Setup new Database and User\n",
    "* Setup required tables (sales)"
   ]
  },
  {
   "cell_type": "markdown",
   "metadata": {},
   "source": []
  }
 ],
 "metadata": {
  "kernelspec": {
   "display_name": "Python 3.x",
   "language": "python",
   "name": "python3"
  },
  "language_info": {
   "name": "python",
   "version": "3"
  },
  "orig_nbformat": 4,
  "vscode": {
   "interpreter": {
    "hash": "31f2aee4e71d21fbe5cf8b01ff0e069b9275f58929596ceb00d14d90e3e16cd6"
   }
  }
 },
 "nbformat": 4,
 "nbformat_minor": 2
}
