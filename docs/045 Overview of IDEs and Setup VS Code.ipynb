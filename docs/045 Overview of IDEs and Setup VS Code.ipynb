{
 "cells": [
  {
   "cell_type": "markdown",
   "metadata": {},
   "source": [
    "Let us get an overview of Python IDEs and also go through the details about setting up IDEs.\n",
    "* Challenges using Python CLI\n",
    "* Overview of ipython CLI\n",
    "* Overview of IDEs\n",
    "* Setup Visual Studio Code on Windows as well as Mac\n",
    "* Advantages of IDEs such as Visual Studio Code\n",
    "  * Code highlighting\n",
    "  * Indentation\n",
    "  * Refactoring\n",
    "  * Integrated Terminal\n",
    "  * Install Extensions\n",
    "  * Integration with code versioning tools\n",
    "  * Debugging Wizard\n"
   ]
  },
  {
   "cell_type": "markdown",
   "metadata": {},
   "source": []
  }
 ],
 "metadata": {
  "kernelspec": {
   "display_name": "Python 3.11.2 64-bit",
   "language": "python",
   "name": "python3"
  },
  "language_info": {
   "name": "python",
   "version": "3.11.2"
  },
  "orig_nbformat": 4,
  "vscode": {
   "interpreter": {
    "hash": "1a1af0ee75eeea9e2e1ee996c87e7a2b11a0bebd85af04bb136d915cefc0abce"
   }
  }
 },
 "nbformat": 4,
 "nbformat_minor": 2
}
