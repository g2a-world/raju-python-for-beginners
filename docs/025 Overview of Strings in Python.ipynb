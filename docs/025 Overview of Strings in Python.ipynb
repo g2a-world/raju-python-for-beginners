{
 "cells": [
  {
   "cell_type": "markdown",
   "metadata": {},
   "source": [
    "Let us get an overview of strings in Python.\n",
    "* Enclose Characters\n",
    "* Dealing with single quotes in strings\n",
    "* Multi-line strings\n",
    "* Concatenating strings\n",
    "* String Formatting - Old Style\n",
    "* String Formatting - New Style"
   ]
  },
  {
   "cell_type": "markdown",
   "metadata": {},
   "source": [
    "\n",
    "### Enclose Characters\n",
    "Here are the common enclose characters - single quote and double quotes."
   ]
  },
  {
   "cell_type": "markdown",
   "metadata": {},
   "source": [
    "### Dealing with single quotes in strings\n",
    "* Enclose string with single quotes in double quote - eg: \"ITVersity's Courses\"\n",
    "* Escape single quotes - 'ITVersity\\'s Courses'\n",
    "* Using double quotes is better for readability purposes"
   ]
  },
  {
   "cell_type": "markdown",
   "metadata": {},
   "source": [
    "### Multi-line strings\n",
    "We can use triple single quotes or triple double quotes for multi-line strings.\n",
    "```\n",
    "'''We can use triple single quotes or triple double quotes for multi-line strings.\n",
    "\n",
    "You can have single quotes or double quotes as part of the strings enclosed in triple single quotes (') or triple double quotes (\")'''\n",
    "```"
   ]
  },
  {
   "cell_type": "markdown",
   "metadata": {},
   "source": [
    "\n",
    "### Concatenating strings\n",
    "We can concatenate strings using +. But starting from Python 3.x, it is not very popular."
   ]
  },
  {
   "cell_type": "code",
   "execution_count": null,
   "metadata": {},
   "outputs": [],
   "source": [
    "msg = 'Hello'\n",
    "audience = 'World'\n",
    "print(msg + ' ' + audience)"
   ]
  },
  {
   "cell_type": "markdown",
   "metadata": {},
   "source": [
    "\n",
    "### String Formatting - Old Style\n",
    "String Formatting is used widely instead of concatenation. However, this is old style."
   ]
  },
  {
   "cell_type": "code",
   "execution_count": null,
   "metadata": {},
   "outputs": [],
   "source": [
    "msg = 'Hello'\n",
    "audience = 'World'\n",
    "\n",
    "print('%s %s' % (msg, audience))"
   ]
  },
  {
   "cell_type": "markdown",
   "metadata": {},
   "source": [
    "\n",
    "### String Formatting - New Style\n",
    "Here are the examples of modern way of String Formatting. We can format strings by position or by name."
   ]
  },
  {
   "cell_type": "code",
   "execution_count": null,
   "metadata": {},
   "outputs": [],
   "source": [
    "# By position\n",
    "msg = 'Hello'\n",
    "audience = 'World'\n",
    "\n",
    "print('{} {}'.format(msg, audience))\n",
    "\n",
    "print('{msg} {audience}'.format(audience=audience, msg=msg))\n",
    "\n",
    "# The variables should be defined by now with the names used in the string enclosed in `f''`.\n",
    "print(f'{msg} {audience}')\n"
   ]
  }
 ],
 "metadata": {
  "kernelspec": {
   "display_name": "Python 3.11.2 64-bit",
   "language": "python",
   "name": "python3"
  },
  "language_info": {
   "codemirror_mode": {
    "name": "ipython",
    "version": 3
   },
   "file_extension": ".py",
   "mimetype": "text/x-python",
   "name": "python",
   "nbconvert_exporter": "python",
   "pygments_lexer": "ipython3",
   "version": "3.11.2"
  },
  "orig_nbformat": 4,
  "vscode": {
   "interpreter": {
    "hash": "1a1af0ee75eeea9e2e1ee996c87e7a2b11a0bebd85af04bb136d915cefc0abce"
   }
  }
 },
 "nbformat": 4,
 "nbformat_minor": 2
}
