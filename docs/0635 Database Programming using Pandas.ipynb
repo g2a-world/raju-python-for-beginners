{
 "cells": [
  {
   "attachments": {},
   "cell_type": "markdown",
   "metadata": {},
   "source": [
    "* Getting started with Database Programming using Pandas\n",
    "* Read data from Database Table into Dataframe\n",
    "* Read query results into Dataframe\n",
    "* Database Programming Best Practices\n",
    "* Write data from Dataframe to Database Table\n",
    "* Write data to Database Table without index\n",
    "* Overview of using method\n",
    "* Exercise and Solution"
   ]
  }
 ],
 "metadata": {
  "kernelspec": {
   "display_name": "Python 3.x",
   "language": "python",
   "name": "python3"
  },
  "language_info": {
   "name": "python",
   "version": "3"
  },
  "orig_nbformat": 4,
  "vscode": {
   "interpreter": {
    "hash": "31f2aee4e71d21fbe5cf8b01ff0e069b9275f58929596ceb00d14d90e3e16cd6"
   }
  }
 },
 "nbformat": 4,
 "nbformat_minor": 2
}
