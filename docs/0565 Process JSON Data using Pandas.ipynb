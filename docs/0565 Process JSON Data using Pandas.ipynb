{
 "cells": [
  {
   "attachments": {},
   "cell_type": "markdown",
   "metadata": {},
   "source": [
    "* Read data from JSON files using Pandas\n",
    "* Create Dataframe using JSON Array\n",
    "* Dealing with Complex JSON Data\n",
    "* Overview of json_normalize\n",
    "* Process REST Payloads using Pandas\n",
    "* Write data in Dataframe to JSON files\n",
    "* Convert CSV Files to JSON using Compression\n",
    "* Exercise and Solution"
   ]
  },
  {
   "cell_type": "code",
   "execution_count": null,
   "metadata": {},
   "outputs": [],
   "source": []
  }
 ],
 "metadata": {
  "kernelspec": {
   "display_name": "Python 3",
   "language": "python",
   "name": "python3"
  },
  "language_info": {
   "name": "python",
   "version": "3.10.6"
  },
  "orig_nbformat": 4,
  "vscode": {
   "interpreter": {
    "hash": "7e1998ff7f8aa20ada591c520b972326324e5ea05489af9e422744c7c09f6dad"
   }
  }
 },
 "nbformat": 4,
 "nbformat_minor": 2
}
