{
  "nbformat": 4,
  "nbformat_minor": 0,
  "metadata": {
    "colab": {
      "provenance": []
    },
    "kernelspec": {
      "name": "python3",
      "display_name": "Python 3"
    },
    "language_info": {
      "name": "python"
    }
  },
  "cells": [
    {
      "cell_type": "code",
      "source": [
        "s = 'host=pg.itversity.com;port=5432;user=retail_user;pass=itversity;dbname=retail_db'\n",
        "key_value_pairs = s.split(';')\n",
        "desired_key = 'host'\n",
        "for pair in key_value_pairs:\n",
        "    k, v = pair.split('=')\n",
        "    if k == desired_key:\n",
        "        print(v)\n"
      ],
      "metadata": {
        "colab": {
          "base_uri": "https://localhost:8080/"
        },
        "id": "PT5f-jdslV4d",
        "outputId": "4ea5a609-e222-47e9-cb31-73a3fd270f88"
      },
      "execution_count": null,
      "outputs": [
        {
          "output_type": "stream",
          "name": "stdout",
          "text": [
            "pg.itversity.com\n"
          ]
        }
      ]
    },
    {
      "cell_type": "code",
      "source": [
        "import datetime\n",
        "file_names = [\n",
        "    'part-20221115.csv', 'part-20221005.csv', \n",
        "    'part-20221101.csv', 'part-20221001.csv'\n",
        "]\n",
        "\n",
        "latest_date = \"20221031\"\n",
        "date_obj = datetime.datetime.strptime(latest_date, \"%Y%m%d\")\n",
        "\n",
        "filtered_files = list(filter(lambda x: datetime.datetime.strptime(x.split(\"-\")[1].split(\".\")[0], \"%Y%m%d\") < date_obj, file_names))\n",
        "\n",
        "latest_file = max(filtered_files, key=lambda x: x.split(\"-\")[1].split(\".\")[0])\n",
        "print(latest_file)\n"
      ],
      "metadata": {
        "id": "laElbuJ5lhVH",
        "colab": {
          "base_uri": "https://localhost:8080/"
        },
        "outputId": "ffb943b8-70af-4bfd-f82d-377f8ef704dd"
      },
      "execution_count": 12,
      "outputs": [
        {
          "output_type": "stream",
          "name": "stdout",
          "text": [
            "part-20221005.csv\n"
          ]
        }
      ]
    },
    {
      "cell_type": "code",
      "source": [
        "s = 'host=pg.itversity.com;port=5432;user=retail_user;pass=itversity;dbname=retail_db'\n",
        "\n",
        "s = s.split(';')\n",
        "db_details = {}\n",
        "\n",
        "for i in s:\n",
        "    key, value = i.split('=')\n",
        "    db_details[key] = value\n",
        "\n",
        "print(db_details)\n"
      ],
      "metadata": {
        "colab": {
          "base_uri": "https://localhost:8080/"
        },
        "id": "O7gU4I1ImxHF",
        "outputId": "86c95509-8a8d-43ca-b557-506f75e52492"
      },
      "execution_count": 17,
      "outputs": [
        {
          "output_type": "stream",
          "name": "stdout",
          "text": [
            "{'host': 'pg.itversity.com', 'port': '5432', 'user': 'retail_user', 'pass': 'itversity', 'dbname': 'retail_db'}\n"
          ]
        }
      ]
    },
    {
      "cell_type": "code",
      "source": [],
      "metadata": {
        "id": "YxdFeVYwq5UI"
      },
      "execution_count": null,
      "outputs": []
    }
  ]
}