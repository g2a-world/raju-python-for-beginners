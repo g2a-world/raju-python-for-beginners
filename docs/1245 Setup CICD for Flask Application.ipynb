{
 "cells": [
  {
   "attachments": {},
   "cell_type": "markdown",
   "metadata": {},
   "source": [
    "Let us take it as a revision and setup CICD Pipeline for the project.\n",
    "\n",
    "* Setup as a GitHub Repo\n",
    "* Add required secrets in GitHub Repo\n",
    "* Reset Supervisor for the new Application (Make sure to create folder for logs)\n",
    "* Add workflow in the GitHub Repo\n",
    "* Review GitHub Action Run\n",
    "* Validate Supervisor and Gunicorn\n",
    "* Validate REST APIs using curl"
   ]
  }
 ],
 "metadata": {
  "language_info": {
   "name": "python"
  },
  "orig_nbformat": 4
 },
 "nbformat": 4,
 "nbformat_minor": 2
}
