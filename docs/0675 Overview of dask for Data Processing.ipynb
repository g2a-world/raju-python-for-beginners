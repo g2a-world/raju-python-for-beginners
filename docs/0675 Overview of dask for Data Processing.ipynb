{
 "cells": [
  {
   "attachments": {},
   "cell_type": "markdown",
   "metadata": {},
   "source": [
    "* Getting started with dask\n",
    "* Overview of dask features\n",
    "* Data processing using dask dataframes\n",
    "* Create dask dataframe using csv files\n",
    "* Get the row and column count\n",
    "* Overview of data processing APIs of dask dataframes\n",
    "* Write data in dask dataframe to csv files\n",
    "* Real world example of data processing using dask\n",
    "* Exercise and Solution"
   ]
  },
  {
   "cell_type": "code",
   "execution_count": null,
   "metadata": {},
   "outputs": [],
   "source": [
    "# Getting started with dask\n",
    "# python -m pip install dask\\[complete\\]"
   ]
  },
  {
   "cell_type": "code",
   "execution_count": null,
   "metadata": {},
   "outputs": [],
   "source": [
    "# Overview of dask features\n",
    "# Scale PyData libraries such as numpy, pandas, scikit-learn, etc using Dask DataFrames\n",
    "# Scale any Python code using Dask Futures"
   ]
  },
  {
   "cell_type": "code",
   "execution_count": null,
   "metadata": {},
   "outputs": [],
   "source": [
    "# Data processing using Dask Dataframes\n",
    "# Read data from files and other sources using read apis\n",
    "# Process data using Pandas Dataframe like APIs (query, apply, groupby, join, sort_values, etc)\n",
    "# Write data to files and other targets using to apis"
   ]
  },
  {
   "cell_type": "code",
   "execution_count": null,
   "metadata": {},
   "outputs": [],
   "source": [
    "from dask import dataframe as dd"
   ]
  },
  {
   "cell_type": "code",
   "execution_count": null,
   "metadata": {},
   "outputs": [],
   "source": [
    "# dd.read_json\n",
    "# df.to_json\n",
    "df = dd.read_json(\n",
    "    'data/retail_db_json/departments/*',\n",
    "    lines=True\n",
    ")"
   ]
  },
  {
   "cell_type": "code",
   "execution_count": null,
   "metadata": {},
   "outputs": [],
   "source": [
    "type(df)"
   ]
  },
  {
   "cell_type": "code",
   "execution_count": null,
   "metadata": {},
   "outputs": [],
   "source": [
    "# Create dask dataframe using csv files\n",
    "df = dd.read_csv(\n",
    "    'data/retail_db/departments/*',\n",
    "    names=['department_id', 'department_name']\n",
    ")"
   ]
  },
  {
   "cell_type": "code",
   "execution_count": null,
   "metadata": {},
   "outputs": [],
   "source": [
    "df.head()"
   ]
  },
  {
   "cell_type": "code",
   "execution_count": null,
   "metadata": {},
   "outputs": [],
   "source": [
    "df.shape"
   ]
  },
  {
   "cell_type": "code",
   "execution_count": null,
   "metadata": {},
   "outputs": [],
   "source": [
    "df.compute()"
   ]
  },
  {
   "cell_type": "code",
   "execution_count": null,
   "metadata": {},
   "outputs": [],
   "source": [
    "# Get the row and column count\n",
    "df.compute().shape"
   ]
  },
  {
   "cell_type": "code",
   "execution_count": null,
   "metadata": {},
   "outputs": [],
   "source": [
    "type(df.compute())"
   ]
  },
  {
   "cell_type": "code",
   "execution_count": null,
   "metadata": {},
   "outputs": [],
   "source": [
    "# Overview of data processing APIs of dask dataframes\n",
    "# query\n",
    "# apply\n",
    "# groupby\n",
    "# join\n",
    "# sort_values"
   ]
  },
  {
   "cell_type": "code",
   "execution_count": null,
   "metadata": {},
   "outputs": [],
   "source": [
    "df.compute()"
   ]
  },
  {
   "cell_type": "code",
   "execution_count": null,
   "metadata": {},
   "outputs": [],
   "source": [
    "df.query('department_id >= 3')"
   ]
  },
  {
   "cell_type": "code",
   "execution_count": null,
   "metadata": {},
   "outputs": [],
   "source": [
    "df.query('department_id >= 3').compute()"
   ]
  },
  {
   "cell_type": "code",
   "execution_count": null,
   "metadata": {},
   "outputs": [],
   "source": [
    "df.apply(lambda rec: rec['department_name'].upper(), axis=1)"
   ]
  },
  {
   "cell_type": "code",
   "execution_count": null,
   "metadata": {},
   "outputs": [],
   "source": [
    "df.apply(lambda rec: rec['department_name'].upper(), meta=(None, 'object'), axis=1).compute()"
   ]
  },
  {
   "cell_type": "code",
   "execution_count": null,
   "metadata": {},
   "outputs": [],
   "source": [
    "df.sort_values(by=['department_name'])"
   ]
  },
  {
   "cell_type": "code",
   "execution_count": null,
   "metadata": {},
   "outputs": [],
   "source": [
    "df.sort_values(by=['department_name']).compute()"
   ]
  },
  {
   "cell_type": "code",
   "execution_count": null,
   "metadata": {},
   "outputs": [],
   "source": [
    "# Write data in dask dataframe to csv files\n",
    "df = dd.read_json(\n",
    "    'data/retail_db_json/departments/*',\n",
    "    lines=True\n",
    ")"
   ]
  },
  {
   "cell_type": "code",
   "execution_count": null,
   "metadata": {},
   "outputs": [],
   "source": [
    "df.compute()"
   ]
  },
  {
   "cell_type": "code",
   "execution_count": null,
   "metadata": {},
   "outputs": [],
   "source": [
    "help(df.to_csv)"
   ]
  },
  {
   "cell_type": "code",
   "execution_count": null,
   "metadata": {},
   "outputs": [],
   "source": [
    "df.to_csv(\n",
    "    'data/retail_db_csv/departments/part-*.csv', \n",
    "    index=False,\n",
    "    name_function=lambda i: '%05d' % i\n",
    ")"
   ]
  },
  {
   "cell_type": "code",
   "execution_count": null,
   "metadata": {},
   "outputs": [],
   "source": [
    "# Real world example of data processing using dask\n",
    "# Convert all the files under retail_db to json format\n",
    "import glob\n",
    "import os\n",
    "import json\n",
    "import uuid\n",
    "from dask import dataframe as dd"
   ]
  },
  {
   "cell_type": "code",
   "execution_count": null,
   "metadata": {},
   "outputs": [],
   "source": [
    "def get_columns(ds):\n",
    "    with open('data/retail_db/schemas.json') as fp:\n",
    "        schemas = json.load(fp)\n",
    "    try:\n",
    "        schema = schemas.get(ds)\n",
    "        if not schema:\n",
    "            raise KeyError\n",
    "        cols = sorted(schema, key=lambda s: s['column_position'])\n",
    "        columns = [col['column_name'] for col in cols]\n",
    "        return columns\n",
    "    except KeyError:\n",
    "        print(f'Schema not found for {ds}')\n",
    "        return"
   ]
  },
  {
   "cell_type": "code",
   "execution_count": null,
   "metadata": {},
   "outputs": [],
   "source": [
    "get_columns('departments')"
   ]
  },
  {
   "cell_type": "code",
   "execution_count": null,
   "metadata": {},
   "outputs": [],
   "source": [
    "get_columns('orders')"
   ]
  },
  {
   "cell_type": "code",
   "execution_count": null,
   "metadata": {},
   "outputs": [],
   "source": [
    "get_columns('dummy')"
   ]
  },
  {
   "cell_type": "code",
   "execution_count": null,
   "metadata": {},
   "outputs": [],
   "source": [
    "import uuid\n",
    "\n",
    "os.makedirs('data/retail_demo', exist_ok=True)\n",
    "for path in glob.glob('data/retail_db/*'):\n",
    "    if os.path.isdir(path):\n",
    "        ds = os.path.split(path)[1]\n",
    "        for file in glob.glob(f'{path}/*'):\n",
    "            df = pd.read_csv(file, names=get_columns(ds))\n",
    "            os.makedirs(f'data/retail_demo/{ds}', exist_ok=True)\n",
    "            df.to_json(\n",
    "                f'data/retail_demo/{ds}/part-{str(uuid.uuid1())}.json',\n",
    "                orient='records',\n",
    "                lines=True\n",
    "            )\n",
    "            print(f'Number of records processed for {os.path.split(file)[1]} in {ds} is {df.shape[0]}')"
   ]
  },
  {
   "cell_type": "code",
   "execution_count": null,
   "metadata": {},
   "outputs": [],
   "source": [
    "for path in glob.glob('data/retail_db/*'):\n",
    "    if os.path.isdir(path):\n",
    "        ds = os.path.split(path)[1]\n",
    "        df = dd.read_csv(\n",
    "            f'{path}/*',\n",
    "            names=get_columns(ds)\n",
    "        )\n",
    "        print(f'Number of records in {ds}: {df.compute().shape[0]}')\n",
    "\n"
   ]
  },
  {
   "cell_type": "code",
   "execution_count": null,
   "metadata": {},
   "outputs": [],
   "source": [
    "for path in glob.glob('data/retail_db/*'):\n",
    "    if os.path.isdir(path):\n",
    "        ds = os.path.split(path)[1]\n",
    "        df = dd.read_csv(\n",
    "            f'{path}/*',\n",
    "            names=get_columns(ds)\n",
    "        )\n",
    "        df.to_json(\n",
    "            f'data/retail_demo_json/{ds}/part-*.json',\n",
    "            orient='records',\n",
    "            lines=True\n",
    "        )\n",
    "        print(f'Number of records processed using {ds}: {df.compute().shape[0]}')"
   ]
  },
  {
   "cell_type": "code",
   "execution_count": null,
   "metadata": {},
   "outputs": [],
   "source": [
    "for path in glob.glob('data/retail_db/*'):\n",
    "    if os.path.isdir(path):\n",
    "        ds = os.path.split(path)[1]\n",
    "        df = dd.read_csv(\n",
    "            f'{path}/*',\n",
    "            names=get_columns(ds)\n",
    "        )\n",
    "        df.to_json(\n",
    "            f'data/retail_demo_json/{ds}/part-*.json',\n",
    "            orient='records',\n",
    "            lines=True,\n",
    "            name_function=lambda i: '%05d' % i\n",
    "        )\n",
    "        print(f'Number of records processed using {ds}: {df.compute().shape[0]}')"
   ]
  },
  {
   "cell_type": "code",
   "execution_count": null,
   "metadata": {},
   "outputs": [],
   "source": [
    "for path in glob.glob('data/retail_db/*'):\n",
    "    if os.path.isdir(path):\n",
    "        ds = os.path.split(path)[1]\n",
    "        df = dd.read_csv(\n",
    "            f'{path}/*',\n",
    "            names=get_columns(ds)\n",
    "        )\n",
    "        df.to_json(\n",
    "            f'data/retail_demo_json/{ds}/part-*.json',\n",
    "            orient='records',\n",
    "            lines=True,\n",
    "            name_function=lambda _: str(uuid.uuid1())\n",
    "        )\n",
    "        print(f'Number of records processed using {ds}: {df.compute().shape[0]}')"
   ]
  },
  {
   "cell_type": "code",
   "execution_count": null,
   "metadata": {},
   "outputs": [],
   "source": [
    "# Differences between Pandas and Dask\n",
    "# Complexity: Relatively Easy\n",
    "# Readability: Better readability\n",
    "# Maintainability: Better maintainability\n",
    "# Performance: \n",
    "  # Pandas for low volume or low size data\n",
    "  # Dask for large volume or size data"
   ]
  },
  {
   "attachments": {},
   "cell_type": "markdown",
   "metadata": {},
   "source": [
    "* Exercise: Convert the text files under `data/nyse_all/nyse_data` to json. Use `dask` to take care of reading the data into the data frame and then writing the data to json format.\n",
    "  * Source folder: `data/nyse_all/nyse_data`\n",
    "  * Target folder: `data/nyse_all/nyse_json`\n",
    "  * File Format: `gzip` compressed json format.\n",
    "  * Column Names: `['ticker', 'trade_date', 'open_price', 'low_price', 'high_price', 'close_price', 'volume']`\n",
    "  * Make sure file name is generated using part-nnnnn.json.gz (eg: `part-00000.json.gz`)\n",
    "  * Validate by using shape on both source and target locations.\n",
    "  * Monitor the overall execution time"
   ]
  }
 ],
 "metadata": {
  "kernelspec": {
   "display_name": "Python 3",
   "language": "python",
   "name": "python3"
  },
  "language_info": {
   "codemirror_mode": {
    "name": "ipython",
    "version": 3
   },
   "file_extension": ".py",
   "mimetype": "text/x-python",
   "name": "python",
   "nbconvert_exporter": "python",
   "pygments_lexer": "ipython3",
   "version": "3.11.2"
  },
  "orig_nbformat": 4
 },
 "nbformat": 4,
 "nbformat_minor": 2
}
