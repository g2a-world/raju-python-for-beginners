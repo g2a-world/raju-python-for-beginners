{
 "cells": [
  {
   "cell_type": "markdown",
   "metadata": {},
   "source": [
    "* Exercise 1: Sort the students data based on reverse order of total score."
   ]
  },
  {
   "cell_type": "markdown",
   "metadata": {},
   "source": [
    "* Exercise 2: Get total score along with other details as part of sorted output. Use `total_score` as key for **total score**.\n"
   ]
  },
  {
   "cell_type": "code",
   "execution_count": 7,
   "metadata": {},
   "outputs": [],
   "source": [
    "students = [\n",
    "    {'student_id': 1, 'scores': [80, 92, 85]},\n",
    "    {'student_id': 2, 'scores': [75, 99, 82]},\n",
    "    {'student_id': 3, 'scores': [92, 80, 77]},\n",
    "    {'student_id': 4, 'scores': [63, 88, 70]},\n",
    "    {'student_id': 5, 'scores': [92, 94, 91]}\n",
    "]"
   ]
  },
  {
   "cell_type": "code",
   "execution_count": 8,
   "metadata": {},
   "outputs": [],
   "source": [
    "# Solution for Exercise 1\n",
    "\n",
    "student = students[0]"
   ]
  },
  {
   "cell_type": "code",
   "execution_count": 9,
   "metadata": {},
   "outputs": [
    {
     "data": {
      "text/plain": [
       "[80, 92, 85]"
      ]
     },
     "execution_count": 9,
     "metadata": {},
     "output_type": "execute_result"
    }
   ],
   "source": [
    "student['scores']"
   ]
  },
  {
   "cell_type": "code",
   "execution_count": 10,
   "metadata": {},
   "outputs": [
    {
     "data": {
      "text/plain": [
       "257"
      ]
     },
     "execution_count": 10,
     "metadata": {},
     "output_type": "execute_result"
    }
   ],
   "source": [
    "sum(student['scores'])"
   ]
  },
  {
   "cell_type": "code",
   "execution_count": 11,
   "metadata": {},
   "outputs": [
    {
     "data": {
      "text/plain": [
       "[{'student_id': 4, 'scores': [63, 88, 70]},\n",
       " {'student_id': 3, 'scores': [92, 80, 77]},\n",
       " {'student_id': 2, 'scores': [75, 99, 82]},\n",
       " {'student_id': 1, 'scores': [80, 92, 85]},\n",
       " {'student_id': 5, 'scores': [92, 94, 91]}]"
      ]
     },
     "execution_count": 11,
     "metadata": {},
     "output_type": "execute_result"
    }
   ],
   "source": [
    "\n",
    "sorted(students, key=lambda student: sum(student['scores']))"
   ]
  },
  {
   "cell_type": "code",
   "execution_count": 12,
   "metadata": {},
   "outputs": [
    {
     "data": {
      "text/plain": [
       "[{'student_id': 5, 'scores': [92, 94, 91]},\n",
       " {'student_id': 1, 'scores': [80, 92, 85]},\n",
       " {'student_id': 2, 'scores': [75, 99, 82]},\n",
       " {'student_id': 3, 'scores': [92, 80, 77]},\n",
       " {'student_id': 4, 'scores': [63, 88, 70]}]"
      ]
     },
     "execution_count": 12,
     "metadata": {},
     "output_type": "execute_result"
    }
   ],
   "source": [
    "sorted(students, key=lambda student: sum(student['scores']), reverse=True)"
   ]
  },
  {
   "cell_type": "code",
   "execution_count": 13,
   "metadata": {},
   "outputs": [],
   "source": [
    "# Solution for Exercise 2\n",
    "student = students[0]"
   ]
  },
  {
   "cell_type": "code",
   "execution_count": 14,
   "metadata": {},
   "outputs": [
    {
     "data": {
      "text/plain": [
       "[80, 92, 85]"
      ]
     },
     "execution_count": 14,
     "metadata": {},
     "output_type": "execute_result"
    }
   ],
   "source": [
    "student['scores']"
   ]
  },
  {
   "cell_type": "code",
   "execution_count": 15,
   "metadata": {},
   "outputs": [
    {
     "data": {
      "text/plain": [
       "257"
      ]
     },
     "execution_count": 15,
     "metadata": {},
     "output_type": "execute_result"
    }
   ],
   "source": [
    "sum(student['scores'])"
   ]
  },
  {
   "cell_type": "code",
   "execution_count": 16,
   "metadata": {},
   "outputs": [],
   "source": [
    "students_with_total = []\n",
    "for student in students:\n",
    "    student['total_score'] = sum(student['scores'])\n",
    "    students_with_total.append(student)"
   ]
  },
  {
   "cell_type": "code",
   "execution_count": 17,
   "metadata": {},
   "outputs": [
    {
     "data": {
      "text/plain": [
       "[{'student_id': 4, 'scores': [63, 88, 70], 'total_score': 221},\n",
       " {'student_id': 3, 'scores': [92, 80, 77], 'total_score': 249},\n",
       " {'student_id': 2, 'scores': [75, 99, 82], 'total_score': 256},\n",
       " {'student_id': 1, 'scores': [80, 92, 85], 'total_score': 257},\n",
       " {'student_id': 5, 'scores': [92, 94, 91], 'total_score': 277}]"
      ]
     },
     "execution_count": 17,
     "metadata": {},
     "output_type": "execute_result"
    }
   ],
   "source": [
    "sorted(students_with_total, key=lambda student: student['total_score'])"
   ]
  },
  {
   "cell_type": "code",
   "execution_count": 18,
   "metadata": {},
   "outputs": [
    {
     "data": {
      "text/plain": [
       "[{'student_id': 5, 'scores': [92, 94, 91], 'total_score': 277},\n",
       " {'student_id': 1, 'scores': [80, 92, 85], 'total_score': 257},\n",
       " {'student_id': 2, 'scores': [75, 99, 82], 'total_score': 256},\n",
       " {'student_id': 3, 'scores': [92, 80, 77], 'total_score': 249},\n",
       " {'student_id': 4, 'scores': [63, 88, 70], 'total_score': 221}]"
      ]
     },
     "execution_count": 18,
     "metadata": {},
     "output_type": "execute_result"
    }
   ],
   "source": [
    "sorted(students_with_total, key=lambda student: student['total_score'], reverse=True)"
   ]
  },
  {
   "cell_type": "code",
   "execution_count": null,
   "metadata": {},
   "outputs": [],
   "source": []
  }
 ],
 "metadata": {
  "kernelspec": {
   "display_name": "Python 3.11.2 64-bit",
   "language": "python",
   "name": "python3"
  },
  "language_info": {
   "codemirror_mode": {
    "name": "ipython",
    "version": 3
   },
   "file_extension": ".py",
   "mimetype": "text/x-python",
   "name": "python",
   "nbconvert_exporter": "python",
   "pygments_lexer": "ipython3",
   "version": "3.11.2"
  },
  "orig_nbformat": 4,
  "vscode": {
   "interpreter": {
    "hash": "1a1af0ee75eeea9e2e1ee996c87e7a2b11a0bebd85af04bb136d915cefc0abce"
   }
  }
 },
 "nbformat": 4,
 "nbformat_minor": 2
}
