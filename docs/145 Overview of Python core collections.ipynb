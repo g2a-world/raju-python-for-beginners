{
 "cells": [
  {
   "cell_type": "markdown",
   "metadata": {},
   "source": [
    "* list\n",
    "```python\n",
    "# Group of elements\n",
    "# Mutable\n",
    "# Allows Duplicates\n",
    "# Maintains the order\n",
    "\n",
    "l = [1, 6, -1, 2, 1, 3]\n",
    "```\n",
    "* tuple\n",
    "```python\n",
    "# Group of elements\n",
    "# Immutable\n",
    "# Allows Duplicates\n",
    "# Maintains the order\n",
    "\n",
    "t = (1, 6, -1, 2, 1, 3)\n",
    "```\n",
    "* set\n",
    "```python\n",
    "# Group of unique elements\n",
    "# Unique Elements (no duplicates)\n",
    "\n",
    "s = {1, 6, -1, 2, 1, 3}\n",
    "```\n",
    "* dict\n",
    "```python\n",
    "# Group of key value pairs\n",
    "# Similar to Hash Map in programming languages like Java\n",
    "# Immutable\n",
    "# Unique Keys (no duplicates)\n",
    "\n",
    "user = {'id': 1, 'fname': 'Durga', 'lname': 'Gadiraju'}\n",
    "```\n",
    "* Iterable or Seq\n",
    "* Exercise 1: Create a list with these elements - **1, 4, 2, 3, 1, 3**. Each element in the list should be of type integer. The list should contain 6 elements.\n",
    "* Exercise 2: Create a tuple with these elements - **1, Mickey, Mouse, 1000.00**. The tuple should contain 4 elements. While first element is of type integer, last element is of type float and others are of type string.\n",
    "* Exercise 3: Create a set with these elements - **1, 4, 2, 3**.\n",
    "* Exercise 4: Create a dict for **1, Mickey, Mouse, 1000.00**. The respective keys are **id, first_name, last_name, salary**."
   ]
  }
 ],
 "metadata": {
  "kernelspec": {
   "display_name": "Python 3.x",
   "language": "python",
   "name": "python3"
  },
  "language_info": {
   "name": "python",
   "version": "3"
  },
  "orig_nbformat": 4,
  "vscode": {
   "interpreter": {
    "hash": "31f2aee4e71d21fbe5cf8b01ff0e069b9275f58929596ceb00d14d90e3e16cd6"
   }
  }
 },
 "nbformat": 4,
 "nbformat_minor": 2
}
