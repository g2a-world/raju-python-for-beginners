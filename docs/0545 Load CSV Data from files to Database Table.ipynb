{
 "cells": [
  {
   "attachments": {},
   "cell_type": "markdown",
   "metadata": {},
   "source": [
    "* Create table in Database using Python\n",
    "* Read CSV Data from files\n",
    "* Data Type Conversion of non string columns\n",
    "* Populate Data into Table\n",
    "* Validate Data in the Table\n",
    "* Limitations of the Approach\n",
    "* Overview of Metadata Driven or Dynamic Programming\n",
    "* Exercise and Solution"
   ]
  },
  {
   "cell_type": "markdown",
   "metadata": {},
   "source": []
  }
 ],
 "metadata": {
  "language_info": {
   "name": "python"
  },
  "orig_nbformat": 4
 },
 "nbformat": 4,
 "nbformat_minor": 2
}
