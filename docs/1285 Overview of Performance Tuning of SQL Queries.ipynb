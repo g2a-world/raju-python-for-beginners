{
 "cells": [
  {
   "attachments": {},
   "cell_type": "markdown",
   "metadata": {},
   "source": [
    "* Order of execution of SQL Queries\n",
    "* Generating Explain Plan for SQL Queries\n",
    "* Interpreting Explain Plan of SQL Queries\n",
    "* Overview of Indexes on Database Tables\n",
    "* Different Index Scans based on Queries\n",
    "* Generate Explain Plans for Application Queries\n",
    "* Exercise and Solution - Generate Explain Plans"
   ]
  },
  {
   "attachments": {},
   "cell_type": "markdown",
   "metadata": {},
   "source": [
    "* Order of execution of SQL Queries\n",
    "\n",
    "Typically we write queries in this order. We are taking simple SQL query statements only.\n",
    "1. `SELECT` (with columns or derived columns (using expressions or functions)).\n",
    "2. `FROM` with table names\n",
    "3. `WHERE` with filter conditions\n",
    "4. `ORDER BY` with sort criteria\n",
    "\n",
    "The order of execution is different from order of writing the queries.\n",
    "1. `FROM` - Reads the data from the files associated with tables into memory.\n",
    "2. `WHERE` - Filters the data based on conditions using where clause (in the memory).\n",
    "3. `SELECT` - Filters and apply's the transformations based on columns and expressions in SELECT clause.\n",
    "4. `ORDER BY` -  sorts the data based on the specified sorting criteria.\n",
    "\n",
    "Here is the example query.\n",
    "\n",
    "```sql\n",
    "SELECT * FROM users\n",
    "WHERE email like 'sjo%'\n",
    "ORDER BY id;\n",
    "```"
   ]
  },
  {
   "attachments": {},
   "cell_type": "markdown",
   "metadata": {},
   "source": [
    "* Generating Explain Plan for SQL Queries\n",
    "\n",
    "Explain Plans can be generated using CLIs such as `psql` or IDEs such as `pgAdmin` for Postgres. We will use `pgAdmin`.\n",
    "\n",
    "1. Develop a query for which explain plan needs to be generated.\n",
    "\n",
    "```sql\n",
    "SELECT * FROM users\n",
    "WHERE id = 1;\n",
    "```\n",
    "\n",
    "2. Use `EXPLAIN` command to generate explain plan.\n",
    "\n",
    "```sql\n",
    "-- Example for index scan (id is primary key and hence automatically indexed)\n",
    "EXPLAIN\n",
    "SELECT * FROM users\n",
    "WHERE id = 1;\n",
    "\n",
    "-- Example for full table scan (first_name is not indexed)\n",
    "EXPLAIN\n",
    "SELECT * FROM users\n",
    "WHERE first_name LIKE 'Joh%';\n",
    "```"
   ]
  },
  {
   "attachments": {},
   "cell_type": "markdown",
   "metadata": {},
   "source": [
    "* Interpreting Explain Plan of SQL Queries\n",
    "\n",
    "```text\n",
    "root\n",
    "  - branch 1\n",
    "    - leaf 1\n",
    "    - leaf 2\n",
    "  - branch 2\n",
    "    - leaf 3\n",
    "    - leaf 4\n",
    "```\n",
    "\n",
    "1. Explain plans follow tree structure.\n",
    "2. You will have root, branches, and then low level leaves.\n",
    "3. The leaf level will be executed first. If there are multiple leaves at same level then the execution happens in the order of leaves.\n",
    "4. For now primarily focus on full table scan vs. index scan."
   ]
  },
  {
   "attachments": {},
   "cell_type": "markdown",
   "metadata": {},
   "source": [
    "* Overview of Indexes on Database Tables\n",
    "\n",
    "1. Indexes are typically created on the columns in a table which are typically used for filtering (search).\n",
    "2. Primary Key Columns and Unique Constraint Columns are always indexed.\n",
    "3. Data in indexes are sorted. Index also have pointers to corresponding records in the table."
   ]
  },
  {
   "attachments": {},
   "cell_type": "markdown",
   "metadata": {},
   "source": [
    "* Different Index Scans based on Queries\n",
    "\n",
    "1. Index Unique Scan (`username = 'smartinez'`)\n",
    "2. Index Range Scan (`username LIKE 'sm%'`)\n",
    "3. Index Full Scan (`username LIKE '%sm%'`)\n",
    "4. Index Only Scan (when select clause have only columns in the index used)"
   ]
  },
  {
   "attachments": {},
   "cell_type": "markdown",
   "metadata": {},
   "source": [
    "* Generate Explain Plans for Application Queries\n",
    "\n",
    "Here are the steps to be followed to generate explain plans for the queries used by Flask Applications.\n",
    "\n",
    "1. Run application by enabling `SQLALCHEMY_ECHO`.\n",
    "2. Start the application or launch the Flask Shell.\n",
    "3. Access the endpoints or use APIs on Models in Flask Shell.\n",
    "4. Get the queries and values.\n",
    "5. Connect to underlying database and run `EXPLAIN` on the query with values.\n",
    "6. Review explain plan and identify the bottlenecks.\n",
    "\n",
    "Use below code to generate queries.\n",
    "\n",
    "```python\n",
    "# Invoking APIs on models\n",
    "User.query.get(1)\n",
    "\n",
    "# Invoking REST APIs using end points\n",
    "from werkzeug.test import Client\n",
    "client = Client(app)\n",
    "\n",
    "client.get('/user?id=1')\n",
    "```"
   ]
  },
  {
   "attachments": {},
   "cell_type": "markdown",
   "metadata": {},
   "source": [
    "* Exercise - Generate Explain Plans\n",
    "\n",
    "Generate and Review Explain Plans for the following API calls as well as queries.\n",
    "\n",
    "Make sure to setup retail tables in sales_db using pgAdmin.\n",
    "\n",
    "1. Run the following API call using Flask Shell and generate explain plans. Identify the bottleneck based on the explain plan generated and suggest an index.\n",
    "\n",
    "```python\n",
    "User.query.filter(User.email.like('sjo%')).all()\n",
    "```\n",
    "\n",
    "2. Generate explain plans for the following queries using pgAdmin. Identify the bottlenecks based on the explain plans generated.\n",
    "\n",
    "```sql\n",
    "SELECT count(*)\n",
    "FROM orders\n",
    "WHERE order_date = '2014-01-01 00:00:00.0';\n",
    "\n",
    "SELECT count(*)\n",
    "FROM orders\n",
    "WHERE order_date = '2014-01-01 00:00:00.0'\n",
    "AND order_status = 'COMPLETE';\n",
    "\n",
    "SELECT count(*)\n",
    "FROM orders\n",
    "WHERE order_date = '2014-01-01 00:00:00.0'\n",
    "AND order_status = 'CLOSED';\n",
    "```"
   ]
  }
 ],
 "metadata": {
  "language_info": {
   "name": "python"
  },
  "orig_nbformat": 4
 },
 "nbformat": 4,
 "nbformat_minor": 2
}
