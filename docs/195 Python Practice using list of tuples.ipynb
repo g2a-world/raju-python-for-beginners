{
 "cells": [
  {
   "cell_type": "markdown",
   "metadata": {},
   "source": [
    "* Review Data Set\n",
    "```python\n",
    "sales = [\n",
    "    (1, 101, 500.00, 5),\n",
    "    (2, 102, 250.00, 3),\n",
    "    (3, 103, 1000.00, 8),\n",
    "    (4, 104, 750.00, None),\n",
    "    (5, 101, 300.00, -1),\n",
    "    (6, 106, 400.00, 3),\n",
    "    (7, 104, 200.00, 0),\n",
    "    (8, 103, 150.00, 1),\n",
    "    (9, 104, 600.00, 4),\n",
    "    (10, 101, 800.00, 6)\n",
    "]\n",
    "```\n",
    "* Get number of elements in the list\n",
    "```python\n",
    "len(sales)\n",
    "```\n",
    "* Get unique sale_rep_ids.\n",
    "```python\n",
    "sale_rep_ids = set() # Initializing a set\n",
    "for sale in sales:\n",
    "    if sale[1] not in sale_rep_ids:\n",
    "        sale_rep_ids.add(sale[1])\n",
    "\n",
    "print(sale_rep_ids)\n",
    "```\n",
    "* Develop a function to get list of sale transactions where transaction amount is less than 500. Each element should be of type tuple.\n",
    "```python\n",
    "def get_low_revenue_sales(sales):\n",
    "    low_revenue_sales = [] # Initializing empty list\n",
    "    for sale in sales:\n",
    "        if sale[2] < 500:\n",
    "            low_revenue_sales.append(sale)\n",
    "    return low_revenue_sales\n",
    "\n",
    "get_low_revenue_sales(sales)\n",
    "```\n",
    "* Exercise 1: Develop a function to get list of transactions with invalid commission percentage (negative or None). Each element should be of type tuple.\n",
    "* Exercise 2: Develop a function to get list of transactions with commission amounts. Commission amount is equal to `(\"sale amount\" * \"commission %\") / 100`. Each element should be of type tuple. Each tuple in the list should contain 5 elements. The list should not contain transactions with invalid commission % (negative or none)."
   ]
  },
  {
   "cell_type": "markdown",
   "metadata": {},
   "source": []
  }
 ],
 "metadata": {
  "kernelspec": {
   "display_name": "Python 3.x",
   "language": "python",
   "name": "python3"
  },
  "language_info": {
   "name": "python",
   "version": "3"
  },
  "orig_nbformat": 4,
  "vscode": {
   "interpreter": {
    "hash": "31f2aee4e71d21fbe5cf8b01ff0e069b9275f58929596ceb00d14d90e3e16cd6"
   }
  }
 },
 "nbformat": 4,
 "nbformat_minor": 2
}
